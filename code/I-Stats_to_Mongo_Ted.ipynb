{
 "cells": [
  {
   "cell_type": "code",
   "execution_count": 28,
   "metadata": {},
   "outputs": [],
   "source": [
    "import pickle\n",
    "import os\n",
    "\n",
    "from pymongo import MongoClient\n",
    "\n",
    "import google_auth_oauthlib.flow\n",
    "import googleapiclient.discovery\n",
    "import googleapiclient.errors"
   ]
  },
  {
   "cell_type": "markdown",
   "metadata": {},
   "source": [
    "# Download Links"
   ]
  },
  {
   "cell_type": "code",
   "execution_count": 29,
   "metadata": {},
   "outputs": [],
   "source": [
    "with open('ted_video_links_2730.pkl', 'rb') as picklefile:\n",
    "    links_video_ted = pickle.load(picklefile)"
   ]
  },
  {
   "cell_type": "code",
   "execution_count": 79,
   "metadata": {},
   "outputs": [],
   "source": [
    "#links_video_ted"
   ]
  },
  {
   "cell_type": "markdown",
   "metadata": {},
   "source": [
    "# Set up DB"
   ]
  },
  {
   "cell_type": "code",
   "execution_count": 31,
   "metadata": {},
   "outputs": [],
   "source": [
    "client = MongoClient()\n",
    "db = client['ted']\n",
    "db.create_collection(\"ted_stats\")\n",
    "ted_stats = db.get_collection('ted_stats')"
   ]
  },
  {
   "cell_type": "markdown",
   "metadata": {},
   "source": [
    "# Get Statistics with API"
   ]
  },
  {
   "cell_type": "code",
   "execution_count": 3,
   "metadata": {},
   "outputs": [],
   "source": [
    "scopes = [\"https://www.googleapis.com/auth/youtube.readonly\"]\n",
    "\n",
    "def main():\n",
    "    # Disable OAuthlib's HTTPS verification when running locally.\n",
    "    # *DO NOT* leave this option enabled in production.\n",
    "    os.environ[\"OAUTHLIB_INSECURE_TRANSPORT\"] = \"1\"\n",
    "\n",
    "    api_service_name = \"youtube\"\n",
    "    api_version = \"v3\"\n",
    "    client_secrets_file = \"../client_secret_comedy-project-276920.json\"\n",
    "\n",
    "    # Get credentials and create an API client\n",
    "    flow = google_auth_oauthlib.flow.InstalledAppFlow.from_client_secrets_file(\n",
    "        client_secrets_file, scopes)\n",
    "    credentials = flow.run_console()\n",
    "    youtube = googleapiclient.discovery.build(\n",
    "        api_service_name, api_version, credentials=credentials)\n",
    "\n",
    "    \n",
    "    for url in links_video_ted:\n",
    "        try:\n",
    "            request = youtube.videos().list(part=\"snippet,contentDetails,statistics\",id=url)\n",
    "            response = request.execute()\n",
    "            ted_stats.insert_one(response)\n",
    "        except:\n",
    "            continue\n",
    "\n",
    "if __name__ == \"__main__\":\n",
    "    main()"
   ]
  },
  {
   "cell_type": "code",
   "execution_count": 89,
   "metadata": {},
   "outputs": [
    {
     "name": "stderr",
     "output_type": "stream",
     "text": [
      "/Users/elena/opt/anaconda3/lib/python3.7/site-packages/ipykernel_launcher.py:1: DeprecationWarning: count is deprecated. Use estimated_document_count or count_documents instead. Please note that $where must be replaced by $expr, $near must be replaced by $geoWithin with $center, and $nearSphere must be replaced by $geoWithin with $centerSphere\n",
      "  \"\"\"Entry point for launching an IPython kernel.\n"
     ]
    },
    {
     "data": {
      "text/plain": [
       "2732"
      ]
     },
     "execution_count": 89,
     "metadata": {},
     "output_type": "execute_result"
    }
   ],
   "source": [
    "ted_stats.count()"
   ]
  },
  {
   "cell_type": "code",
   "execution_count": 49,
   "metadata": {},
   "outputs": [
    {
     "data": {
      "text/plain": [
       "['_id', 'kind', 'etag', 'items', 'pageInfo']"
      ]
     },
     "execution_count": 49,
     "metadata": {},
     "output_type": "execute_result"
    }
   ],
   "source": [
    "list(ted_stats.find_one())"
   ]
  },
  {
   "cell_type": "code",
   "execution_count": 70,
   "metadata": {},
   "outputs": [],
   "source": [
    "#cursor = db.ted_stats.find({}, {'_id':0, 'items.id': 1})\n",
    "#list(cursor)"
   ]
  },
  {
   "cell_type": "code",
   "execution_count": null,
   "metadata": {},
   "outputs": [],
   "source": [
    "item[\"id\"][\"lowered_name\"]"
   ]
  },
  {
   "cell_type": "code",
   "execution_count": 65,
   "metadata": {},
   "outputs": [],
   "source": [
    "scraped = []\n",
    "for item in db.ted_stats.find({}, {'_id':0, 'items.id': 1}):\n",
    "    #print(item['items'])\n",
    "    for id_ in item['items']:\n",
    "        scraped.append(id_['id'])\n",
    "        \n",
    "scraped"
   ]
  },
  {
   "cell_type": "code",
   "execution_count": 68,
   "metadata": {},
   "outputs": [],
   "source": [
    "to_scrape = list(set(links_video_ted) - set(scraped))"
   ]
  },
  {
   "cell_type": "code",
   "execution_count": 78,
   "metadata": {},
   "outputs": [
    {
     "data": {
      "text/plain": [
       "-2"
      ]
     },
     "execution_count": 78,
     "metadata": {},
     "output_type": "execute_result"
    }
   ],
   "source": [
    "len(links_video_ted) - (len(scraped) + len(to_scrape))"
   ]
  },
  {
   "cell_type": "code",
   "execution_count": 85,
   "metadata": {},
   "outputs": [
    {
     "data": {
      "text/plain": [
       "1188"
      ]
     },
     "execution_count": 85,
     "metadata": {},
     "output_type": "execute_result"
    }
   ],
   "source": [
    "len(to_scrape)"
   ]
  },
  {
   "cell_type": "code",
   "execution_count": 86,
   "metadata": {},
   "outputs": [
    {
     "data": {
      "text/plain": [
       "{'_id': ObjectId('5ebde861c8aec9d0ff43480e'),\n",
       " 'kind': 'youtube#videoListResponse',\n",
       " 'etag': 'ozuCto5nyuXvUBW0gfSWj2V5JPI',\n",
       " 'items': [{'kind': 'youtube#video',\n",
       "   'etag': '8hFc92dcK-oh0zO7sK0eQzeynqs',\n",
       "   'id': 'Bb7kz1THJPU',\n",
       "   'snippet': {'publishedAt': '2020-04-20T13:28:47Z',\n",
       "    'channelId': 'UCAuUUnT6oDeKwE6v1NGQxug',\n",
       "    'title': 'Go ahead, dream about the future | Charlie Jane Anders',\n",
       "    'description': 'Visit http://TED.com to get our entire library of TED Talks, transcripts, translations, personalized talk recommendations and more.\\n\\n\"You don\\'t predict the future -- you imagine the future,\" says sci-fi writer Charlie Jane Anders. In a talk that\\'s part dream, part research-based extrapolation, she takes us on a wild, speculative tour of the delights and challenges the future may hold -- and shows how dreaming up weird, futuristic possibilities empowers us to construct a better tomorrow.\\n\\nThe TED Talks channel features the best talks and performances from the TED Conference, where the world\\'s leading thinkers and doers give the talk of their lives in 18 minutes (or less). Look for talks on Technology, Entertainment and Design -- plus science, business, global issues, the arts and more. You\\'re welcome to link to or embed these videos, forward them to others and share these ideas with people you know. For more information on using TED for commercial purposes (e.g. employee learning, in a film or online course), submit a Media Request here: http://media-requests.TED.com\\n\\nFollow TED on Twitter: http://twitter.com/TEDTalks\\nLike TED on Facebook: http://facebook.com/TED\\n\\nSubscribe to our channel: http://youtube.com/TED',\n",
       "    'thumbnails': {'default': {'url': 'https://i.ytimg.com/vi/Bb7kz1THJPU/default.jpg',\n",
       "      'width': 120,\n",
       "      'height': 90},\n",
       "     'medium': {'url': 'https://i.ytimg.com/vi/Bb7kz1THJPU/mqdefault.jpg',\n",
       "      'width': 320,\n",
       "      'height': 180},\n",
       "     'high': {'url': 'https://i.ytimg.com/vi/Bb7kz1THJPU/hqdefault.jpg',\n",
       "      'width': 480,\n",
       "      'height': 360},\n",
       "     'standard': {'url': 'https://i.ytimg.com/vi/Bb7kz1THJPU/sddefault.jpg',\n",
       "      'width': 640,\n",
       "      'height': 480},\n",
       "     'maxres': {'url': 'https://i.ytimg.com/vi/Bb7kz1THJPU/maxresdefault.jpg',\n",
       "      'width': 1280,\n",
       "      'height': 720}},\n",
       "    'channelTitle': 'TED',\n",
       "    'tags': ['TEDTalk',\n",
       "     'TEDTalks',\n",
       "     'TED Talk',\n",
       "     'TED Talks',\n",
       "     'Science Fiction',\n",
       "     'Future',\n",
       "     'Creativity',\n",
       "     'Society',\n",
       "     'Writing',\n",
       "     'Storytelling'],\n",
       "    'categoryId': '29',\n",
       "    'liveBroadcastContent': 'none',\n",
       "    'localized': {'title': 'Go ahead, dream about the future | Charlie Jane Anders',\n",
       "     'description': 'Visit http://TED.com to get our entire library of TED Talks, transcripts, translations, personalized talk recommendations and more.\\n\\n\"You don\\'t predict the future -- you imagine the future,\" says sci-fi writer Charlie Jane Anders. In a talk that\\'s part dream, part research-based extrapolation, she takes us on a wild, speculative tour of the delights and challenges the future may hold -- and shows how dreaming up weird, futuristic possibilities empowers us to construct a better tomorrow.\\n\\nThe TED Talks channel features the best talks and performances from the TED Conference, where the world\\'s leading thinkers and doers give the talk of their lives in 18 minutes (or less). Look for talks on Technology, Entertainment and Design -- plus science, business, global issues, the arts and more. You\\'re welcome to link to or embed these videos, forward them to others and share these ideas with people you know. For more information on using TED for commercial purposes (e.g. employee learning, in a film or online course), submit a Media Request here: http://media-requests.TED.com\\n\\nFollow TED on Twitter: http://twitter.com/TEDTalks\\nLike TED on Facebook: http://facebook.com/TED\\n\\nSubscribe to our channel: http://youtube.com/TED'},\n",
       "    'defaultAudioLanguage': 'en'},\n",
       "   'contentDetails': {'duration': 'PT11M56S',\n",
       "    'dimension': '2d',\n",
       "    'definition': 'hd',\n",
       "    'caption': 'true',\n",
       "    'licensedContent': True,\n",
       "    'contentRating': {},\n",
       "    'projection': 'rectangular'},\n",
       "   'statistics': {'viewCount': '71384',\n",
       "    'likeCount': '2082',\n",
       "    'dislikeCount': '846',\n",
       "    'favoriteCount': '0',\n",
       "    'commentCount': '653'}}],\n",
       " 'pageInfo': {'totalResults': 1, 'resultsPerPage': 1}}"
      ]
     },
     "execution_count": 86,
     "metadata": {},
     "output_type": "execute_result"
    }
   ],
   "source": [
    "ted_stats.find_one()"
   ]
  },
  {
   "cell_type": "markdown",
   "metadata": {},
   "source": [
    "## Second iteration because of google limitations"
   ]
  },
  {
   "cell_type": "code",
   "execution_count": 1,
   "metadata": {},
   "outputs": [],
   "source": [
    "scopes = [\"https://www.googleapis.com/auth/youtube.readonly\"]\n",
    "\n",
    "def main():\n",
    "    os.environ[\"OAUTHLIB_INSECURE_TRANSPORT\"] = \"1\"\n",
    "\n",
    "    api_service_name = \"youtube\"\n",
    "    api_version = \"v3\"\n",
    "    client_secrets_file = \"../client_secret_comedy-project-276920.json\"\n",
    "\n",
    "    # Get credentials and create an API client\n",
    "    flow = google_auth_oauthlib.flow.InstalledAppFlow.from_client_secrets_file(\n",
    "        client_secrets_file, scopes)\n",
    "    credentials = flow.run_console()\n",
    "    youtube = googleapiclient.discovery.build(\n",
    "        api_service_name, api_version, credentials=credentials)\n",
    "\n",
    "    \n",
    "    for url in to_scrape:\n",
    "        try:\n",
    "            request = youtube.videos().list(part=\"snippet,contentDetails,statistics\",id=url)\n",
    "            response = request.execute()\n",
    "            ted_stats.insert_one(response)\n",
    "        except:\n",
    "            continue\n",
    "\n",
    "if __name__ == \"__main__\":\n",
    "    main()"
   ]
  },
  {
   "cell_type": "code",
   "execution_count": null,
   "metadata": {},
   "outputs": [],
   "source": []
  }
 ],
 "metadata": {
  "kernelspec": {
   "display_name": "Python 3",
   "language": "python",
   "name": "python3"
  },
  "language_info": {
   "codemirror_mode": {
    "name": "ipython",
    "version": 3
   },
   "file_extension": ".py",
   "mimetype": "text/x-python",
   "name": "python",
   "nbconvert_exporter": "python",
   "pygments_lexer": "ipython3",
   "version": "3.7.4"
  }
 },
 "nbformat": 4,
 "nbformat_minor": 2
}
