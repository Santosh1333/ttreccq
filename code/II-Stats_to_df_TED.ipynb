{
 "cells": [
  {
   "cell_type": "code",
   "execution_count": 171,
   "metadata": {},
   "outputs": [],
   "source": [
    "from pymongo import MongoClient\n",
    "import pandas as pd\n",
    "from pandas.io.json import json_normalize\n",
    "import pickle"
   ]
  },
  {
   "cell_type": "code",
   "execution_count": 326,
   "metadata": {},
   "outputs": [],
   "source": [
    "import pandas as pd\n",
    "import pandas\n",
    "from itertools import chain\n",
    "import numpy as np\n",
    "\n",
    "from bson import json_util, ObjectId\n",
    "from pandas.io.json import json_normalize\n",
    "import json\n",
    "\n",
    "import re\n",
    "from datetime import datetime\n",
    "\n",
    "import matplotlib.pyplot as plt"
   ]
  },
  {
   "cell_type": "code",
   "execution_count": 173,
   "metadata": {},
   "outputs": [
    {
     "data": {
      "text/plain": [
       "['admin', 'books', 'comedy_covid', 'config', 'local', 'outings', 'ted']"
      ]
     },
     "execution_count": 173,
     "metadata": {},
     "output_type": "execute_result"
    }
   ],
   "source": [
    "client = MongoClient()\n",
    "client.list_database_names()"
   ]
  },
  {
   "cell_type": "code",
   "execution_count": 174,
   "metadata": {},
   "outputs": [
    {
     "data": {
      "text/plain": [
       "['ted_stats', 'ted_transcripts', 'ted_comments']"
      ]
     },
     "execution_count": 174,
     "metadata": {},
     "output_type": "execute_result"
    }
   ],
   "source": [
    "db = client.ted\n",
    "db.list_collection_names()"
   ]
  },
  {
   "cell_type": "code",
   "execution_count": 296,
   "metadata": {},
   "outputs": [],
   "source": [
    "cursor = db.ted_stats.find({}, {'_id':0, 'items':1})\n",
    "#list(cursor)"
   ]
  },
  {
   "cell_type": "code",
   "execution_count": 297,
   "metadata": {},
   "outputs": [],
   "source": [
    "#cursor = db.ted_comments.find({}, {'_id':0, 'items':1})"
   ]
  },
  {
   "cell_type": "code",
   "execution_count": 298,
   "metadata": {},
   "outputs": [],
   "source": [
    "df =  pd.DataFrame(list(cursor))"
   ]
  },
  {
   "cell_type": "code",
   "execution_count": 299,
   "metadata": {},
   "outputs": [
    {
     "data": {
      "text/plain": [
       "(2732, 1)"
      ]
     },
     "execution_count": 299,
     "metadata": {},
     "output_type": "execute_result"
    }
   ],
   "source": [
    "df.shape"
   ]
  },
  {
   "cell_type": "code",
   "execution_count": 300,
   "metadata": {},
   "outputs": [
    {
     "data": {
      "text/html": [
       "<div>\n",
       "<style scoped>\n",
       "    .dataframe tbody tr th:only-of-type {\n",
       "        vertical-align: middle;\n",
       "    }\n",
       "\n",
       "    .dataframe tbody tr th {\n",
       "        vertical-align: top;\n",
       "    }\n",
       "\n",
       "    .dataframe thead th {\n",
       "        text-align: right;\n",
       "    }\n",
       "</style>\n",
       "<table border=\"1\" class=\"dataframe\">\n",
       "  <thead>\n",
       "    <tr style=\"text-align: right;\">\n",
       "      <th></th>\n",
       "      <th>items</th>\n",
       "    </tr>\n",
       "  </thead>\n",
       "  <tbody>\n",
       "    <tr>\n",
       "      <td>0</td>\n",
       "      <td>[{'kind': 'youtube#video', 'etag': '8hFc92dcK-...</td>\n",
       "    </tr>\n",
       "    <tr>\n",
       "      <td>1</td>\n",
       "      <td>[{'kind': 'youtube#video', 'etag': '\"Dn5xIderb...</td>\n",
       "    </tr>\n",
       "    <tr>\n",
       "      <td>2</td>\n",
       "      <td>[{'kind': 'youtube#video', 'etag': 'HugsRkoROn...</td>\n",
       "    </tr>\n",
       "    <tr>\n",
       "      <td>3</td>\n",
       "      <td>[{'kind': 'youtube#video', 'etag': 'ZhbxT0OrEQ...</td>\n",
       "    </tr>\n",
       "    <tr>\n",
       "      <td>4</td>\n",
       "      <td>[{'kind': 'youtube#video', 'etag': 'bR-QkzLzRx...</td>\n",
       "    </tr>\n",
       "  </tbody>\n",
       "</table>\n",
       "</div>"
      ],
      "text/plain": [
       "                                               items\n",
       "0  [{'kind': 'youtube#video', 'etag': '8hFc92dcK-...\n",
       "1  [{'kind': 'youtube#video', 'etag': '\"Dn5xIderb...\n",
       "2  [{'kind': 'youtube#video', 'etag': 'HugsRkoROn...\n",
       "3  [{'kind': 'youtube#video', 'etag': 'ZhbxT0OrEQ...\n",
       "4  [{'kind': 'youtube#video', 'etag': 'bR-QkzLzRx..."
      ]
     },
     "execution_count": 300,
     "metadata": {},
     "output_type": "execute_result"
    }
   ],
   "source": [
    "df.head()"
   ]
  },
  {
   "cell_type": "code",
   "execution_count": 301,
   "metadata": {},
   "outputs": [],
   "source": [
    "#df['items'][0]"
   ]
  },
  {
   "cell_type": "code",
   "execution_count": 302,
   "metadata": {},
   "outputs": [
    {
     "name": "stderr",
     "output_type": "stream",
     "text": [
      "/Users/elena/opt/anaconda3/lib/python3.7/site-packages/ipykernel_launcher.py:1: FutureWarning: Sorting because non-concatenation axis is not aligned. A future version\n",
      "of pandas will change to not sort by default.\n",
      "\n",
      "To accept the future behavior, pass 'sort=False'.\n",
      "\n",
      "To retain the current behavior and silence the warning, pass 'sort=True'.\n",
      "\n",
      "  \"\"\"Entry point for launching an IPython kernel.\n"
     ]
    }
   ],
   "source": [
    "new_df = pd.concat([pd.DataFrame(json_normalize(x)) for x in df['items']]) #,ignore_index=True"
   ]
  },
  {
   "cell_type": "code",
   "execution_count": 303,
   "metadata": {},
   "outputs": [
    {
     "data": {
      "text/plain": [
       "Index(['contentDetails.caption', 'contentDetails.contentRating.ytRating',\n",
       "       'contentDetails.definition', 'contentDetails.dimension',\n",
       "       'contentDetails.duration', 'contentDetails.licensedContent',\n",
       "       'contentDetails.projection', 'etag', 'id', 'kind', 'snippet.categoryId',\n",
       "       'snippet.channelId', 'snippet.channelTitle',\n",
       "       'snippet.defaultAudioLanguage', 'snippet.defaultLanguage',\n",
       "       'snippet.description', 'snippet.liveBroadcastContent',\n",
       "       'snippet.localized.description', 'snippet.localized.title',\n",
       "       'snippet.publishedAt', 'snippet.tags',\n",
       "       'snippet.thumbnails.default.height', 'snippet.thumbnails.default.url',\n",
       "       'snippet.thumbnails.default.width', 'snippet.thumbnails.high.height',\n",
       "       'snippet.thumbnails.high.url', 'snippet.thumbnails.high.width',\n",
       "       'snippet.thumbnails.maxres.height', 'snippet.thumbnails.maxres.url',\n",
       "       'snippet.thumbnails.maxres.width', 'snippet.thumbnails.medium.height',\n",
       "       'snippet.thumbnails.medium.url', 'snippet.thumbnails.medium.width',\n",
       "       'snippet.thumbnails.standard.height', 'snippet.thumbnails.standard.url',\n",
       "       'snippet.thumbnails.standard.width', 'snippet.title',\n",
       "       'statistics.commentCount', 'statistics.dislikeCount',\n",
       "       'statistics.favoriteCount', 'statistics.likeCount',\n",
       "       'statistics.viewCount'],\n",
       "      dtype='object')"
      ]
     },
     "execution_count": 303,
     "metadata": {},
     "output_type": "execute_result"
    }
   ],
   "source": [
    "new_df.columns"
   ]
  },
  {
   "cell_type": "code",
   "execution_count": 304,
   "metadata": {},
   "outputs": [
    {
     "data": {
      "text/plain": [
       "(2732, 42)"
      ]
     },
     "execution_count": 304,
     "metadata": {},
     "output_type": "execute_result"
    }
   ],
   "source": [
    "new_df.shape"
   ]
  },
  {
   "cell_type": "code",
   "execution_count": 305,
   "metadata": {},
   "outputs": [],
   "source": [
    "new_df_select = new_df[['id',\n",
    "                        'snippet.tags',\n",
    "                        'snippet.title',\n",
    "                        'snippet.publishedAt',\n",
    "                        'statistics.commentCount', \n",
    "                        'statistics.dislikeCount', \n",
    "                        'statistics.likeCount',\n",
    "                        'statistics.viewCount'\n",
    "                       ]]"
   ]
  },
  {
   "cell_type": "code",
   "execution_count": 306,
   "metadata": {},
   "outputs": [
    {
     "data": {
      "text/html": [
       "<div>\n",
       "<style scoped>\n",
       "    .dataframe tbody tr th:only-of-type {\n",
       "        vertical-align: middle;\n",
       "    }\n",
       "\n",
       "    .dataframe tbody tr th {\n",
       "        vertical-align: top;\n",
       "    }\n",
       "\n",
       "    .dataframe thead th {\n",
       "        text-align: right;\n",
       "    }\n",
       "</style>\n",
       "<table border=\"1\" class=\"dataframe\">\n",
       "  <thead>\n",
       "    <tr style=\"text-align: right;\">\n",
       "      <th></th>\n",
       "      <th>id</th>\n",
       "      <th>snippet.tags</th>\n",
       "      <th>snippet.title</th>\n",
       "      <th>snippet.publishedAt</th>\n",
       "      <th>statistics.commentCount</th>\n",
       "      <th>statistics.dislikeCount</th>\n",
       "      <th>statistics.likeCount</th>\n",
       "      <th>statistics.viewCount</th>\n",
       "    </tr>\n",
       "  </thead>\n",
       "  <tbody>\n",
       "    <tr>\n",
       "      <td>0</td>\n",
       "      <td>xTra-yePY_A</td>\n",
       "      <td>[TEDTalk, TEDTalks, Children, Parenting, Money...</td>\n",
       "      <td>How does income affect childhood brain develop...</td>\n",
       "      <td>2019-04-18T15:51:31Z</td>\n",
       "      <td>485</td>\n",
       "      <td>181</td>\n",
       "      <td>2026</td>\n",
       "      <td>80966</td>\n",
       "    </tr>\n",
       "    <tr>\n",
       "      <td>0</td>\n",
       "      <td>FktsFcooIG8</td>\n",
       "      <td>[TEDTalk, TEDTalks, TED Talk, TED Talks, TED, ...</td>\n",
       "      <td>Your brain on video games | Daphne Bavelier</td>\n",
       "      <td>2012-11-19T16:58:33Z</td>\n",
       "      <td>18121</td>\n",
       "      <td>9326</td>\n",
       "      <td>130965</td>\n",
       "      <td>5380204</td>\n",
       "    </tr>\n",
       "    <tr>\n",
       "      <td>0</td>\n",
       "      <td>AWEpeW7Ojzs</td>\n",
       "      <td>[TEDTalk, TEDTalks, TED Talk, TED Talks, TED, ...</td>\n",
       "      <td>Ellen Jorgensen: Biohacking -- you can do it, too</td>\n",
       "      <td>2013-01-15T16:47:37Z</td>\n",
       "      <td>263</td>\n",
       "      <td>95</td>\n",
       "      <td>2515</td>\n",
       "      <td>158275</td>\n",
       "    </tr>\n",
       "    <tr>\n",
       "      <td>0</td>\n",
       "      <td>TYFH0D-jyqc</td>\n",
       "      <td>[TED Talk, TED Talks, Francesco Sauro, TEDGlob...</td>\n",
       "      <td>Deep Under the Earth's Surface, Discovering Be...</td>\n",
       "      <td>2015-11-16T18:36:52Z</td>\n",
       "      <td>89</td>\n",
       "      <td>43</td>\n",
       "      <td>1753</td>\n",
       "      <td>119042</td>\n",
       "    </tr>\n",
       "    <tr>\n",
       "      <td>0</td>\n",
       "      <td>FKxaL8Iau8Q</td>\n",
       "      <td>[TEDTalk, TEDTalks, TED Talk, TED Talks, TED, ...</td>\n",
       "      <td>Bob Mankoff: Anatomy of a New Yorker cartoon</td>\n",
       "      <td>2013-06-26T20:44:09Z</td>\n",
       "      <td>147</td>\n",
       "      <td>93</td>\n",
       "      <td>2647</td>\n",
       "      <td>272297</td>\n",
       "    </tr>\n",
       "  </tbody>\n",
       "</table>\n",
       "</div>"
      ],
      "text/plain": [
       "            id                                       snippet.tags  \\\n",
       "0  xTra-yePY_A  [TEDTalk, TEDTalks, Children, Parenting, Money...   \n",
       "0  FktsFcooIG8  [TEDTalk, TEDTalks, TED Talk, TED Talks, TED, ...   \n",
       "0  AWEpeW7Ojzs  [TEDTalk, TEDTalks, TED Talk, TED Talks, TED, ...   \n",
       "0  TYFH0D-jyqc  [TED Talk, TED Talks, Francesco Sauro, TEDGlob...   \n",
       "0  FKxaL8Iau8Q  [TEDTalk, TEDTalks, TED Talk, TED Talks, TED, ...   \n",
       "\n",
       "                                       snippet.title   snippet.publishedAt  \\\n",
       "0  How does income affect childhood brain develop...  2019-04-18T15:51:31Z   \n",
       "0        Your brain on video games | Daphne Bavelier  2012-11-19T16:58:33Z   \n",
       "0  Ellen Jorgensen: Biohacking -- you can do it, too  2013-01-15T16:47:37Z   \n",
       "0  Deep Under the Earth's Surface, Discovering Be...  2015-11-16T18:36:52Z   \n",
       "0       Bob Mankoff: Anatomy of a New Yorker cartoon  2013-06-26T20:44:09Z   \n",
       "\n",
       "  statistics.commentCount statistics.dislikeCount statistics.likeCount  \\\n",
       "0                     485                     181                 2026   \n",
       "0                   18121                    9326               130965   \n",
       "0                     263                      95                 2515   \n",
       "0                      89                      43                 1753   \n",
       "0                     147                      93                 2647   \n",
       "\n",
       "  statistics.viewCount  \n",
       "0                80966  \n",
       "0              5380204  \n",
       "0               158275  \n",
       "0               119042  \n",
       "0               272297  "
      ]
     },
     "execution_count": 306,
     "metadata": {},
     "output_type": "execute_result"
    }
   ],
   "source": [
    "new_df_select.sample(5)"
   ]
  },
  {
   "cell_type": "code",
   "execution_count": 307,
   "metadata": {},
   "outputs": [
    {
     "name": "stderr",
     "output_type": "stream",
     "text": [
      "/Users/elena/opt/anaconda3/lib/python3.7/site-packages/ipykernel_launcher.py:1: SettingWithCopyWarning: \n",
      "A value is trying to be set on a copy of a slice from a DataFrame.\n",
      "Try using .loc[row_indexer,col_indexer] = value instead\n",
      "\n",
      "See the caveats in the documentation: http://pandas.pydata.org/pandas-docs/stable/user_guide/indexing.html#returning-a-view-versus-a-copy\n",
      "  \"\"\"Entry point for launching an IPython kernel.\n"
     ]
    }
   ],
   "source": [
    "new_df_select['snippet.publishedAt'] = pd.to_datetime(new_df_select['snippet.publishedAt'])"
   ]
  },
  {
   "cell_type": "code",
   "execution_count": 358,
   "metadata": {},
   "outputs": [
    {
     "ename": "KeyError",
     "evalue": "'snippet.tags'",
     "output_type": "error",
     "traceback": [
      "\u001b[0;31m---------------------------------------------------------------------------\u001b[0m",
      "\u001b[0;31mKeyError\u001b[0m                                  Traceback (most recent call last)",
      "\u001b[0;32m~/opt/anaconda3/lib/python3.7/site-packages/pandas/core/indexes/base.py\u001b[0m in \u001b[0;36mget_loc\u001b[0;34m(self, key, method, tolerance)\u001b[0m\n\u001b[1;32m   2896\u001b[0m             \u001b[0;32mtry\u001b[0m\u001b[0;34m:\u001b[0m\u001b[0;34m\u001b[0m\u001b[0;34m\u001b[0m\u001b[0m\n\u001b[0;32m-> 2897\u001b[0;31m                 \u001b[0;32mreturn\u001b[0m \u001b[0mself\u001b[0m\u001b[0;34m.\u001b[0m\u001b[0m_engine\u001b[0m\u001b[0;34m.\u001b[0m\u001b[0mget_loc\u001b[0m\u001b[0;34m(\u001b[0m\u001b[0mkey\u001b[0m\u001b[0;34m)\u001b[0m\u001b[0;34m\u001b[0m\u001b[0;34m\u001b[0m\u001b[0m\n\u001b[0m\u001b[1;32m   2898\u001b[0m             \u001b[0;32mexcept\u001b[0m \u001b[0mKeyError\u001b[0m\u001b[0;34m:\u001b[0m\u001b[0;34m\u001b[0m\u001b[0;34m\u001b[0m\u001b[0m\n",
      "\u001b[0;32mpandas/_libs/index.pyx\u001b[0m in \u001b[0;36mpandas._libs.index.IndexEngine.get_loc\u001b[0;34m()\u001b[0m\n",
      "\u001b[0;32mpandas/_libs/index.pyx\u001b[0m in \u001b[0;36mpandas._libs.index.IndexEngine.get_loc\u001b[0;34m()\u001b[0m\n",
      "\u001b[0;32mpandas/_libs/hashtable_class_helper.pxi\u001b[0m in \u001b[0;36mpandas._libs.hashtable.PyObjectHashTable.get_item\u001b[0;34m()\u001b[0m\n",
      "\u001b[0;32mpandas/_libs/hashtable_class_helper.pxi\u001b[0m in \u001b[0;36mpandas._libs.hashtable.PyObjectHashTable.get_item\u001b[0;34m()\u001b[0m\n",
      "\u001b[0;31mKeyError\u001b[0m: 'snippet.tags'",
      "\nDuring handling of the above exception, another exception occurred:\n",
      "\u001b[0;31mKeyError\u001b[0m                                  Traceback (most recent call last)",
      "\u001b[0;32m<ipython-input-358-e79c96c1fa64>\u001b[0m in \u001b[0;36m<module>\u001b[0;34m\u001b[0m\n\u001b[1;32m      8\u001b[0m \u001b[0;32mfor\u001b[0m \u001b[0mi\u001b[0m \u001b[0;32min\u001b[0m \u001b[0mmylist\u001b[0m\u001b[0;34m:\u001b[0m\u001b[0;34m\u001b[0m\u001b[0;34m\u001b[0m\u001b[0m\n\u001b[1;32m      9\u001b[0m     \u001b[0;32mfor\u001b[0m \u001b[0mv\u001b[0m \u001b[0;32min\u001b[0m \u001b[0mrange\u001b[0m\u001b[0;34m(\u001b[0m\u001b[0mnew_df_select\u001b[0m\u001b[0;34m.\u001b[0m\u001b[0mshape\u001b[0m\u001b[0;34m[\u001b[0m\u001b[0;36m0\u001b[0m\u001b[0;34m]\u001b[0m\u001b[0;34m)\u001b[0m\u001b[0;34m:\u001b[0m\u001b[0;34m\u001b[0m\u001b[0;34m\u001b[0m\u001b[0m\n\u001b[0;32m---> 10\u001b[0;31m         \u001b[0;32mif\u001b[0m \u001b[0mi\u001b[0m \u001b[0;32min\u001b[0m \u001b[0mnew_df_select\u001b[0m\u001b[0;34m[\u001b[0m\u001b[0;34m'snippet.tags'\u001b[0m\u001b[0;34m]\u001b[0m\u001b[0;34m.\u001b[0m\u001b[0mvalues\u001b[0m\u001b[0;34m[\u001b[0m\u001b[0mv\u001b[0m\u001b[0;34m]\u001b[0m\u001b[0;34m:\u001b[0m\u001b[0;34m\u001b[0m\u001b[0;34m\u001b[0m\u001b[0m\n\u001b[0m\u001b[1;32m     11\u001b[0m             \u001b[0mnew_df_select\u001b[0m\u001b[0;34m[\u001b[0m\u001b[0;34m'snippet.tags'\u001b[0m\u001b[0;34m]\u001b[0m\u001b[0;34m.\u001b[0m\u001b[0mvalues\u001b[0m\u001b[0;34m[\u001b[0m\u001b[0mv\u001b[0m\u001b[0;34m]\u001b[0m\u001b[0;34m.\u001b[0m\u001b[0mremove\u001b[0m\u001b[0;34m(\u001b[0m\u001b[0mi\u001b[0m\u001b[0;34m)\u001b[0m\u001b[0;34m\u001b[0m\u001b[0;34m\u001b[0m\u001b[0m\n\u001b[1;32m     12\u001b[0m \u001b[0;34m\u001b[0m\u001b[0m\n",
      "\u001b[0;32m~/opt/anaconda3/lib/python3.7/site-packages/pandas/core/frame.py\u001b[0m in \u001b[0;36m__getitem__\u001b[0;34m(self, key)\u001b[0m\n\u001b[1;32m   2978\u001b[0m             \u001b[0;32mif\u001b[0m \u001b[0mself\u001b[0m\u001b[0;34m.\u001b[0m\u001b[0mcolumns\u001b[0m\u001b[0;34m.\u001b[0m\u001b[0mnlevels\u001b[0m \u001b[0;34m>\u001b[0m \u001b[0;36m1\u001b[0m\u001b[0;34m:\u001b[0m\u001b[0;34m\u001b[0m\u001b[0;34m\u001b[0m\u001b[0m\n\u001b[1;32m   2979\u001b[0m                 \u001b[0;32mreturn\u001b[0m \u001b[0mself\u001b[0m\u001b[0;34m.\u001b[0m\u001b[0m_getitem_multilevel\u001b[0m\u001b[0;34m(\u001b[0m\u001b[0mkey\u001b[0m\u001b[0;34m)\u001b[0m\u001b[0;34m\u001b[0m\u001b[0;34m\u001b[0m\u001b[0m\n\u001b[0;32m-> 2980\u001b[0;31m             \u001b[0mindexer\u001b[0m \u001b[0;34m=\u001b[0m \u001b[0mself\u001b[0m\u001b[0;34m.\u001b[0m\u001b[0mcolumns\u001b[0m\u001b[0;34m.\u001b[0m\u001b[0mget_loc\u001b[0m\u001b[0;34m(\u001b[0m\u001b[0mkey\u001b[0m\u001b[0;34m)\u001b[0m\u001b[0;34m\u001b[0m\u001b[0;34m\u001b[0m\u001b[0m\n\u001b[0m\u001b[1;32m   2981\u001b[0m             \u001b[0;32mif\u001b[0m \u001b[0mis_integer\u001b[0m\u001b[0;34m(\u001b[0m\u001b[0mindexer\u001b[0m\u001b[0;34m)\u001b[0m\u001b[0;34m:\u001b[0m\u001b[0;34m\u001b[0m\u001b[0;34m\u001b[0m\u001b[0m\n\u001b[1;32m   2982\u001b[0m                 \u001b[0mindexer\u001b[0m \u001b[0;34m=\u001b[0m \u001b[0;34m[\u001b[0m\u001b[0mindexer\u001b[0m\u001b[0;34m]\u001b[0m\u001b[0;34m\u001b[0m\u001b[0;34m\u001b[0m\u001b[0m\n",
      "\u001b[0;32m~/opt/anaconda3/lib/python3.7/site-packages/pandas/core/indexes/base.py\u001b[0m in \u001b[0;36mget_loc\u001b[0;34m(self, key, method, tolerance)\u001b[0m\n\u001b[1;32m   2897\u001b[0m                 \u001b[0;32mreturn\u001b[0m \u001b[0mself\u001b[0m\u001b[0;34m.\u001b[0m\u001b[0m_engine\u001b[0m\u001b[0;34m.\u001b[0m\u001b[0mget_loc\u001b[0m\u001b[0;34m(\u001b[0m\u001b[0mkey\u001b[0m\u001b[0;34m)\u001b[0m\u001b[0;34m\u001b[0m\u001b[0;34m\u001b[0m\u001b[0m\n\u001b[1;32m   2898\u001b[0m             \u001b[0;32mexcept\u001b[0m \u001b[0mKeyError\u001b[0m\u001b[0;34m:\u001b[0m\u001b[0;34m\u001b[0m\u001b[0;34m\u001b[0m\u001b[0m\n\u001b[0;32m-> 2899\u001b[0;31m                 \u001b[0;32mreturn\u001b[0m \u001b[0mself\u001b[0m\u001b[0;34m.\u001b[0m\u001b[0m_engine\u001b[0m\u001b[0;34m.\u001b[0m\u001b[0mget_loc\u001b[0m\u001b[0;34m(\u001b[0m\u001b[0mself\u001b[0m\u001b[0;34m.\u001b[0m\u001b[0m_maybe_cast_indexer\u001b[0m\u001b[0;34m(\u001b[0m\u001b[0mkey\u001b[0m\u001b[0;34m)\u001b[0m\u001b[0;34m)\u001b[0m\u001b[0;34m\u001b[0m\u001b[0;34m\u001b[0m\u001b[0m\n\u001b[0m\u001b[1;32m   2900\u001b[0m         \u001b[0mindexer\u001b[0m \u001b[0;34m=\u001b[0m \u001b[0mself\u001b[0m\u001b[0;34m.\u001b[0m\u001b[0mget_indexer\u001b[0m\u001b[0;34m(\u001b[0m\u001b[0;34m[\u001b[0m\u001b[0mkey\u001b[0m\u001b[0;34m]\u001b[0m\u001b[0;34m,\u001b[0m \u001b[0mmethod\u001b[0m\u001b[0;34m=\u001b[0m\u001b[0mmethod\u001b[0m\u001b[0;34m,\u001b[0m \u001b[0mtolerance\u001b[0m\u001b[0;34m=\u001b[0m\u001b[0mtolerance\u001b[0m\u001b[0;34m)\u001b[0m\u001b[0;34m\u001b[0m\u001b[0;34m\u001b[0m\u001b[0m\n\u001b[1;32m   2901\u001b[0m         \u001b[0;32mif\u001b[0m \u001b[0mindexer\u001b[0m\u001b[0;34m.\u001b[0m\u001b[0mndim\u001b[0m \u001b[0;34m>\u001b[0m \u001b[0;36m1\u001b[0m \u001b[0;32mor\u001b[0m \u001b[0mindexer\u001b[0m\u001b[0;34m.\u001b[0m\u001b[0msize\u001b[0m \u001b[0;34m>\u001b[0m \u001b[0;36m1\u001b[0m\u001b[0;34m:\u001b[0m\u001b[0;34m\u001b[0m\u001b[0;34m\u001b[0m\u001b[0m\n",
      "\u001b[0;32mpandas/_libs/index.pyx\u001b[0m in \u001b[0;36mpandas._libs.index.IndexEngine.get_loc\u001b[0;34m()\u001b[0m\n",
      "\u001b[0;32mpandas/_libs/index.pyx\u001b[0m in \u001b[0;36mpandas._libs.index.IndexEngine.get_loc\u001b[0;34m()\u001b[0m\n",
      "\u001b[0;32mpandas/_libs/hashtable_class_helper.pxi\u001b[0m in \u001b[0;36mpandas._libs.hashtable.PyObjectHashTable.get_item\u001b[0;34m()\u001b[0m\n",
      "\u001b[0;32mpandas/_libs/hashtable_class_helper.pxi\u001b[0m in \u001b[0;36mpandas._libs.hashtable.PyObjectHashTable.get_item\u001b[0;34m()\u001b[0m\n",
      "\u001b[0;31mKeyError\u001b[0m: 'snippet.tags'"
     ]
    }
   ],
   "source": [
    "#new_df_select['snippet.tags'].values[0].remove(['TEDTalk'])\n",
    "mylist = ['TEDTalk', 'TEDTalks', 'TED Talk', 'TED Talks', 'TED', 'TEDx', 'TED Residency', 'TED en Español',\n",
    "         'TEDSalon NY2015', 'TED Books', 'TED Fellows', 'TEDxToronto', 'TEDGlobal', 'TEDxPhoenix', 'TED2004', 'TED2015',\n",
    "         'TED@NYC', 'TED (Organization)', 'TED Prize', 'TED Talks (video)', 'TEDxBend', 'TED Fellow', \n",
    "         '\\TED', 'Talk\\\\', 'Talks\\\\', 'TED Institute', 'TED@BCG', 'TEDxIndianapolis', 'TEDxABQ', 'TED University', \n",
    "         'TEDGlobal 2012', 'TED Global', 'about TEDTalks', 'what is TED', 'what are TEDTalks', 'TEDGlobal2012',\n",
    "         'TED Global 2012', 'TED@250', 'TEDMED']\n",
    "for i in mylist:\n",
    "    for v in range(new_df_select.shape[0]):\n",
    "        if i in new_df_select['snippet.tags'].values[v]: \n",
    "            new_df_select['snippet.tags'].values[v].remove(i)\n",
    "    \n",
    "#new_df_select['snippet.tags'].values[0]"
   ]
  },
  {
   "cell_type": "code",
   "execution_count": 309,
   "metadata": {},
   "outputs": [],
   "source": [
    "#new_df_select['snippet.tags'].values[1500]"
   ]
  },
  {
   "cell_type": "code",
   "execution_count": 310,
   "metadata": {},
   "outputs": [],
   "source": [
    "#new_df_select['snippet.tags'].tolist()"
   ]
  },
  {
   "cell_type": "markdown",
   "metadata": {},
   "source": [
    "### Separate columns if needed"
   ]
  },
  {
   "cell_type": "code",
   "execution_count": 311,
   "metadata": {},
   "outputs": [
    {
     "data": {
      "text/html": [
       "<div>\n",
       "<style scoped>\n",
       "    .dataframe tbody tr th:only-of-type {\n",
       "        vertical-align: middle;\n",
       "    }\n",
       "\n",
       "    .dataframe tbody tr th {\n",
       "        vertical-align: top;\n",
       "    }\n",
       "\n",
       "    .dataframe thead th {\n",
       "        text-align: right;\n",
       "    }\n",
       "</style>\n",
       "<table border=\"1\" class=\"dataframe\">\n",
       "  <thead>\n",
       "    <tr style=\"text-align: right;\">\n",
       "      <th></th>\n",
       "      <th>tag_0</th>\n",
       "      <th>tag_1</th>\n",
       "      <th>tag_2</th>\n",
       "      <th>tag_3</th>\n",
       "      <th>tag_4</th>\n",
       "      <th>tag_5</th>\n",
       "      <th>tag_6</th>\n",
       "      <th>tag_7</th>\n",
       "      <th>tag_8</th>\n",
       "      <th>tag_9</th>\n",
       "      <th>...</th>\n",
       "      <th>tag_39</th>\n",
       "      <th>tag_40</th>\n",
       "      <th>tag_41</th>\n",
       "      <th>tag_42</th>\n",
       "      <th>tag_43</th>\n",
       "      <th>tag_44</th>\n",
       "      <th>tag_45</th>\n",
       "      <th>tag_46</th>\n",
       "      <th>tag_47</th>\n",
       "      <th>tag_48</th>\n",
       "    </tr>\n",
       "  </thead>\n",
       "  <tbody>\n",
       "    <tr>\n",
       "      <td>0</td>\n",
       "      <td>Science Fiction</td>\n",
       "      <td>Future</td>\n",
       "      <td>Creativity</td>\n",
       "      <td>Society</td>\n",
       "      <td>Writing</td>\n",
       "      <td>Storytelling</td>\n",
       "      <td>None</td>\n",
       "      <td>None</td>\n",
       "      <td>None</td>\n",
       "      <td>None</td>\n",
       "      <td>...</td>\n",
       "      <td>None</td>\n",
       "      <td>None</td>\n",
       "      <td>None</td>\n",
       "      <td>None</td>\n",
       "      <td>None</td>\n",
       "      <td>None</td>\n",
       "      <td>None</td>\n",
       "      <td>None</td>\n",
       "      <td>None</td>\n",
       "      <td>None</td>\n",
       "    </tr>\n",
       "    <tr>\n",
       "      <td>0</td>\n",
       "      <td>The Way We Work</td>\n",
       "      <td>work</td>\n",
       "      <td>None</td>\n",
       "      <td>None</td>\n",
       "      <td>None</td>\n",
       "      <td>None</td>\n",
       "      <td>None</td>\n",
       "      <td>None</td>\n",
       "      <td>None</td>\n",
       "      <td>None</td>\n",
       "      <td>...</td>\n",
       "      <td>None</td>\n",
       "      <td>None</td>\n",
       "      <td>None</td>\n",
       "      <td>None</td>\n",
       "      <td>None</td>\n",
       "      <td>None</td>\n",
       "      <td>None</td>\n",
       "      <td>None</td>\n",
       "      <td>None</td>\n",
       "      <td>None</td>\n",
       "    </tr>\n",
       "    <tr>\n",
       "      <td>0</td>\n",
       "      <td>Family</td>\n",
       "      <td>Parenting</td>\n",
       "      <td>Communication</td>\n",
       "      <td>Children</td>\n",
       "      <td>Relationships</td>\n",
       "      <td>None</td>\n",
       "      <td>None</td>\n",
       "      <td>None</td>\n",
       "      <td>None</td>\n",
       "      <td>None</td>\n",
       "      <td>...</td>\n",
       "      <td>None</td>\n",
       "      <td>None</td>\n",
       "      <td>None</td>\n",
       "      <td>None</td>\n",
       "      <td>None</td>\n",
       "      <td>None</td>\n",
       "      <td>None</td>\n",
       "      <td>None</td>\n",
       "      <td>None</td>\n",
       "      <td>None</td>\n",
       "    </tr>\n",
       "    <tr>\n",
       "      <td>0</td>\n",
       "      <td>climate change</td>\n",
       "      <td>environment</td>\n",
       "      <td>global issues</td>\n",
       "      <td>choice</td>\n",
       "      <td>leadership</td>\n",
       "      <td>humanity</td>\n",
       "      <td>society</td>\n",
       "      <td>fear</td>\n",
       "      <td>None</td>\n",
       "      <td>None</td>\n",
       "      <td>...</td>\n",
       "      <td>None</td>\n",
       "      <td>None</td>\n",
       "      <td>None</td>\n",
       "      <td>None</td>\n",
       "      <td>None</td>\n",
       "      <td>None</td>\n",
       "      <td>None</td>\n",
       "      <td>None</td>\n",
       "      <td>None</td>\n",
       "      <td>None</td>\n",
       "    </tr>\n",
       "    <tr>\n",
       "      <td>0</td>\n",
       "      <td>Life</td>\n",
       "      <td>Society</td>\n",
       "      <td>Immigration</td>\n",
       "      <td>Humanity</td>\n",
       "      <td>Self</td>\n",
       "      <td>Personal Growth</td>\n",
       "      <td>None</td>\n",
       "      <td>None</td>\n",
       "      <td>None</td>\n",
       "      <td>None</td>\n",
       "      <td>...</td>\n",
       "      <td>None</td>\n",
       "      <td>None</td>\n",
       "      <td>None</td>\n",
       "      <td>None</td>\n",
       "      <td>None</td>\n",
       "      <td>None</td>\n",
       "      <td>None</td>\n",
       "      <td>None</td>\n",
       "      <td>None</td>\n",
       "      <td>None</td>\n",
       "    </tr>\n",
       "    <tr>\n",
       "      <td>...</td>\n",
       "      <td>...</td>\n",
       "      <td>...</td>\n",
       "      <td>...</td>\n",
       "      <td>...</td>\n",
       "      <td>...</td>\n",
       "      <td>...</td>\n",
       "      <td>...</td>\n",
       "      <td>...</td>\n",
       "      <td>...</td>\n",
       "      <td>...</td>\n",
       "      <td>...</td>\n",
       "      <td>...</td>\n",
       "      <td>...</td>\n",
       "      <td>...</td>\n",
       "      <td>...</td>\n",
       "      <td>...</td>\n",
       "      <td>...</td>\n",
       "      <td>...</td>\n",
       "      <td>...</td>\n",
       "      <td>...</td>\n",
       "      <td>...</td>\n",
       "    </tr>\n",
       "    <tr>\n",
       "      <td>0</td>\n",
       "      <td>Wayne McGregor</td>\n",
       "      <td>Dance</td>\n",
       "      <td>Movement</td>\n",
       "      <td>Choreography</td>\n",
       "      <td>London</td>\n",
       "      <td>Royal Ballet</td>\n",
       "      <td>None</td>\n",
       "      <td>None</td>\n",
       "      <td>None</td>\n",
       "      <td>None</td>\n",
       "      <td>...</td>\n",
       "      <td>None</td>\n",
       "      <td>None</td>\n",
       "      <td>None</td>\n",
       "      <td>None</td>\n",
       "      <td>None</td>\n",
       "      <td>None</td>\n",
       "      <td>None</td>\n",
       "      <td>None</td>\n",
       "      <td>None</td>\n",
       "      <td>None</td>\n",
       "    </tr>\n",
       "    <tr>\n",
       "      <td>0</td>\n",
       "      <td>Michel Laberge</td>\n",
       "      <td>alternative energy</td>\n",
       "      <td>nuclear energy</td>\n",
       "      <td>science</td>\n",
       "      <td>None</td>\n",
       "      <td>None</td>\n",
       "      <td>None</td>\n",
       "      <td>None</td>\n",
       "      <td>None</td>\n",
       "      <td>None</td>\n",
       "      <td>...</td>\n",
       "      <td>None</td>\n",
       "      <td>None</td>\n",
       "      <td>None</td>\n",
       "      <td>None</td>\n",
       "      <td>None</td>\n",
       "      <td>None</td>\n",
       "      <td>None</td>\n",
       "      <td>None</td>\n",
       "      <td>None</td>\n",
       "      <td>None</td>\n",
       "    </tr>\n",
       "    <tr>\n",
       "      <td>0</td>\n",
       "      <td>talks</td>\n",
       "      <td>Sebastian Wernicke</td>\n",
       "      <td>funny</td>\n",
       "      <td>humor</td>\n",
       "      <td>parody</td>\n",
       "      <td>satire</td>\n",
       "      <td>statistics</td>\n",
       "      <td>statistician</td>\n",
       "      <td>statistical</td>\n",
       "      <td>analysis</td>\n",
       "      <td>...</td>\n",
       "      <td>None</td>\n",
       "      <td>None</td>\n",
       "      <td>None</td>\n",
       "      <td>None</td>\n",
       "      <td>None</td>\n",
       "      <td>None</td>\n",
       "      <td>None</td>\n",
       "      <td>None</td>\n",
       "      <td>None</td>\n",
       "      <td>None</td>\n",
       "    </tr>\n",
       "    <tr>\n",
       "      <td>0</td>\n",
       "      <td>Ramesh Raskar</td>\n",
       "      <td>Innovation</td>\n",
       "      <td>Invention</td>\n",
       "      <td>Photography</td>\n",
       "      <td>Technology</td>\n",
       "      <td>None</td>\n",
       "      <td>None</td>\n",
       "      <td>None</td>\n",
       "      <td>None</td>\n",
       "      <td>None</td>\n",
       "      <td>...</td>\n",
       "      <td>None</td>\n",
       "      <td>None</td>\n",
       "      <td>None</td>\n",
       "      <td>None</td>\n",
       "      <td>None</td>\n",
       "      <td>None</td>\n",
       "      <td>None</td>\n",
       "      <td>None</td>\n",
       "      <td>None</td>\n",
       "      <td>None</td>\n",
       "    </tr>\n",
       "    <tr>\n",
       "      <td>0</td>\n",
       "      <td>\\Don Levy\\</td>\n",
       "      <td>arts</td>\n",
       "      <td>film</td>\n",
       "      <td>None</td>\n",
       "      <td>None</td>\n",
       "      <td>None</td>\n",
       "      <td>None</td>\n",
       "      <td>None</td>\n",
       "      <td>None</td>\n",
       "      <td>None</td>\n",
       "      <td>...</td>\n",
       "      <td>None</td>\n",
       "      <td>None</td>\n",
       "      <td>None</td>\n",
       "      <td>None</td>\n",
       "      <td>None</td>\n",
       "      <td>None</td>\n",
       "      <td>None</td>\n",
       "      <td>None</td>\n",
       "      <td>None</td>\n",
       "      <td>None</td>\n",
       "    </tr>\n",
       "  </tbody>\n",
       "</table>\n",
       "<p>2732 rows × 49 columns</p>\n",
       "</div>"
      ],
      "text/plain": [
       "              tag_0               tag_1           tag_2         tag_3  \\\n",
       "0   Science Fiction              Future      Creativity       Society   \n",
       "0   The Way We Work                work            None          None   \n",
       "0            Family           Parenting   Communication      Children   \n",
       "0    climate change         environment   global issues        choice   \n",
       "0              Life             Society     Immigration      Humanity   \n",
       "..              ...                 ...             ...           ...   \n",
       "0    Wayne McGregor               Dance        Movement  Choreography   \n",
       "0    Michel Laberge  alternative energy  nuclear energy       science   \n",
       "0             talks  Sebastian Wernicke           funny         humor   \n",
       "0     Ramesh Raskar          Innovation       Invention   Photography   \n",
       "0        \\Don Levy\\                arts            film          None   \n",
       "\n",
       "            tag_4            tag_5       tag_6         tag_7        tag_8  \\\n",
       "0         Writing     Storytelling        None          None         None   \n",
       "0            None             None        None          None         None   \n",
       "0   Relationships             None        None          None         None   \n",
       "0      leadership         humanity     society          fear         None   \n",
       "0            Self  Personal Growth        None          None         None   \n",
       "..            ...              ...         ...           ...          ...   \n",
       "0          London     Royal Ballet        None          None         None   \n",
       "0            None             None        None          None         None   \n",
       "0          parody           satire  statistics  statistician  statistical   \n",
       "0      Technology             None        None          None         None   \n",
       "0            None             None        None          None         None   \n",
       "\n",
       "       tag_9  ... tag_39 tag_40 tag_41 tag_42 tag_43 tag_44 tag_45 tag_46  \\\n",
       "0       None  ...   None   None   None   None   None   None   None   None   \n",
       "0       None  ...   None   None   None   None   None   None   None   None   \n",
       "0       None  ...   None   None   None   None   None   None   None   None   \n",
       "0       None  ...   None   None   None   None   None   None   None   None   \n",
       "0       None  ...   None   None   None   None   None   None   None   None   \n",
       "..       ...  ...    ...    ...    ...    ...    ...    ...    ...    ...   \n",
       "0       None  ...   None   None   None   None   None   None   None   None   \n",
       "0       None  ...   None   None   None   None   None   None   None   None   \n",
       "0   analysis  ...   None   None   None   None   None   None   None   None   \n",
       "0       None  ...   None   None   None   None   None   None   None   None   \n",
       "0       None  ...   None   None   None   None   None   None   None   None   \n",
       "\n",
       "   tag_47 tag_48  \n",
       "0    None   None  \n",
       "0    None   None  \n",
       "0    None   None  \n",
       "0    None   None  \n",
       "0    None   None  \n",
       "..    ...    ...  \n",
       "0    None   None  \n",
       "0    None   None  \n",
       "0    None   None  \n",
       "0    None   None  \n",
       "0    None   None  \n",
       "\n",
       "[2732 rows x 49 columns]"
      ]
     },
     "execution_count": 311,
     "metadata": {},
     "output_type": "execute_result"
    }
   ],
   "source": [
    "pd.DataFrame(new_df_select['snippet.tags'].tolist(), index= new_df_select.index).add_prefix('tag_')\n"
   ]
  },
  {
   "cell_type": "code",
   "execution_count": 312,
   "metadata": {},
   "outputs": [
    {
     "name": "stdout",
     "output_type": "stream",
     "text": [
      "<class 'pandas.core.frame.DataFrame'>\n",
      "Int64Index: 2732 entries, 0 to 0\n",
      "Data columns (total 8 columns):\n",
      "id                         2732 non-null object\n",
      "snippet.tags               2732 non-null object\n",
      "snippet.title              2732 non-null object\n",
      "snippet.publishedAt        2732 non-null datetime64[ns, UTC]\n",
      "statistics.commentCount    2703 non-null object\n",
      "statistics.dislikeCount    2722 non-null object\n",
      "statistics.likeCount       2722 non-null object\n",
      "statistics.viewCount       2732 non-null object\n",
      "dtypes: datetime64[ns, UTC](1), object(7)\n",
      "memory usage: 192.1+ KB\n"
     ]
    }
   ],
   "source": [
    "new_df_select.info()"
   ]
  },
  {
   "cell_type": "code",
   "execution_count": 313,
   "metadata": {},
   "outputs": [
    {
     "data": {
      "text/plain": [
       "Index(['id', 'snippet.tags', 'snippet.title', 'snippet.publishedAt',\n",
       "       'statistics.commentCount', 'statistics.dislikeCount',\n",
       "       'statistics.likeCount', 'statistics.viewCount'],\n",
       "      dtype='object')"
      ]
     },
     "execution_count": 313,
     "metadata": {},
     "output_type": "execute_result"
    }
   ],
   "source": [
    "new_df_select.columns"
   ]
  },
  {
   "cell_type": "code",
   "execution_count": 314,
   "metadata": {},
   "outputs": [],
   "source": [
    "new_df_select.rename(columns={'id':'video_id', 'snippet.tags':'tags', 'snippet.title': 'title',\n",
    "                             'statistics.commentCount':'comments_count', 'statistics.dislikeCount':'dislike_count',\n",
    "                             'statistics.likeCount':'like_count', 'statistics.viewCount':'views_count',\n",
    "                             'snippet.publishedAt':'publushed_date'}, inplace=True)"
   ]
  },
  {
   "cell_type": "code",
   "execution_count": 365,
   "metadata": {},
   "outputs": [
    {
     "data": {
      "text/html": [
       "<div>\n",
       "<style scoped>\n",
       "    .dataframe tbody tr th:only-of-type {\n",
       "        vertical-align: middle;\n",
       "    }\n",
       "\n",
       "    .dataframe tbody tr th {\n",
       "        vertical-align: top;\n",
       "    }\n",
       "\n",
       "    .dataframe thead th {\n",
       "        text-align: right;\n",
       "    }\n",
       "</style>\n",
       "<table border=\"1\" class=\"dataframe\">\n",
       "  <thead>\n",
       "    <tr style=\"text-align: right;\">\n",
       "      <th></th>\n",
       "      <th>video_id</th>\n",
       "      <th>tags</th>\n",
       "      <th>title</th>\n",
       "      <th>publushed_date</th>\n",
       "      <th>comments_count</th>\n",
       "      <th>dislike_count</th>\n",
       "      <th>like_count</th>\n",
       "      <th>views_count</th>\n",
       "      <th>today</th>\n",
       "      <th>days_age</th>\n",
       "      <th>views_per_day</th>\n",
       "      <th>dislike_perc_of_likes</th>\n",
       "      <th>success</th>\n",
       "      <th>prime_tag</th>\n",
       "    </tr>\n",
       "  </thead>\n",
       "  <tbody>\n",
       "    <tr>\n",
       "      <td>0</td>\n",
       "      <td>Bb7kz1THJPU</td>\n",
       "      <td>[Science Fiction, Future, Creativity, Society,...</td>\n",
       "      <td>Go ahead, dream about the future | Charlie Jan...</td>\n",
       "      <td>2020-04-20 13:28:47</td>\n",
       "      <td>653</td>\n",
       "      <td>846</td>\n",
       "      <td>2082</td>\n",
       "      <td>71384</td>\n",
       "      <td>2020-05-16</td>\n",
       "      <td>25</td>\n",
       "      <td>2855.360000</td>\n",
       "      <td>40.634006</td>\n",
       "      <td>no</td>\n",
       "      <td>Science Fiction</td>\n",
       "    </tr>\n",
       "    <tr>\n",
       "      <td>0</td>\n",
       "      <td>cTIUiN6inIQ</td>\n",
       "      <td>[The Way We Work, work]</td>\n",
       "      <td>How to make faster decisions | The Way We Work...</td>\n",
       "      <td>2020-02-10 15:00:24</td>\n",
       "      <td>98</td>\n",
       "      <td>84</td>\n",
       "      <td>4298</td>\n",
       "      <td>145314</td>\n",
       "      <td>2020-05-16</td>\n",
       "      <td>95</td>\n",
       "      <td>1529.621053</td>\n",
       "      <td>1.954397</td>\n",
       "      <td>yes</td>\n",
       "      <td>The Way We Work</td>\n",
       "    </tr>\n",
       "    <tr>\n",
       "      <td>0</td>\n",
       "      <td>YgAuFqEs6yk</td>\n",
       "      <td>[Family, Parenting, Communication, Children, R...</td>\n",
       "      <td>How to co-parent as allies, not adversaries | ...</td>\n",
       "      <td>2020-05-14 14:40:00</td>\n",
       "      <td>109</td>\n",
       "      <td>86</td>\n",
       "      <td>722</td>\n",
       "      <td>23392</td>\n",
       "      <td>2020-05-16</td>\n",
       "      <td>1</td>\n",
       "      <td>23392.000000</td>\n",
       "      <td>11.911357</td>\n",
       "      <td>no</td>\n",
       "      <td>Family</td>\n",
       "    </tr>\n",
       "    <tr>\n",
       "      <td>0</td>\n",
       "      <td>bNmRr-BYnxA</td>\n",
       "      <td>[climate change, environment, global issues, c...</td>\n",
       "      <td>How to shift your mindset and choose your futu...</td>\n",
       "      <td>2020-05-13 14:22:51</td>\n",
       "      <td>205</td>\n",
       "      <td>136</td>\n",
       "      <td>2504</td>\n",
       "      <td>57548</td>\n",
       "      <td>2020-05-16</td>\n",
       "      <td>2</td>\n",
       "      <td>28774.000000</td>\n",
       "      <td>5.431310</td>\n",
       "      <td>no</td>\n",
       "      <td>climate change</td>\n",
       "    </tr>\n",
       "    <tr>\n",
       "      <td>0</td>\n",
       "      <td>FVUkKKc3Vvk</td>\n",
       "      <td>[Life, Society, Immigration, Humanity, Self, P...</td>\n",
       "      <td>What's missing from the American immigrant nar...</td>\n",
       "      <td>2020-05-12 18:06:31</td>\n",
       "      <td>234</td>\n",
       "      <td>257</td>\n",
       "      <td>1374</td>\n",
       "      <td>49720</td>\n",
       "      <td>2020-05-16</td>\n",
       "      <td>3</td>\n",
       "      <td>16573.333333</td>\n",
       "      <td>18.704512</td>\n",
       "      <td>no</td>\n",
       "      <td>Life</td>\n",
       "    </tr>\n",
       "    <tr>\n",
       "      <td>0</td>\n",
       "      <td>8bj0GR34XWc</td>\n",
       "      <td>[global issues, science, collaboration, virus,...</td>\n",
       "      <td>A global pandemic calls for global solutions |...</td>\n",
       "      <td>2020-05-11 15:52:37</td>\n",
       "      <td>236</td>\n",
       "      <td>151</td>\n",
       "      <td>1225</td>\n",
       "      <td>42688</td>\n",
       "      <td>2020-05-16</td>\n",
       "      <td>4</td>\n",
       "      <td>10672.000000</td>\n",
       "      <td>12.326531</td>\n",
       "      <td>no</td>\n",
       "      <td>global issues</td>\n",
       "    </tr>\n",
       "    <tr>\n",
       "      <td>0</td>\n",
       "      <td>eaCrsBtiYA4</td>\n",
       "      <td>[]</td>\n",
       "      <td>Racism has a cost for everyone | Heather C. Mc...</td>\n",
       "      <td>2020-05-08 18:44:35</td>\n",
       "      <td>542</td>\n",
       "      <td>341</td>\n",
       "      <td>2156</td>\n",
       "      <td>60869</td>\n",
       "      <td>2020-05-16</td>\n",
       "      <td>7</td>\n",
       "      <td>8695.571429</td>\n",
       "      <td>15.816327</td>\n",
       "      <td>no</td>\n",
       "      <td>no_tags</td>\n",
       "    </tr>\n",
       "    <tr>\n",
       "      <td>0</td>\n",
       "      <td>OMDVTZ-ycaY</td>\n",
       "      <td>[Humanity, Technology, Curiosity, Science, Exp...</td>\n",
       "      <td>How to spark your curiosity, scientifically | ...</td>\n",
       "      <td>2020-05-07 16:16:18</td>\n",
       "      <td>139</td>\n",
       "      <td>51</td>\n",
       "      <td>1857</td>\n",
       "      <td>61894</td>\n",
       "      <td>2020-05-16</td>\n",
       "      <td>8</td>\n",
       "      <td>7736.750000</td>\n",
       "      <td>2.746365</td>\n",
       "      <td>yes</td>\n",
       "      <td>Humanity</td>\n",
       "    </tr>\n",
       "    <tr>\n",
       "      <td>0</td>\n",
       "      <td>ppjXgm4t9ko</td>\n",
       "      <td>[Molecular Biology, CRISPR, Biology, Animation...</td>\n",
       "      <td>The wonders of the molecular world, animated |...</td>\n",
       "      <td>2020-05-06 17:14:06</td>\n",
       "      <td>107</td>\n",
       "      <td>34</td>\n",
       "      <td>2177</td>\n",
       "      <td>52503</td>\n",
       "      <td>2020-05-16</td>\n",
       "      <td>9</td>\n",
       "      <td>5833.666667</td>\n",
       "      <td>1.561782</td>\n",
       "      <td>yes</td>\n",
       "      <td>Molecular Biology</td>\n",
       "    </tr>\n",
       "    <tr>\n",
       "      <td>0</td>\n",
       "      <td>wGGmzeCT8gU</td>\n",
       "      <td>[Planets, Space, Chemistry, Exploration, Disco...</td>\n",
       "      <td>The galactic recipe for a living planet | Kari...</td>\n",
       "      <td>2020-05-05 15:40:49</td>\n",
       "      <td>124</td>\n",
       "      <td>39</td>\n",
       "      <td>1280</td>\n",
       "      <td>44369</td>\n",
       "      <td>2020-05-16</td>\n",
       "      <td>10</td>\n",
       "      <td>4436.900000</td>\n",
       "      <td>3.046875</td>\n",
       "      <td>yes</td>\n",
       "      <td>Planets</td>\n",
       "    </tr>\n",
       "  </tbody>\n",
       "</table>\n",
       "</div>"
      ],
      "text/plain": [
       "      video_id                                               tags  \\\n",
       "0  Bb7kz1THJPU  [Science Fiction, Future, Creativity, Society,...   \n",
       "0  cTIUiN6inIQ                            [The Way We Work, work]   \n",
       "0  YgAuFqEs6yk  [Family, Parenting, Communication, Children, R...   \n",
       "0  bNmRr-BYnxA  [climate change, environment, global issues, c...   \n",
       "0  FVUkKKc3Vvk  [Life, Society, Immigration, Humanity, Self, P...   \n",
       "0  8bj0GR34XWc  [global issues, science, collaboration, virus,...   \n",
       "0  eaCrsBtiYA4                                                 []   \n",
       "0  OMDVTZ-ycaY  [Humanity, Technology, Curiosity, Science, Exp...   \n",
       "0  ppjXgm4t9ko  [Molecular Biology, CRISPR, Biology, Animation...   \n",
       "0  wGGmzeCT8gU  [Planets, Space, Chemistry, Exploration, Disco...   \n",
       "\n",
       "                                               title      publushed_date  \\\n",
       "0  Go ahead, dream about the future | Charlie Jan... 2020-04-20 13:28:47   \n",
       "0  How to make faster decisions | The Way We Work... 2020-02-10 15:00:24   \n",
       "0  How to co-parent as allies, not adversaries | ... 2020-05-14 14:40:00   \n",
       "0  How to shift your mindset and choose your futu... 2020-05-13 14:22:51   \n",
       "0  What's missing from the American immigrant nar... 2020-05-12 18:06:31   \n",
       "0  A global pandemic calls for global solutions |... 2020-05-11 15:52:37   \n",
       "0  Racism has a cost for everyone | Heather C. Mc... 2020-05-08 18:44:35   \n",
       "0  How to spark your curiosity, scientifically | ... 2020-05-07 16:16:18   \n",
       "0  The wonders of the molecular world, animated |... 2020-05-06 17:14:06   \n",
       "0  The galactic recipe for a living planet | Kari... 2020-05-05 15:40:49   \n",
       "\n",
       "  comments_count dislike_count like_count views_count      today  days_age  \\\n",
       "0            653           846       2082       71384 2020-05-16        25   \n",
       "0             98            84       4298      145314 2020-05-16        95   \n",
       "0            109            86        722       23392 2020-05-16         1   \n",
       "0            205           136       2504       57548 2020-05-16         2   \n",
       "0            234           257       1374       49720 2020-05-16         3   \n",
       "0            236           151       1225       42688 2020-05-16         4   \n",
       "0            542           341       2156       60869 2020-05-16         7   \n",
       "0            139            51       1857       61894 2020-05-16         8   \n",
       "0            107            34       2177       52503 2020-05-16         9   \n",
       "0            124            39       1280       44369 2020-05-16        10   \n",
       "\n",
       "   views_per_day  dislike_perc_of_likes success          prime_tag  \n",
       "0    2855.360000              40.634006      no    Science Fiction  \n",
       "0    1529.621053               1.954397     yes    The Way We Work  \n",
       "0   23392.000000              11.911357      no             Family  \n",
       "0   28774.000000               5.431310      no     climate change  \n",
       "0   16573.333333              18.704512      no               Life  \n",
       "0   10672.000000              12.326531      no      global issues  \n",
       "0    8695.571429              15.816327      no            no_tags  \n",
       "0    7736.750000               2.746365     yes           Humanity  \n",
       "0    5833.666667               1.561782     yes  Molecular Biology  \n",
       "0    4436.900000               3.046875     yes            Planets  "
      ]
     },
     "execution_count": 365,
     "metadata": {},
     "output_type": "execute_result"
    }
   ],
   "source": [
    "new_df_select.head(10)"
   ]
  },
  {
   "cell_type": "code",
   "execution_count": 316,
   "metadata": {},
   "outputs": [
    {
     "name": "stderr",
     "output_type": "stream",
     "text": [
      "/Users/elena/opt/anaconda3/lib/python3.7/site-packages/ipykernel_launcher.py:1: SettingWithCopyWarning: \n",
      "A value is trying to be set on a copy of a slice from a DataFrame.\n",
      "Try using .loc[row_indexer,col_indexer] = value instead\n",
      "\n",
      "See the caveats in the documentation: http://pandas.pydata.org/pandas-docs/stable/user_guide/indexing.html#returning-a-view-versus-a-copy\n",
      "  \"\"\"Entry point for launching an IPython kernel.\n"
     ]
    }
   ],
   "source": [
    "new_df_select['today'] = pd.Timestamp('20200516')"
   ]
  },
  {
   "cell_type": "code",
   "execution_count": 317,
   "metadata": {},
   "outputs": [
    {
     "name": "stderr",
     "output_type": "stream",
     "text": [
      "/Users/elena/opt/anaconda3/lib/python3.7/site-packages/ipykernel_launcher.py:1: SettingWithCopyWarning: \n",
      "A value is trying to be set on a copy of a slice from a DataFrame.\n",
      "Try using .loc[row_indexer,col_indexer] = value instead\n",
      "\n",
      "See the caveats in the documentation: http://pandas.pydata.org/pandas-docs/stable/user_guide/indexing.html#returning-a-view-versus-a-copy\n",
      "  \"\"\"Entry point for launching an IPython kernel.\n"
     ]
    }
   ],
   "source": [
    "new_df_select['publushed_date'] = new_df_select['publushed_date'].dt.tz_convert(None)"
   ]
  },
  {
   "cell_type": "code",
   "execution_count": 319,
   "metadata": {},
   "outputs": [
    {
     "name": "stderr",
     "output_type": "stream",
     "text": [
      "/Users/elena/opt/anaconda3/lib/python3.7/site-packages/ipykernel_launcher.py:1: SettingWithCopyWarning: \n",
      "A value is trying to be set on a copy of a slice from a DataFrame.\n",
      "Try using .loc[row_indexer,col_indexer] = value instead\n",
      "\n",
      "See the caveats in the documentation: http://pandas.pydata.org/pandas-docs/stable/user_guide/indexing.html#returning-a-view-versus-a-copy\n",
      "  \"\"\"Entry point for launching an IPython kernel.\n"
     ]
    }
   ],
   "source": [
    "new_df_select['days_age'] = (new_df_select['today'] - new_df_select['publushed_date']).dt.days"
   ]
  },
  {
   "cell_type": "code",
   "execution_count": 320,
   "metadata": {},
   "outputs": [
    {
     "name": "stderr",
     "output_type": "stream",
     "text": [
      "/Users/elena/opt/anaconda3/lib/python3.7/site-packages/ipykernel_launcher.py:1: SettingWithCopyWarning: \n",
      "A value is trying to be set on a copy of a slice from a DataFrame.\n",
      "Try using .loc[row_indexer,col_indexer] = value instead\n",
      "\n",
      "See the caveats in the documentation: http://pandas.pydata.org/pandas-docs/stable/user_guide/indexing.html#returning-a-view-versus-a-copy\n",
      "  \"\"\"Entry point for launching an IPython kernel.\n"
     ]
    }
   ],
   "source": [
    "new_df_select['views_per_day'] = new_df_select['views_count'].astype(int)/new_df_select['days_age']"
   ]
  },
  {
   "cell_type": "code",
   "execution_count": 321,
   "metadata": {},
   "outputs": [],
   "source": [
    "new_df_select = new_df_select[new_df_select['like_count'].notna()]"
   ]
  },
  {
   "cell_type": "code",
   "execution_count": 322,
   "metadata": {},
   "outputs": [
    {
     "name": "stderr",
     "output_type": "stream",
     "text": [
      "/Users/elena/opt/anaconda3/lib/python3.7/site-packages/ipykernel_launcher.py:1: SettingWithCopyWarning: \n",
      "A value is trying to be set on a copy of a slice from a DataFrame.\n",
      "Try using .loc[row_indexer,col_indexer] = value instead\n",
      "\n",
      "See the caveats in the documentation: http://pandas.pydata.org/pandas-docs/stable/user_guide/indexing.html#returning-a-view-versus-a-copy\n",
      "  \"\"\"Entry point for launching an IPython kernel.\n"
     ]
    }
   ],
   "source": [
    "new_df_select['dislike_perc_of_likes'] = (new_df_select['dislike_count'].astype(int)*100)/new_df_select['like_count'].astype(int)"
   ]
  },
  {
   "cell_type": "code",
   "execution_count": 336,
   "metadata": {},
   "outputs": [
    {
     "name": "stderr",
     "output_type": "stream",
     "text": [
      "/Users/elena/opt/anaconda3/lib/python3.7/site-packages/ipykernel_launcher.py:1: SettingWithCopyWarning: \n",
      "A value is trying to be set on a copy of a slice from a DataFrame.\n",
      "Try using .loc[row_indexer,col_indexer] = value instead\n",
      "\n",
      "See the caveats in the documentation: http://pandas.pydata.org/pandas-docs/stable/user_guide/indexing.html#returning-a-view-versus-a-copy\n",
      "  \"\"\"Entry point for launching an IPython kernel.\n"
     ]
    }
   ],
   "source": [
    "new_df_select['success'] = np.where(new_df_select['dislike_perc_of_likes'] < 5, 'yes', 'no')"
   ]
  },
  {
   "cell_type": "code",
   "execution_count": 360,
   "metadata": {},
   "outputs": [],
   "source": [
    "def get_first_tag(column = new_df_select['tags']):\n",
    "    first_tags = []\n",
    "    for i in range(column.shape[0]):\n",
    "        if len(column.values[i]) > 0:\n",
    "            first_tags.append(column.values[i][0])\n",
    "        else:\n",
    "            first_tags.append('no_tags')\n",
    "    return first_tags"
   ]
  },
  {
   "cell_type": "code",
   "execution_count": 364,
   "metadata": {},
   "outputs": [],
   "source": [
    "#get_first_tag(column = new_df_select['tags'])"
   ]
  },
  {
   "cell_type": "code",
   "execution_count": 363,
   "metadata": {},
   "outputs": [
    {
     "name": "stderr",
     "output_type": "stream",
     "text": [
      "/Users/elena/opt/anaconda3/lib/python3.7/site-packages/ipykernel_launcher.py:1: SettingWithCopyWarning: \n",
      "A value is trying to be set on a copy of a slice from a DataFrame.\n",
      "Try using .loc[row_indexer,col_indexer] = value instead\n",
      "\n",
      "See the caveats in the documentation: http://pandas.pydata.org/pandas-docs/stable/user_guide/indexing.html#returning-a-view-versus-a-copy\n",
      "  \"\"\"Entry point for launching an IPython kernel.\n"
     ]
    }
   ],
   "source": [
    "new_df_select['prime_tag'] = get_first_tag(column = new_df_select['tags'])"
   ]
  },
  {
   "cell_type": "code",
   "execution_count": 330,
   "metadata": {},
   "outputs": [
    {
     "data": {
      "image/png": "[encoded data removed]",
      "text/plain": [
       "<Figure size 432x288 with 1 Axes>"
      ]
     },
     "metadata": {
      "needs_background": "light"
     },
     "output_type": "display_data"
    }
   ],
   "source": [
    "plt.hist(new_df_select['dislike_perc_of_likes'], bins=50);"
   ]
  },
  {
   "cell_type": "code",
   "execution_count": 334,
   "metadata": {
    "scrolled": true
   },
   "outputs": [
    {
     "data": {
      "text/plain": [
       "(array([1349.,    0.,    0.,    0.,    0.,    0.,    0.,    0.,    0.,\n",
       "        1373.]),\n",
       " array([0. , 0.1, 0.2, 0.3, 0.4, 0.5, 0.6, 0.7, 0.8, 0.9, 1. ]),\n",
       " <a list of 10 Patch objects>)"
      ]
     },
     "execution_count": 334,
     "metadata": {},
     "output_type": "execute_result"
    },
    {
     "data": {
      "image/png": "[encoded data removed]",
      "text/plain": [
       "<Figure size 432x288 with 1 Axes>"
      ]
     },
     "metadata": {
      "needs_background": "light"
     },
     "output_type": "display_data"
    }
   ],
   "source": [
    "plt.hist(new_df_select['success'])"
   ]
  },
  {
   "cell_type": "code",
   "execution_count": 366,
   "metadata": {},
   "outputs": [],
   "source": [
    "with open('ted_video_stats_2722.pkl', 'wb') as picklefile:\n",
    "    pickle.dump(new_df_select, picklefile)"
   ]
  },
  {
   "cell_type": "code",
   "execution_count": null,
   "metadata": {},
   "outputs": [],
   "source": []
  }
 ],
 "metadata": {
  "kernelspec": {
   "display_name": "Python 3",
   "language": "python",
   "name": "python3"
  },
  "language_info": {
   "codemirror_mode": {
    "name": "ipython",
    "version": 3
   },
   "file_extension": ".py",
   "mimetype": "text/x-python",
   "name": "python",
   "nbconvert_exporter": "python",
   "pygments_lexer": "ipython3",
   "version": "3.7.4"
  }
 },
 "nbformat": 4,
 "nbformat_minor": 2
}
