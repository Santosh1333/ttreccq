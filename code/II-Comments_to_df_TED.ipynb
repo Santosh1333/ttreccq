{
 "cells": [
  {
   "cell_type": "code",
   "execution_count": 23,
   "metadata": {},
   "outputs": [],
   "source": [
    "from pymongo import MongoClient\n",
    "import pandas as pd\n",
    "from pandas.io.json import json_normalize\n",
    "import pickle"
   ]
  },
  {
   "cell_type": "code",
   "execution_count": null,
   "metadata": {},
   "outputs": [],
   "source": [
    "import pandas as pd\n",
    "import pandas\n",
    "from itertools import chain\n",
    "import numpy as np\n",
    "\n",
    "from bson import json_util, ObjectId\n",
    "from pandas.io.json import json_normalize\n",
    "import json\n",
    "\n"
   ]
  },
  {
   "cell_type": "code",
   "execution_count": 2,
   "metadata": {},
   "outputs": [
    {
     "data": {
      "text/plain": [
       "['admin', 'books', 'comedy_covid', 'config', 'local', 'outings', 'ted']"
      ]
     },
     "execution_count": 2,
     "metadata": {},
     "output_type": "execute_result"
    }
   ],
   "source": [
    "client = MongoClient()\n",
    "client.list_database_names()"
   ]
  },
  {
   "cell_type": "code",
   "execution_count": 4,
   "metadata": {},
   "outputs": [
    {
     "data": {
      "text/plain": [
       "['ted_stats', 'ted_transcripts', 'ted_comments']"
      ]
     },
     "execution_count": 4,
     "metadata": {},
     "output_type": "execute_result"
    }
   ],
   "source": [
    "db = client.ted\n",
    "db.list_collection_names()"
   ]
  },
  {
   "cell_type": "code",
   "execution_count": 28,
   "metadata": {},
   "outputs": [],
   "source": [
    "#cursor = db.ted_comments.find()\n",
    "#list(cursor)"
   ]
  },
  {
   "cell_type": "code",
   "execution_count": 6,
   "metadata": {},
   "outputs": [],
   "source": [
    "cursor = db.ted_comments.find({}, {'_id':0, 'items.snippet':1})"
   ]
  },
  {
   "cell_type": "code",
   "execution_count": 9,
   "metadata": {},
   "outputs": [],
   "source": [
    "df =  pd.DataFrame(list(cursor))"
   ]
  },
  {
   "cell_type": "code",
   "execution_count": 15,
   "metadata": {},
   "outputs": [
    {
     "data": {
      "text/html": [
       "<div>\n",
       "<style scoped>\n",
       "    .dataframe tbody tr th:only-of-type {\n",
       "        vertical-align: middle;\n",
       "    }\n",
       "\n",
       "    .dataframe tbody tr th {\n",
       "        vertical-align: top;\n",
       "    }\n",
       "\n",
       "    .dataframe thead th {\n",
       "        text-align: right;\n",
       "    }\n",
       "</style>\n",
       "<table border=\"1\" class=\"dataframe\">\n",
       "  <thead>\n",
       "    <tr style=\"text-align: right;\">\n",
       "      <th></th>\n",
       "      <th>items</th>\n",
       "    </tr>\n",
       "  </thead>\n",
       "  <tbody>\n",
       "    <tr>\n",
       "      <td>0</td>\n",
       "      <td>[{'snippet': {'videoId': 'YgAuFqEs6yk', 'topLe...</td>\n",
       "    </tr>\n",
       "    <tr>\n",
       "      <td>1</td>\n",
       "      <td>[{'snippet': {'videoId': 'bNmRr-BYnxA', 'topLe...</td>\n",
       "    </tr>\n",
       "    <tr>\n",
       "      <td>2</td>\n",
       "      <td>[{'snippet': {'videoId': 'FVUkKKc3Vvk', 'topLe...</td>\n",
       "    </tr>\n",
       "    <tr>\n",
       "      <td>3</td>\n",
       "      <td>[{'snippet': {'videoId': '8bj0GR34XWc', 'topLe...</td>\n",
       "    </tr>\n",
       "    <tr>\n",
       "      <td>4</td>\n",
       "      <td>[{'snippet': {'videoId': 'eaCrsBtiYA4', 'topLe...</td>\n",
       "    </tr>\n",
       "  </tbody>\n",
       "</table>\n",
       "</div>"
      ],
      "text/plain": [
       "                                               items\n",
       "0  [{'snippet': {'videoId': 'YgAuFqEs6yk', 'topLe...\n",
       "1  [{'snippet': {'videoId': 'bNmRr-BYnxA', 'topLe...\n",
       "2  [{'snippet': {'videoId': 'FVUkKKc3Vvk', 'topLe...\n",
       "3  [{'snippet': {'videoId': '8bj0GR34XWc', 'topLe...\n",
       "4  [{'snippet': {'videoId': 'eaCrsBtiYA4', 'topLe..."
      ]
     },
     "execution_count": 15,
     "metadata": {},
     "output_type": "execute_result"
    }
   ],
   "source": [
    "df.head()"
   ]
  },
  {
   "cell_type": "code",
   "execution_count": 184,
   "metadata": {},
   "outputs": [],
   "source": [
    "#df['items'][0]"
   ]
  },
  {
   "cell_type": "code",
   "execution_count": 13,
   "metadata": {},
   "outputs": [
    {
     "name": "stderr",
     "output_type": "stream",
     "text": [
      "/Users/elena/opt/anaconda3/lib/python3.7/site-packages/ipykernel_launcher.py:1: FutureWarning: Sorting because non-concatenation axis is not aligned. A future version\n",
      "of pandas will change to not sort by default.\n",
      "\n",
      "To accept the future behavior, pass 'sort=False'.\n",
      "\n",
      "To retain the current behavior and silence the warning, pass 'sort=True'.\n",
      "\n",
      "  \"\"\"Entry point for launching an IPython kernel.\n"
     ]
    }
   ],
   "source": [
    "new_df = pd.concat([pd.DataFrame(json_normalize(x)) for x in df['items']]) #,ignore_index=True"
   ]
  },
  {
   "cell_type": "code",
   "execution_count": 14,
   "metadata": {},
   "outputs": [
    {
     "data": {
      "text/plain": [
       "Index(['snippet.canReply', 'snippet.isPublic', 'snippet.topLevelComment.etag',\n",
       "       'snippet.topLevelComment.id', 'snippet.topLevelComment.kind',\n",
       "       'snippet.topLevelComment.snippet.authorChannelId.value',\n",
       "       'snippet.topLevelComment.snippet.authorChannelUrl',\n",
       "       'snippet.topLevelComment.snippet.authorDisplayName',\n",
       "       'snippet.topLevelComment.snippet.authorProfileImageUrl',\n",
       "       'snippet.topLevelComment.snippet.canRate',\n",
       "       'snippet.topLevelComment.snippet.likeCount',\n",
       "       'snippet.topLevelComment.snippet.publishedAt',\n",
       "       'snippet.topLevelComment.snippet.textDisplay',\n",
       "       'snippet.topLevelComment.snippet.textOriginal',\n",
       "       'snippet.topLevelComment.snippet.updatedAt',\n",
       "       'snippet.topLevelComment.snippet.videoId',\n",
       "       'snippet.topLevelComment.snippet.viewerRating',\n",
       "       'snippet.totalReplyCount', 'snippet.videoId'],\n",
       "      dtype='object')"
      ]
     },
     "execution_count": 14,
     "metadata": {},
     "output_type": "execute_result"
    }
   ],
   "source": [
    "new_df.columns"
   ]
  },
  {
   "cell_type": "code",
   "execution_count": 16,
   "metadata": {},
   "outputs": [
    {
     "data": {
      "text/plain": [
       "(43303, 19)"
      ]
     },
     "execution_count": 16,
     "metadata": {},
     "output_type": "execute_result"
    }
   ],
   "source": [
    "new_df.shape"
   ]
  },
  {
   "cell_type": "code",
   "execution_count": 17,
   "metadata": {},
   "outputs": [],
   "source": [
    "new_df_text2 = pd.DataFrame(new_df.groupby(['snippet.videoId'])\n",
    "                            ['snippet.topLevelComment.snippet.textDisplay'].apply(\n",
    "                                lambda x: \"{%s}\" % ', '.join(x)))"
   ]
  },
  {
   "cell_type": "code",
   "execution_count": 20,
   "metadata": {},
   "outputs": [
    {
     "name": "stdout",
     "output_type": "stream",
     "text": [
      "<class 'pandas.core.frame.DataFrame'>\n",
      "Index: 2193 entries, -2Dj9M71JAc to zwpiI18TBdE\n",
      "Data columns (total 1 columns):\n",
      "snippet.topLevelComment.snippet.textDisplay    2193 non-null object\n",
      "dtypes: object(1)\n",
      "memory usage: 34.3+ KB\n"
     ]
    }
   ],
   "source": [
    "new_df_text2.info()"
   ]
  },
  {
   "cell_type": "code",
   "execution_count": 34,
   "metadata": {},
   "outputs": [
    {
     "data": {
      "text/html": [
       "<div>\n",
       "<style scoped>\n",
       "    .dataframe tbody tr th:only-of-type {\n",
       "        vertical-align: middle;\n",
       "    }\n",
       "\n",
       "    .dataframe tbody tr th {\n",
       "        vertical-align: top;\n",
       "    }\n",
       "\n",
       "    .dataframe thead th {\n",
       "        text-align: right;\n",
       "    }\n",
       "</style>\n",
       "<table border=\"1\" class=\"dataframe\">\n",
       "  <thead>\n",
       "    <tr style=\"text-align: right;\">\n",
       "      <th></th>\n",
       "      <th>video_id</th>\n",
       "      <th>comments</th>\n",
       "    </tr>\n",
       "  </thead>\n",
       "  <tbody>\n",
       "    <tr>\n",
       "      <td>79</td>\n",
       "      <td>1XL8I9-IqRY</td>\n",
       "      <td>{I&amp;#39;m sorry, but ignorants are a reality, t...</td>\n",
       "    </tr>\n",
       "    <tr>\n",
       "      <td>1724</td>\n",
       "      <td>nLecuOcB3dA</td>\n",
       "      <td>{парк под землей с солнечным светом.... интере...</td>\n",
       "    </tr>\n",
       "  </tbody>\n",
       "</table>\n",
       "</div>"
      ],
      "text/plain": [
       "         video_id                                           comments\n",
       "79    1XL8I9-IqRY  {I&#39;m sorry, but ignorants are a reality, t...\n",
       "1724  nLecuOcB3dA  {парк под землей с солнечным светом.... интере..."
      ]
     },
     "execution_count": 34,
     "metadata": {},
     "output_type": "execute_result"
    }
   ],
   "source": [
    "new_df_text2.sample(2)"
   ]
  },
  {
   "cell_type": "code",
   "execution_count": 33,
   "metadata": {},
   "outputs": [],
   "source": [
    "new_df_text2.reset_index(inplace=True)\n",
    "new_df_text2.rename(columns={'snippet.topLevelComment.snippet.textDisplay':'comments', \n",
    "                             'snippet.videoId': 'video_id'}, inplace=True)"
   ]
  },
  {
   "cell_type": "code",
   "execution_count": 35,
   "metadata": {},
   "outputs": [],
   "source": [
    "with open('ted_video_comments_2193.pkl', 'wb') as picklefile:\n",
    "    pickle.dump(new_df_text2, picklefile)"
   ]
  },
  {
   "cell_type": "code",
   "execution_count": null,
   "metadata": {},
   "outputs": [],
   "source": []
  }
 ],
 "metadata": {
  "kernelspec": {
   "display_name": "Python 3",
   "language": "python",
   "name": "python3"
  },
  "language_info": {
   "codemirror_mode": {
    "name": "ipython",
    "version": 3
   },
   "file_extension": ".py",
   "mimetype": "text/x-python",
   "name": "python",
   "nbconvert_exporter": "python",
   "pygments_lexer": "ipython3",
   "version": "3.7.4"
  }
 },
 "nbformat": 4,
 "nbformat_minor": 2
}
