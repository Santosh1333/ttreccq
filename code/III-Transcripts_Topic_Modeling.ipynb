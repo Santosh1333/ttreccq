{
 "cells": [
  {
   "cell_type": "code",
   "execution_count": 107,
   "metadata": {},
   "outputs": [],
   "source": [
    "import pandas as pd\n",
    "\n",
    "import pickle \n",
    "\n",
    "import re\n",
    "import string\n",
    "\n",
    "from nltk.stem.snowball import SnowballStemmer\n",
    "from nltk.tokenize import word_tokenize\n",
    "from nltk.corpus import stopwords\n",
    "\n",
    "from sklearn.feature_extraction.text import CountVectorizer \n",
    "from sklearn.feature_extraction.text import TfidfVectorizer\n",
    "\n",
    "from sklearn.decomposition import TruncatedSVD\n",
    "from sklearn.decomposition import NMF\n",
    "from sklearn.decomposition import LatentDirichletAllocation\n",
    "\n",
    "from sklearn.metrics.pairwise import cosine_similarity"
   ]
  },
  {
   "cell_type": "markdown",
   "metadata": {},
   "source": [
    "# Get Data"
   ]
  },
  {
   "cell_type": "code",
   "execution_count": 108,
   "metadata": {},
   "outputs": [],
   "source": [
    "with open('ted_video_transcripts_2416.pkl', 'rb') as picklefile:\n",
    "    df = pickle.load(picklefile)"
   ]
  },
  {
   "cell_type": "code",
   "execution_count": 109,
   "metadata": {},
   "outputs": [
    {
     "data": {
      "text/html": [
       "<div>\n",
       "<style scoped>\n",
       "    .dataframe tbody tr th:only-of-type {\n",
       "        vertical-align: middle;\n",
       "    }\n",
       "\n",
       "    .dataframe tbody tr th {\n",
       "        vertical-align: top;\n",
       "    }\n",
       "\n",
       "    .dataframe thead th {\n",
       "        text-align: right;\n",
       "    }\n",
       "</style>\n",
       "<table border=\"1\" class=\"dataframe\">\n",
       "  <thead>\n",
       "    <tr style=\"text-align: right;\">\n",
       "      <th></th>\n",
       "      <th>video_id</th>\n",
       "      <th>transcript</th>\n",
       "    </tr>\n",
       "  </thead>\n",
       "  <tbody>\n",
       "    <tr>\n",
       "      <td>0</td>\n",
       "      <td>YgAuFqEs6yk</td>\n",
       "      <td>[{'text': 'I remember watching my father raise...</td>\n",
       "    </tr>\n",
       "    <tr>\n",
       "      <td>1</td>\n",
       "      <td>bNmRr-BYnxA</td>\n",
       "      <td>[{'text': 'Transcriber: Joseph Geni\n",
       "Reviewer: ...</td>\n",
       "    </tr>\n",
       "    <tr>\n",
       "      <td>2</td>\n",
       "      <td>FVUkKKc3Vvk</td>\n",
       "      <td>[{'text': 'Hi, everyone, my name is Elizabeth,...</td>\n",
       "    </tr>\n",
       "    <tr>\n",
       "      <td>3</td>\n",
       "      <td>8bj0GR34XWc</td>\n",
       "      <td>[{'text': 'Transcriber: Ivana Korom\n",
       "Reviewer: ...</td>\n",
       "    </tr>\n",
       "    <tr>\n",
       "      <td>4</td>\n",
       "      <td>eaCrsBtiYA4</td>\n",
       "      <td>[{'text': 'I am a public policy wonk.'}, {'tex...</td>\n",
       "    </tr>\n",
       "  </tbody>\n",
       "</table>\n",
       "</div>"
      ],
      "text/plain": [
       "      video_id                                         transcript\n",
       "0  YgAuFqEs6yk  [{'text': 'I remember watching my father raise...\n",
       "1  bNmRr-BYnxA  [{'text': 'Transcriber: Joseph Geni\n",
       "Reviewer: ...\n",
       "2  FVUkKKc3Vvk  [{'text': 'Hi, everyone, my name is Elizabeth,...\n",
       "3  8bj0GR34XWc  [{'text': 'Transcriber: Ivana Korom\n",
       "Reviewer: ...\n",
       "4  eaCrsBtiYA4  [{'text': 'I am a public policy wonk.'}, {'tex..."
      ]
     },
     "execution_count": 109,
     "metadata": {},
     "output_type": "execute_result"
    }
   ],
   "source": [
    "df.head()"
   ]
  },
  {
   "cell_type": "code",
   "execution_count": 110,
   "metadata": {},
   "outputs": [
    {
     "data": {
      "text/plain": [
       "2416"
      ]
     },
     "execution_count": 110,
     "metadata": {},
     "output_type": "execute_result"
    }
   ],
   "source": [
    "len(df)"
   ]
  },
  {
   "cell_type": "markdown",
   "metadata": {},
   "source": [
    "# Text Preprocessing"
   ]
  },
  {
   "cell_type": "code",
   "execution_count": 84,
   "metadata": {},
   "outputs": [],
   "source": [
    "#stemmer=LancasterStemmer()\n",
    "#porter=PorterStemmer()"
   ]
  },
  {
   "cell_type": "code",
   "execution_count": 85,
   "metadata": {},
   "outputs": [],
   "source": [
    "englishStemmer=SnowballStemmer(\"english\", ignore_stopwords=True)\n",
    "def stemComment(comment_line):\n",
    "    token_words=word_tokenize(comment_line)\n",
    "    stem_line=[]\n",
    "    for word in token_words:\n",
    "        stem_line.append(englishStemmer.stem(word))\n",
    "        stem_line.append(\" \")\n",
    "    return \"\".join(stem_line)"
   ]
  },
  {
   "cell_type": "code",
   "execution_count": 86,
   "metadata": {},
   "outputs": [],
   "source": [
    "stop_words = set(stopwords.words('english'))\n",
    "\n",
    "def remove_stop_words(comment_line):\n",
    "    token_words=word_tokenize(str(comment_line))\n",
    "    filtered_comment_line = [w for w in token_words if not w in stop_words] \n",
    "    \n",
    "    return \" \".join(filtered_comment_line)"
   ]
  },
  {
   "cell_type": "code",
   "execution_count": 87,
   "metadata": {},
   "outputs": [],
   "source": [
    "alphanumeric = lambda x: re.sub('\\w*\\d\\w*', ' ', x)\n",
    "punc_lower = lambda x: re.sub('[%s]' % re.escape(string.punctuation), ' ', x.lower())"
   ]
  },
  {
   "cell_type": "code",
   "execution_count": 88,
   "metadata": {},
   "outputs": [],
   "source": [
    "df['transcript'] = df['transcript'].map(remove_stop_words).map(alphanumeric).map(punc_lower)"
   ]
  },
  {
   "cell_type": "code",
   "execution_count": 89,
   "metadata": {},
   "outputs": [],
   "source": [
    "#https://stackoverflow.com/questions/29270917/removing-custom-stop-words-form-a-phrase-in-python\n",
    "my_stop_words_lst = ['ted', 'text', 'thank', 'you']\n",
    "\n",
    "for w in my_stop_words_lst:\n",
    "    pattern = r'\\b'+w+r'\\b'\n",
    "    custom_stop = lambda x: re.sub(pattern, ' ', x)\n",
    "    df['transcript'] = df['transcript'].map(custom_stop)"
   ]
  },
  {
   "cell_type": "code",
   "execution_count": 90,
   "metadata": {},
   "outputs": [],
   "source": [
    "df['transcript'] = df['transcript'].map(stemComment)"
   ]
  },
  {
   "cell_type": "code",
   "execution_count": 91,
   "metadata": {},
   "outputs": [
    {
     "data": {
      "text/html": [
       "<div>\n",
       "<style scoped>\n",
       "    .dataframe tbody tr th:only-of-type {\n",
       "        vertical-align: middle;\n",
       "    }\n",
       "\n",
       "    .dataframe tbody tr th {\n",
       "        vertical-align: top;\n",
       "    }\n",
       "\n",
       "    .dataframe thead th {\n",
       "        text-align: right;\n",
       "    }\n",
       "</style>\n",
       "<table border=\"1\" class=\"dataframe\">\n",
       "  <thead>\n",
       "    <tr style=\"text-align: right;\">\n",
       "      <th></th>\n",
       "      <th>video_id</th>\n",
       "      <th>transcript</th>\n",
       "    </tr>\n",
       "  </thead>\n",
       "  <tbody>\n",
       "    <tr>\n",
       "      <td>0</td>\n",
       "      <td>YgAuFqEs6yk</td>\n",
       "      <td>i rememb watch father rais pistol mother s hea...</td>\n",
       "    </tr>\n",
       "    <tr>\n",
       "      <td>1</td>\n",
       "      <td>bNmRr-BYnxA</td>\n",
       "      <td>transcrib joseph geni nreview camill martínez ...</td>\n",
       "    </tr>\n",
       "    <tr>\n",
       "      <td>2</td>\n",
       "      <td>FVUkKKc3Vvk</td>\n",
       "      <td>hi everyon name elizabeth and i work trade flo...</td>\n",
       "    </tr>\n",
       "    <tr>\n",
       "      <td>3</td>\n",
       "      <td>8bj0GR34XWc</td>\n",
       "      <td>transcrib ivana korom nreview krystian aparta ...</td>\n",
       "    </tr>\n",
       "    <tr>\n",
       "      <td>4</td>\n",
       "      <td>eaCrsBtiYA4</td>\n",
       "      <td>i public polici wonk i investig data point pro...</td>\n",
       "    </tr>\n",
       "  </tbody>\n",
       "</table>\n",
       "</div>"
      ],
      "text/plain": [
       "      video_id                                         transcript\n",
       "0  YgAuFqEs6yk  i rememb watch father rais pistol mother s hea...\n",
       "1  bNmRr-BYnxA  transcrib joseph geni nreview camill martínez ...\n",
       "2  FVUkKKc3Vvk  hi everyon name elizabeth and i work trade flo...\n",
       "3  8bj0GR34XWc  transcrib ivana korom nreview krystian aparta ...\n",
       "4  eaCrsBtiYA4  i public polici wonk i investig data point pro..."
      ]
     },
     "execution_count": 91,
     "metadata": {},
     "output_type": "execute_result"
    }
   ],
   "source": [
    "df.head()"
   ]
  },
  {
   "cell_type": "code",
   "execution_count": 92,
   "metadata": {},
   "outputs": [
    {
     "data": {
      "text/plain": [
       "'transcrib joseph geni nreview camill martínez i never thought i would give nmi talk somewher like but like half human i ve spent last nfour week lockdown due global pandem ncreat covid i extrem fortun nthat time i ve abl come wood nnear home southern england these wood alway inspir and human tri think about nhow find inspir to retak control action terribl thing ndo n t come road without us take action avert i thought good place nfor us talk and i d like begin nthat stori six year ago when i first join nthe unit nation now i firm believ nthat un unparallel import in world right to promot collabor cooper but n t tell join is essenti work deliv main form nof extrem bore meet extrem long bore meet now may feel attend nsome long bore meet life i m sure but un meet next level and everyon work there napproach level calm normal achiev zen master but i n t readi i join expect drama nand tension breakthrough what i n t readi was process seem move nat speed glacier at speed glacier nuse move now middl nof one long meet i hand note and hand me nbi friend colleagu coauthor christiana figuer christiana execut secretari of un framework convent non climat chang and overal respons for un reach would becom nthe pari agreement i run polit strategi so hand note i assum would contain ndetail polit instruct about go get of nthis nightmar quagmir that seem trap i took note look it said pain but let s approach love now i love note lot reason i love way littl tendril nare come word pain it realli good visual depict nof i felt moment but i particular love it nbecaus i look i realiz was na polit instruct and go nto success this go so let explain what i d feel meet nwas actual control i move life brooklyn nin new york bonn germani with extrem reluct nsupport wife my children school nwhere could n t speak languag and i thought deal nfor disrupt world was i would degre nof control go happen i felt year climat crisi nis defin challeng of generat and i readi play part nand someth human but i put hand lever nof control i d given and pull and noth happen i realiz thing i could control nwere menial day to day thing do i ride bike work nand where i lunch wherea thing nthat go determin whether go success were issu like will russia nwreck negoti will china take respons nfor emiss will us help poorer countri ndeal burden climat chang the differenti felt huge i could see way i could bridg two it felt futil i began feel i d made mistak i began get depress but even moment i realiz i feel nhad lot similar i d felt i first found out nabout climat crisi year i d spent mani most nformat year buddhist monk in earli but i left monast life nbecaus even year ago i felt climat crisi alreadi na quick unfold emerg and i want part but i d left nand i rejoin world i look i could control it ton emiss nand immedi famili which polit parti ni vote everi year whether i went march two and i look issu nthat would determin outcom and big ngeopolit negoti massiv infrastructur spend plan what everybodi els the differenti felt huge i could n t see way nthat i could bridg i kept tri take action n t realli stick it felt futil now know be na common experi mani peopl and mayb experi when face enorm challeng n t feel have nani agenc control our mind do na littl trick protect us we n t like feel nlike re control face big forc so mind tell us n mayb it s import mayb it s happen nin way peopl say anyway or play role there s noth nindividu tri but s someth odd go is realli true human only ntake sustain dedic action on issu paramount import when feel have na high degre control look pictur these peopl caregiv nurs who help human nface coronavirus covid as swept around world nas pandem last month are peopl abl prevent nthe spread diseas no are abl prevent ntheir patient die some abl prevent but other been nbeyond control does make contribut nfutil meaningless actual s offens neven suggest what care nfor fellow human be at moment greatest vulner and work huge mean to point i only nhave show pictur for becom evid that courag human nthose peopl demonstr make work nsome meaning thing that done human be even though can t ncontrol outcom now s interest because show us nthat human capabl of take dedic sustain action even ca n t control outcom but leav us anoth challeng with climat crisi the action take nis separ impact wherea happen nwith imag is nurs sustain not nbi lofti goal chang world but day to day satisfact nof care anoth human through moment weak with climat crisi nwe huge separ it use were nsepar time the impact climat crisi nwere suppos way futur but right futur nhas come meet us contin fire citi go underwat countri go underwat hundr thousand peopl are non move result climat chang but even impact longer nsepar us time re still separ us way nthat make difficult feel that direct connect they happen somewher els nto somebodi els us differ way nthan re use experienc so even though stori nurs ndemonstr someth us about human natur re go find differ way of deal climat crisi nin sustain manner there way power combin nof deep support attitud that combin nwith consist action can enabl whole societi take ndedic action sustain way toward share goal it s use great effect nthroughout histori so let give na histor stori explain right i stand wood nnear home southern england and particular wood nare far london eighti year ago nthat citi attack in late the peopl britain would anyth nto avoid face realiti that hitler would stop noth nto conquer europ fresh memori nfrom first world war they terrifi nazi aggress and would anyth avoid nface realiti in end realiti broke churchil rememb mani thing nand posit but did nin earli day war was chang stori nthe peopl britain told about doing nand come where previous been ntrepid nervous fear there came calm resolv an island alon greatest hour greatest generat countri would fight them non beach hill and street countri would never surrend that chang fear trepid to face realiti whatev nit howev dark had noth likelihood nof win war there news front nthat battl go better or even point that na power new alli join fight and chang odd favor it simpli choic a deep determin stubborn nform optim emerg not avoid deni dark nthat press but refus cow that stubborn optim power it depend assum nthat outcom go good or form wish think nabout futur howev is nit anim action and infus mean we know time despit risk nand despit challeng it meaning time full purpos and multipl account confirm that action rang nfrom pilot battl britain to simpl act pull npotato soil becam infus mean they anim toward na share purpos share outcom we seen throughout histori this coupl deep determin nstubborn optim action when optim lead nto determin action then becom self sustain without stubborn optim nthe action n t sustain without action stubborn optim nis attitud the two togeth transform nan entir issu chang world we saw multipl time we saw rosa park nrefus get bus we saw gandhi s nlong salt march beach we saw suffragett said that n courag call courag everywher and saw kennedi said nthat within year he would put man moon that electrifi generat nand focus share goal against dark frighten adversari even though n t know nhow would achiev in case realist gritti nbut determin stubborn optim was result success it caus that also how nthe transform happen on road pari agreement those challeng difficult npessimist meet transform as peopl decid nthat moment dig and determin would not ndrop ball watch and would deliv outcom nthat knew possibl more peopl transform nthemselv perspect and began work and end work way nup wave momentum that crash us and deliv mani nof challeng issu with better outcom nthan could possibl imagin and even year later with na climat denier white hous much put motion nin day still unfold and everyth play for nin come month year on deal climat crisi so right come through none challeng period in live us the global pandem frighten whether person tragedi nhas involv but also shaken belief nthat powerless in face great chang in space week we mobil point where nhalf human took drastic action to protect vulner if re capabl mayb yet test nthe limit human when rise meet share challeng we need move beyond nthis narrat powerless because make mistak the climat crisi order nof magnitud wors pandem if take action nthat still take to avert tragedi see ncome toward us we longer afford luxuri nof feel powerless the truth futur generat will look back this nprecis moment awe as stand crossroad nbetween regen futur and one thrown away and truth lot go npretti well us transit cost clean energi come citi transform nland regener peopl street ncall chang with verv tenac we seen generat genuin success possibl nin transit and genuin failur possibl which make most nexcit time aliv we take decis right now nthat approach challeng with stubborn form gritti nrealist determin optim and everyth within power nto ensur shape path as come pandem ntoward regen futur we decid be nhope beacon human even dark day ahead and decid nthat respons we reduc emiss nbi least percent in next year and take action engag nwith govern corpor to ensur necessari ncome pandem to rebuild world want right these nthing possibl so let s go back nto bore meet room i m look note nfrom christiana and look took back to transform nexperi life one mani thing i learn monk is bright mind joy heart nis path goal life this stubborn optim nis form appli love it world want creat and way which nwe creat world and choic us choos face moment nwith stubborn optim can fill live nwith mean purpos and put hand non arc histori and bend toward futur nthat choos yes live feel control it feel frighten scari new but let s falter nat crucial transit that come us right let s face stubborn nand determin optim yes see chang nin world right can pain but let s approach love '"
      ]
     },
     "execution_count": 92,
     "metadata": {},
     "output_type": "execute_result"
    }
   ],
   "source": [
    "df['transcript'][1]"
   ]
  },
  {
   "cell_type": "markdown",
   "metadata": {},
   "source": [
    "# Build Document-Term matrix"
   ]
  },
  {
   "cell_type": "code",
   "execution_count": 93,
   "metadata": {},
   "outputs": [
    {
     "data": {
      "text/plain": [
       "<2416x39840 sparse matrix of type '<class 'numpy.float64'>'\n",
       "\twith 1012696 stored elements in Compressed Sparse Row format>"
      ]
     },
     "execution_count": 93,
     "metadata": {},
     "output_type": "execute_result"
    }
   ],
   "source": [
    "vectorizer = TfidfVectorizer(stop_words='english') \n",
    "doc_word = vectorizer.fit_transform(list(df.transcript))\n",
    "doc_word"
   ]
  },
  {
   "cell_type": "code",
   "execution_count": 94,
   "metadata": {},
   "outputs": [
    {
     "data": {
      "text/plain": [
       "(2416, 39840)"
      ]
     },
     "execution_count": 94,
     "metadata": {},
     "output_type": "execute_result"
    }
   ],
   "source": [
    "pd.DataFrame(doc_word.toarray(), columns=vectorizer.get_feature_names()).shape"
   ]
  },
  {
   "cell_type": "code",
   "execution_count": 95,
   "metadata": {},
   "outputs": [],
   "source": [
    "dtm = pd.DataFrame(doc_word.toarray(), index=df['video_id'], columns=vectorizer.get_feature_names())"
   ]
  },
  {
   "cell_type": "markdown",
   "metadata": {},
   "source": [
    "# Topic Modeling"
   ]
  },
  {
   "cell_type": "code",
   "execution_count": 96,
   "metadata": {},
   "outputs": [],
   "source": [
    "def display_topics(model, feature_names, no_top_words, topic_names=None):\n",
    "    for ix, topic in enumerate(model.components_):\n",
    "        if not topic_names or not topic_names[ix]:\n",
    "            print(\"\\nTopic \", ix)\n",
    "        else:\n",
    "            print(\"\\nTopic: '\",topic_names[ix],\"'\")\n",
    "        print(\", \".join([feature_names[i]\n",
    "                        for i in topic.argsort()[:-no_top_words - 1:-1]]))\n"
   ]
  },
  {
   "cell_type": "markdown",
   "metadata": {},
   "source": [
    "### Latent Semantic Analysis (LSA)"
   ]
  },
  {
   "cell_type": "code",
   "execution_count": 100,
   "metadata": {},
   "outputs": [
    {
     "data": {
      "text/plain": [
       "array([0.00691832, 0.00867407, 0.00722984, 0.00638489, 0.00584166,\n",
       "       0.00547615, 0.00517708, 0.0046375 , 0.00452422, 0.00410085])"
      ]
     },
     "execution_count": 100,
     "metadata": {},
     "output_type": "execute_result"
    }
   ],
   "source": [
    "lsa = TruncatedSVD(10)\n",
    "doc_topic = lsa.fit_transform(dtm)\n",
    "lsa.explained_variance_ratio_"
   ]
  },
  {
   "cell_type": "code",
   "execution_count": 101,
   "metadata": {},
   "outputs": [
    {
     "data": {
      "text/html": [
       "<div>\n",
       "<style scoped>\n",
       "    .dataframe tbody tr th:only-of-type {\n",
       "        vertical-align: middle;\n",
       "    }\n",
       "\n",
       "    .dataframe tbody tr th {\n",
       "        vertical-align: top;\n",
       "    }\n",
       "\n",
       "    .dataframe thead th {\n",
       "        text-align: right;\n",
       "    }\n",
       "</style>\n",
       "<table border=\"1\" class=\"dataframe\">\n",
       "  <thead>\n",
       "    <tr style=\"text-align: right;\">\n",
       "      <th></th>\n",
       "      <th>aa</th>\n",
       "      <th>aaa</th>\n",
       "      <th>aaaa</th>\n",
       "      <th>aaaaa</th>\n",
       "      <th>aaaaaa</th>\n",
       "      <th>aaaaaaaargh</th>\n",
       "      <th>aaaaaah</th>\n",
       "      <th>aaaab</th>\n",
       "      <th>aaaah</th>\n",
       "      <th>aaaahhh</th>\n",
       "      <th>...</th>\n",
       "      <th>ān</th>\n",
       "      <th>čapek</th>\n",
       "      <th>ōfunato</th>\n",
       "      <th>ʾan</th>\n",
       "      <th>ʾilla</th>\n",
       "      <th>ʾilāha</th>\n",
       "      <th>อย</th>\n",
       "      <th>อยman</th>\n",
       "      <th>อร</th>\n",
       "      <th>送你葱</th>\n",
       "    </tr>\n",
       "  </thead>\n",
       "  <tbody>\n",
       "    <tr>\n",
       "      <td>component_1</td>\n",
       "      <td>0.000</td>\n",
       "      <td>0.000</td>\n",
       "      <td>0.000</td>\n",
       "      <td>0.0</td>\n",
       "      <td>0.000</td>\n",
       "      <td>0.0</td>\n",
       "      <td>0.0</td>\n",
       "      <td>0.0</td>\n",
       "      <td>0.0</td>\n",
       "      <td>0.0</td>\n",
       "      <td>...</td>\n",
       "      <td>0.0</td>\n",
       "      <td>0.0</td>\n",
       "      <td>0.0</td>\n",
       "      <td>0.0</td>\n",
       "      <td>0.0</td>\n",
       "      <td>0.0</td>\n",
       "      <td>0.000</td>\n",
       "      <td>0.000</td>\n",
       "      <td>0.000</td>\n",
       "      <td>0.0</td>\n",
       "    </tr>\n",
       "    <tr>\n",
       "      <td>component_2</td>\n",
       "      <td>-0.001</td>\n",
       "      <td>0.000</td>\n",
       "      <td>-0.000</td>\n",
       "      <td>-0.0</td>\n",
       "      <td>0.001</td>\n",
       "      <td>-0.0</td>\n",
       "      <td>-0.0</td>\n",
       "      <td>-0.0</td>\n",
       "      <td>-0.0</td>\n",
       "      <td>0.0</td>\n",
       "      <td>...</td>\n",
       "      <td>-0.0</td>\n",
       "      <td>-0.0</td>\n",
       "      <td>0.0</td>\n",
       "      <td>0.0</td>\n",
       "      <td>0.0</td>\n",
       "      <td>0.0</td>\n",
       "      <td>-0.000</td>\n",
       "      <td>-0.000</td>\n",
       "      <td>-0.000</td>\n",
       "      <td>0.0</td>\n",
       "    </tr>\n",
       "    <tr>\n",
       "      <td>component_3</td>\n",
       "      <td>0.001</td>\n",
       "      <td>-0.000</td>\n",
       "      <td>0.002</td>\n",
       "      <td>0.0</td>\n",
       "      <td>0.000</td>\n",
       "      <td>0.0</td>\n",
       "      <td>0.0</td>\n",
       "      <td>0.0</td>\n",
       "      <td>0.0</td>\n",
       "      <td>0.0</td>\n",
       "      <td>...</td>\n",
       "      <td>-0.0</td>\n",
       "      <td>0.0</td>\n",
       "      <td>0.0</td>\n",
       "      <td>-0.0</td>\n",
       "      <td>-0.0</td>\n",
       "      <td>-0.0</td>\n",
       "      <td>0.001</td>\n",
       "      <td>0.001</td>\n",
       "      <td>0.002</td>\n",
       "      <td>-0.0</td>\n",
       "    </tr>\n",
       "    <tr>\n",
       "      <td>component_4</td>\n",
       "      <td>0.001</td>\n",
       "      <td>-0.000</td>\n",
       "      <td>-0.001</td>\n",
       "      <td>-0.0</td>\n",
       "      <td>0.000</td>\n",
       "      <td>-0.0</td>\n",
       "      <td>-0.0</td>\n",
       "      <td>-0.0</td>\n",
       "      <td>-0.0</td>\n",
       "      <td>-0.0</td>\n",
       "      <td>...</td>\n",
       "      <td>-0.0</td>\n",
       "      <td>-0.0</td>\n",
       "      <td>-0.0</td>\n",
       "      <td>0.0</td>\n",
       "      <td>0.0</td>\n",
       "      <td>0.0</td>\n",
       "      <td>-0.000</td>\n",
       "      <td>-0.000</td>\n",
       "      <td>-0.001</td>\n",
       "      <td>-0.0</td>\n",
       "    </tr>\n",
       "    <tr>\n",
       "      <td>component_5</td>\n",
       "      <td>-0.001</td>\n",
       "      <td>0.002</td>\n",
       "      <td>-0.000</td>\n",
       "      <td>0.0</td>\n",
       "      <td>-0.000</td>\n",
       "      <td>0.0</td>\n",
       "      <td>0.0</td>\n",
       "      <td>0.0</td>\n",
       "      <td>0.0</td>\n",
       "      <td>0.0</td>\n",
       "      <td>...</td>\n",
       "      <td>0.0</td>\n",
       "      <td>0.0</td>\n",
       "      <td>0.0</td>\n",
       "      <td>-0.0</td>\n",
       "      <td>-0.0</td>\n",
       "      <td>-0.0</td>\n",
       "      <td>0.001</td>\n",
       "      <td>0.001</td>\n",
       "      <td>0.001</td>\n",
       "      <td>0.0</td>\n",
       "    </tr>\n",
       "    <tr>\n",
       "      <td>component_6</td>\n",
       "      <td>-0.000</td>\n",
       "      <td>0.000</td>\n",
       "      <td>0.001</td>\n",
       "      <td>0.0</td>\n",
       "      <td>-0.000</td>\n",
       "      <td>0.0</td>\n",
       "      <td>0.0</td>\n",
       "      <td>-0.0</td>\n",
       "      <td>-0.0</td>\n",
       "      <td>0.0</td>\n",
       "      <td>...</td>\n",
       "      <td>-0.0</td>\n",
       "      <td>-0.0</td>\n",
       "      <td>0.0</td>\n",
       "      <td>-0.0</td>\n",
       "      <td>-0.0</td>\n",
       "      <td>-0.0</td>\n",
       "      <td>0.000</td>\n",
       "      <td>0.000</td>\n",
       "      <td>0.001</td>\n",
       "      <td>0.0</td>\n",
       "    </tr>\n",
       "    <tr>\n",
       "      <td>component_7</td>\n",
       "      <td>-0.001</td>\n",
       "      <td>0.000</td>\n",
       "      <td>0.002</td>\n",
       "      <td>-0.0</td>\n",
       "      <td>-0.000</td>\n",
       "      <td>-0.0</td>\n",
       "      <td>0.0</td>\n",
       "      <td>-0.0</td>\n",
       "      <td>-0.0</td>\n",
       "      <td>-0.0</td>\n",
       "      <td>...</td>\n",
       "      <td>0.0</td>\n",
       "      <td>0.0</td>\n",
       "      <td>-0.0</td>\n",
       "      <td>-0.0</td>\n",
       "      <td>-0.0</td>\n",
       "      <td>-0.0</td>\n",
       "      <td>-0.000</td>\n",
       "      <td>-0.000</td>\n",
       "      <td>-0.000</td>\n",
       "      <td>0.0</td>\n",
       "    </tr>\n",
       "    <tr>\n",
       "      <td>component_8</td>\n",
       "      <td>0.000</td>\n",
       "      <td>-0.000</td>\n",
       "      <td>-0.000</td>\n",
       "      <td>0.0</td>\n",
       "      <td>-0.001</td>\n",
       "      <td>0.0</td>\n",
       "      <td>0.0</td>\n",
       "      <td>0.0</td>\n",
       "      <td>0.0</td>\n",
       "      <td>0.0</td>\n",
       "      <td>...</td>\n",
       "      <td>0.0</td>\n",
       "      <td>0.0</td>\n",
       "      <td>0.0</td>\n",
       "      <td>-0.0</td>\n",
       "      <td>-0.0</td>\n",
       "      <td>-0.0</td>\n",
       "      <td>0.000</td>\n",
       "      <td>0.000</td>\n",
       "      <td>0.001</td>\n",
       "      <td>0.0</td>\n",
       "    </tr>\n",
       "    <tr>\n",
       "      <td>component_9</td>\n",
       "      <td>-0.001</td>\n",
       "      <td>-0.001</td>\n",
       "      <td>-0.000</td>\n",
       "      <td>-0.0</td>\n",
       "      <td>0.001</td>\n",
       "      <td>-0.0</td>\n",
       "      <td>-0.0</td>\n",
       "      <td>-0.0</td>\n",
       "      <td>0.0</td>\n",
       "      <td>0.0</td>\n",
       "      <td>...</td>\n",
       "      <td>0.0</td>\n",
       "      <td>0.0</td>\n",
       "      <td>0.0</td>\n",
       "      <td>0.0</td>\n",
       "      <td>0.0</td>\n",
       "      <td>0.0</td>\n",
       "      <td>0.000</td>\n",
       "      <td>0.000</td>\n",
       "      <td>0.000</td>\n",
       "      <td>-0.0</td>\n",
       "    </tr>\n",
       "    <tr>\n",
       "      <td>component_10</td>\n",
       "      <td>0.000</td>\n",
       "      <td>-0.000</td>\n",
       "      <td>-0.001</td>\n",
       "      <td>0.0</td>\n",
       "      <td>-0.001</td>\n",
       "      <td>0.0</td>\n",
       "      <td>0.0</td>\n",
       "      <td>-0.0</td>\n",
       "      <td>0.0</td>\n",
       "      <td>0.0</td>\n",
       "      <td>...</td>\n",
       "      <td>-0.0</td>\n",
       "      <td>-0.0</td>\n",
       "      <td>0.0</td>\n",
       "      <td>-0.0</td>\n",
       "      <td>-0.0</td>\n",
       "      <td>-0.0</td>\n",
       "      <td>0.000</td>\n",
       "      <td>0.000</td>\n",
       "      <td>0.000</td>\n",
       "      <td>0.0</td>\n",
       "    </tr>\n",
       "  </tbody>\n",
       "</table>\n",
       "<p>10 rows × 39840 columns</p>\n",
       "</div>"
      ],
      "text/plain": [
       "                 aa    aaa   aaaa  aaaaa  aaaaaa  aaaaaaaargh  aaaaaah  aaaab  \\\n",
       "component_1   0.000  0.000  0.000    0.0   0.000          0.0      0.0    0.0   \n",
       "component_2  -0.001  0.000 -0.000   -0.0   0.001         -0.0     -0.0   -0.0   \n",
       "component_3   0.001 -0.000  0.002    0.0   0.000          0.0      0.0    0.0   \n",
       "component_4   0.001 -0.000 -0.001   -0.0   0.000         -0.0     -0.0   -0.0   \n",
       "component_5  -0.001  0.002 -0.000    0.0  -0.000          0.0      0.0    0.0   \n",
       "component_6  -0.000  0.000  0.001    0.0  -0.000          0.0      0.0   -0.0   \n",
       "component_7  -0.001  0.000  0.002   -0.0  -0.000         -0.0      0.0   -0.0   \n",
       "component_8   0.000 -0.000 -0.000    0.0  -0.001          0.0      0.0    0.0   \n",
       "component_9  -0.001 -0.001 -0.000   -0.0   0.001         -0.0     -0.0   -0.0   \n",
       "component_10  0.000 -0.000 -0.001    0.0  -0.001          0.0      0.0   -0.0   \n",
       "\n",
       "              aaaah  aaaahhh  ...   ān  čapek  ōfunato  ʾan  ʾilla  ʾilāha  \\\n",
       "component_1     0.0      0.0  ...  0.0    0.0      0.0  0.0    0.0     0.0   \n",
       "component_2    -0.0      0.0  ... -0.0   -0.0      0.0  0.0    0.0     0.0   \n",
       "component_3     0.0      0.0  ... -0.0    0.0      0.0 -0.0   -0.0    -0.0   \n",
       "component_4    -0.0     -0.0  ... -0.0   -0.0     -0.0  0.0    0.0     0.0   \n",
       "component_5     0.0      0.0  ...  0.0    0.0      0.0 -0.0   -0.0    -0.0   \n",
       "component_6    -0.0      0.0  ... -0.0   -0.0      0.0 -0.0   -0.0    -0.0   \n",
       "component_7    -0.0     -0.0  ...  0.0    0.0     -0.0 -0.0   -0.0    -0.0   \n",
       "component_8     0.0      0.0  ...  0.0    0.0      0.0 -0.0   -0.0    -0.0   \n",
       "component_9     0.0      0.0  ...  0.0    0.0      0.0  0.0    0.0     0.0   \n",
       "component_10    0.0      0.0  ... -0.0   -0.0      0.0 -0.0   -0.0    -0.0   \n",
       "\n",
       "                 อย  อยman     อร  送你葱  \n",
       "component_1   0.000  0.000  0.000  0.0  \n",
       "component_2  -0.000 -0.000 -0.000  0.0  \n",
       "component_3   0.001  0.001  0.002 -0.0  \n",
       "component_4  -0.000 -0.000 -0.001 -0.0  \n",
       "component_5   0.001  0.001  0.001  0.0  \n",
       "component_6   0.000  0.000  0.001  0.0  \n",
       "component_7  -0.000 -0.000 -0.000  0.0  \n",
       "component_8   0.000  0.000  0.001  0.0  \n",
       "component_9   0.000  0.000  0.000 -0.0  \n",
       "component_10  0.000  0.000  0.000  0.0  \n",
       "\n",
       "[10 rows x 39840 columns]"
      ]
     },
     "execution_count": 101,
     "metadata": {},
     "output_type": "execute_result"
    }
   ],
   "source": [
    "topic_word = pd.DataFrame(lsa.components_.round(3),\n",
    "             index = [\"component_1\",\"component_2\", \"component_3\",\"component_4\", \"component_5\",\n",
    "                     \"component_6\",\"component_7\", \"component_8\",\"component_9\", \"component_10\"],\n",
    "             columns = vectorizer.get_feature_names())\n",
    "topic_word"
   ]
  },
  {
   "cell_type": "code",
   "execution_count": 102,
   "metadata": {},
   "outputs": [
    {
     "name": "stdout",
     "output_type": "stream",
     "text": [
      "\n",
      "Topic  0\n",
      "peopl, nto, like, nand, nof, nthat, think, thing, know, time, laughter, year, work, want, make\n",
      "\n",
      "Topic  1\n",
      "women, girl, men, school, children, said, famili, woman, parent, kid, mother, educ, peopl, young, nand\n",
      "\n",
      "Topic  2\n",
      "music, laughter, like, brain, thing, play, love, know, song, video, feel, robot, said, sound, realli\n",
      "\n",
      "Topic  3\n",
      "cell, brain, cancer, patient, diseas, nto, women, drug, nthat, nand, health, bodi, doctor, nof, medic\n",
      "\n",
      "Topic  4\n",
      "peopl, data, patient, think, inform, health, actual, govern, drug, thing, cancer, compani, know, diseas, countri\n",
      "\n",
      "Topic  5\n",
      "women, music, cell, water, ocean, girl, men, cancer, fish, planet, diseas, year, children, patient, anim\n",
      "\n",
      "Topic  6\n",
      "music, patient, health, applaus, nof, nto, govern, countri, guitar, sound, technolog, play, drug, compani, song\n",
      "\n",
      "Topic  7\n",
      "women, robot, men, girl, comput, woman, ai, gender, machin, sex, femal, data, technolog, sexual, imag\n",
      "\n",
      "Topic  8\n",
      "school, robot, design, citi, kid, build, student, children, educ, teacher, girl, learn, communiti, materi, parent\n",
      "\n",
      "Topic  9\n",
      "citi, cell, design, build, peopl, space, art, architectur, imag, street, artist, cancer, paint, stori, wall\n"
     ]
    }
   ],
   "source": [
    "display_topics(lsa, vectorizer.get_feature_names(), 15)"
   ]
  },
  {
   "cell_type": "code",
   "execution_count": 62,
   "metadata": {},
   "outputs": [
    {
     "data": {
      "text/plain": [
       "array([[ 9.68620709e-05,  1.03763392e-04,  7.48935844e-05, ...,\n",
       "         2.98614931e-05,  5.97229861e-05,  1.11542964e-05],\n",
       "       [ 1.88035532e-05,  1.64924212e-04,  4.20325867e-03, ...,\n",
       "         6.46077822e-04,  1.29215564e-03,  2.59712183e-05],\n",
       "       [ 1.10812732e-03, -5.44983553e-04, -1.47105038e-04, ...,\n",
       "         1.22011256e-04,  2.44022511e-04, -8.35359701e-05],\n",
       "       [ 3.75091143e-04,  5.80494082e-05,  3.32403708e-04, ...,\n",
       "         1.41503516e-04,  2.83007031e-04, -1.28096529e-04],\n",
       "       [ 2.62605934e-04, -1.35827142e-03,  7.39542845e-04, ...,\n",
       "        -7.08270320e-04, -1.41654064e-03, -2.02189834e-04]])"
      ]
     },
     "execution_count": 62,
     "metadata": {},
     "output_type": "execute_result"
    }
   ],
   "source": [
    "lsa.components_"
   ]
  },
  {
   "cell_type": "code",
   "execution_count": 63,
   "metadata": {},
   "outputs": [
    {
     "data": {
      "text/html": [
       "<div>\n",
       "<style scoped>\n",
       "    .dataframe tbody tr th:only-of-type {\n",
       "        vertical-align: middle;\n",
       "    }\n",
       "\n",
       "    .dataframe tbody tr th {\n",
       "        vertical-align: top;\n",
       "    }\n",
       "\n",
       "    .dataframe thead th {\n",
       "        text-align: right;\n",
       "    }\n",
       "</style>\n",
       "<table border=\"1\" class=\"dataframe\">\n",
       "  <thead>\n",
       "    <tr style=\"text-align: right;\">\n",
       "      <th></th>\n",
       "      <th>component_1</th>\n",
       "      <th>component_2</th>\n",
       "      <th>component_3</th>\n",
       "      <th>component_4</th>\n",
       "      <th>component_5</th>\n",
       "    </tr>\n",
       "    <tr>\n",
       "      <th>video_id</th>\n",
       "      <th></th>\n",
       "      <th></th>\n",
       "      <th></th>\n",
       "      <th></th>\n",
       "      <th></th>\n",
       "    </tr>\n",
       "  </thead>\n",
       "  <tbody>\n",
       "    <tr>\n",
       "      <td>YgAuFqEs6yk</td>\n",
       "      <td>0.890676</td>\n",
       "      <td>0.042962</td>\n",
       "      <td>-0.056709</td>\n",
       "      <td>0.004102</td>\n",
       "      <td>-0.062049</td>\n",
       "    </tr>\n",
       "    <tr>\n",
       "      <td>bNmRr-BYnxA</td>\n",
       "      <td>0.883629</td>\n",
       "      <td>-0.040627</td>\n",
       "      <td>-0.010975</td>\n",
       "      <td>-0.019726</td>\n",
       "      <td>0.053228</td>\n",
       "    </tr>\n",
       "    <tr>\n",
       "      <td>FVUkKKc3Vvk</td>\n",
       "      <td>0.885644</td>\n",
       "      <td>-0.025310</td>\n",
       "      <td>-0.068833</td>\n",
       "      <td>0.007190</td>\n",
       "      <td>0.038097</td>\n",
       "    </tr>\n",
       "    <tr>\n",
       "      <td>8bj0GR34XWc</td>\n",
       "      <td>0.848307</td>\n",
       "      <td>-0.024130</td>\n",
       "      <td>0.027906</td>\n",
       "      <td>0.039088</td>\n",
       "      <td>0.000483</td>\n",
       "    </tr>\n",
       "    <tr>\n",
       "      <td>eaCrsBtiYA4</td>\n",
       "      <td>0.852875</td>\n",
       "      <td>-0.035804</td>\n",
       "      <td>-0.060799</td>\n",
       "      <td>-0.018492</td>\n",
       "      <td>0.026517</td>\n",
       "    </tr>\n",
       "    <tr>\n",
       "      <td>...</td>\n",
       "      <td>...</td>\n",
       "      <td>...</td>\n",
       "      <td>...</td>\n",
       "      <td>...</td>\n",
       "      <td>...</td>\n",
       "    </tr>\n",
       "    <tr>\n",
       "      <td>HUM2rCIUdeI</td>\n",
       "      <td>0.838504</td>\n",
       "      <td>0.006174</td>\n",
       "      <td>-0.023050</td>\n",
       "      <td>-0.043234</td>\n",
       "      <td>-0.045791</td>\n",
       "    </tr>\n",
       "    <tr>\n",
       "      <td>C_SBGTJgBGo</td>\n",
       "      <td>0.665815</td>\n",
       "      <td>0.252792</td>\n",
       "      <td>-0.011495</td>\n",
       "      <td>0.026302</td>\n",
       "      <td>0.079951</td>\n",
       "    </tr>\n",
       "    <tr>\n",
       "      <td>MLU7qcMYKO8</td>\n",
       "      <td>0.682086</td>\n",
       "      <td>0.002008</td>\n",
       "      <td>0.119328</td>\n",
       "      <td>-0.127289</td>\n",
       "      <td>0.008149</td>\n",
       "    </tr>\n",
       "    <tr>\n",
       "      <td>yyemG7V5ynQ</td>\n",
       "      <td>0.787745</td>\n",
       "      <td>0.005806</td>\n",
       "      <td>-0.005591</td>\n",
       "      <td>-0.023757</td>\n",
       "      <td>-0.052328</td>\n",
       "    </tr>\n",
       "    <tr>\n",
       "      <td>zDcaoTVy4fA</td>\n",
       "      <td>0.797191</td>\n",
       "      <td>0.006368</td>\n",
       "      <td>0.030329</td>\n",
       "      <td>-0.021538</td>\n",
       "      <td>-0.056182</td>\n",
       "    </tr>\n",
       "  </tbody>\n",
       "</table>\n",
       "<p>2416 rows × 5 columns</p>\n",
       "</div>"
      ],
      "text/plain": [
       "             component_1  component_2  component_3  component_4  component_5\n",
       "video_id                                                                    \n",
       "YgAuFqEs6yk     0.890676     0.042962    -0.056709     0.004102    -0.062049\n",
       "bNmRr-BYnxA     0.883629    -0.040627    -0.010975    -0.019726     0.053228\n",
       "FVUkKKc3Vvk     0.885644    -0.025310    -0.068833     0.007190     0.038097\n",
       "8bj0GR34XWc     0.848307    -0.024130     0.027906     0.039088     0.000483\n",
       "eaCrsBtiYA4     0.852875    -0.035804    -0.060799    -0.018492     0.026517\n",
       "...                  ...          ...          ...          ...          ...\n",
       "HUM2rCIUdeI     0.838504     0.006174    -0.023050    -0.043234    -0.045791\n",
       "C_SBGTJgBGo     0.665815     0.252792    -0.011495     0.026302     0.079951\n",
       "MLU7qcMYKO8     0.682086     0.002008     0.119328    -0.127289     0.008149\n",
       "yyemG7V5ynQ     0.787745     0.005806    -0.005591    -0.023757    -0.052328\n",
       "zDcaoTVy4fA     0.797191     0.006368     0.030329    -0.021538    -0.056182\n",
       "\n",
       "[2416 rows x 5 columns]"
      ]
     },
     "execution_count": 63,
     "metadata": {},
     "output_type": "execute_result"
    }
   ],
   "source": [
    "doc_topic_lsa = pd.DataFrame(doc_topic,\n",
    "                             index=df['video_id'],\n",
    "                             columns = [\"component_1\",\"component_2\", \"component_3\",\"component_4\", \"component_5\"])\n",
    "doc_topic_lsa"
   ]
  },
  {
   "cell_type": "code",
   "execution_count": 64,
   "metadata": {},
   "outputs": [
    {
     "data": {
      "text/plain": [
       "array([[1.        , 0.98557882, 0.98916038, 0.99057338, 0.98948304,\n",
       "        0.9254981 ],\n",
       "       [0.98557882, 1.        , 0.99472814, 0.99785056, 0.99538184,\n",
       "        0.94692381],\n",
       "       [0.98916038, 0.99472814, 1.        , 0.99177268, 0.99965085,\n",
       "        0.96728182],\n",
       "       [0.99057338, 0.99785056, 0.99177268, 1.        , 0.99180318,\n",
       "        0.93060307],\n",
       "       [0.98948304, 0.99538184, 0.99965085, 0.99180318, 1.        ,\n",
       "        0.96603434],\n",
       "       [0.9254981 , 0.94692381, 0.96728182, 0.93060307, 0.96603434,\n",
       "        1.        ]])"
      ]
     },
     "execution_count": 64,
     "metadata": {},
     "output_type": "execute_result"
    }
   ],
   "source": [
    "cosine_similarity((doc_topic_lsa.values[0], \n",
    "                   doc_topic_lsa.values[1], \n",
    "                   doc_topic_lsa.values[3],  \n",
    "                   doc_topic_lsa.values[4], \n",
    "                   doc_topic_lsa.values[5], \n",
    "                   doc_topic_lsa.values[6]))"
   ]
  },
  {
   "cell_type": "code",
   "execution_count": 109,
   "metadata": {},
   "outputs": [],
   "source": [
    "#cosine_similarity((doc_topic_lsa.values[0], doc_topic_lsa.values[6]))"
   ]
  },
  {
   "cell_type": "markdown",
   "metadata": {},
   "source": [
    "### NMF (Non-Negative Matrix Factorization)"
   ]
  },
  {
   "cell_type": "code",
   "execution_count": 65,
   "metadata": {},
   "outputs": [],
   "source": [
    "nmf_model = NMF(5)\n",
    "doc_topic = nmf_model.fit_transform(doc_word)"
   ]
  },
  {
   "cell_type": "code",
   "execution_count": 66,
   "metadata": {},
   "outputs": [
    {
     "data": {
      "text/html": [
       "<div>\n",
       "<style scoped>\n",
       "    .dataframe tbody tr th:only-of-type {\n",
       "        vertical-align: middle;\n",
       "    }\n",
       "\n",
       "    .dataframe tbody tr th {\n",
       "        vertical-align: top;\n",
       "    }\n",
       "\n",
       "    .dataframe thead th {\n",
       "        text-align: right;\n",
       "    }\n",
       "</style>\n",
       "<table border=\"1\" class=\"dataframe\">\n",
       "  <thead>\n",
       "    <tr style=\"text-align: right;\">\n",
       "      <th></th>\n",
       "      <th>aa</th>\n",
       "      <th>aaa</th>\n",
       "      <th>aaaa</th>\n",
       "      <th>aaaaa</th>\n",
       "      <th>aaaaaa</th>\n",
       "      <th>aaaaaaaargh</th>\n",
       "      <th>aaaaaah</th>\n",
       "      <th>aaaab</th>\n",
       "      <th>aaaah</th>\n",
       "      <th>aaaahhh</th>\n",
       "      <th>...</th>\n",
       "      <th>ān</th>\n",
       "      <th>čapek</th>\n",
       "      <th>ōfunato</th>\n",
       "      <th>ʾan</th>\n",
       "      <th>ʾilla</th>\n",
       "      <th>ʾilāha</th>\n",
       "      <th>อย</th>\n",
       "      <th>อยman</th>\n",
       "      <th>อร</th>\n",
       "      <th>送你葱</th>\n",
       "    </tr>\n",
       "  </thead>\n",
       "  <tbody>\n",
       "    <tr>\n",
       "      <td>component_1</td>\n",
       "      <td>0.000</td>\n",
       "      <td>0.001</td>\n",
       "      <td>0.000</td>\n",
       "      <td>0.0</td>\n",
       "      <td>0.000</td>\n",
       "      <td>0.0</td>\n",
       "      <td>0.0</td>\n",
       "      <td>0.0</td>\n",
       "      <td>0.0</td>\n",
       "      <td>0.0</td>\n",
       "      <td>...</td>\n",
       "      <td>0.0</td>\n",
       "      <td>0.0</td>\n",
       "      <td>0.0</td>\n",
       "      <td>0.000</td>\n",
       "      <td>0.000</td>\n",
       "      <td>0.000</td>\n",
       "      <td>0.0</td>\n",
       "      <td>0.0</td>\n",
       "      <td>0.000</td>\n",
       "      <td>0.0</td>\n",
       "    </tr>\n",
       "    <tr>\n",
       "      <td>component_2</td>\n",
       "      <td>0.000</td>\n",
       "      <td>0.000</td>\n",
       "      <td>0.007</td>\n",
       "      <td>0.0</td>\n",
       "      <td>0.000</td>\n",
       "      <td>0.0</td>\n",
       "      <td>0.0</td>\n",
       "      <td>0.0</td>\n",
       "      <td>0.0</td>\n",
       "      <td>0.0</td>\n",
       "      <td>...</td>\n",
       "      <td>0.0</td>\n",
       "      <td>0.0</td>\n",
       "      <td>0.0</td>\n",
       "      <td>0.000</td>\n",
       "      <td>0.000</td>\n",
       "      <td>0.000</td>\n",
       "      <td>0.0</td>\n",
       "      <td>0.0</td>\n",
       "      <td>0.001</td>\n",
       "      <td>0.0</td>\n",
       "    </tr>\n",
       "    <tr>\n",
       "      <td>component_3</td>\n",
       "      <td>0.001</td>\n",
       "      <td>0.000</td>\n",
       "      <td>0.000</td>\n",
       "      <td>0.0</td>\n",
       "      <td>0.000</td>\n",
       "      <td>0.0</td>\n",
       "      <td>0.0</td>\n",
       "      <td>0.0</td>\n",
       "      <td>0.0</td>\n",
       "      <td>0.0</td>\n",
       "      <td>...</td>\n",
       "      <td>0.0</td>\n",
       "      <td>0.0</td>\n",
       "      <td>0.0</td>\n",
       "      <td>0.000</td>\n",
       "      <td>0.000</td>\n",
       "      <td>0.000</td>\n",
       "      <td>0.0</td>\n",
       "      <td>0.0</td>\n",
       "      <td>0.000</td>\n",
       "      <td>0.0</td>\n",
       "    </tr>\n",
       "    <tr>\n",
       "      <td>component_4</td>\n",
       "      <td>0.001</td>\n",
       "      <td>0.000</td>\n",
       "      <td>0.000</td>\n",
       "      <td>0.0</td>\n",
       "      <td>0.000</td>\n",
       "      <td>0.0</td>\n",
       "      <td>0.0</td>\n",
       "      <td>0.0</td>\n",
       "      <td>0.0</td>\n",
       "      <td>0.0</td>\n",
       "      <td>...</td>\n",
       "      <td>0.0</td>\n",
       "      <td>0.0</td>\n",
       "      <td>0.0</td>\n",
       "      <td>0.000</td>\n",
       "      <td>0.000</td>\n",
       "      <td>0.000</td>\n",
       "      <td>0.0</td>\n",
       "      <td>0.0</td>\n",
       "      <td>0.000</td>\n",
       "      <td>0.0</td>\n",
       "    </tr>\n",
       "    <tr>\n",
       "      <td>component_5</td>\n",
       "      <td>0.000</td>\n",
       "      <td>0.000</td>\n",
       "      <td>0.000</td>\n",
       "      <td>0.0</td>\n",
       "      <td>0.001</td>\n",
       "      <td>0.0</td>\n",
       "      <td>0.0</td>\n",
       "      <td>0.0</td>\n",
       "      <td>0.0</td>\n",
       "      <td>0.0</td>\n",
       "      <td>...</td>\n",
       "      <td>0.0</td>\n",
       "      <td>0.0</td>\n",
       "      <td>0.0</td>\n",
       "      <td>0.001</td>\n",
       "      <td>0.001</td>\n",
       "      <td>0.001</td>\n",
       "      <td>0.0</td>\n",
       "      <td>0.0</td>\n",
       "      <td>0.000</td>\n",
       "      <td>0.0</td>\n",
       "    </tr>\n",
       "  </tbody>\n",
       "</table>\n",
       "<p>5 rows × 39840 columns</p>\n",
       "</div>"
      ],
      "text/plain": [
       "                aa    aaa   aaaa  aaaaa  aaaaaa  aaaaaaaargh  aaaaaah  aaaab  \\\n",
       "component_1  0.000  0.001  0.000    0.0   0.000          0.0      0.0    0.0   \n",
       "component_2  0.000  0.000  0.007    0.0   0.000          0.0      0.0    0.0   \n",
       "component_3  0.001  0.000  0.000    0.0   0.000          0.0      0.0    0.0   \n",
       "component_4  0.001  0.000  0.000    0.0   0.000          0.0      0.0    0.0   \n",
       "component_5  0.000  0.000  0.000    0.0   0.001          0.0      0.0    0.0   \n",
       "\n",
       "             aaaah  aaaahhh  ...   ān  čapek  ōfunato    ʾan  ʾilla  ʾilāha  \\\n",
       "component_1    0.0      0.0  ...  0.0    0.0      0.0  0.000  0.000   0.000   \n",
       "component_2    0.0      0.0  ...  0.0    0.0      0.0  0.000  0.000   0.000   \n",
       "component_3    0.0      0.0  ...  0.0    0.0      0.0  0.000  0.000   0.000   \n",
       "component_4    0.0      0.0  ...  0.0    0.0      0.0  0.000  0.000   0.000   \n",
       "component_5    0.0      0.0  ...  0.0    0.0      0.0  0.001  0.001   0.001   \n",
       "\n",
       "              อย  อยman     อร  送你葱  \n",
       "component_1  0.0    0.0  0.000  0.0  \n",
       "component_2  0.0    0.0  0.001  0.0  \n",
       "component_3  0.0    0.0  0.000  0.0  \n",
       "component_4  0.0    0.0  0.000  0.0  \n",
       "component_5  0.0    0.0  0.000  0.0  \n",
       "\n",
       "[5 rows x 39840 columns]"
      ]
     },
     "execution_count": 66,
     "metadata": {},
     "output_type": "execute_result"
    }
   ],
   "source": [
    "topic_word = pd.DataFrame(nmf_model.components_.round(3),\n",
    "             index = [\"component_1\",\"component_2\", \"component_3\",\"component_4\", \"component_5\"],\n",
    "             columns = vectorizer.get_feature_names())\n",
    "topic_word"
   ]
  },
  {
   "cell_type": "code",
   "execution_count": 67,
   "metadata": {},
   "outputs": [
    {
     "name": "stdout",
     "output_type": "stream",
     "text": [
      "\n",
      "Topic  0\n",
      "text, peopl, like, thing, think, know, laughter, want, time, realli, ve, say, make, year\n",
      "\n",
      "Topic  1\n",
      "music, text, applaus, guitar, play, song, sound, cheer, sing, cello, musician, end, compos, nois\n",
      "\n",
      "Topic  2\n",
      "text, water, planet, ocean, earth, nof, fish, climat, nto, energi, carbon, mar, solar, nand\n",
      "\n",
      "Topic  3\n",
      "text, cell, cancer, brain, patient, diseas, drug, dna, gene, protein, blood, bodi, health, tumor\n",
      "\n",
      "Topic  4\n",
      "text, nto, nand, nthat, nof, women, nin, nthe, nfor, na, peopl, nis, communiti, nwith\n"
     ]
    }
   ],
   "source": [
    "display_topics(nmf_model, vectorizer.get_feature_names(), 14)"
   ]
  },
  {
   "cell_type": "code",
   "execution_count": 68,
   "metadata": {},
   "outputs": [
    {
     "data": {
      "text/html": [
       "<div>\n",
       "<style scoped>\n",
       "    .dataframe tbody tr th:only-of-type {\n",
       "        vertical-align: middle;\n",
       "    }\n",
       "\n",
       "    .dataframe tbody tr th {\n",
       "        vertical-align: top;\n",
       "    }\n",
       "\n",
       "    .dataframe thead th {\n",
       "        text-align: right;\n",
       "    }\n",
       "</style>\n",
       "<table border=\"1\" class=\"dataframe\">\n",
       "  <thead>\n",
       "    <tr style=\"text-align: right;\">\n",
       "      <th></th>\n",
       "      <th>component_1</th>\n",
       "      <th>component_2</th>\n",
       "      <th>component_3</th>\n",
       "      <th>component_4</th>\n",
       "      <th>component_5</th>\n",
       "    </tr>\n",
       "    <tr>\n",
       "      <th>video_id</th>\n",
       "      <th></th>\n",
       "      <th></th>\n",
       "      <th></th>\n",
       "      <th></th>\n",
       "      <th></th>\n",
       "    </tr>\n",
       "  </thead>\n",
       "  <tbody>\n",
       "    <tr>\n",
       "      <td>YgAuFqEs6yk</td>\n",
       "      <td>0.14555</td>\n",
       "      <td>0.00648</td>\n",
       "      <td>0.00000</td>\n",
       "      <td>0.00000</td>\n",
       "      <td>0.01010</td>\n",
       "    </tr>\n",
       "    <tr>\n",
       "      <td>bNmRr-BYnxA</td>\n",
       "      <td>0.11341</td>\n",
       "      <td>0.00000</td>\n",
       "      <td>0.05289</td>\n",
       "      <td>0.00312</td>\n",
       "      <td>0.03076</td>\n",
       "    </tr>\n",
       "    <tr>\n",
       "      <td>FVUkKKc3Vvk</td>\n",
       "      <td>0.12999</td>\n",
       "      <td>0.00000</td>\n",
       "      <td>0.00000</td>\n",
       "      <td>0.00000</td>\n",
       "      <td>0.04142</td>\n",
       "    </tr>\n",
       "    <tr>\n",
       "      <td>8bj0GR34XWc</td>\n",
       "      <td>0.11079</td>\n",
       "      <td>0.00000</td>\n",
       "      <td>0.01119</td>\n",
       "      <td>0.07735</td>\n",
       "      <td>0.01531</td>\n",
       "    </tr>\n",
       "    <tr>\n",
       "      <td>eaCrsBtiYA4</td>\n",
       "      <td>0.12552</td>\n",
       "      <td>0.00000</td>\n",
       "      <td>0.00304</td>\n",
       "      <td>0.00000</td>\n",
       "      <td>0.03675</td>\n",
       "    </tr>\n",
       "    <tr>\n",
       "      <td>...</td>\n",
       "      <td>...</td>\n",
       "      <td>...</td>\n",
       "      <td>...</td>\n",
       "      <td>...</td>\n",
       "      <td>...</td>\n",
       "    </tr>\n",
       "    <tr>\n",
       "      <td>HUM2rCIUdeI</td>\n",
       "      <td>0.13222</td>\n",
       "      <td>0.00023</td>\n",
       "      <td>0.01592</td>\n",
       "      <td>0.00000</td>\n",
       "      <td>0.00846</td>\n",
       "    </tr>\n",
       "    <tr>\n",
       "      <td>C_SBGTJgBGo</td>\n",
       "      <td>0.08482</td>\n",
       "      <td>0.17426</td>\n",
       "      <td>0.00000</td>\n",
       "      <td>0.00077</td>\n",
       "      <td>0.00000</td>\n",
       "    </tr>\n",
       "    <tr>\n",
       "      <td>MLU7qcMYKO8</td>\n",
       "      <td>0.03039</td>\n",
       "      <td>0.00000</td>\n",
       "      <td>0.22262</td>\n",
       "      <td>0.00000</td>\n",
       "      <td>0.00000</td>\n",
       "    </tr>\n",
       "    <tr>\n",
       "      <td>yyemG7V5ynQ</td>\n",
       "      <td>0.13147</td>\n",
       "      <td>0.00000</td>\n",
       "      <td>0.00000</td>\n",
       "      <td>0.00328</td>\n",
       "      <td>0.00331</td>\n",
       "    </tr>\n",
       "    <tr>\n",
       "      <td>zDcaoTVy4fA</td>\n",
       "      <td>0.10988</td>\n",
       "      <td>0.00000</td>\n",
       "      <td>0.04777</td>\n",
       "      <td>0.02574</td>\n",
       "      <td>0.00000</td>\n",
       "    </tr>\n",
       "  </tbody>\n",
       "</table>\n",
       "<p>2416 rows × 5 columns</p>\n",
       "</div>"
      ],
      "text/plain": [
       "             component_1  component_2  component_3  component_4  component_5\n",
       "video_id                                                                    \n",
       "YgAuFqEs6yk      0.14555      0.00648      0.00000      0.00000      0.01010\n",
       "bNmRr-BYnxA      0.11341      0.00000      0.05289      0.00312      0.03076\n",
       "FVUkKKc3Vvk      0.12999      0.00000      0.00000      0.00000      0.04142\n",
       "8bj0GR34XWc      0.11079      0.00000      0.01119      0.07735      0.01531\n",
       "eaCrsBtiYA4      0.12552      0.00000      0.00304      0.00000      0.03675\n",
       "...                  ...          ...          ...          ...          ...\n",
       "HUM2rCIUdeI      0.13222      0.00023      0.01592      0.00000      0.00846\n",
       "C_SBGTJgBGo      0.08482      0.17426      0.00000      0.00077      0.00000\n",
       "MLU7qcMYKO8      0.03039      0.00000      0.22262      0.00000      0.00000\n",
       "yyemG7V5ynQ      0.13147      0.00000      0.00000      0.00328      0.00331\n",
       "zDcaoTVy4fA      0.10988      0.00000      0.04777      0.02574      0.00000\n",
       "\n",
       "[2416 rows x 5 columns]"
      ]
     },
     "execution_count": 68,
     "metadata": {},
     "output_type": "execute_result"
    }
   ],
   "source": [
    "doc_topic_nmf = pd.DataFrame(doc_topic.round(5),\n",
    "                             index=df['video_id'],\n",
    "                             columns = [\"component_1\",\"component_2\", \"component_3\",\"component_4\", \"component_5\"])\n",
    "doc_topic_nmf"
   ]
  },
  {
   "cell_type": "code",
   "execution_count": 69,
   "metadata": {},
   "outputs": [
    {
     "data": {
      "text/plain": [
       "array([[1.        , 0.89336073],\n",
       "       [0.89336073, 1.        ]])"
      ]
     },
     "execution_count": 69,
     "metadata": {},
     "output_type": "execute_result"
    }
   ],
   "source": [
    "cosine_similarity((doc_topic_nmf.values[0], doc_topic_nmf.values[1]))"
   ]
  },
  {
   "cell_type": "code",
   "execution_count": 70,
   "metadata": {},
   "outputs": [
    {
     "data": {
      "text/plain": [
       "array([[1.        , 0.31067444],\n",
       "       [0.31067444, 1.        ]])"
      ]
     },
     "execution_count": 70,
     "metadata": {},
     "output_type": "execute_result"
    }
   ],
   "source": [
    "cosine_similarity((doc_topic_nmf.values[0], doc_topic_nmf.values[26]))"
   ]
  },
  {
   "cell_type": "markdown",
   "metadata": {},
   "source": [
    "### LDA"
   ]
  },
  {
   "cell_type": "markdown",
   "metadata": {},
   "source": [
    "Changing vectorizer from TF-IDF"
   ]
  },
  {
   "cell_type": "code",
   "execution_count": 71,
   "metadata": {},
   "outputs": [
    {
     "data": {
      "text/plain": [
       "<2416x39840 sparse matrix of type '<class 'numpy.int64'>'\n",
       "\twith 1017301 stored elements in Compressed Sparse Row format>"
      ]
     },
     "execution_count": 71,
     "metadata": {},
     "output_type": "execute_result"
    }
   ],
   "source": [
    "vectorizer = CountVectorizer(stop_words='english') \n",
    "doc_word = vectorizer.fit_transform(list(df.transcript))\n",
    "doc_word"
   ]
  },
  {
   "cell_type": "code",
   "execution_count": 72,
   "metadata": {},
   "outputs": [
    {
     "data": {
      "text/plain": [
       "(2416, 39840)"
      ]
     },
     "execution_count": 72,
     "metadata": {},
     "output_type": "execute_result"
    }
   ],
   "source": [
    "pd.DataFrame(doc_word.toarray(), columns=vectorizer.get_feature_names()).shape"
   ]
  },
  {
   "cell_type": "code",
   "execution_count": 73,
   "metadata": {},
   "outputs": [],
   "source": [
    "dtm = pd.DataFrame(doc_word.toarray(), index=df['video_id'], columns=vectorizer.get_feature_names())"
   ]
  },
  {
   "cell_type": "code",
   "execution_count": 74,
   "metadata": {},
   "outputs": [],
   "source": [
    "lda = LatentDirichletAllocation(n_components=5)"
   ]
  },
  {
   "cell_type": "code",
   "execution_count": 75,
   "metadata": {},
   "outputs": [],
   "source": [
    "doc_topic = lda.fit_transform(dtm)\n"
   ]
  },
  {
   "cell_type": "code",
   "execution_count": 76,
   "metadata": {},
   "outputs": [
    {
     "data": {
      "text/plain": [
       "<bound method LatentDirichletAllocation.score of LatentDirichletAllocation(batch_size=128, doc_topic_prior=None,\n",
       "                          evaluate_every=-1, learning_decay=0.7,\n",
       "                          learning_method='batch', learning_offset=10.0,\n",
       "                          max_doc_update_iter=100, max_iter=10,\n",
       "                          mean_change_tol=0.001, n_components=5, n_jobs=None,\n",
       "                          perp_tol=0.1, random_state=None,\n",
       "                          topic_word_prior=None, total_samples=1000000.0,\n",
       "                          verbose=0)>"
      ]
     },
     "execution_count": 76,
     "metadata": {},
     "output_type": "execute_result"
    }
   ],
   "source": [
    "lda.score"
   ]
  },
  {
   "cell_type": "code",
   "execution_count": 77,
   "metadata": {},
   "outputs": [
    {
     "data": {
      "text/html": [
       "<div>\n",
       "<style scoped>\n",
       "    .dataframe tbody tr th:only-of-type {\n",
       "        vertical-align: middle;\n",
       "    }\n",
       "\n",
       "    .dataframe tbody tr th {\n",
       "        vertical-align: top;\n",
       "    }\n",
       "\n",
       "    .dataframe thead th {\n",
       "        text-align: right;\n",
       "    }\n",
       "</style>\n",
       "<table border=\"1\" class=\"dataframe\">\n",
       "  <thead>\n",
       "    <tr style=\"text-align: right;\">\n",
       "      <th></th>\n",
       "      <th>aa</th>\n",
       "      <th>aaa</th>\n",
       "      <th>aaaa</th>\n",
       "      <th>aaaaa</th>\n",
       "      <th>aaaaaa</th>\n",
       "      <th>aaaaaaaargh</th>\n",
       "      <th>aaaaaah</th>\n",
       "      <th>aaaab</th>\n",
       "      <th>aaaah</th>\n",
       "      <th>aaaahhh</th>\n",
       "      <th>...</th>\n",
       "      <th>ān</th>\n",
       "      <th>čapek</th>\n",
       "      <th>ōfunato</th>\n",
       "      <th>ʾan</th>\n",
       "      <th>ʾilla</th>\n",
       "      <th>ʾilāha</th>\n",
       "      <th>อย</th>\n",
       "      <th>อยman</th>\n",
       "      <th>อร</th>\n",
       "      <th>送你葱</th>\n",
       "    </tr>\n",
       "  </thead>\n",
       "  <tbody>\n",
       "    <tr>\n",
       "      <td>component_1</td>\n",
       "      <td>0.200</td>\n",
       "      <td>2.361</td>\n",
       "      <td>0.200</td>\n",
       "      <td>0.200</td>\n",
       "      <td>0.2</td>\n",
       "      <td>0.2</td>\n",
       "      <td>0.200</td>\n",
       "      <td>0.2</td>\n",
       "      <td>0.200</td>\n",
       "      <td>0.200</td>\n",
       "      <td>...</td>\n",
       "      <td>0.208</td>\n",
       "      <td>0.200</td>\n",
       "      <td>0.200</td>\n",
       "      <td>0.202</td>\n",
       "      <td>0.202</td>\n",
       "      <td>0.202</td>\n",
       "      <td>0.200</td>\n",
       "      <td>0.200</td>\n",
       "      <td>0.200</td>\n",
       "      <td>0.207</td>\n",
       "    </tr>\n",
       "    <tr>\n",
       "      <td>component_2</td>\n",
       "      <td>0.200</td>\n",
       "      <td>0.200</td>\n",
       "      <td>0.201</td>\n",
       "      <td>0.200</td>\n",
       "      <td>0.2</td>\n",
       "      <td>0.2</td>\n",
       "      <td>0.200</td>\n",
       "      <td>0.2</td>\n",
       "      <td>0.200</td>\n",
       "      <td>0.200</td>\n",
       "      <td>...</td>\n",
       "      <td>0.200</td>\n",
       "      <td>0.200</td>\n",
       "      <td>0.211</td>\n",
       "      <td>0.200</td>\n",
       "      <td>0.200</td>\n",
       "      <td>0.200</td>\n",
       "      <td>0.200</td>\n",
       "      <td>0.200</td>\n",
       "      <td>0.200</td>\n",
       "      <td>0.200</td>\n",
       "    </tr>\n",
       "    <tr>\n",
       "      <td>component_3</td>\n",
       "      <td>0.212</td>\n",
       "      <td>0.203</td>\n",
       "      <td>0.214</td>\n",
       "      <td>0.201</td>\n",
       "      <td>0.2</td>\n",
       "      <td>0.2</td>\n",
       "      <td>1.198</td>\n",
       "      <td>0.2</td>\n",
       "      <td>0.475</td>\n",
       "      <td>0.200</td>\n",
       "      <td>...</td>\n",
       "      <td>0.200</td>\n",
       "      <td>0.336</td>\n",
       "      <td>0.200</td>\n",
       "      <td>0.200</td>\n",
       "      <td>0.200</td>\n",
       "      <td>0.200</td>\n",
       "      <td>0.219</td>\n",
       "      <td>0.219</td>\n",
       "      <td>0.215</td>\n",
       "      <td>0.200</td>\n",
       "    </tr>\n",
       "    <tr>\n",
       "      <td>component_4</td>\n",
       "      <td>0.203</td>\n",
       "      <td>6.504</td>\n",
       "      <td>0.201</td>\n",
       "      <td>0.200</td>\n",
       "      <td>1.2</td>\n",
       "      <td>0.2</td>\n",
       "      <td>0.201</td>\n",
       "      <td>0.2</td>\n",
       "      <td>0.202</td>\n",
       "      <td>0.208</td>\n",
       "      <td>...</td>\n",
       "      <td>0.201</td>\n",
       "      <td>1.059</td>\n",
       "      <td>1.180</td>\n",
       "      <td>1.198</td>\n",
       "      <td>1.198</td>\n",
       "      <td>1.198</td>\n",
       "      <td>0.202</td>\n",
       "      <td>0.202</td>\n",
       "      <td>0.202</td>\n",
       "      <td>0.204</td>\n",
       "    </tr>\n",
       "    <tr>\n",
       "      <td>component_5</td>\n",
       "      <td>10.185</td>\n",
       "      <td>0.732</td>\n",
       "      <td>4.184</td>\n",
       "      <td>2.199</td>\n",
       "      <td>0.2</td>\n",
       "      <td>1.2</td>\n",
       "      <td>0.201</td>\n",
       "      <td>1.2</td>\n",
       "      <td>0.923</td>\n",
       "      <td>1.192</td>\n",
       "      <td>...</td>\n",
       "      <td>1.191</td>\n",
       "      <td>0.204</td>\n",
       "      <td>0.208</td>\n",
       "      <td>0.200</td>\n",
       "      <td>0.200</td>\n",
       "      <td>0.200</td>\n",
       "      <td>1.179</td>\n",
       "      <td>1.179</td>\n",
       "      <td>2.183</td>\n",
       "      <td>1.189</td>\n",
       "    </tr>\n",
       "  </tbody>\n",
       "</table>\n",
       "<p>5 rows × 39840 columns</p>\n",
       "</div>"
      ],
      "text/plain": [
       "                 aa    aaa   aaaa  aaaaa  aaaaaa  aaaaaaaargh  aaaaaah  aaaab  \\\n",
       "component_1   0.200  2.361  0.200  0.200     0.2          0.2    0.200    0.2   \n",
       "component_2   0.200  0.200  0.201  0.200     0.2          0.2    0.200    0.2   \n",
       "component_3   0.212  0.203  0.214  0.201     0.2          0.2    1.198    0.2   \n",
       "component_4   0.203  6.504  0.201  0.200     1.2          0.2    0.201    0.2   \n",
       "component_5  10.185  0.732  4.184  2.199     0.2          1.2    0.201    1.2   \n",
       "\n",
       "             aaaah  aaaahhh  ...     ān  čapek  ōfunato    ʾan  ʾilla  ʾilāha  \\\n",
       "component_1  0.200    0.200  ...  0.208  0.200    0.200  0.202  0.202   0.202   \n",
       "component_2  0.200    0.200  ...  0.200  0.200    0.211  0.200  0.200   0.200   \n",
       "component_3  0.475    0.200  ...  0.200  0.336    0.200  0.200  0.200   0.200   \n",
       "component_4  0.202    0.208  ...  0.201  1.059    1.180  1.198  1.198   1.198   \n",
       "component_5  0.923    1.192  ...  1.191  0.204    0.208  0.200  0.200   0.200   \n",
       "\n",
       "                อย  อยman     อร    送你葱  \n",
       "component_1  0.200  0.200  0.200  0.207  \n",
       "component_2  0.200  0.200  0.200  0.200  \n",
       "component_3  0.219  0.219  0.215  0.200  \n",
       "component_4  0.202  0.202  0.202  0.204  \n",
       "component_5  1.179  1.179  2.183  1.189  \n",
       "\n",
       "[5 rows x 39840 columns]"
      ]
     },
     "execution_count": 77,
     "metadata": {},
     "output_type": "execute_result"
    }
   ],
   "source": [
    "topic_word = pd.DataFrame(lda.components_.round(3),\n",
    "             index = [\"component_1\",\"component_2\", \"component_3\",\"component_4\", \"component_5\"],\n",
    "             columns = vectorizer.get_feature_names())\n",
    "topic_word"
   ]
  },
  {
   "cell_type": "code",
   "execution_count": 78,
   "metadata": {},
   "outputs": [
    {
     "name": "stdout",
     "output_type": "stream",
     "text": [
      "\n",
      "Topic  0\n",
      "text, peopl, nto, nand, nthat, countri, nof, work, think, nin, world, nthe, thing, right, like\n",
      "\n",
      "Topic  1\n",
      "text, citi, build, water, nof, design, space, nto, nand, use, materi, nthat, earth, energi, nin\n",
      "\n",
      "Topic  2\n",
      "text, like, use, brain, nto, make, thing, think, time, nof, realli, cell, nthat, way, work\n",
      "\n",
      "Topic  3\n",
      "text, peopl, like, nto, nand, know, nthat, laughter, time, nof, year, want, say, think, said\n",
      "\n",
      "Topic  4\n",
      "text, like, know, think, peopl, year, thing, look, realli, time, world, actual, ve, make, use\n"
     ]
    }
   ],
   "source": [
    "display_topics(lda, vectorizer.get_feature_names(), 15)"
   ]
  },
  {
   "cell_type": "code",
   "execution_count": 79,
   "metadata": {},
   "outputs": [
    {
     "data": {
      "text/plain": [
       "array([[0.20000031, 0.20000031, 0.20000031, ..., 0.20000702, 0.20000031,\n",
       "        0.20000031],\n",
       "       [0.20054092, 0.20054092, 0.20054092, ..., 0.21819025, 0.20054092,\n",
       "        0.20054092],\n",
       "       [0.20000031, 0.20000031, 0.20000031, ..., 0.20000713, 0.20000031,\n",
       "        0.20000031],\n",
       "       [0.20000031, 0.20000031, 0.20000031, ..., 0.20000714, 0.20000031,\n",
       "        0.20000031],\n",
       "       [0.20025767, 0.20025767, 0.20025767, ..., 0.20737333, 0.20025767,\n",
       "        0.20025767]])"
      ]
     },
     "execution_count": 79,
     "metadata": {},
     "output_type": "execute_result"
    }
   ],
   "source": [
    "lda.components_"
   ]
  },
  {
   "cell_type": "code",
   "execution_count": 80,
   "metadata": {},
   "outputs": [
    {
     "data": {
      "text/html": [
       "<div>\n",
       "<style scoped>\n",
       "    .dataframe tbody tr th:only-of-type {\n",
       "        vertical-align: middle;\n",
       "    }\n",
       "\n",
       "    .dataframe tbody tr th {\n",
       "        vertical-align: top;\n",
       "    }\n",
       "\n",
       "    .dataframe thead th {\n",
       "        text-align: right;\n",
       "    }\n",
       "</style>\n",
       "<table border=\"1\" class=\"dataframe\">\n",
       "  <thead>\n",
       "    <tr style=\"text-align: right;\">\n",
       "      <th></th>\n",
       "      <th>component_1</th>\n",
       "      <th>component_2</th>\n",
       "      <th>component_3</th>\n",
       "      <th>component_4</th>\n",
       "      <th>component_5</th>\n",
       "    </tr>\n",
       "    <tr>\n",
       "      <th>video_id</th>\n",
       "      <th></th>\n",
       "      <th></th>\n",
       "      <th></th>\n",
       "      <th></th>\n",
       "      <th></th>\n",
       "    </tr>\n",
       "  </thead>\n",
       "  <tbody>\n",
       "    <tr>\n",
       "      <td>_5DXs8xxaMU</td>\n",
       "      <td>0.01856</td>\n",
       "      <td>0.92575</td>\n",
       "      <td>0.01856</td>\n",
       "      <td>0.01856</td>\n",
       "      <td>0.01856</td>\n",
       "    </tr>\n",
       "    <tr>\n",
       "      <td>DNrMPF3I_bs</td>\n",
       "      <td>0.01291</td>\n",
       "      <td>0.94838</td>\n",
       "      <td>0.01290</td>\n",
       "      <td>0.01290</td>\n",
       "      <td>0.01290</td>\n",
       "    </tr>\n",
       "    <tr>\n",
       "      <td>TwN8soCzjPM</td>\n",
       "      <td>0.01373</td>\n",
       "      <td>0.94509</td>\n",
       "      <td>0.01373</td>\n",
       "      <td>0.01373</td>\n",
       "      <td>0.01373</td>\n",
       "    </tr>\n",
       "    <tr>\n",
       "      <td>8OMUdYoIJhI</td>\n",
       "      <td>0.01509</td>\n",
       "      <td>0.93965</td>\n",
       "      <td>0.01509</td>\n",
       "      <td>0.01509</td>\n",
       "      <td>0.01509</td>\n",
       "    </tr>\n",
       "    <tr>\n",
       "      <td>xk_MHfOAfRQ</td>\n",
       "      <td>0.01924</td>\n",
       "      <td>0.92306</td>\n",
       "      <td>0.01923</td>\n",
       "      <td>0.01923</td>\n",
       "      <td>0.01923</td>\n",
       "    </tr>\n",
       "    <tr>\n",
       "      <td>...</td>\n",
       "      <td>...</td>\n",
       "      <td>...</td>\n",
       "      <td>...</td>\n",
       "      <td>...</td>\n",
       "      <td>...</td>\n",
       "    </tr>\n",
       "    <tr>\n",
       "      <td>qlH5-G576fQ</td>\n",
       "      <td>0.01129</td>\n",
       "      <td>0.95486</td>\n",
       "      <td>0.01128</td>\n",
       "      <td>0.01128</td>\n",
       "      <td>0.01128</td>\n",
       "    </tr>\n",
       "    <tr>\n",
       "      <td>uLXyFJEbj_s</td>\n",
       "      <td>0.01758</td>\n",
       "      <td>0.92969</td>\n",
       "      <td>0.01758</td>\n",
       "      <td>0.01758</td>\n",
       "      <td>0.01758</td>\n",
       "    </tr>\n",
       "    <tr>\n",
       "      <td>A3riThai7MU</td>\n",
       "      <td>0.02080</td>\n",
       "      <td>0.91681</td>\n",
       "      <td>0.02080</td>\n",
       "      <td>0.02080</td>\n",
       "      <td>0.02080</td>\n",
       "    </tr>\n",
       "    <tr>\n",
       "      <td>CrfnkgwU978</td>\n",
       "      <td>0.02080</td>\n",
       "      <td>0.91683</td>\n",
       "      <td>0.02079</td>\n",
       "      <td>0.02079</td>\n",
       "      <td>0.02079</td>\n",
       "    </tr>\n",
       "    <tr>\n",
       "      <td>AS6cUYyA_qI</td>\n",
       "      <td>0.59164</td>\n",
       "      <td>0.29395</td>\n",
       "      <td>0.03800</td>\n",
       "      <td>0.03800</td>\n",
       "      <td>0.03841</td>\n",
       "    </tr>\n",
       "  </tbody>\n",
       "</table>\n",
       "<p>277 rows × 5 columns</p>\n",
       "</div>"
      ],
      "text/plain": [
       "             component_1  component_2  component_3  component_4  component_5\n",
       "video_id                                                                    \n",
       "_5DXs8xxaMU      0.01856      0.92575      0.01856      0.01856      0.01856\n",
       "DNrMPF3I_bs      0.01291      0.94838      0.01290      0.01290      0.01290\n",
       "TwN8soCzjPM      0.01373      0.94509      0.01373      0.01373      0.01373\n",
       "8OMUdYoIJhI      0.01509      0.93965      0.01509      0.01509      0.01509\n",
       "xk_MHfOAfRQ      0.01924      0.92306      0.01923      0.01923      0.01923\n",
       "...                  ...          ...          ...          ...          ...\n",
       "qlH5-G576fQ      0.01129      0.95486      0.01128      0.01128      0.01128\n",
       "uLXyFJEbj_s      0.01758      0.92969      0.01758      0.01758      0.01758\n",
       "A3riThai7MU      0.02080      0.91681      0.02080      0.02080      0.02080\n",
       "CrfnkgwU978      0.02080      0.91683      0.02079      0.02079      0.02079\n",
       "AS6cUYyA_qI      0.59164      0.29395      0.03800      0.03800      0.03841\n",
       "\n",
       "[277 rows x 5 columns]"
      ]
     },
     "execution_count": 80,
     "metadata": {},
     "output_type": "execute_result"
    }
   ],
   "source": [
    "doc_topic_lda = pd.DataFrame(doc_topic.round(5),\n",
    "                             index=df['video_id'],\n",
    "                             columns = [\"component_1\",\"component_2\", \"component_3\",\"component_4\", \"component_5\"])\n",
    "doc_topic_lda"
   ]
  },
  {
   "cell_type": "code",
   "execution_count": 81,
   "metadata": {},
   "outputs": [
    {
     "data": {
      "text/plain": [
       "array([[1.        , 0.96752052],\n",
       "       [0.96752052, 1.        ]])"
      ]
     },
     "execution_count": 81,
     "metadata": {},
     "output_type": "execute_result"
    }
   ],
   "source": [
    "cosine_similarity((doc_topic_nmf.values[0], doc_topic_nmf.values[1]))"
   ]
  },
  {
   "cell_type": "code",
   "execution_count": 55,
   "metadata": {},
   "outputs": [
    {
     "data": {
      "text/plain": [
       "array([[1.        , 0.84052477],\n",
       "       [0.84052477, 1.        ]])"
      ]
     },
     "execution_count": 55,
     "metadata": {},
     "output_type": "execute_result"
    }
   ],
   "source": [
    "cosine_similarity((doc_topic_nmf.values[0], doc_topic_nmf.values[136]))"
   ]
  },
  {
   "cell_type": "code",
   "execution_count": null,
   "metadata": {},
   "outputs": [],
   "source": []
  }
 ],
 "metadata": {
  "kernelspec": {
   "display_name": "Python 3",
   "language": "python",
   "name": "python3"
  },
  "language_info": {
   "codemirror_mode": {
    "name": "ipython",
    "version": 3
   },
   "file_extension": ".py",
   "mimetype": "text/x-python",
   "name": "python",
   "nbconvert_exporter": "python",
   "pygments_lexer": "ipython3",
   "version": "3.7.4"
  }
 },
 "nbformat": 4,
 "nbformat_minor": 2
}
