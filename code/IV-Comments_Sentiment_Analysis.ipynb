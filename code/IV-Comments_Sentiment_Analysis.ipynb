{
 "cells": [
  {
   "cell_type": "code",
   "execution_count": 1,
   "metadata": {},
   "outputs": [],
   "source": [
    "import pandas as pd\n",
    "import numpy as np\n",
    "\n",
    "import pickle \n",
    "\n",
    "import re\n",
    "import string\n",
    "\n",
    "import nltk\n",
    "#nltk.download()\n",
    "\n",
    "from nltk.stem.snowball import SnowballStemmer\n",
    "from nltk.tokenize import word_tokenize\n",
    "from nltk.corpus import stopwords\n",
    "\n",
    "from sklearn.feature_extraction.text import CountVectorizer \n",
    "from sklearn.feature_extraction.text import TfidfVectorizer\n",
    "\n",
    "from sklearn.decomposition import TruncatedSVD\n",
    "from sklearn.decomposition import NMF\n",
    "from sklearn.decomposition import LatentDirichletAllocation\n",
    "\n",
    "from sklearn.metrics.pairwise import cosine_similarity\n",
    "\n",
    "import spacy\n",
    "from spacy import displacy\n",
    "from spacy.symbols import amod\n",
    "from spacy.lang.en.stop_words import STOP_WORDS\n",
    "\n",
    "from collections import Counter\n",
    "from spacy.symbols import amod\n",
    "from pprint import pprint\n",
    "\n",
    "import scattertext as st\n",
    "\n",
    "from vaderSentiment.vaderSentiment import SentimentIntensityAnalyzer\n",
    "\n",
    "import pyLDAvis\n",
    "import pyLDAvis.sklearn"
   ]
  },
  {
   "cell_type": "markdown",
   "metadata": {},
   "source": [
    "# Get Data"
   ]
  },
  {
   "cell_type": "code",
   "execution_count": 11,
   "metadata": {},
   "outputs": [],
   "source": [
    "with open('ted_video_comments_2193.pkl', 'rb') as picklefile:\n",
    "    df = pickle.load(picklefile)"
   ]
  },
  {
   "cell_type": "code",
   "execution_count": 16,
   "metadata": {},
   "outputs": [
    {
     "data": {
      "text/html": [
       "<div>\n",
       "<style scoped>\n",
       "    .dataframe tbody tr th:only-of-type {\n",
       "        vertical-align: middle;\n",
       "    }\n",
       "\n",
       "    .dataframe tbody tr th {\n",
       "        vertical-align: top;\n",
       "    }\n",
       "\n",
       "    .dataframe thead th {\n",
       "        text-align: right;\n",
       "    }\n",
       "</style>\n",
       "<table border=\"1\" class=\"dataframe\">\n",
       "  <thead>\n",
       "    <tr style=\"text-align: right;\">\n",
       "      <th></th>\n",
       "      <th>video_id</th>\n",
       "      <th>comments</th>\n",
       "    </tr>\n",
       "  </thead>\n",
       "  <tbody>\n",
       "    <tr>\n",
       "      <td>0</td>\n",
       "      <td>-2Dj9M71JAc</td>\n",
       "      <td>She sounds like the person before was singing ...</td>\n",
       "    </tr>\n",
       "    <tr>\n",
       "      <td>1</td>\n",
       "      <td>-3y6_7_5PcQ</td>\n",
       "      <td>Stop funding large pharmaceuticals by buying t...</td>\n",
       "    </tr>\n",
       "    <tr>\n",
       "      <td>2</td>\n",
       "      <td>-7ORAKULel4</td>\n",
       "      <td>False, the technology is still out of reach fo...</td>\n",
       "    </tr>\n",
       "    <tr>\n",
       "      <td>3</td>\n",
       "      <td>-BvcToPZCLI</td>\n",
       "      <td>What is the carbon footprint of your food?, sh...</td>\n",
       "    </tr>\n",
       "    <tr>\n",
       "      <td>4</td>\n",
       "      <td>-E5K2pGB08Y</td>\n",
       "      <td>Full of Karens., stumbled here through autopla...</td>\n",
       "    </tr>\n",
       "  </tbody>\n",
       "</table>\n",
       "</div>"
      ],
      "text/plain": [
       "      video_id                                           comments\n",
       "0  -2Dj9M71JAc  She sounds like the person before was singing ...\n",
       "1  -3y6_7_5PcQ  Stop funding large pharmaceuticals by buying t...\n",
       "2  -7ORAKULel4  False, the technology is still out of reach fo...\n",
       "3  -BvcToPZCLI  What is the carbon footprint of your food?, sh...\n",
       "4  -E5K2pGB08Y  Full of Karens., stumbled here through autopla..."
      ]
     },
     "execution_count": 16,
     "metadata": {},
     "output_type": "execute_result"
    }
   ],
   "source": [
    "df.head()"
   ]
  },
  {
   "cell_type": "code",
   "execution_count": 13,
   "metadata": {},
   "outputs": [
    {
     "data": {
      "text/plain": [
       "2193"
      ]
     },
     "execution_count": 13,
     "metadata": {},
     "output_type": "execute_result"
    }
   ],
   "source": [
    "len(df)"
   ]
  },
  {
   "cell_type": "code",
   "execution_count": 14,
   "metadata": {},
   "outputs": [],
   "source": [
    "with open('ted_video_stats_2722.pkl', 'rb') as picklefile:\n",
    "    stats = pickle.load(picklefile)"
   ]
  },
  {
   "cell_type": "code",
   "execution_count": 10,
   "metadata": {},
   "outputs": [
    {
     "data": {
      "text/plain": [
       "2722"
      ]
     },
     "execution_count": 10,
     "metadata": {},
     "output_type": "execute_result"
    }
   ],
   "source": [
    "len(stats)"
   ]
  },
  {
   "cell_type": "code",
   "execution_count": 55,
   "metadata": {},
   "outputs": [],
   "source": [
    "nrc = pd.read_csv('nrc.csv')"
   ]
  },
  {
   "cell_type": "code",
   "execution_count": 57,
   "metadata": {},
   "outputs": [
    {
     "data": {
      "text/html": [
       "<div>\n",
       "<style scoped>\n",
       "    .dataframe tbody tr th:only-of-type {\n",
       "        vertical-align: middle;\n",
       "    }\n",
       "\n",
       "    .dataframe tbody tr th {\n",
       "        vertical-align: top;\n",
       "    }\n",
       "\n",
       "    .dataframe thead th {\n",
       "        text-align: right;\n",
       "    }\n",
       "</style>\n",
       "<table border=\"1\" class=\"dataframe\">\n",
       "  <thead>\n",
       "    <tr style=\"text-align: right;\">\n",
       "      <th></th>\n",
       "      <th>Unnamed: 0</th>\n",
       "      <th>word</th>\n",
       "      <th>sentiment</th>\n",
       "    </tr>\n",
       "  </thead>\n",
       "  <tbody>\n",
       "    <tr>\n",
       "      <td>0</td>\n",
       "      <td>1</td>\n",
       "      <td>abacus</td>\n",
       "      <td>trust</td>\n",
       "    </tr>\n",
       "    <tr>\n",
       "      <td>1</td>\n",
       "      <td>2</td>\n",
       "      <td>abandon</td>\n",
       "      <td>fear</td>\n",
       "    </tr>\n",
       "    <tr>\n",
       "      <td>2</td>\n",
       "      <td>3</td>\n",
       "      <td>abandon</td>\n",
       "      <td>negative</td>\n",
       "    </tr>\n",
       "    <tr>\n",
       "      <td>3</td>\n",
       "      <td>4</td>\n",
       "      <td>abandon</td>\n",
       "      <td>sadness</td>\n",
       "    </tr>\n",
       "    <tr>\n",
       "      <td>4</td>\n",
       "      <td>5</td>\n",
       "      <td>abandoned</td>\n",
       "      <td>anger</td>\n",
       "    </tr>\n",
       "  </tbody>\n",
       "</table>\n",
       "</div>"
      ],
      "text/plain": [
       "   Unnamed: 0       word sentiment\n",
       "0           1     abacus     trust\n",
       "1           2    abandon      fear\n",
       "2           3    abandon  negative\n",
       "3           4    abandon   sadness\n",
       "4           5  abandoned     anger"
      ]
     },
     "execution_count": 57,
     "metadata": {},
     "output_type": "execute_result"
    }
   ],
   "source": [
    "nrc.head()"
   ]
  },
  {
   "cell_type": "code",
   "execution_count": 56,
   "metadata": {},
   "outputs": [],
   "source": [
    "afinn = pd.read_csv('afinn.csv')"
   ]
  },
  {
   "cell_type": "code",
   "execution_count": 59,
   "metadata": {},
   "outputs": [
    {
     "data": {
      "text/html": [
       "<div>\n",
       "<style scoped>\n",
       "    .dataframe tbody tr th:only-of-type {\n",
       "        vertical-align: middle;\n",
       "    }\n",
       "\n",
       "    .dataframe tbody tr th {\n",
       "        vertical-align: top;\n",
       "    }\n",
       "\n",
       "    .dataframe thead th {\n",
       "        text-align: right;\n",
       "    }\n",
       "</style>\n",
       "<table border=\"1\" class=\"dataframe\">\n",
       "  <thead>\n",
       "    <tr style=\"text-align: right;\">\n",
       "      <th></th>\n",
       "      <th>Unnamed: 0</th>\n",
       "      <th>word</th>\n",
       "      <th>value</th>\n",
       "    </tr>\n",
       "  </thead>\n",
       "  <tbody>\n",
       "    <tr>\n",
       "      <td>0</td>\n",
       "      <td>1</td>\n",
       "      <td>abandon</td>\n",
       "      <td>-2</td>\n",
       "    </tr>\n",
       "    <tr>\n",
       "      <td>1</td>\n",
       "      <td>2</td>\n",
       "      <td>abandoned</td>\n",
       "      <td>-2</td>\n",
       "    </tr>\n",
       "    <tr>\n",
       "      <td>2</td>\n",
       "      <td>3</td>\n",
       "      <td>abandons</td>\n",
       "      <td>-2</td>\n",
       "    </tr>\n",
       "    <tr>\n",
       "      <td>3</td>\n",
       "      <td>4</td>\n",
       "      <td>abducted</td>\n",
       "      <td>-2</td>\n",
       "    </tr>\n",
       "    <tr>\n",
       "      <td>4</td>\n",
       "      <td>5</td>\n",
       "      <td>abduction</td>\n",
       "      <td>-2</td>\n",
       "    </tr>\n",
       "  </tbody>\n",
       "</table>\n",
       "</div>"
      ],
      "text/plain": [
       "   Unnamed: 0       word  value\n",
       "0           1    abandon     -2\n",
       "1           2  abandoned     -2\n",
       "2           3   abandons     -2\n",
       "3           4   abducted     -2\n",
       "4           5  abduction     -2"
      ]
     },
     "execution_count": 59,
     "metadata": {},
     "output_type": "execute_result"
    }
   ],
   "source": [
    "afinn.head()"
   ]
  },
  {
   "cell_type": "markdown",
   "metadata": {},
   "source": [
    "# Text Preprocessing"
   ]
  },
  {
   "cell_type": "markdown",
   "metadata": {},
   "source": [
    "### Formatting"
   ]
  },
  {
   "cell_type": "code",
   "execution_count": 15,
   "metadata": {},
   "outputs": [],
   "source": [
    "df.comments = df.comments.str.replace('{', '').replace('}', '')"
   ]
  },
  {
   "cell_type": "code",
   "execution_count": 29,
   "metadata": {},
   "outputs": [],
   "source": [
    "df1 = pd.merge(df, stats,  how='left', left_on='video_id', right_on = 'video_id')"
   ]
  },
  {
   "cell_type": "markdown",
   "metadata": {},
   "source": [
    "### SpaCy"
   ]
  },
  {
   "cell_type": "code",
   "execution_count": 31,
   "metadata": {},
   "outputs": [],
   "source": [
    "nlp = spacy.load('en_core_web_sm')"
   ]
  },
  {
   "cell_type": "code",
   "execution_count": 17,
   "metadata": {},
   "outputs": [],
   "source": [
    "#doc = nlp(df['comments'].values[0])"
   ]
  },
  {
   "cell_type": "code",
   "execution_count": 80,
   "metadata": {},
   "outputs": [],
   "source": [
    "#test = doc[:14]"
   ]
  },
  {
   "cell_type": "code",
   "execution_count": 17,
   "metadata": {},
   "outputs": [],
   "source": [
    "#for token in test:\n",
    "#    print(token.text, token.pos_, token.lemma_, token.is_stop)"
   ]
  },
  {
   "cell_type": "code",
   "execution_count": 51,
   "metadata": {},
   "outputs": [],
   "source": [
    "#def is_noun_adv_adj_verb(token):\n",
    "#    if token.doc.is_tagged is False:\n",
    "#        raise ValueError('token not POS-tagged')\n",
    "#    return (token.pos_ == 'NOUN') | (token.pos_ == 'ADJ') | (token.pos_ == 'ADV') | (token.pos_ == 'VERB' )#"
   ]
  },
  {
   "cell_type": "code",
   "execution_count": 28,
   "metadata": {},
   "outputs": [],
   "source": [
    "# mask = [is_noun_adv_adj_verb(word) for word in test]\n",
    "# len(mask)"
   ]
  },
  {
   "cell_type": "code",
   "execution_count": null,
   "metadata": {},
   "outputs": [],
   "source": [
    "# a = np.array(a) # convert list to numpy array\n",
    "# >> result = a[msk] # mask a\n",
    "# >> result.tolist()"
   ]
  },
  {
   "cell_type": "code",
   "execution_count": 19,
   "metadata": {},
   "outputs": [],
   "source": [
    "#from spacy.tokens import Token\n",
    "\n",
    "#def get_is_excluded(token):\n",
    "#    # Getter function to determine the value of token._.is_excluded\n",
    "#    return token.pos_ in ['some', 'excluded', 'words']\n",
    "\n",
    "#Token.set_extension('is_excluded', getter=get_is_excluded)"
   ]
  },
  {
   "cell_type": "code",
   "execution_count": 22,
   "metadata": {},
   "outputs": [],
   "source": [
    "#test.text"
   ]
  },
  {
   "cell_type": "code",
   "execution_count": 20,
   "metadata": {},
   "outputs": [],
   "source": [
    "#for token in test:\n",
    " #   print(token.text, token.dep_)"
   ]
  },
  {
   "cell_type": "code",
   "execution_count": 21,
   "metadata": {},
   "outputs": [],
   "source": [
    "#displacy.render(test, style='dep', options={'distance': 120})"
   ]
  },
  {
   "cell_type": "code",
   "execution_count": 23,
   "metadata": {},
   "outputs": [],
   "source": [
    "#for token in test:\n",
    "#    if token.dep_ == 'advmod':\n",
    "#        print(f\"posessive: {token.text} --> MODIFY: {token.head}\")"
   ]
  },
  {
   "cell_type": "code",
   "execution_count": 24,
   "metadata": {},
   "outputs": [],
   "source": [
    "#spacy.explain(\"advmod\")"
   ]
  },
  {
   "cell_type": "code",
   "execution_count": 25,
   "metadata": {},
   "outputs": [],
   "source": [
    "#for ent in doc.ents:\n",
    "#    print(ent.text, ent.label_)"
   ]
  },
  {
   "cell_type": "code",
   "execution_count": 26,
   "metadata": {},
   "outputs": [],
   "source": [
    "#spacy.explain(\"PERSON\")"
   ]
  },
  {
   "cell_type": "code",
   "execution_count": 27,
   "metadata": {},
   "outputs": [],
   "source": [
    "#displacy.render(doc, style='ent', jupyter=True)"
   ]
  },
  {
   "cell_type": "code",
   "execution_count": 84,
   "metadata": {},
   "outputs": [],
   "source": [
    "#stemmer=LancasterStemmer()\n",
    "#porter=PorterStemmer()"
   ]
  },
  {
   "cell_type": "code",
   "execution_count": 132,
   "metadata": {},
   "outputs": [],
   "source": [
    "# englishStemmer=SnowballStemmer(\"english\", ignore_stopwords=True)\n",
    "# def stemComment(comment_line):\n",
    "#     token_words=word_tokenize(comment_line)\n",
    "#     stem_line=[]\n",
    "#     for word in token_words:\n",
    "#         stem_line.append(englishStemmer.stem(word))\n",
    "#         stem_line.append(\" \")\n",
    "#     return \"\".join(stem_line)"
   ]
  },
  {
   "cell_type": "code",
   "execution_count": 133,
   "metadata": {},
   "outputs": [],
   "source": [
    "# stop_words = set(stopwords.words('english'))\n",
    "\n",
    "# def remove_stop_words(comment_line):\n",
    "#     token_words=word_tokenize(str(comment_line))\n",
    "#     filtered_comment_line = [w for w in token_words if not w in stop_words] \n",
    "    \n",
    "#     return \" \".join(filtered_comment_line)"
   ]
  },
  {
   "cell_type": "code",
   "execution_count": 61,
   "metadata": {},
   "outputs": [],
   "source": [
    "# alphanumeric = lambda x: re.sub('\\w*\\d\\w*', ' ', x)\n",
    "# punc_lower = lambda x: re.sub('[%s]' % re.escape(string.punctuation), ' ', x.lower())"
   ]
  },
  {
   "cell_type": "code",
   "execution_count": 137,
   "metadata": {},
   "outputs": [],
   "source": [
    "# df['comments'] = df['comments'].map(remove_stop_words).map(alphanumeric).map(punc_lower)"
   ]
  },
  {
   "cell_type": "code",
   "execution_count": 138,
   "metadata": {},
   "outputs": [],
   "source": [
    "# #https://stackoverflow.com/questions/29270917/removing-custom-stop-words-form-a-phrase-in-python\n",
    "# my_stop_words_lst = ['ted', 'text', 'thank', 'you']\n",
    "\n",
    "# for w in my_stop_words_lst:\n",
    "#     pattern = r'\\b'+w+r'\\b'\n",
    "#     custom_stop = lambda x: re.sub(pattern, ' ', x)\n",
    "#     df['comments'] = df['comments'].map(custom_stop)"
   ]
  },
  {
   "cell_type": "code",
   "execution_count": 139,
   "metadata": {},
   "outputs": [],
   "source": [
    "# df['comments'] = df['comments'].map(stemComment)"
   ]
  },
  {
   "cell_type": "code",
   "execution_count": 60,
   "metadata": {},
   "outputs": [],
   "source": [
    "#df.head()"
   ]
  },
  {
   "cell_type": "markdown",
   "metadata": {},
   "source": [
    "# EDA"
   ]
  },
  {
   "cell_type": "markdown",
   "metadata": {},
   "source": [
    "### Scattertext"
   ]
  },
  {
   "cell_type": "code",
   "execution_count": 103,
   "metadata": {},
   "outputs": [],
   "source": [
    " corpus = st.CorpusFromPandas(df1,\n",
    "                              category_col='success',\n",
    "                              text_col='comments',\n",
    "                              nlp=st.whitespace_nlp_with_sentences\n",
    "                             ).build()"
   ]
  },
  {
   "cell_type": "code",
   "execution_count": 104,
   "metadata": {},
   "outputs": [],
   "source": [
    " html = st.produce_scattertext_explorer(\n",
    "         corpus,\n",
    "         category='yes',\n",
    "         category_name='Likable',\n",
    "         not_category_name='Dislikable',\n",
    "         minimum_term_frequency=10,\n",
    "         pmi_threshold_coefficient=5,\n",
    "         width_in_pixels=1000,\n",
    "         #metadata=df1['prime_tag']\n",
    "         metadata=corpus.get_df()['prime_tag']\n",
    "         )"
   ]
  },
  {
   "cell_type": "code",
   "execution_count": 105,
   "metadata": {},
   "outputs": [],
   "source": [
    "open('comments.html', 'wb').write(html.encode('utf-8'));"
   ]
  },
  {
   "cell_type": "markdown",
   "metadata": {},
   "source": [
    "### LDA PyViz"
   ]
  },
  {
   "cell_type": "code",
   "execution_count": 127,
   "metadata": {},
   "outputs": [],
   "source": [
    "vectorizer = CountVectorizer(analyzer='word',       \n",
    "                             min_df=10,                        # minimum reqd occurences of a word \n",
    "                             stop_words='english',             # remove stop words\n",
    "                             lowercase=True,                   # convert all words to lowercase\n",
    "                             token_pattern='[a-zA-Z0-9]{3,}',  # num chars > 3\n",
    "                             max_features=1000,                # max number of uniq words\n",
    "                            )\n",
    "\n",
    "data_vectorized = vectorizer.fit_transform(df.comments)"
   ]
  },
  {
   "cell_type": "code",
   "execution_count": 128,
   "metadata": {},
   "outputs": [
    {
     "name": "stdout",
     "output_type": "stream",
     "text": [
      "LatentDirichletAllocation(batch_size=128, doc_topic_prior=None,\n",
      "                          evaluate_every=-1, learning_decay=0.7,\n",
      "                          learning_method='online', learning_offset=10.0,\n",
      "                          max_doc_update_iter=100, max_iter=10,\n",
      "                          mean_change_tol=0.001, n_components=10, n_jobs=-1,\n",
      "                          perp_tol=0.1, random_state=100, topic_word_prior=None,\n",
      "                          total_samples=1000000.0, verbose=0)\n"
     ]
    }
   ],
   "source": [
    "n_components = 10\n",
    "\n",
    "lda_model = LatentDirichletAllocation(n_components=n_components,   # Number of topics\n",
    "                                      max_iter=10,                 # Max learning iterations\n",
    "                                      learning_method='online',   \n",
    "                                      random_state=100,            # Random state\n",
    "                                      #batch_size=128,             # n docs in each learning iter\n",
    "                                      n_jobs = -1,                 # Use all available CPUs\n",
    "                                     )\n",
    "lda_output = lda_model.fit_transform(data_vectorized)\n",
    "\n",
    "print(lda_model)  # Model attributes"
   ]
  },
  {
   "cell_type": "code",
   "execution_count": 129,
   "metadata": {},
   "outputs": [
    {
     "name": "stderr",
     "output_type": "stream",
     "text": [
      "/Users/elena/opt/anaconda3/lib/python3.7/site-packages/pyLDAvis/_prepare.py:257: FutureWarning: Sorting because non-concatenation axis is not aligned. A future version\n",
      "of pandas will change to not sort by default.\n",
      "\n",
      "To accept the future behavior, pass 'sort=False'.\n",
      "\n",
      "To retain the current behavior and silence the warning, pass 'sort=True'.\n",
      "\n",
      "  return pd.concat([default_term_info] + list(topic_dfs))\n"
     ]
    },
    {
     "data": {
      "text/html": [
       "\n",
       "<link rel=\"stylesheet\" type=\"text/css\" href=\"https://cdn.rawgit.com/bmabey/pyLDAvis/files/ldavis.v1.0.0.css\">\n",
       "\n",
       "\n",
       "<div id=\"ldavis_el123891134829677603036452304\"></div>\n",
       "<script type=\"text/javascript\">\n",
       "\n",
       "var ldavis_el123891134829677603036452304_data = {\"mdsDat\": {\"x\": [-0.05385875328593235, -0.07185055612173852, -0.07129548462456957, -0.07931843876536758, -0.06305338292194076, -0.07016241803974671, -0.07024580810696825, -0.06467118516936546, 0.4727944226405453, 0.0716616043950839], \"y\": [0.015954632698230605, -0.008927735171074973, 0.024468468275254604, 0.04183763025877149, 0.05810725536732961, 0.05887372284769102, 0.09844875185831008, -0.019688110321452953, 0.09473191454277487, -0.3638065303558343], \"topics\": [1, 2, 3, 4, 5, 6, 7, 8, 9, 10], \"cluster\": [1, 1, 1, 1, 1, 1, 1, 1, 1, 1], \"Freq\": [24.77780031699121, 19.559824950240305, 14.202734607307372, 11.950373650356335, 11.334739972540014, 6.997485030599838, 5.39400197798602, 4.081689642319362, 0.8900467120675267, 0.8113031395920135]}, \"tinfo\": {\"Category\": [\"Default\", \"Default\", \"Default\", \"Default\", \"Default\", \"Default\", \"Default\", \"Default\", \"Default\", \"Default\", \"Default\", \"Default\", \"Default\", \"Default\", \"Default\", \"Default\", \"Default\", \"Default\", \"Default\", \"Default\", \"Default\", \"Default\", \"Default\", \"Default\", \"Default\", \"Default\", \"Default\", \"Default\", \"Default\", \"Default\", \"Topic1\", \"Topic1\", \"Topic1\", \"Topic1\", \"Topic1\", \"Topic1\", \"Topic1\", \"Topic1\", \"Topic1\", \"Topic1\", \"Topic1\", \"Topic1\", \"Topic1\", \"Topic1\", \"Topic1\", \"Topic1\", \"Topic1\", \"Topic1\", \"Topic1\", \"Topic1\", \"Topic1\", \"Topic1\", \"Topic1\", \"Topic1\", \"Topic1\", \"Topic1\", \"Topic1\", \"Topic1\", \"Topic1\", \"Topic1\", \"Topic1\", \"Topic1\", \"Topic1\", \"Topic1\", \"Topic1\", \"Topic1\", \"Topic1\", \"Topic1\", \"Topic1\", \"Topic1\", \"Topic1\", \"Topic1\", \"Topic1\", \"Topic1\", \"Topic1\", \"Topic1\", \"Topic1\", \"Topic1\", \"Topic1\", \"Topic1\", \"Topic1\", \"Topic1\", \"Topic1\", \"Topic1\", \"Topic1\", \"Topic1\", \"Topic1\", \"Topic1\", \"Topic1\", \"Topic1\", \"Topic1\", \"Topic1\", \"Topic1\", \"Topic1\", \"Topic1\", \"Topic1\", \"Topic2\", \"Topic2\", \"Topic2\", \"Topic2\", \"Topic2\", \"Topic2\", \"Topic2\", \"Topic2\", \"Topic2\", \"Topic2\", \"Topic2\", \"Topic2\", \"Topic2\", \"Topic2\", \"Topic2\", \"Topic2\", \"Topic2\", \"Topic2\", \"Topic2\", \"Topic2\", \"Topic2\", \"Topic2\", \"Topic2\", \"Topic2\", \"Topic2\", \"Topic2\", \"Topic2\", \"Topic2\", \"Topic2\", \"Topic2\", \"Topic2\", \"Topic2\", \"Topic2\", \"Topic2\", \"Topic2\", \"Topic2\", \"Topic2\", \"Topic2\", \"Topic2\", \"Topic2\", \"Topic2\", \"Topic2\", \"Topic2\", \"Topic2\", \"Topic2\", \"Topic2\", \"Topic2\", \"Topic2\", \"Topic2\", \"Topic2\", \"Topic2\", \"Topic2\", \"Topic2\", \"Topic2\", \"Topic2\", \"Topic2\", \"Topic2\", \"Topic2\", \"Topic2\", \"Topic2\", \"Topic3\", \"Topic3\", \"Topic3\", \"Topic3\", \"Topic3\", \"Topic3\", \"Topic3\", \"Topic3\", \"Topic3\", \"Topic3\", \"Topic3\", \"Topic3\", \"Topic3\", \"Topic3\", \"Topic3\", \"Topic3\", \"Topic3\", \"Topic3\", \"Topic3\", \"Topic3\", \"Topic3\", \"Topic3\", \"Topic3\", \"Topic3\", \"Topic3\", \"Topic3\", \"Topic3\", \"Topic3\", \"Topic3\", \"Topic3\", \"Topic3\", \"Topic3\", \"Topic3\", \"Topic3\", \"Topic3\", \"Topic3\", \"Topic3\", \"Topic3\", \"Topic3\", \"Topic3\", \"Topic3\", \"Topic3\", \"Topic3\", \"Topic3\", \"Topic3\", \"Topic3\", \"Topic3\", \"Topic3\", \"Topic3\", \"Topic3\", \"Topic3\", \"Topic3\", \"Topic3\", \"Topic3\", \"Topic3\", \"Topic3\", \"Topic3\", \"Topic3\", \"Topic3\", \"Topic3\", \"Topic3\", \"Topic3\", \"Topic3\", \"Topic4\", \"Topic4\", \"Topic4\", \"Topic4\", \"Topic4\", \"Topic4\", \"Topic4\", \"Topic4\", \"Topic4\", \"Topic4\", \"Topic4\", \"Topic4\", \"Topic4\", \"Topic4\", \"Topic4\", \"Topic4\", \"Topic4\", \"Topic4\", \"Topic4\", \"Topic4\", \"Topic4\", \"Topic4\", \"Topic4\", \"Topic4\", \"Topic4\", \"Topic4\", \"Topic4\", \"Topic4\", \"Topic4\", \"Topic4\", \"Topic4\", \"Topic4\", \"Topic4\", \"Topic4\", \"Topic4\", \"Topic4\", \"Topic4\", \"Topic4\", \"Topic4\", \"Topic4\", \"Topic4\", \"Topic4\", \"Topic4\", \"Topic4\", \"Topic4\", \"Topic4\", \"Topic4\", \"Topic4\", \"Topic4\", \"Topic4\", \"Topic4\", \"Topic4\", \"Topic4\", \"Topic4\", \"Topic4\", \"Topic4\", \"Topic4\", \"Topic4\", \"Topic4\", \"Topic4\", \"Topic5\", \"Topic5\", \"Topic5\", \"Topic5\", \"Topic5\", \"Topic5\", \"Topic5\", \"Topic5\", \"Topic5\", \"Topic5\", \"Topic5\", \"Topic5\", \"Topic5\", \"Topic5\", \"Topic5\", \"Topic5\", \"Topic5\", \"Topic5\", \"Topic5\", \"Topic5\", \"Topic5\", \"Topic5\", \"Topic5\", \"Topic5\", \"Topic5\", \"Topic5\", \"Topic5\", \"Topic5\", \"Topic5\", \"Topic5\", \"Topic5\", \"Topic5\", \"Topic5\", \"Topic5\", \"Topic5\", \"Topic5\", \"Topic5\", \"Topic5\", \"Topic5\", \"Topic5\", \"Topic5\", \"Topic5\", \"Topic5\", \"Topic5\", \"Topic5\", \"Topic5\", \"Topic5\", \"Topic5\", \"Topic6\", \"Topic6\", \"Topic6\", \"Topic6\", \"Topic6\", \"Topic6\", \"Topic6\", \"Topic6\", \"Topic6\", \"Topic6\", \"Topic6\", \"Topic6\", \"Topic6\", \"Topic6\", \"Topic6\", \"Topic6\", \"Topic6\", \"Topic6\", \"Topic6\", \"Topic6\", \"Topic6\", \"Topic6\", \"Topic6\", \"Topic6\", \"Topic6\", \"Topic6\", \"Topic6\", \"Topic6\", \"Topic6\", \"Topic6\", \"Topic6\", \"Topic6\", \"Topic6\", \"Topic6\", \"Topic6\", \"Topic6\", \"Topic6\", \"Topic6\", \"Topic6\", \"Topic6\", \"Topic6\", \"Topic6\", \"Topic6\", \"Topic6\", \"Topic6\", \"Topic6\", \"Topic6\", \"Topic6\", \"Topic6\", \"Topic6\", \"Topic6\", \"Topic7\", \"Topic7\", \"Topic7\", \"Topic7\", \"Topic7\", \"Topic7\", \"Topic7\", \"Topic7\", \"Topic7\", \"Topic7\", \"Topic7\", \"Topic7\", \"Topic7\", \"Topic7\", \"Topic7\", \"Topic7\", \"Topic7\", \"Topic7\", \"Topic7\", \"Topic7\", \"Topic7\", \"Topic7\", \"Topic7\", \"Topic7\", \"Topic7\", \"Topic7\", \"Topic7\", \"Topic7\", \"Topic7\", \"Topic7\", \"Topic7\", \"Topic7\", \"Topic7\", \"Topic7\", \"Topic7\", \"Topic7\", \"Topic7\", \"Topic7\", \"Topic7\", \"Topic7\", \"Topic7\", \"Topic7\", \"Topic7\", \"Topic7\", \"Topic7\", \"Topic7\", \"Topic8\", \"Topic8\", \"Topic8\", \"Topic8\", \"Topic8\", \"Topic8\", \"Topic8\", \"Topic8\", \"Topic8\", \"Topic8\", \"Topic8\", \"Topic8\", \"Topic8\", \"Topic8\", \"Topic8\", \"Topic8\", \"Topic8\", \"Topic8\", \"Topic8\", \"Topic8\", \"Topic8\", \"Topic8\", \"Topic8\", \"Topic8\", \"Topic8\", \"Topic8\", \"Topic8\", \"Topic8\", \"Topic8\", \"Topic8\", \"Topic8\", \"Topic8\", \"Topic8\", \"Topic8\", \"Topic8\", \"Topic8\", \"Topic8\", \"Topic8\", \"Topic8\", \"Topic8\", \"Topic8\", \"Topic8\", \"Topic8\", \"Topic8\", \"Topic8\", \"Topic8\", \"Topic9\", \"Topic9\", \"Topic9\", \"Topic9\", \"Topic9\", \"Topic9\", \"Topic9\", \"Topic9\", \"Topic9\", \"Topic9\", \"Topic9\", \"Topic9\", \"Topic9\", \"Topic9\", \"Topic9\", \"Topic9\", \"Topic9\", \"Topic9\", \"Topic9\", \"Topic9\", \"Topic9\", \"Topic9\", \"Topic9\", \"Topic9\", \"Topic9\", \"Topic9\", \"Topic9\", \"Topic9\", \"Topic9\", \"Topic9\", \"Topic9\", \"Topic9\", \"Topic9\", \"Topic9\", \"Topic9\", \"Topic9\", \"Topic10\", \"Topic10\", \"Topic10\", \"Topic10\", \"Topic10\", \"Topic10\", \"Topic10\", \"Topic10\", \"Topic10\", \"Topic10\", \"Topic10\", \"Topic10\", \"Topic10\", \"Topic10\", \"Topic10\", \"Topic10\", \"Topic10\", \"Topic10\", \"Topic10\", \"Topic10\", \"Topic10\", \"Topic10\", \"Topic10\", \"Topic10\", \"Topic10\", \"Topic10\", \"Topic10\", \"Topic10\", \"Topic10\", \"Topic10\", \"Topic10\", \"Topic10\", \"Topic10\", \"Topic10\", \"Topic10\", \"Topic10\", \"Topic10\", \"Topic10\", \"Topic10\", \"Topic10\", \"Topic10\", \"Topic10\", \"Topic10\", \"Topic10\", \"Topic10\", \"Topic10\"], \"Freq\": [3761.0, 3272.0, 3488.0, 3429.0, 2830.0, 2668.0, 9561.0, 985.0, 2700.0, 630.0, 2317.0, 609.0, 748.0, 2087.0, 1046.0, 1296.0, 836.0, 2836.0, 1249.0, 1233.0, 746.0, 325.0, 726.0, 406.0, 5109.0, 1572.0, 526.0, 481.0, 823.0, 252.0, 162.81298624342293, 138.0218339455324, 177.9105736098619, 138.90422073831806, 290.1358652454215, 118.42805940425701, 110.12676008310027, 169.81994551681453, 85.2981696397033, 303.34386303913203, 157.26722128952116, 91.17345065207586, 127.87203492419502, 155.54287909873767, 73.6588522444672, 81.53973678111666, 119.78131069468783, 319.7553920804793, 114.88899344002782, 265.8280241605861, 200.58116388444134, 118.66220495595496, 105.25946727231725, 118.65442962390954, 125.1446550158381, 136.86079175971375, 79.87396081983667, 124.67109544435061, 155.64252883772932, 556.5208916773395, 181.33890003146655, 3483.3665676855912, 357.48433236997187, 173.74176656441173, 394.16560231446135, 522.8230820062262, 208.74514675427417, 977.0504919849415, 1107.3589373121135, 308.87097192199883, 538.8740622708518, 802.9788545943045, 515.9487465566025, 1230.7989862611137, 1329.2168920601482, 696.7630354429871, 1762.2207187099104, 756.6266581385239, 534.1293978412613, 652.3740777151601, 565.4612702579932, 670.3324484748985, 260.842871494282, 348.49189274460366, 540.5506825386186, 464.53355600602043, 487.9407414736606, 327.62339282153476, 345.7268900403953, 384.6544913637827, 505.61939952657866, 420.81259995385676, 405.5367803272479, 399.8557421727411, 360.699224018937, 374.998931564413, 182.2346440213886, 632.6645678422537, 174.0987993610836, 942.4640500289669, 155.25155653554015, 96.97128052701702, 88.53717354299233, 124.35349147757721, 649.7218698932198, 93.79974303027731, 107.48100942994718, 146.47085787409318, 287.9819843250633, 165.30697737836604, 88.14543713612842, 148.96946804143062, 188.88098203177358, 115.78607493991308, 142.35338908805446, 180.38684508242247, 207.15413290094878, 80.23327756803205, 81.41223981007917, 523.2240164680811, 101.1608280557723, 255.25026767937558, 458.4828108885688, 98.92306556807578, 84.28627170349276, 114.68189042065111, 1303.6019933475627, 1060.2583752332962, 646.9020556196491, 128.14238586210578, 139.36566734818496, 219.0193055810262, 358.8259180790963, 504.3969672533591, 910.0849168553251, 251.6082247457915, 569.792202957117, 419.2107038669117, 1286.8112094323249, 716.537287104812, 857.1310125360588, 1104.7228879917304, 638.2348509740817, 576.1285900643402, 1374.1136739723825, 533.058342403444, 557.234337284843, 600.8671868077869, 501.70069275295447, 530.5178803162105, 807.8916987635799, 444.3952241692697, 435.0091131785731, 377.69873415870376, 428.8843426714803, 381.45202705687893, 108.37582732933951, 274.7558942858365, 201.3133828126309, 109.73114742069342, 149.8938410470016, 78.37701620781635, 123.03791276785503, 220.17167924493296, 74.32132958145122, 115.61957071400163, 193.47344912738922, 63.56986703024833, 161.36361835549963, 95.0513930414108, 70.28744116463642, 160.9910570268246, 91.54293208094725, 211.444581422092, 98.00776599620825, 130.63667934698682, 64.43466553527396, 53.20868184322434, 96.98796357544154, 107.16064859858243, 60.949552012535136, 319.5069239034522, 77.48221556211989, 58.122799664340796, 54.330127684841855, 214.41215340455466, 263.30591599872736, 304.6559694368153, 3659.671835428794, 371.71115934082343, 315.1570049652523, 788.4372149180157, 226.23680023817312, 917.4464698256048, 181.44742021444782, 257.8011380768366, 601.904764764376, 673.3951375202403, 1190.9848622276493, 664.1834558093309, 220.45120374749888, 848.715946157064, 486.4883538014805, 518.0036139487594, 455.1681230945396, 296.6690049083506, 445.9695900497944, 528.4002854252125, 325.91905963110696, 724.5200652243639, 333.2447663959146, 421.51982997237934, 288.6360633615573, 273.44681450729394, 247.25759163925977, 287.6484642934136, 293.4490482475902, 297.46284005796133, 267.0732460747846, 248.41774170785524, 199.08252239648527, 382.3868133729173, 121.2209581474301, 125.6066049954045, 137.6194321566989, 91.20033624831552, 113.72231276652057, 207.61121760520996, 115.82003988864378, 81.22260233357211, 77.0004680920693, 100.66146457864355, 390.56694122196353, 85.56461382420271, 163.18832753813876, 104.52084899928246, 101.95655149016262, 72.46360244848566, 226.33598832119793, 97.21246074609614, 69.9743998376845, 142.04942609071986, 79.91011025199039, 177.21358296873728, 75.50685146733787, 282.0704374537965, 163.20954426360547, 94.5759394807806, 101.99564246549251, 176.7104077851508, 123.59221435456978, 155.92830972507113, 433.7897634207902, 186.34789733728462, 204.63448507158918, 342.4995830899367, 1081.734564077727, 175.64717969099354, 294.1583539186656, 382.08220323106843, 615.2357662825112, 359.85077655786415, 269.50345516704846, 177.23388609164934, 350.07751581917626, 451.1063692161838, 460.15206636608895, 365.1082691168036, 202.78381303655263, 265.91096012079163, 219.50861145573768, 217.0465307547051, 247.6653829822935, 246.11215789509697, 204.2283443076773, 224.54344659705274, 221.38398167643794, 215.81806983955548, 199.2181761466295, 391.02290305728957, 3085.956158760348, 3444.0583623931557, 3182.2861148113, 2475.243700863111, 2998.8646228988787, 2161.838250367199, 438.24943711452846, 449.5332122715191, 460.28340536382905, 2017.6353516670106, 913.3243226766667, 78.85731724707998, 80.03421626388182, 157.87863042728222, 103.40215597390146, 60.47404245318891, 67.24979625760314, 52.17387946573929, 41.546592764935035, 46.53671210452625, 90.75725280134324, 41.90996689804748, 37.10465449741039, 41.01793734667901, 39.287864597147504, 54.28247989093543, 48.84101792036749, 61.40417001793236, 49.72996385357039, 324.4310469754982, 82.37806421366778, 163.73382108265875, 120.63103989513404, 242.78152954734972, 228.45818660917482, 188.52166789960788, 536.5496634426893, 311.72937699111736, 195.92888876824614, 115.70960884736228, 208.16003544081568, 196.11467450470752, 195.29541428382112, 200.6936038112012, 150.7779167300923, 139.99633746806109, 126.69113654657775, 123.32368842933496, 195.73521015732712, 247.63581874926734, 110.13886304334059, 151.54348810663924, 115.55889987048918, 262.8367274820058, 79.22839441823567, 258.0248480869117, 116.93839550820454, 379.19700400451535, 102.07643590432016, 82.26524128967533, 110.58971315464674, 76.80640675965908, 308.7106851345309, 72.70956197387864, 106.89518826822338, 215.1910416168037, 110.03677057498959, 175.23999058892107, 60.51714710207034, 318.47122806324336, 48.683635189166466, 83.93631159235592, 135.40422332139377, 53.90236569807947, 92.3752831260044, 64.79835889497268, 38.676797964372, 48.160547024293045, 198.6289740906416, 128.47231747021772, 122.71186633459511, 125.14279003693542, 153.34983440889565, 289.82837832810077, 164.22893236597983, 706.2115443471632, 225.1290280658704, 226.4591266108747, 244.7967834565535, 295.9184581432224, 256.5514845330739, 172.28300056752104, 158.63292180898603, 161.69017114621556, 156.20110926006413, 132.09042958813035, 130.8664635059409, 125.66847358332586, 166.23486727824968, 215.37040329962215, 178.61388951716333, 292.6766431893962, 102.9353730815559, 140.5280384721828, 110.74722322618052, 183.77168611687267, 177.82931987589313, 244.12094093860654, 330.717957722313, 93.52826215159337, 195.81437209291408, 111.2275732026347, 164.5966858968284, 141.84641363020302, 195.12857080084115, 421.1972252360815, 155.7276483912063, 117.22001699926832, 64.65127136767842, 103.0273784497458, 81.9538873474187, 96.92227786418039, 66.62019831521586, 116.6657485757461, 83.41041729612662, 81.58963784615656, 78.20180644061307, 75.42601752635157, 256.0283773696469, 189.4395760512333, 200.57350007802205, 321.5301325237952, 237.45344145944784, 108.52463808940249, 145.26257045906152, 219.0953922486677, 221.0318984315352, 161.64833406495342, 234.95638070179012, 188.20955943945037, 179.96574557916793, 175.33823138191858, 143.13197943670102, 143.20507378440752, 155.1497582534104, 124.60917820169318, 96.02124404579074, 115.73314251465875, 162.38927613016034, 568.5400802914776, 234.28547551976848, 148.3441708140992, 139.9727739507758, 222.9532596526925, 62.911231278472975, 100.65864225639754, 64.26206317961528, 95.66753729932523, 61.80343577529693, 133.72427316198664, 229.14291254785, 75.96315419345817, 86.36046055415594, 68.81646669772717, 268.80697749979805, 54.833971407423505, 72.1020123802754, 91.39083705160652, 40.24708928028187, 51.719610024937474, 58.39533330105602, 46.39208850051493, 38.81246926450047, 38.389754257242224, 160.17858099389392, 65.85738508077719, 95.11738842644657, 260.93582119983995, 104.65485845603472, 237.63848345541965, 118.92884558615374, 165.94003626838642, 192.69054786060912, 192.87139414531842, 207.65586736132116, 90.50635527184062, 110.5793793008436, 150.45746375728467, 132.0652646358208, 93.48837040572936, 123.37508076532804, 192.40984020263164, 309.3902607081589, 156.87321685508869, 155.80071337725335, 515.8980424882072, 107.6591663560947, 182.53932718672968, 438.7191073328724, 119.65987534607528, 88.83025632111396, 76.67510487810354, 18.982751582438162, 25.391707980787455, 67.77757425073713, 56.16424227486447, 11.444835600227568, 17.790991008556784, 23.020087026649502, 11.648544455323531, 6.483496678797595, 8.099113914504978, 7.79231547374923, 14.221466136971392, 10.663268548637172, 5.630995096166478, 7.564136643831086, 6.8959813159167105, 22.239469692359208, 7.488533404213352, 12.678626569096645, 26.728495096154557, 16.28402088102098, 26.65732765881844, 9.604775597416095, 20.861046097289737, 143.5838613176583, 251.09220289010284, 110.59163626672347, 88.78913284946603, 113.9723182494555, 107.4077857586636, 76.22951737553701, 133.59564177692423, 43.08232751679279, 31.786700380778914, 29.154778647615494, 151.45433481694698, 21.542379075605034, 43.86409129112265, 20.024334622627816, 21.585506158466995, 45.097334518961276, 20.506016719767864, 15.392536415258236, 26.81455228300116, 11.672491293103391, 10.745075170156031, 20.956851608160047, 12.626890816891773, 21.339691708298254, 12.609951314937517, 58.497551711051145, 11.37033718263205, 13.074137199588769, 9.978682780028423, 16.046235255207606, 31.592551974516823, 48.03922022796565, 31.970617822067027, 66.0582940647307, 33.522562548356596, 29.730525305119848, 26.14129442239378, 32.5907167189424, 53.167482751983606, 34.91366346553237, 26.83669844107411, 30.062238423866475, 30.020979422979135, 27.654592729181267, 26.933911164637408], \"Term\": [\"com\", \"www\", \"https\", \"href\", \"youtube\", \"watch\", \"quot\", \"god\", \"amp\", \"white\", \"world\", \"black\", \"earth\", \"life\", \"women\", \"say\", \"come\", \"talk\", \"human\", \"http\", \"country\", \"race\", \"woman\", \"africa\", \"like\", \"years\", \"health\", \"based\", \"care\", \"religion\", \"prison\", \"corruption\", \"police\", \"crime\", \"war\", \"vote\", \"illegal\", \"rights\", \"service\", \"america\", \"trump\", \"nations\", \"west\", \"violence\", \"ppl\", \"legal\", \"majority\", \"africa\", \"anti\", \"media\", \"political\", \"laws\", \"citizens\", \"dare\", \"choose\", \"western\", \"military\", \"justice\", \"americans\", \"country\", \"law\", \"people\", \"countries\", \"community\", \"government\", \"problem\", \"american\", \"world\", \"don\", \"social\", \"right\", \"need\", \"money\", \"just\", \"like\", \"make\", \"quot\", \"good\", \"better\", \"way\", \"want\", \"think\", \"society\", \"stop\", \"know\", \"work\", \"life\", \"live\", \"person\", \"help\", \"talk\", \"time\", \"ted\", \"really\", \"did\", \"great\", \"female\", \"men\", \"male\", \"women\", \"gender\", \"dad\", \"boys\", \"inspiration\", \"beautiful\", \"inspirational\", \"wife\", \"father\", \"inspiring\", \"soul\", \"song\", \"son\", \"mother\", \"inspired\", \"girls\", \"girl\", \"loved\", \"courage\", \"sexual\", \"woman\", \"beauty\", \"heart\", \"story\", \"fantastic\", \"relationship\", \"mom\", \"love\", \"thank\", \"amazing\", \"incredible\", \"strong\", \"music\", \"wow\", \"god\", \"life\", \"art\", \"man\", \"feel\", \"like\", \"great\", \"talk\", \"just\", \"really\", \"video\", \"quot\", \"time\", \"good\", \"don\", \"ted\", \"know\", \"people\", \"work\", \"want\", \"did\", \"think\", \"way\", \"communication\", \"language\", \"sound\", \"touch\", \"computer\", \"accent\", \"intelligence\", \"english\", \"lecture\", \"title\", \"cool\", \"fascinating\", \"learning\", \"machine\", \"red\", \"audience\", \"damn\", \"word\", \"fun\", \"phone\", \"useful\", \"code\", \"understanding\", \"attention\", \"prove\", \"interesting\", \"meaning\", \"genius\", \"honest\", \"watching\", \"learn\", \"technology\", \"quot\", \"understand\", \"used\", \"ted\", \"words\", \"talk\", \"says\", \"talking\", \"video\", \"think\", \"like\", \"know\", \"mind\", \"just\", \"really\", \"good\", \"way\", \"guy\", \"time\", \"don\", \"use\", \"people\", \"things\", \"great\", \"thing\", \"idea\", \"point\", \"does\", \"want\", \"make\", \"say\", \"co2\", \"ice\", \"climate\", \"ocean\", \"warming\", \"carbon\", \"pollution\", \"cars\", \"air\", \"oil\", \"hack\", \"net\", \"gas\", \"water\", \"core\", \"car\", \"cities\", \"products\", \"para\", \"global\", \"sea\", \"production\", \"industry\", \"los\", \"animals\", \"produce\", \"data\", \"city\", \"animal\", \"product\", \"companies\", \"environment\", \"land\", \"change\", \"que\", \"food\", \"money\", \"quot\", \"nature\", \"use\", \"need\", \"people\", \"make\", \"new\", \"planet\", \"world\", \"just\", \"like\", \"don\", \"future\", \"years\", \"idea\", \"problem\", \"way\", \"think\", \"stop\", \"great\", \"know\", \"good\", \"human\", \"query\", \"www\", \"com\", \"https\", \"youtube\", \"href\", \"watch\", \"search\", \"results\", \"youtu\", \"amp\", \"http\", \"html\", \"twitter\", \"org\", \"facebook\", \"list\", \"sleep\", \"link\", \"gmail\", \"info\", \"2020\", \"numbers\", \"covid\", \"sir\", \"2019\", \"content\", \"movie\", \"check\", \"success\", \"video\", \"google\", \"best\", \"thanks\", \"ted\", \"great\", \"thank\", \"quot\", \"like\", \"really\", \"got\", \"talk\", \"good\", \"just\", \"people\", \"time\", \"life\", \"love\", \"teachers\", \"students\", \"books\", \"schools\", \"chinese\", \"income\", \"china\", \"teaching\", \"education\", \"teacher\", \"school\", \"college\", \"app\", \"democracy\", \"workers\", \"kids\", \"student\", \"capitalism\", \"book\", \"teach\", \"parents\", \"university\", \"children\", \"responsibility\", \"poverty\", \"jobs\", \"skills\", \"reading\", \"online\", \"math\", \"services\", \"read\", \"child\", \"poor\", \"public\", \"free\", \"work\", \"government\", \"quot\", \"money\", \"world\", \"don\", \"people\", \"just\", \"need\", \"want\", \"time\", \"good\", \"know\", \"way\", \"years\", \"cells\", \"patients\", \"patient\", \"doctors\", \"diet\", \"cure\", \"diseases\", \"disease\", \"doctor\", \"medical\", \"cancer\", \"vaccines\", \"treatment\", \"insurance\", \"healthcare\", \"hospital\", \"medicine\", \"health\", \"healthy\", \"drugs\", \"genetic\", \"blood\", \"dna\", \"sick\", \"cell\", \"drug\", \"eating\", \"autism\", \"robot\", \"robots\", \"brain\", \"body\", \"research\", \"care\", \"home\", \"eat\", \"food\", \"help\", \"need\", \"use\", \"quot\", \"just\", \"like\", \"people\", \"better\", \"work\", \"nuclear\", \"sun\", \"consciousness\", \"solar\", \"universe\", \"earth\", \"space\", \"fake\", \"scientists\", \"energy\", \"dark\", \"virus\", \"scientist\", \"theory\", \"evolution\", \"light\", \"planet\", \"mass\", \"billion\", \"plants\", \"science\", \"covid\", \"scientific\", \"species\", \"math\", \"developed\", \"plant\", \"night\", \"pure\", \"survive\", \"humans\", \"exist\", \"news\", \"years\", \"ago\", \"life\", \"power\", \"human\", \"time\", \"world\", \"like\", \"create\", \"god\", \"just\", \"quot\", \"need\", \"games\", \"racism\", \"race\", \"color\", \"racist\", \"white\", \"skin\", \"game\", \"black\", \"african\", \"culture\", \"play\", \"genetic\", \"playing\", \"based\", \"africa\", \"bias\", \"teach\", \"non\", \"evidence\", \"blame\", \"walk\", \"beauty\", \"topic\", \"medicine\", \"numbers\", \"systems\", \"physical\", \"kids\", \"western\", \"reality\", \"human\", \"problem\", \"people\", \"won\", \"quot\", \"islam\", \"religion\", \"muslim\", \"gay\", \"fish\", \"faith\", \"religious\", \"india\", \"proud\", \"girls\", \"bless\", \"god\", \"agenda\", \"group\", \"jesus\", \"deep\", \"hate\", \"europe\", \"claim\", \"bring\", \"biggest\", \"growing\", \"knew\", \"easier\", \"non\", \"changed\", \"come\", \"politics\", \"difference\", \"places\", \"answer\", \"wrong\", \"say\", \"country\", \"world\", \"believe\", \"woman\", \"true\", \"human\", \"quot\", \"talk\", \"stop\", \"make\", \"like\", \"life\", \"just\"], \"Total\": [3761.0, 3272.0, 3488.0, 3429.0, 2830.0, 2668.0, 9561.0, 985.0, 2700.0, 630.0, 2317.0, 609.0, 748.0, 2087.0, 1046.0, 1296.0, 836.0, 2836.0, 1249.0, 1233.0, 746.0, 325.0, 726.0, 406.0, 5109.0, 1572.0, 526.0, 481.0, 823.0, 252.0, 164.48502186174534, 144.3461031482294, 188.40986797001383, 153.4370031517332, 324.3077232214518, 135.52895205105682, 131.28926423379582, 202.56010113106612, 102.55446958706014, 368.24155432035826, 192.72901299143402, 112.1041884941241, 157.26576360180948, 194.66168577447988, 92.88048834537874, 103.11783296928333, 151.56956871768548, 406.1889462390778, 146.5871579404741, 340.9502617223945, 257.55709757896153, 153.49813891558452, 136.59697311580595, 154.1832258500544, 163.22955337715206, 180.35987045054412, 106.43273908824445, 166.19896130333936, 208.74272151089505, 746.5885783041683, 245.17019118278535, 6387.855546715763, 524.5418097894778, 245.531562610376, 672.9625659891755, 971.2906996719565, 318.164390541645, 2317.3806780196437, 3035.124859840282, 561.5908081633734, 1212.98203612007, 2180.754139100567, 1217.7829475695664, 4455.323968647613, 5109.653224630853, 2100.704394386775, 9561.55217416555, 2504.744326832715, 1450.879971105663, 2046.814742425194, 1716.2872998502526, 2364.6273611069037, 485.00744708171896, 873.5517829014663, 2390.53705390734, 1733.378650566468, 2087.3154332600748, 825.0262719425357, 969.9133989920725, 1297.4305026303255, 2836.0120798133116, 2139.1990537632405, 2082.6408084690697, 2116.590926727994, 1268.3330172169608, 2154.389764018019, 194.33022582125005, 675.7274142145887, 188.65222959742232, 1046.5560589885288, 174.84677911572857, 110.02356866603209, 102.89743974087011, 144.5615362305852, 756.5690873893527, 109.42948915133985, 126.66500326695473, 173.7572359906411, 347.88817554958376, 203.928754443237, 108.74482689479524, 187.4089829455494, 240.32595830304223, 149.23373370338612, 186.0517226965969, 239.92680243159006, 277.8005148503329, 108.34891659898335, 112.16523469218937, 726.3085965950447, 141.03384510549895, 357.8227595428937, 643.0530209515842, 139.90114730777094, 119.33373289590254, 162.5272532172294, 1888.5562737785053, 1582.5688398677553, 1015.840090471825, 185.04276446233305, 204.17295649655534, 352.1470165779936, 644.6636020440131, 985.7973340388123, 2087.3154332600748, 420.22802209645465, 1301.5601870449777, 903.6410813436744, 5109.653224630853, 2154.389764018019, 2836.0120798133116, 4455.323968647613, 2116.590926727994, 1914.367503673305, 9561.55217416555, 2139.1990537632405, 2504.744326832715, 3035.124859840282, 2082.6408084690697, 2390.53705390734, 6387.855546715763, 1733.378650566468, 1716.2872998502526, 1268.3330172169608, 2364.6273611069037, 2046.814742425194, 118.23233539853113, 315.0568666402162, 281.67138153306445, 154.11105465769208, 220.50407414157266, 116.38596599444129, 187.1830913578476, 340.96713082197545, 125.54036466901219, 201.24231615474324, 343.4138232129133, 115.99232967943222, 300.41246924450695, 177.2836887439086, 131.37382618723004, 302.8711367522521, 176.77907905055173, 409.6725073745326, 190.59763889630358, 257.9221967211043, 127.30840327002782, 105.56789992497879, 195.63673634927892, 216.8608139573032, 124.60064759721001, 667.4444668683607, 165.61583435883767, 125.32174974012285, 119.08827906998692, 471.0828704725312, 579.4776138528969, 677.692840044292, 9561.55217416555, 880.4587659085905, 746.8052079798528, 2082.6408084690697, 519.6463143044941, 2836.0120798133116, 408.16957646448304, 641.8861662109107, 1914.367503673305, 2364.6273611069037, 5109.653224630853, 2390.53705390734, 569.1947021780223, 4455.323968647613, 2116.590926727994, 2504.744326832715, 2046.814742425194, 979.7625957410328, 2139.1990537632405, 3035.124859840282, 1189.9198945380165, 6387.855546715763, 1255.5858197017724, 2154.389764018019, 1021.8491380921452, 1006.2723867290779, 706.5892942300353, 1213.6706090727475, 1716.2872998502526, 2100.704394386775, 1296.29996088227, 249.3642937842418, 200.14649931493437, 390.9839553241309, 124.77082566447189, 133.3292763583791, 147.17999174217016, 103.9058801062584, 131.72453820843214, 240.6413310500411, 139.23626513221936, 99.35818171016356, 94.8385524926647, 127.401925574825, 513.3392372295176, 115.30248960428598, 220.2344713462528, 144.9441123749284, 144.66122473784674, 103.57796775459995, 329.2369372292317, 142.9818915692931, 104.06057674366737, 211.47328868497416, 119.04823012009089, 266.33115825022566, 118.22420229370861, 446.9655482066136, 259.2703180863973, 151.22875577032872, 165.18814719778405, 288.4527135191139, 201.67284925237917, 268.5279568135661, 1093.8658928761981, 382.26373824006544, 445.41789705616645, 1217.7829475695664, 9561.55217416555, 405.68005542405695, 1189.9198945380165, 2180.754139100567, 6387.855546715763, 2100.704394386775, 1139.2551206169426, 453.430146628432, 2317.3806780196437, 4455.323968647613, 5109.653224630853, 3035.124859840282, 642.1978495548336, 1572.401031162468, 1006.2723867290779, 971.2906996719565, 2046.814742425194, 2364.6273611069037, 873.5517829014663, 2154.389764018019, 2390.53705390734, 2504.744326832715, 1249.5357913493885, 412.88400342182734, 3272.19115415311, 3761.163625645668, 3488.496556370452, 2830.034373120075, 3429.9567526892934, 2668.949281219042, 557.6691061935664, 572.6369825609032, 597.5773782192447, 2700.3099010335955, 1233.574265494004, 111.70090148336898, 114.04118342277108, 272.54287670268275, 183.87746051142204, 121.92504674963247, 138.54265037284003, 121.12118087569365, 101.85931865270346, 114.10382753161888, 246.00105677946294, 124.07968085392513, 121.08391784359178, 139.22215067399028, 135.82379980589369, 196.74216946520173, 180.54888897031185, 232.16003506358967, 190.33193937960974, 1914.367503673305, 372.9967102190806, 1045.5734646362275, 676.6291016087916, 2082.6408084690697, 2154.389764018019, 1582.5688398677553, 9561.55217416555, 5109.653224630853, 2116.590926727994, 780.5657835718513, 2836.0120798133116, 2504.744326832715, 4455.323968647613, 6387.855546715763, 2139.1990537632405, 2087.3154332600748, 1888.5562737785053, 124.52835254176136, 197.7967539711971, 260.4356174564689, 137.69316398378206, 202.58295261350648, 156.88722715778067, 368.0236117717423, 116.16228655815598, 392.97773183703333, 184.7172826583674, 620.8635562959419, 167.16484044592315, 135.32201034904986, 182.7801441823073, 131.04570153627014, 531.2458716145923, 127.86100756242945, 203.34022728460036, 412.6451869621186, 213.80231368199813, 343.10350699814444, 123.50822683356543, 665.5956901898574, 104.12482174629237, 185.52086895060586, 300.3082012013745, 121.66795188034655, 232.11852397737448, 164.10887585726152, 99.16770120901124, 124.39345937036123, 560.0890305873546, 411.6199300160062, 397.3390049168613, 414.3550330325379, 581.057732911491, 1733.378650566468, 672.9625659891755, 9561.55217416555, 1217.7829475695664, 2317.3806780196437, 3035.124859840282, 6387.855546715763, 4455.323968647613, 2180.754139100567, 1716.2872998502526, 2139.1990537632405, 2504.744326832715, 2390.53705390734, 2046.814742425194, 1572.401031162468, 167.15946969016093, 217.19772623774608, 180.43134804307505, 299.71914927255756, 106.05820258871621, 150.71234053791312, 120.15720119786735, 201.50812426898435, 195.0659535106102, 268.2645596256955, 364.6214917781759, 104.09065170518579, 219.00895671293378, 127.33788559052708, 189.55892323162627, 166.85529612892472, 234.9186224165161, 526.3922245090771, 201.25931691359833, 177.75202741309732, 99.2524962817417, 160.63303377183553, 129.3790912423473, 156.5987890886819, 110.82487528610784, 198.51577666494612, 143.8459322430617, 140.78105717090614, 141.5613055378384, 144.77367363670135, 519.6646844670151, 386.67133223192803, 443.75699716253604, 823.8626905393986, 583.9549845400073, 222.21772485847768, 445.41789705616645, 1297.4305026303255, 2180.754139100567, 1189.9198945380165, 9561.55217416555, 4455.323968647613, 5109.653224630853, 6387.855546715763, 1450.879971105663, 1733.378650566468, 156.08359580540673, 129.23416230867025, 114.49320964342007, 139.85662599221243, 197.1354730238426, 748.482165816334, 330.9579859996649, 224.95893884919477, 214.60856424261192, 356.4721202564496, 113.02985933500132, 185.0084480188583, 118.76347721769473, 177.26774205313689, 116.91989069143825, 259.3739999773904, 453.430146628432, 157.79352459841857, 181.3481847414727, 150.39106122576823, 589.8740914577014, 121.08391784359178, 168.92474289378205, 214.3555801253735, 99.16770120901124, 132.96922160226686, 171.32199646906474, 146.0263699584683, 125.812131349494, 128.1894009312794, 548.110217616835, 227.3762101006178, 385.4328139243321, 1572.401031162468, 471.15087472646877, 2087.3154332600748, 650.7305850554983, 1249.5357913493885, 2139.1990537632405, 2317.3806780196437, 5109.653224630853, 419.96153213005573, 985.7973340388123, 4455.323968647613, 9561.55217416555, 2180.754139100567, 124.38139897465379, 194.04451888541405, 325.46442808111243, 179.83161443579974, 188.0820499060437, 630.3883751256279, 140.4033903256205, 249.59982818237555, 609.4391395698435, 211.24294090959134, 304.7489685892337, 269.1550674341741, 99.2524962817417, 162.46002218303678, 481.4687744489185, 406.1889462390778, 118.93601515934871, 213.80231368199813, 292.8462137921062, 188.89177093224538, 106.65349836241556, 138.9772543230709, 141.03384510549895, 271.69835536845284, 234.9186224165161, 124.07968085392513, 169.92513000019554, 159.89116769069346, 531.2458716145923, 180.35987045054412, 346.13752258844926, 1249.5357913493885, 971.2906996719565, 6387.855546715763, 396.25518586276957, 9561.55217416555, 144.53897070083127, 252.84032835200665, 111.61806348821251, 90.61388717979251, 154.61991645131187, 156.20111906982788, 117.64517022577272, 238.16365707451058, 208.86149339431682, 186.0517226965969, 186.8711008330364, 985.7973340388123, 141.30002700498176, 291.1223119676544, 134.62118177577898, 163.7107959738459, 350.6734685243706, 160.672303325307, 127.73375809946386, 260.1657969202762, 115.00911662385828, 123.86698511770166, 243.0919106905118, 167.4268313053454, 292.8462137921062, 175.97566991611725, 836.1014937948763, 164.35986939669, 192.4913073028791, 168.63717937185217, 275.9287753245929, 636.1426490957917, 1296.29996088227, 746.5885783041683, 2317.3806780196437, 827.6873350775475, 726.3085965950447, 597.0124043022581, 1249.5357913493885, 9561.55217416555, 2836.0120798133116, 873.5517829014663, 2100.704394386775, 5109.653224630853, 2087.3154332600748, 4455.323968647613], \"loglift\": [30.0, 29.0, 28.0, 27.0, 26.0, 25.0, 24.0, 23.0, 22.0, 21.0, 20.0, 19.0, 18.0, 17.0, 16.0, 15.0, 14.0, 13.0, 12.0, 11.0, 10.0, 9.0, 8.0, 7.0, 6.0, 5.0, 4.0, 3.0, 2.0, 1.0, 1.385, 1.3504, 1.3379, 1.2957, 1.2839, 1.2603, 1.2195, 1.2189, 1.211, 1.2013, 1.1919, 1.1886, 1.1883, 1.1709, 1.1634, 1.1604, 1.1598, 1.156, 1.1516, 1.1463, 1.1452, 1.1378, 1.1346, 1.1333, 1.1295, 1.1192, 1.1082, 1.1077, 1.1017, 1.1014, 1.0936, 0.7888, 1.0118, 1.0494, 0.8603, 0.7758, 0.9738, 0.5316, 0.3869, 0.7974, 0.5839, 0.3961, 0.5364, 0.1088, 0.0487, 0.2916, -0.296, 0.1982, 0.3959, 0.2518, 0.2849, 0.1346, 0.775, 0.4763, -0.0915, 0.0784, -0.0582, 0.4717, 0.3637, 0.1794, -0.3291, -0.2308, -0.241, -0.2712, 0.1378, -0.3531, 1.5674, 1.5658, 1.5514, 1.5269, 1.5128, 1.5054, 1.4814, 1.4811, 1.4794, 1.4776, 1.4675, 1.4609, 1.4427, 1.4217, 1.4217, 1.4021, 1.3908, 1.3779, 1.364, 1.3465, 1.3383, 1.3313, 1.3112, 1.3037, 1.2994, 1.2939, 1.2934, 1.2851, 1.284, 1.283, 1.261, 1.2312, 1.1804, 1.2642, 1.2498, 1.1568, 1.0458, 0.9616, 0.8016, 1.1188, 0.8056, 0.8636, 0.2527, 0.5309, 0.4351, 0.2372, 0.4328, 0.4309, -0.3082, 0.2421, 0.1287, 0.0121, 0.2083, 0.1263, -0.436, 0.2706, 0.2591, 0.4203, -0.0755, -0.0484, 1.8647, 1.8149, 1.6159, 1.6121, 1.5657, 1.5564, 1.5321, 1.5144, 1.4275, 1.3975, 1.3779, 1.3504, 1.3302, 1.3284, 1.3263, 1.3198, 1.2936, 1.2903, 1.2866, 1.2715, 1.2708, 1.2666, 1.2501, 1.2468, 1.2367, 1.2151, 1.1921, 1.1834, 1.1669, 1.1646, 1.1629, 1.1522, 0.9914, 1.0894, 1.089, 0.9804, 1.1202, 0.8232, 1.141, 1.0395, 0.7947, 0.6957, 0.4954, 0.671, 1.0032, 0.2936, 0.4814, 0.3758, 0.4484, 0.757, 0.3838, 0.2036, 0.6567, -0.2249, 0.6253, 0.3203, 0.6875, 0.6488, 0.9017, 0.5121, 0.1855, -0.003, 0.372, 2.1206, 2.1191, 2.1022, 2.0955, 2.0647, 2.0572, 1.994, 1.9775, 1.9768, 1.9403, 1.9229, 1.916, 1.8888, 1.8511, 1.8261, 1.8246, 1.7974, 1.7746, 1.7672, 1.7497, 1.7386, 1.7276, 1.7265, 1.7258, 1.717, 1.676, 1.6641, 1.6616, 1.655, 1.6423, 1.6344, 1.6347, 1.5808, 1.1995, 1.4059, 1.3466, 0.8559, -0.0548, 1.2873, 0.7269, 0.3826, -0.2157, 0.3601, 0.6829, 1.185, 0.2344, -0.1657, -0.2829, 0.0066, 0.9717, 0.3472, 0.6018, 0.6259, 0.0124, -0.1382, 0.6711, -0.1368, -0.255, -0.3271, 0.2883, 2.1229, 2.1187, 2.0892, 2.0854, 2.0433, 2.043, 1.9666, 1.9363, 1.9353, 1.9163, 1.8859, 1.8767, 1.8291, 1.8232, 1.6313, 1.6017, 1.4761, 1.4545, 1.3351, 1.2805, 1.2804, 1.1802, 1.0919, 0.9946, 0.9552, 0.9369, 0.8896, 0.8699, 0.8473, 0.8351, 0.4022, 0.667, 0.3232, 0.4529, 0.0281, -0.0666, 0.0497, -0.703, -0.6195, -0.2025, 0.2684, -0.4345, -0.3699, -0.95, -1.2831, -0.4751, -0.5247, -0.5245, 2.6499, 2.6491, 2.6092, 2.4363, 2.3693, 2.3539, 2.323, 2.277, 2.2389, 2.2024, 2.1666, 2.1664, 2.1619, 2.1572, 2.1254, 2.1168, 2.0951, 2.0166, 2.0086, 1.9954, 1.9877, 1.9462, 1.9225, 1.8994, 1.8665, 1.8631, 1.8455, 1.7382, 1.7304, 1.718, 1.7107, 1.623, 1.4952, 1.4847, 1.4624, 1.3275, 0.8711, 1.2492, 0.054, 0.9715, 0.334, 0.142, -0.4125, -0.1949, 0.1213, 0.2783, 0.0771, -0.1152, -0.2362, -0.0902, 0.1329, 2.9143, 2.9114, 2.9098, 2.8961, 2.89, 2.8499, 2.8383, 2.8277, 2.8274, 2.8256, 2.8223, 2.8129, 2.8079, 2.7846, 2.7787, 2.7575, 2.7343, 2.6969, 2.6634, 2.5035, 2.4912, 2.4758, 2.4633, 2.4401, 2.4109, 2.3883, 2.3749, 2.3744, 2.3264, 2.2679, 2.212, 2.2064, 2.1258, 1.979, 2.02, 2.2032, 1.7994, 1.1412, 0.6308, 0.9237, -0.7862, -0.2444, -0.4262, -0.6756, 0.6037, 0.4263, 3.1927, 3.1622, 3.0227, 3.0093, 3.0048, 2.9237, 2.8532, 2.7823, 2.7713, 2.7294, 2.6127, 2.59, 2.5845, 2.5819, 2.5611, 2.5362, 2.5162, 2.4676, 2.4568, 2.4169, 2.4127, 2.4065, 2.3473, 2.3462, 2.2969, 2.2544, 2.1224, 2.052, 2.0226, 1.9929, 1.9685, 1.9595, 1.7994, 1.4026, 1.6941, 1.0258, 1.4991, 1.1798, 0.7916, 0.7125, -0.0043, 1.6639, 1.0109, -0.1895, -1.0835, 0.0491, 4.7135, 4.7132, 4.671, 4.5851, 4.5334, 4.5212, 4.4561, 4.4088, 4.393, 4.1533, 3.4889, 3.4659, 3.0675, 2.8656, 2.761, 2.7431, 2.3806, 2.2353, 2.1784, 1.9357, 1.9213, 1.8791, 1.8258, 1.7717, 1.6292, 1.629, 1.6097, 1.5781, 1.5483, 1.5401, 1.4147, 0.8769, 0.6332, -0.7574, 1.0019, -1.406, 4.8077, 4.8073, 4.805, 4.7939, 4.5093, 4.4398, 4.3804, 4.2361, 3.2357, 3.0473, 2.9565, 2.9411, 2.9334, 2.9216, 2.9088, 2.7882, 2.7633, 2.7556, 2.6982, 2.5419, 2.5265, 2.3695, 2.3633, 2.2296, 2.1952, 2.1784, 2.1545, 2.1432, 2.1249, 1.987, 1.9696, 1.8118, 1.519, 1.6636, 1.2566, 1.6079, 1.6185, 1.6859, 1.1678, -0.3778, 0.417, 1.3315, 0.5675, -0.3227, 0.4904, -0.2942], \"logprob\": [30.0, 29.0, 28.0, 27.0, 26.0, 25.0, 24.0, 23.0, 22.0, 21.0, 20.0, 19.0, 18.0, 17.0, 16.0, 15.0, 14.0, 13.0, 12.0, 11.0, 10.0, 9.0, 8.0, 7.0, 6.0, 5.0, 4.0, 3.0, 2.0, 1.0, -6.2856, -6.4508, -6.1969, -6.4444, -5.7078, -6.6039, -6.6766, -6.2435, -6.932, -5.6633, -6.3202, -6.8654, -6.5272, -6.3313, -7.0787, -6.9771, -6.5925, -5.6106, -6.6342, -5.7953, -6.077, -6.6019, -6.7218, -6.602, -6.5487, -6.4592, -6.9977, -6.5525, -6.3306, -5.0565, -6.1778, -3.2224, -5.4991, -6.2206, -5.4014, -5.119, -6.0371, -4.4937, -4.3685, -5.6453, -5.0887, -4.6899, -5.1322, -4.2628, -4.1858, -4.8317, -3.9039, -4.7493, -5.0976, -4.8976, -5.0406, -4.8704, -5.8143, -5.5246, -5.0856, -5.2372, -5.188, -5.5863, -5.5325, -5.4258, -5.1524, -5.336, -5.373, -5.3871, -5.4901, -5.4513, -5.9364, -4.6918, -5.9821, -4.2932, -6.0967, -6.5673, -6.6583, -6.3186, -4.6652, -6.6006, -6.4644, -6.1549, -5.4788, -6.0339, -6.6627, -6.138, -5.9006, -6.39, -6.1834, -5.9466, -5.8083, -6.7568, -6.7422, -4.8817, -6.525, -5.5995, -5.0138, -6.5474, -6.7075, -6.3996, -3.9688, -4.1755, -4.6695, -6.2886, -6.2046, -5.7526, -5.2589, -4.9184, -4.3282, -5.6138, -4.7965, -5.1033, -3.9818, -4.5673, -4.3881, -4.1344, -4.683, -4.7854, -3.9162, -4.8631, -4.8187, -4.7433, -4.9237, -4.8679, -4.4473, -5.045, -5.0664, -5.2076, -5.0805, -5.1977, -6.1361, -5.2058, -5.5168, -6.1236, -5.8118, -6.4601, -6.0092, -5.4273, -6.5133, -6.0714, -5.5565, -6.6695, -5.738, -6.2673, -6.5691, -5.7403, -6.3049, -5.4677, -6.2366, -5.9493, -6.656, -6.8475, -6.2471, -6.1474, -6.7116, -5.0549, -6.4716, -6.7591, -6.8266, -5.4538, -5.2484, -5.1025, -2.6166, -4.9036, -5.0686, -4.1516, -5.4001, -4.0001, -5.6207, -5.2695, -4.4216, -4.3093, -3.7391, -4.3231, -5.426, -4.078, -4.6345, -4.5717, -4.701, -5.1291, -4.7214, -4.5518, -5.035, -4.2362, -5.0128, -4.7778, -5.1565, -5.2106, -5.3112, -5.1599, -5.14, -5.1264, -5.2342, -5.1339, -5.3553, -4.7026, -5.8514, -5.8159, -5.7245, -6.1359, -5.9152, -5.3133, -5.897, -6.2518, -6.3052, -6.0372, -4.6814, -6.1997, -5.5541, -5.9996, -6.0245, -6.3659, -5.227, -6.0721, -6.4009, -5.6928, -6.2681, -5.4717, -6.3248, -5.0069, -5.554, -6.0996, -6.0241, -5.4745, -5.832, -5.5996, -4.5764, -5.4214, -5.3278, -4.8127, -3.6627, -5.4805, -4.9649, -4.7034, -4.227, -4.7633, -5.0524, -5.4715, -4.7909, -4.5373, -4.5175, -4.7488, -5.3369, -5.0658, -5.2576, -5.2689, -5.1369, -5.1432, -5.3298, -5.2349, -5.2491, -5.2746, -5.3546, -4.6274, -2.5615, -2.4517, -2.5308, -2.782, -2.5901, -2.9174, -4.5133, -4.4879, -4.4643, -2.9864, -3.779, -6.2285, -6.2137, -5.5343, -5.9575, -6.4939, -6.3877, -6.6415, -6.8693, -6.7559, -6.0879, -6.8606, -6.9824, -6.8821, -6.9252, -6.6019, -6.7075, -6.4786, -6.6895, -4.814, -6.1848, -5.4979, -5.8034, -5.104, -5.1648, -5.3569, -4.311, -4.854, -5.3184, -5.845, -5.2578, -5.3174, -5.3216, -5.2943, -5.5803, -5.6545, -5.7544, -5.299, -4.837, -4.6018, -5.4121, -5.0929, -5.364, -4.5423, -5.7415, -4.5607, -5.3521, -4.1757, -5.4881, -5.7038, -5.408, -5.7725, -4.3814, -5.8273, -5.4419, -4.7423, -5.413, -4.9476, -6.0109, -4.3503, -6.2285, -5.6837, -5.2055, -6.1266, -5.5879, -5.9425, -6.4586, -6.2393, -4.8224, -5.2581, -5.304, -5.2843, -5.0811, -4.4445, -5.0125, -3.5539, -4.6971, -4.6912, -4.6134, -4.4237, -4.5665, -4.9647, -5.0472, -5.0281, -5.0627, -5.2303, -5.2396, -5.2801, -4.7401, -4.4812, -4.6683, -4.1745, -5.2194, -4.9081, -5.1463, -4.6398, -4.6727, -4.3559, -4.0523, -5.3153, -4.5764, -5.142, -4.75, -4.8988, -4.5799, -3.8104, -4.8054, -5.0895, -5.6845, -5.2185, -5.4474, -5.2796, -5.6545, -5.0942, -5.4298, -5.4518, -5.4942, -5.5304, -4.3082, -4.6095, -4.5524, -4.0804, -4.3836, -5.1666, -4.875, -4.464, -4.4552, -4.7681, -4.3941, -4.616, -4.6608, -4.6868, -4.8898, -4.8893, -4.5304, -4.7496, -5.0102, -4.8235, -4.4848, -3.2317, -4.1182, -4.5752, -4.6333, -4.1678, -5.433, -4.963, -5.4118, -5.0139, -5.4508, -4.679, -4.1404, -5.2445, -5.1162, -5.3433, -3.9808, -5.5704, -5.2967, -5.0596, -5.8797, -5.6289, -5.5075, -5.7376, -5.916, -5.927, -4.4985, -5.3873, -5.0196, -4.0105, -4.9241, -4.104, -4.7962, -4.4631, -4.3137, -4.3127, -4.2389, -5.0693, -4.869, -4.5611, -4.6915, -5.0369, -3.2365, -2.7921, -2.3172, -2.9963, -3.0032, -1.8059, -3.3728, -2.8448, -1.9679, -3.2671, -3.565, -3.7122, -5.1082, -4.8173, -3.8355, -4.0235, -5.6142, -5.1731, -4.9154, -5.5966, -6.1825, -5.96, -5.9986, -5.397, -5.685, -6.3235, -6.0283, -6.1208, -4.9499, -6.0384, -5.5118, -4.766, -5.2616, -4.7687, -5.7895, -5.0139, -2.9922, -2.4333, -3.2533, -3.4729, -3.2232, -3.2825, -3.6254, -3.0643, -4.196, -4.5001, -4.5865, -2.9388, -4.8891, -4.178, -4.9622, -4.8871, -4.1503, -4.9384, -5.2252, -4.6702, -5.5019, -5.5847, -4.9167, -5.4233, -4.8986, -5.4246, -3.8901, -5.5281, -5.3885, -5.6587, -5.1837, -4.5062, -4.0871, -4.4943, -3.7686, -4.4469, -4.567, -4.6956, -4.4751, -3.9857, -4.4063, -4.6694, -4.5559, -4.5572, -4.6393, -4.6657]}, \"token.table\": {\"Topic\": [1, 2, 4, 5, 6, 7, 8, 1, 2, 3, 4, 5, 6, 8, 1, 3, 4, 5, 1, 3, 4, 5, 9, 1, 3, 5, 9, 1, 4, 5, 6, 10, 1, 2, 3, 4, 5, 6, 7, 8, 1, 2, 3, 4, 5, 6, 7, 8, 1, 2, 3, 4, 5, 6, 7, 8, 1, 4, 5, 6, 8, 1, 2, 3, 4, 5, 6, 7, 1, 4, 6, 1, 2, 3, 4, 5, 6, 7, 8, 10, 2, 4, 6, 7, 8, 1, 2, 3, 4, 5, 7, 8, 1, 2, 3, 4, 5, 6, 7, 8, 10, 1, 2, 3, 5, 6, 7, 8, 1, 2, 5, 6, 1, 2, 3, 4, 5, 1, 2, 3, 4, 6, 7, 1, 2, 3, 4, 5, 6, 7, 8, 2, 7, 1, 2, 3, 4, 5, 6, 7, 8, 9, 1, 2, 3, 4, 5, 6, 10, 1, 2, 4, 5, 6, 9, 1, 2, 3, 4, 5, 6, 7, 8, 10, 1, 2, 3, 4, 5, 6, 7, 8, 1, 2, 3, 4, 5, 6, 7, 8, 1, 2, 3, 4, 5, 9, 1, 2, 4, 5, 6, 8, 10, 1, 4, 5, 6, 8, 1, 2, 3, 4, 5, 6, 8, 9, 1, 2, 4, 5, 6, 9, 1, 2, 5, 7, 10, 1, 2, 3, 5, 7, 1, 2, 3, 4, 5, 6, 7, 8, 1, 2, 3, 5, 6, 8, 1, 2, 6, 1, 2, 1, 2, 3, 4, 5, 6, 7, 8, 1, 2, 4, 5, 6, 7, 8, 10, 1, 2, 5, 6, 7, 1, 4, 6, 1, 2, 4, 5, 6, 7, 4, 8, 1, 2, 4, 5, 6, 7, 1, 4, 8, 1, 2, 4, 7, 8, 7, 1, 2, 3, 4, 5, 6, 7, 8, 1, 2, 4, 5, 6, 8, 10, 1, 2, 3, 4, 5, 6, 7, 8, 1, 2, 4, 6, 7, 1, 2, 4, 5, 6, 7, 8, 1, 4, 5, 6, 1, 3, 4, 6, 1, 2, 3, 4, 5, 6, 7, 1, 4, 1, 4, 6, 1, 4, 6, 1, 2, 3, 4, 5, 6, 7, 8, 10, 4, 8, 4, 1, 2, 3, 4, 5, 6, 7, 1, 2, 4, 5, 6, 1, 2, 3, 5, 6, 8, 9, 1, 2, 3, 4, 5, 6, 7, 8, 1, 2, 3, 4, 5, 6, 7, 8, 10, 3, 6, 1, 2, 4, 5, 6, 1, 4, 5, 6, 7, 3, 4, 5, 6, 7, 2, 4, 8, 1, 2, 3, 4, 5, 6, 8, 1, 2, 3, 4, 5, 6, 7, 8, 1, 2, 4, 5, 7, 8, 1, 4, 1, 4, 5, 6, 10, 1, 2, 3, 4, 5, 6, 10, 1, 2, 5, 1, 4, 5, 6, 7, 8, 1, 2, 3, 4, 5, 6, 7, 8, 1, 4, 6, 1, 2, 3, 4, 5, 6, 9, 1, 2, 7, 1, 2, 4, 5, 6, 1, 2, 3, 4, 5, 6, 10, 1, 5, 1, 2, 3, 8, 1, 2, 3, 4, 5, 6, 7, 8, 1, 2, 3, 4, 5, 6, 8, 10, 1, 5, 6, 1, 2, 3, 4, 6, 7, 8, 1, 2, 3, 4, 5, 6, 7, 8, 10, 4, 7, 1, 2, 3, 4, 6, 7, 8, 10, 1, 2, 4, 5, 7, 1, 4, 7, 1, 4, 7, 8, 1, 7, 1, 2, 7, 1, 2, 3, 4, 5, 6, 7, 8, 1, 2, 3, 4, 5, 6, 7, 8, 10, 1, 2, 4, 5, 6, 7, 1, 2, 4, 6, 7, 1, 2, 3, 4, 5, 7, 8, 10, 1, 2, 3, 4, 6, 7, 10, 1, 2, 4, 7, 1, 2, 4, 6, 7, 1, 2, 4, 5, 6, 7, 8, 1, 2, 4, 5, 7, 8, 1, 2, 3, 4, 5, 6, 1, 2, 4, 5, 6, 7, 8, 1, 4, 6, 8, 9, 10, 1, 2, 3, 4, 5, 8, 9, 10, 1, 2, 4, 5, 7, 8, 10, 1, 2, 3, 4, 5, 6, 8, 1, 2, 4, 5, 6, 1, 2, 4, 5, 6, 8, 10, 1, 2, 4, 5, 6, 8, 1, 2, 4, 5, 1, 2, 3, 4, 5, 7, 8, 1, 2, 6, 1, 2, 3, 4, 5, 6, 7, 8, 1, 2, 4, 10, 1, 2, 3, 4, 5, 6, 7, 1, 2, 3, 4, 5, 6, 7, 8, 1, 2, 3, 4, 5, 6, 10, 1, 2, 3, 4, 5, 6, 7, 8, 9, 1, 2, 3, 4, 5, 7, 9, 9, 1, 4, 5, 8, 2, 9, 10, 1, 2, 2, 4, 7, 8, 9, 1, 2, 3, 4, 5, 8, 1, 2, 5, 10, 1, 2, 10, 1, 4, 5, 6, 8, 10, 1, 2, 4, 5, 6, 7, 1, 2, 3, 4, 5, 6, 7, 8, 10, 1, 2, 3, 4, 5, 6, 7, 8, 10, 1, 2, 3, 4, 5, 6, 7, 1, 2, 3, 4, 5, 6, 7, 1, 4, 5, 6, 1, 2, 3, 4, 5, 6, 7, 8, 10, 1, 2, 3, 4, 5, 6, 10, 1, 2, 3, 4, 6, 7, 8, 10, 1, 2, 3, 4, 5, 6, 7, 8, 9, 2, 4, 6, 1, 2, 3, 4, 5, 6, 7, 8, 10, 1, 2, 4, 5, 6, 7, 1, 7, 1, 2, 4, 5, 7, 1, 2, 3, 4, 5, 6, 7, 1, 2, 3, 4, 5, 6, 7, 8, 1, 2, 4, 5, 6, 7, 8, 1, 2, 3, 4, 1, 2, 7, 1, 2, 3, 4, 5, 6, 7, 8, 4, 5, 6, 8, 1, 2, 3, 4, 5, 6, 7, 8, 1, 2, 3, 4, 5, 6, 7, 8, 1, 2, 3, 4, 5, 6, 7, 8, 9, 10, 1, 2, 3, 4, 5, 6, 7, 8, 4, 1, 2, 3, 4, 5, 6, 7, 8, 10, 1, 4, 5, 6, 7, 1, 4, 5, 6, 1, 2, 4, 5, 7, 8, 1, 4, 5, 6, 8, 10, 1, 2, 4, 6, 7, 1, 2, 3, 4, 5, 1, 2, 3, 4, 5, 9, 1, 2, 5, 1, 2, 4, 5, 8, 1, 2, 3, 4, 5, 6, 8, 1, 4, 7, 1, 2, 3, 4, 5, 6, 7, 1, 2, 3, 4, 5, 6, 7, 8, 10, 1, 2, 5, 8, 10, 1, 3, 4, 6, 1, 2, 3, 4, 5, 6, 7, 8, 9, 10, 1, 4, 5, 6, 1, 2, 3, 4, 5, 6, 9, 1, 2, 3, 4, 5, 6, 7, 8, 10, 1, 2, 3, 4, 5, 6, 7, 8, 10, 1, 2, 3, 4, 5, 10, 1, 3, 4, 5, 6, 1, 2, 3, 4, 5, 6, 1, 2, 3, 4, 5, 6, 1, 2, 3, 4, 5, 6, 7, 8, 1, 2, 3, 4, 5, 6, 7, 1, 2, 3, 4, 5, 6, 1, 4, 5, 6, 1, 2, 3, 4, 5, 6, 7, 8, 10, 1, 2, 3, 4, 5, 8, 1, 2, 3, 4, 5, 6, 7, 8, 9, 10, 1, 2, 3, 4, 5, 6, 7, 1, 2, 4, 5, 6, 7, 1, 2, 3, 4, 5, 6, 7, 8, 10, 1, 2, 4, 5, 8, 1, 2, 3, 4, 5, 6, 7, 8, 10, 1, 2, 3, 5, 6, 8, 1, 3, 4, 5, 6, 7, 8, 1, 2, 4, 6, 1, 2, 3, 4, 5, 6, 7, 8, 10, 1, 2, 1, 2, 3, 4, 5, 6, 7, 8, 9, 10, 1, 3, 4, 5, 6, 7, 8, 1, 2, 5, 6, 8, 1, 2, 3, 4, 5, 6, 7, 8, 1, 3, 4, 5, 6, 8, 1, 2, 7, 1, 2, 7, 9, 1, 2, 4, 6, 8, 1, 4, 6, 1, 2, 3, 4, 5, 6, 7, 8, 2, 3, 5, 6, 7, 1, 2, 3, 4, 5, 6, 7, 8, 1, 2, 3, 4, 6, 8, 1, 2, 3, 4, 5, 6, 8, 1, 2, 3, 5, 10, 1, 4, 6, 1, 2, 3, 4, 5, 6, 7, 8, 1, 2, 3, 4, 5, 6, 7, 8, 10, 1, 3, 4, 5, 6, 1, 2, 3, 4, 5, 6, 7, 8, 1, 2, 4, 5, 6, 7, 8, 1, 2, 4, 5, 6, 8, 1, 2, 3, 4, 5, 6, 7, 9, 10, 8, 1, 4, 5, 6, 8, 9, 2, 4, 5, 1, 2, 4, 5, 7, 1, 2, 3, 4, 5, 6, 1, 2, 4, 5, 6, 8, 2, 4, 5, 6, 8, 1, 2, 4, 6, 2, 7, 1, 7, 1, 2, 3, 4, 5, 6, 7, 8, 9, 10, 1, 2, 3, 4, 5, 6, 7, 8, 9, 1, 2, 3, 4, 5, 6, 7, 1, 2, 4, 5, 7, 8, 9, 1, 2, 4, 5, 6, 8, 10, 1, 2, 3, 4, 5, 7, 8, 10, 1, 4, 7, 8, 4, 5, 8, 1, 2, 3, 4, 5, 6, 8, 9, 1, 2, 3, 4, 5, 6, 7, 8, 9, 1, 2, 3, 4, 5, 6, 7, 8, 10, 1, 2, 4, 5, 1, 4, 5, 6, 1, 2, 4, 5, 6, 8, 10, 4, 7, 1, 2, 4, 5, 6, 10, 1, 4, 6, 1, 2, 3, 4, 5, 6, 8, 1, 6, 7, 1, 6, 1, 2, 3, 4, 5, 6, 7, 8, 9, 10, 1, 2, 4, 5, 6, 7, 8, 1, 2, 4, 5, 6, 7, 2, 4, 5, 6, 7, 8, 1, 4, 5, 6, 7, 8, 1, 2, 4, 5, 10, 1, 2, 3, 4, 5, 8, 1, 2, 3, 4, 5, 6, 7, 1, 2, 4, 5, 6, 7, 8, 1, 2, 4, 5, 6, 8, 4, 5, 1, 2, 3, 4, 5, 6, 7, 8, 9, 10, 1, 4, 9, 1, 9, 1, 3, 9, 1, 2, 3, 4, 5, 6, 7, 8, 10, 1, 2, 3, 6, 1, 2, 3, 4, 5, 6, 7, 8, 9, 1, 2, 3, 4, 5, 6, 7, 8, 10, 1, 2, 3, 4, 5, 6, 8, 1, 2, 4, 6, 1, 10, 1, 2, 3, 4, 6, 10, 1, 2, 3, 4, 5, 6, 7, 8, 1, 6, 1, 2, 3, 4, 5, 6, 7, 1, 2, 3, 4, 5, 6, 7, 8, 1, 2, 4, 6, 2, 4, 5, 6, 7, 2, 4, 5, 6, 7, 1, 2, 3, 4, 5, 6, 7, 8, 10, 1, 2, 3, 4, 5, 6, 7, 8, 1, 2, 3, 4, 5, 6, 7, 1, 6, 7, 1, 2, 3, 4, 5, 6, 7, 8, 10, 1, 2, 3, 4, 5, 7, 8, 4, 5, 7, 8, 3, 4, 7, 8, 2, 4, 5, 7, 8, 1, 2, 3, 4, 5, 6, 7, 1, 4, 6, 1, 4, 5, 6, 1, 2, 1, 2, 4, 5, 6, 7, 1, 2, 3, 4, 5, 6, 7, 8, 1, 2, 3, 5, 6, 8, 1, 7, 9, 1, 2, 5, 1, 2, 3, 4, 5, 6, 7, 1, 2, 3, 4, 5, 6, 4, 8, 1, 2, 4, 5, 6, 8, 1, 2, 3, 5, 1, 2, 3, 4, 5, 6, 1, 2, 3, 4, 5, 6, 2, 3, 4, 5, 6, 8, 1, 2, 3, 4, 5, 7, 8, 1, 2, 3, 4, 5, 6, 7, 8, 10, 1, 2, 3, 4, 5, 6, 8, 9, 1, 2, 4, 5, 8, 1, 2, 3, 4, 5, 6, 7, 1, 6, 1, 2, 3, 4, 5, 6, 7, 2, 8, 1, 2, 3, 4, 5, 7, 8, 1, 3, 4, 5, 6, 7, 8, 9, 1, 2, 3, 4, 5, 6, 7, 8, 10, 1, 2, 3, 4, 5, 6, 7, 8, 1, 2, 3, 4, 5, 6, 9, 10, 1, 2, 3, 6, 6, 1, 2, 6, 10, 1, 3, 4, 5, 6, 7, 8, 1, 2, 3, 4, 5, 6, 7, 8, 9, 10, 1, 2, 3, 4, 5, 6, 7, 8, 10, 1, 2, 3, 4, 5, 6, 7, 8, 1, 3, 4, 5, 6, 8, 1, 2, 3, 4, 5, 6, 7, 8, 1, 2, 3, 4, 5, 6, 7, 8, 10, 1, 2, 3, 4, 5, 6, 7, 8, 9, 1, 2, 3, 4, 5, 6, 7, 8, 9, 10, 1, 2, 3, 4, 5, 6, 8, 9, 1, 2, 3, 4, 5, 6, 7, 9, 10, 1, 2, 3, 6, 7, 1, 2, 7, 1, 2, 3, 4, 5, 6, 7, 8, 10, 1, 4, 6, 1, 4, 5, 6, 1, 2, 3, 4, 5, 6, 7, 8, 9, 1, 2, 3, 4, 5, 6, 7, 8, 9, 1, 2, 4, 5, 8, 1, 2, 3, 4, 6, 7, 8, 1, 2, 3, 4, 5, 6, 7, 8, 1, 2, 3, 4, 5, 6, 7, 8, 1, 2, 3, 4, 5, 7, 1, 5, 6, 7, 1, 2, 3, 4, 5, 6, 7, 8, 10, 1, 2, 5, 6, 1, 4, 5, 6, 7, 8, 1, 4, 6, 1, 2, 3, 4, 5, 7, 9, 1, 2, 3, 4, 5, 6, 7, 8, 1, 2, 4, 5, 6, 7, 4, 8, 10, 1, 2, 3, 4, 5, 6, 7, 8, 10, 1, 2, 3, 4, 5, 6, 7, 8, 1, 2, 4, 5, 7, 8, 10, 1, 2, 3, 4, 5, 6, 7, 8, 9, 10, 1, 4, 8, 1, 2, 3, 4, 5, 6, 7, 9, 1, 2, 3, 5, 6, 9, 1, 2, 6, 7, 1, 2, 3, 4, 5, 6, 10, 1, 2, 4, 6, 10, 1, 2, 3, 4, 5, 6, 7, 8, 9, 1, 2, 3, 4, 5, 6, 8, 1, 2, 3, 4, 5, 6, 8, 1, 2, 3, 4, 5, 6, 7, 8, 10, 1, 4, 6, 7, 1, 2, 3, 4, 5, 6, 7, 8, 10, 1, 2, 3, 4, 5, 6, 7, 8, 1, 2, 3, 4, 5, 6, 7, 8, 10, 1, 2, 3, 4, 5, 6, 7, 8, 1, 2, 3, 4, 5, 6, 7, 8, 10, 2, 3, 4, 5, 6, 7, 1, 2, 3, 4, 5, 6, 7, 8], \"Freq\": [0.10307471901100877, 0.20614943802201754, 0.19878695809265978, 0.28713671724495304, 0.08098727922293547, 0.04417487957614662, 0.08098727922293547, 0.12195069563011937, 0.0975605565040955, 0.004065023187670646, 0.08536548694108356, 0.3699171100780288, 0.12601571881779003, 0.19918613619586165, 0.12888151824693722, 0.6701838948840735, 0.08592101216462482, 0.10310521459754977, 0.7878107047542647, 0.012309542261785386, 0.009847633809428309, 0.05170007749949862, 0.13786687333199632, 0.33610590580817035, 0.08047606195406895, 0.01420165799189452, 0.5680663196757808, 0.5095540427424089, 0.1627742080982695, 0.014154278965066913, 0.14861992913320257, 0.15569706861573604, 0.10612311826658072, 0.21436869889849305, 0.12947020428522849, 0.14008251611188655, 0.06367387095994843, 0.07640864515193811, 0.04669417203729551, 0.2228585483598195, 0.012466686362269802, 0.05817786969059241, 0.008311124241513201, 0.864356921117373, 0.029088934845296205, 0.004155562120756601, 0.012466686362269802, 0.012466686362269802, 0.04134509003330667, 0.6369112678940337, 0.136832559872134, 0.026578986449982862, 0.10237831817771176, 0.003937627622219683, 0.02165695192220826, 0.030516614072202543, 0.8228294619254181, 0.07060582841604247, 0.002715608785232403, 0.0896150899126693, 0.010862435140929612, 0.6568931225904858, 0.028287263652221877, 0.06914664448320904, 0.05028846871506111, 0.025144234357530555, 0.15715146473456598, 0.009429087884073959, 0.7473314464373206, 0.02874351717066618, 0.22036696497510735, 0.04258770445421155, 0.06332606488408847, 0.045550327372765397, 0.032959179968911546, 0.7473216312052079, 0.02110868829469616, 0.03332950783373078, 0.011480163809396156, 0.002592295053734616, 0.052899992195595456, 0.628187407322696, 0.006612499024449432, 0.1256374814645392, 0.19176247170903352, 0.0037547240306763947, 0.09762282479758626, 0.011264172092029184, 0.6645861534297218, 0.03754724030676395, 0.10137754882826265, 0.08260392867488069, 0.24281628446030523, 0.057985978378580355, 0.1413408222977896, 0.1413408222977896, 0.10147546216251563, 0.08697896756787053, 0.07248247297322545, 0.09785133851385434, 0.057985978378580355, 0.7845161992068843, 0.006821879993103342, 0.013643759986206684, 0.013643759986206684, 0.04093127995862005, 0.08868443991034344, 0.054575039944826736, 0.06650802760604414, 0.1773547402827844, 0.1404058360572043, 0.6059620292995134, 0.03331524616125335, 0.5996744309025603, 0.3379117824927126, 0.002379660440089525, 0.026176264840984776, 0.2951201687023119, 0.08761380008349885, 0.4934040320491777, 0.11067006326336697, 0.009222505271947247, 0.004611252635973623, 0.08584509002344433, 0.2674404727653458, 0.5315792112990206, 0.013206936926683744, 0.06933641886508965, 0.003301734231670936, 0.006603468463341872, 0.019810405390025616, 0.41198724576694185, 0.5824647267739523, 0.2305445459615711, 0.05192444728864214, 0.1433114745166523, 0.22639059017847973, 0.03738560204782234, 0.05607840307173351, 0.06646329252946194, 0.047770491505550766, 0.14123449662510662, 0.06080079237539221, 0.8591416313914116, 0.011895807203881085, 0.0026435127119735745, 0.062122548731379, 0.0013217563559867872, 0.0026435127119735745, 0.0070904966056336335, 0.716140157168997, 0.028361986422534534, 0.17017191853520722, 0.021271489816900902, 0.05672397284506907, 0.3576229663732468, 0.17760329748941647, 0.0894057415933117, 0.08457299880448403, 0.04832742788827659, 0.0652420276491734, 0.04832742788827659, 0.08819755589610478, 0.041078313705035105, 0.22284421695902984, 0.30605214346304527, 0.12337727033354012, 0.10903107610870988, 0.1568517235248107, 0.04877706036442284, 0.021041084863084362, 0.011476955379864198, 0.3680524996103282, 0.19022938182106852, 0.14198279947514533, 0.1109671393956233, 0.03377260764214622, 0.04617887167395504, 0.09856087536381448, 0.008960079578528589, 0.5717359868572577, 0.03363152863866222, 0.2017891718319733, 0.04203941079832777, 0.058855175117658885, 0.0924867037563211, 0.5043078470873854, 0.05216977728490194, 0.1825942204971568, 0.12172948033143786, 0.008694962880816991, 0.02608488864245097, 0.10433955456980389, 0.07168530536179675, 0.3859977981019825, 0.02757127129299875, 0.03859977981019825, 0.4742258662395785, 0.11321885241683333, 0.013126823468618357, 0.10501458774894686, 0.0016408529335772946, 0.009845117601463768, 0.022971941070082123, 0.011485970535041062, 0.7203344378404323, 0.6094502383702947, 0.04688078756694575, 0.13126620518744808, 0.0187523150267783, 0.13126620518744808, 0.056256945080334894, 0.16053846670922156, 0.6421538668368862, 0.032107693341844316, 0.010702564447281437, 0.15518718448558086, 0.23033867400247884, 0.01867610870290369, 0.04357758697344195, 0.06225369567634564, 0.64121306546636, 0.06982674366923385, 0.24568669068804502, 0.12413643318974907, 0.020689405531624846, 0.0439649867547028, 0.0025861756914531057, 0.48878720568463696, 0.0025861756914531057, 0.024233894677458127, 0.2665728414520394, 0.03635084201618719, 0.0048467789354916255, 0.5210287355653498, 0.14540336806474877, 0.0076794411591352115, 0.038397205795676057, 0.9522507037327662, 0.12633939224084012, 0.864938916110367, 0.007697271181901708, 0.06542680504616452, 0.37331765232223285, 0.009621588977377136, 0.01347022456832799, 0.003848635590950854, 0.49262535564170934, 0.034637720318557684, 0.28827770939845176, 0.12684219213531878, 0.14606070609521557, 0.05765554187969035, 0.13068589492729812, 0.0269059195438555, 0.11915478655136007, 0.10377997538344264, 0.06582168232310573, 0.01371285048398036, 0.005485140193592144, 0.005485140193592144, 0.9077907020394999, 0.26064690055558853, 0.211468240073402, 0.5262116671593957, 0.1452996881205285, 0.07264984406026424, 0.740120286363942, 0.004540615253766515, 0.004540615253766515, 0.03178430677636561, 0.9376274476339714, 0.061149616150041615, 0.38477285552578433, 0.11773806620189615, 0.053406957864777636, 0.002427588993853529, 0.04976557437399735, 0.39084182801041817, 0.10628239954690395, 0.8654423963105036, 0.02277479990290799, 0.0631627148862442, 0.00902324498374917, 0.18046489967498341, 0.6045574139111944, 0.14437191973998673, 0.9930636912625407, 0.3108242081723638, 0.10238915092736689, 0.05942227509177543, 0.3967579598435467, 0.044795253530723014, 0.036567553902631035, 0.024683098884275948, 0.023768910036710174, 0.3580040356148686, 0.3239084131753573, 0.06819124487902259, 0.05114343365926694, 0.10228686731853388, 0.028413018699592747, 0.07387384861894114, 0.29720877661437545, 0.11629908650127736, 0.021536867870606918, 0.09045484505654905, 0.2627497880214044, 0.17229494296485534, 0.030151615018849685, 0.008614747148242768, 0.1433361110520225, 0.4858851222102458, 0.002429425611051229, 0.3109664782145573, 0.05587678905417827, 0.24038617190318784, 0.2268644497336335, 0.013521722169554315, 0.003004827148789848, 0.4777675166575858, 0.03605792578547817, 0.001502413574394924, 0.17661910247300835, 0.1005370275615586, 0.005434433922246411, 0.7146280607754031, 0.009872499014345283, 0.039489996057381134, 0.19744998028690566, 0.7503099250902415, 0.7657926975465019, 0.036758049482232096, 0.030631707901860077, 0.07351609896446419, 0.006126341580372016, 0.061263415803720155, 0.018379024741116048, 0.26906922510324743, 0.7244171445087431, 0.7686846758381808, 0.07320806436554103, 0.15373693516763617, 0.30084431019985813, 0.6286874687509856, 0.06556863171022549, 0.30532257549043096, 0.007828783986934127, 0.2583498715688262, 0.07045905588240714, 0.07045905588240714, 0.04697270392160476, 0.015657567973868254, 0.09394540784320952, 0.11743175980401191, 0.9770221892694214, 0.020461197681035003, 0.9945289128465913, 0.02841772927312121, 0.009472576424373736, 0.502046550491808, 0.03789030569749494, 0.2368144106093434, 0.07578061139498989, 0.1041983406681111, 0.15553509895168924, 0.15553509895168924, 0.0418748343331471, 0.02991059595224793, 0.6101761574258577, 0.050046817564511265, 0.011121515014335837, 0.005560757507167918, 0.011121515014335837, 0.005560757507167918, 0.044486060057343346, 0.8730389286253633, 0.0034563771465189385, 0.0063810039628041946, 0.005849253632570511, 0.04466702773962936, 0.9156740686624019, 0.017281885732594694, 0.00558337846745367, 0.0013293758255842072, 0.2810663558719264, 0.20212857081853433, 0.1351510562277774, 0.09448613665481782, 0.06578148754449342, 0.03229273024911495, 0.053821217081858254, 0.06578148754449342, 0.06936956868328398, 0.9134556941293552, 0.07612130784411295, 0.7086665280427246, 0.07738312662535497, 0.15069345711253337, 0.048873553658118934, 0.012218388414529734, 0.24960763627979884, 0.6136187725211721, 0.01386709090443327, 0.0034667727261083175, 0.1213370454137911, 0.6802595398019442, 0.06349089038151479, 0.02267531799339814, 0.20407786194058325, 0.027210381592077768, 0.1048097091292404, 0.0436707121371835, 0.8384776730339232, 0.13723544918404265, 0.13723544918404265, 0.2795536927823091, 0.12198706594137125, 0.2744708983680853, 0.030496766485342813, 0.010165588828447604, 0.00873581608315175, 0.18054019905180285, 0.562004168016096, 0.09027009952590143, 0.104829792997821, 0.005823877388767834, 0.00873581608315175, 0.034943264332607, 0.08672839618918587, 0.08672839618918587, 0.7458642072269985, 0.0693827169513487, 0.008672839618918588, 0.008672839618918588, 0.9560355076457273, 0.03463896766832345, 0.6805939838108999, 0.1525140579968403, 0.0038128514499210075, 0.13916907792211677, 0.01906425724960504, 0.7460601677903946, 0.0026788515899116502, 0.0013394257949558251, 0.0950992314418636, 0.012054832154602426, 0.1004569346216869, 0.042861625438586404, 0.22150659880456244, 0.7383553293485414, 0.027688324850570305, 0.04955241048402815, 0.08258735080671357, 0.30557319798484023, 0.09084608588738494, 0.016517470161342716, 0.45423042943692465, 0.13096437600138894, 0.04286106850954547, 0.16191959214717178, 0.2643099224755304, 0.05000457992780305, 0.09762798938285357, 0.03809872756404042, 0.2166865130204799, 0.9059092470839221, 0.019551998138501916, 0.06517332712833972, 0.36095282129819856, 0.06562778569058156, 0.17719502136457022, 0.026251114276232623, 0.009844167853587233, 0.06562778569058156, 0.29204364632308794, 0.01990547017777434, 0.03981094035554868, 0.9355570983553939, 0.045444808422612684, 0.8816292833986861, 0.009088961684522537, 0.02726688505356761, 0.03635584673809015, 0.24889823069741054, 0.045254223763165555, 0.5204235732764039, 0.02828388985197847, 0.05656777970395694, 0.06788133564474833, 0.02828388985197847, 0.7718089911786471, 0.22700264446430798, 0.18579161403500968, 0.053083318295717045, 0.19463883375096253, 0.557374842105029, 0.0827804293831086, 0.004474617804492357, 0.09396697389433949, 0.6309211104334222, 0.03355963353369267, 0.008949235608984713, 0.13200122523252453, 0.01342385341347707, 0.20157497740877156, 0.21989997535502354, 0.16492498151626764, 0.0916249897312598, 0.12827498562376372, 0.012216665297501308, 0.04886666119000523, 0.13438331827251437, 0.3665606037227617, 0.027355268934534455, 0.6072869703466649, 0.25569827054940336, 0.0075205373691000985, 0.15041074738200197, 0.09024644842920118, 0.04512322421460059, 0.06016429895280079, 0.39106794319320515, 0.28462556371206366, 0.2980289836098617, 0.18607100564001944, 0.06701709948899005, 0.08436270170966984, 0.034691204441359556, 0.011826546968645305, 0.03074902211847779, 0.002365309393729061, 0.0188575701943188, 0.9711648650074183, 0.32209246676497927, 0.20260655167474503, 0.13507103444983, 0.0883156763710427, 0.10909583551717039, 0.062340477438383085, 0.005195039786531924, 0.067535517224915, 0.0248128953516818, 0.01985031628134544, 0.0248128953516818, 0.01488773721100908, 0.9131145489418903, 0.049934585194936223, 0.024967292597468112, 0.9237898261063201, 0.03091689670711455, 0.05410456923745046, 0.6337963824958482, 0.2705228461872523, 0.0820235397928102, 0.9125118801950135, 0.016682284105421365, 0.003336456821084273, 0.9775818485776919, 0.23812062172354814, 0.18538802729341983, 0.2372966749355774, 0.11617649710387644, 0.07992283843316322, 0.04449312655042076, 0.06509179624968964, 0.03378181830680095, 0.3647296408287644, 0.19801491792058482, 0.17396318912157868, 0.12025864399503072, 0.03360652517121406, 0.08072155555830829, 0.014167456689825537, 0.011861126531016728, 0.002306330158808808, 0.3576541934993581, 0.005037383007033213, 0.010074766014066426, 0.02014953202813285, 0.025186915035166065, 0.589373811822886, 0.26441329915619793, 0.02812907437831893, 0.016877444626991357, 0.022503259502655144, 0.658220340452663, 0.013360371771975988, 0.04943337555631116, 0.004008111531592797, 0.14161994078294549, 0.005344148708790395, 0.0013360371771975988, 0.7602051538254337, 0.025384706366754377, 0.2448830912007531, 0.023891033287878352, 0.22099205791287477, 0.17320999133711806, 0.07764585818560464, 0.18515550798105723, 0.07764585818560464, 0.11700236790993358, 0.07650154824880273, 0.31500637514212887, 0.4905099270070293, 0.01390376473503976, 0.01390376473503976, 0.26417152996575544, 0.12513388261535785, 0.5770062365041501, 0.2570120182837342, 0.015268040690122824, 0.010178693793415215, 0.010178693793415215, 0.6565257496752814, 0.022902061035184235, 0.02799140793189184, 0.03366322166055253, 0.005610536943425421, 0.2777215786995583, 0.03927375860397795, 0.016831610830276265, 0.6255748691919345, 0.08798502051408437, 0.0322611741884976, 0.6452234837699521, 0.002932834017136146, 0.09385068854835667, 0.140776032822535, 0.09917051340397055, 0.07933641072317645, 0.6148571831046175, 0.04958525670198528, 0.07933641072317645, 0.054543782372183804, 0.01983410268079411, 0.7219663725436193, 0.09335772058753697, 0.024895392156676528, 0.012447696078338264, 0.018671544117507394, 0.13070080882255175, 0.22234954859449757, 0.03705825809908293, 0.3070541385352586, 0.11646881116854635, 0.015882110613892685, 0.22234954859449757, 0.06352844245557074, 0.010588073742595122, 0.10263437580239484, 0.00855286465019957, 0.22237448090518883, 0.05131718790119742, 0.03421145860079828, 0.5302776083123734, 0.05131718790119742, 0.21989987421232043, 0.07916395471643535, 0.23749186414930606, 0.039581977358217675, 0.0483779723267105, 0.08356195220068177, 0.29026783396026296, 0.20122096475060708, 0.021753617810876442, 0.1577137291288542, 0.5601556586300683, 0.04894564007447199, 0.025608011157793605, 0.06402002789448401, 0.03841201673669041, 0.15364806694676164, 0.012804005578896802, 0.012804005578896802, 0.6850142984709789, 0.23115329520139286, 0.008890511353899726, 0.004445255676949863, 0.04445255676949862, 0.05334306812339835, 0.6578978401885797, 0.0929227547462572, 0.7076425169138049, 0.1072185631687583, 0.08577485053500665, 0.008621259722635955, 0.24139527223380672, 0.5517606222487011, 0.05172755833581573, 0.008621259722635955, 0.01724251944527191, 0.12931889583953932, 0.028775780021439278, 0.8402527766260269, 0.12085827609004496, 0.32977695033174803, 0.46367967177517594, 0.14718233018161908, 0.003319902184547799, 0.04315872839912139, 0.007746438430611531, 0.002213268123031866, 0.003319902184547799, 0.0566046787292785, 0.9365501389753351, 0.25869888509864486, 0.7372918225311379, 0.14144020798530196, 0.029186074663633738, 0.011225413332166822, 0.4602419466188397, 0.029186074663633738, 0.0022450826664333645, 0.32553698663283787, 0.37173586679191817, 0.09637596546457138, 0.018930993216255094, 0.1772629364794795, 0.029256989516030597, 0.2633129056442754, 0.010325996299775505, 0.03269898828262243, 0.12591971306138489, 0.2675793902554429, 0.5141721616673217, 0.04721989239801934, 0.026233273554455188, 0.01573996413267311, 0.005246654710891038, 0.1323579642300598, 0.06384325333449944, 0.16661531967784, 0.3161019616317899, 0.06228610081414579, 0.07941477853803589, 0.08408623609909682, 0.09342915122121868, 0.0015571525203536447, 0.0961539123434968, 0.004006413014312367, 0.04407054315743603, 0.10416673837212154, 0.016025652057249467, 0.004006413014312367, 0.7331735816191631, 0.9888938459766377, 0.04709504956796052, 0.7927666677273354, 0.015698349855986837, 0.13343597377588812, 0.011035836019437499, 0.011035836019437499, 0.9821894057299374, 0.10866657136088377, 0.8864904505756307, 0.010075313341856552, 0.10075313341856552, 0.6548953672206759, 0.04030125336742621, 0.1914309534952745, 0.015958921768546633, 0.2314043656439262, 0.4628087312878524, 0.015958921768546633, 0.17554813945401296, 0.0957535306112798, 0.17088545166474373, 0.7502288121866798, 0.05001525414577865, 0.02083968922740777, 0.05912334398503907, 0.7632286223523226, 0.17199518250193185, 0.09111978823661712, 0.6864357380491823, 0.12453037725671007, 0.009111978823661713, 0.06378385176563199, 0.02126128392187733, 0.09817462096026487, 0.019634924192052976, 0.03926984838410595, 0.41233340803311247, 0.2847064007847681, 0.14726193144039731, 0.10144072878580421, 0.5112612730804532, 0.060864437271482524, 0.016230516605728672, 0.0192737384693028, 0.002028814575716084, 0.02333136762073497, 0.11259920895224268, 0.15317550046656436, 0.30222645556691896, 0.22237798646073167, 0.20680753498502516, 0.0862363466346823, 0.07825149972406358, 0.06228180590282611, 0.03633105344331523, 0.004391665800840302, 0.0007984846910618731, 0.2546939353545544, 0.013404943966029181, 0.1930311931108202, 0.2520129465613486, 0.21984108104287858, 0.03217186551847004, 0.0294908767252642, 0.25109991255715625, 0.325404988722029, 0.10633312623593862, 0.0640561001421317, 0.14861015232974553, 0.0717428321591875, 0.03202805007106585, 0.5854709012244486, 0.16791424324457535, 0.001485966754376773, 0.2436985477177908, 0.17406321096727212, 0.3328088593694243, 0.19587913340850355, 0.10443792658036327, 0.10583043226810145, 0.035740979318613204, 0.031099293692819285, 0.0181025739405963, 0.0023208428128969616, 0.37784805725306864, 0.09274452314393504, 0.15457420523989174, 0.06526466443462095, 0.07900459378927799, 0.07556961145061374, 0.15113922290122747, 0.2664148156075853, 0.1372439959190591, 0.040365881152664436, 0.18568305330225643, 0.07265858607479599, 0.12109764345799331, 0.08073176230532887, 0.08880493853586177, 0.2235235361627188, 0.16432552201916772, 0.30313465863163236, 0.13370585953112404, 0.10614816329188474, 0.03266097332057992, 0.002041310832536245, 0.03164031790431179, 0.00408262166507249, 0.0201291928412516, 0.8152323100706897, 0.150968946309387, 0.33079206273610173, 0.3393470298758285, 0.13402781852238604, 0.02281324570593805, 0.02281324570593805, 0.011406622852969025, 0.0028516557132422563, 0.011406622852969025, 0.12832450709590154, 0.15957682520546332, 0.001899724109588849, 0.003799448219177698, 0.022796689315066187, 0.011398344657533093, 0.7997838501369054, 0.1266097084265132, 0.8704417454322783, 0.15899885029291722, 0.024843570358268313, 0.019874856286614652, 0.019874856286614652, 0.7751193951779713, 0.15091270345403165, 0.7126433218662607, 0.016768078161559074, 0.011178718774372716, 0.06148295325904994, 0.008384039080779537, 0.036330836016711325, 0.29674036429656636, 0.24509983336703406, 0.03622544706997044, 0.08709522380652468, 0.08015843606972183, 0.08092919026269992, 0.1687951682622027, 0.006166033543824756, 0.22090743878419977, 0.14042178279305723, 0.03424921531537981, 0.03424921531537981, 0.1643962335138231, 0.40585320148725074, 0.0017124607657689906, 0.33588528033470383, 0.18473690418408711, 0.45344512845185014, 0.016794264016735193, 0.11387112330746275, 0.029966085080911253, 0.8510368162978795, 0.009329563696367327, 0.02303236037540684, 0.01166195462045916, 0.05451963785064657, 0.8743550476689255, 0.01749293193068874, 0.0052478795792066215, 0.004373232982672185, 0.026857437676513888, 0.7072458588148657, 0.10742975070605555, 0.1521921468335787, 0.04215392737556485, 0.03972197002697457, 0.020266311238252333, 0.14024287376870614, 0.7401256864209752, 0.0056745671467106525, 0.006485219596240746, 0.004863914697180559, 0.0014332821945515024, 0.01146625755641202, 0.004299846583654507, 0.038698619252890566, 0.9121407886125761, 0.02321917155173434, 0.0034398772669236057, 0.005446472339295709, 0.1968731121613905, 0.15685825196598593, 0.1856689513066772, 0.1592591435777102, 0.05121902105011785, 0.020007430097702287, 0.05041872384620976, 0.13284933584874317, 0.021608024505518467, 0.026409807728967016, 0.08939807802352302, 0.049260165441533096, 0.18609395833468056, 0.2700186846424777, 0.016420055147177696, 0.012771154003360432, 0.08392472630779713, 0.2919120915053813, 0.9942716993859066, 0.20769724257202515, 0.09738913766535151, 0.27129831206776495, 0.21862867639160544, 0.05763846923051416, 0.050682102254417626, 0.08148887029141658, 0.013912733952193073, 0.0019875334217418677, 0.837844591802384, 0.12186830426216495, 0.00761676901638531, 0.03046707606554124, 0.00761676901638531, 0.1529761245372979, 0.09561007783581119, 0.006374005189054079, 0.7393846019302731, 0.0162124685540497, 0.6917319916394539, 0.0162124685540497, 0.15672052935581376, 0.0648498742161988, 0.0486374056621491, 0.12176500964178266, 0.08817466215439435, 0.06718069497477663, 0.13016259651362974, 0.03778914092331186, 0.5626383204137544, 0.06620221441231477, 0.056744755210555525, 0.671479603324907, 0.009457459201759253, 0.1938779136360647, 0.1928068538621429, 0.05258368741694807, 0.10516737483389614, 0.2366265933762663, 0.41190555143275986, 0.05533975501781796, 0.8577662027761783, 0.01383493875445449, 0.006917469377227245, 0.048422285640590715, 0.01383493875445449, 0.036553218250594606, 0.8590006288889732, 0.09138304562648651, 0.06700897814347923, 0.7773041464643591, 0.02010269344304377, 0.09381256940087092, 0.03350448907173961, 0.03161935579621962, 0.8278522244828409, 0.00574897378113084, 0.03736832957735046, 0.07473665915470092, 0.02012140823395794, 0.00287448689056542, 0.07067810147987512, 0.05497185670656953, 0.8716965849184597, 0.08013544327742576, 0.016027088655485154, 0.6571106348748913, 0.11218962058839607, 0.005342362885161717, 0.11753198347355778, 0.016027088655485154, 0.06292658353595074, 0.187281498618901, 0.47944063646438656, 0.08540036337021885, 0.08689861535917007, 0.02097552784531691, 0.02097552784531691, 0.056933575580145904, 0.9962711046147766, 0.10399552147237856, 0.45312334355822087, 0.08171076687115458, 0.20799104294475712, 0.14856503067482651, 0.2497434292502323, 0.19979474340018583, 0.09989737170009291, 0.4495381726504181, 0.27629865048257374, 0.24801787878411372, 0.19055853311105206, 0.10122720663496405, 0.04376786096190242, 0.05768379624209703, 0.04219670697865464, 0.03366758535530955, 0.0006733517071061911, 0.006060165363955719, 0.7521105969600812, 0.006016884775680649, 0.006016884775680649, 0.240675391027226, 0.11670678929055227, 0.25411962184233156, 0.0018823675692024558, 0.0018823675692024558, 0.0018823675692024558, 0.5816515788835589, 0.04141208652245403, 0.1810014980548564, 0.28384325831329754, 0.17688782764451877, 0.04936404492405175, 0.016454681641350583, 0.0987280898481035, 0.0905007490274282, 0.012341011231012937, 0.08638707861709055, 0.22630897902868055, 0.22212581860301178, 0.2777618522644064, 0.09244784540727985, 0.04057665612898709, 0.05521771761882779, 0.05187118927829277, 0.03221033527764954, 0.0016732641702675087, 0.16758031653010586, 0.048412091442030576, 0.01862003517001176, 0.5809450973043669, 0.12661623915607997, 0.05586010551003528, 0.047610452550870666, 0.8728582967659622, 0.0031740301700580445, 0.025392241360464356, 0.05078448272092871, 0.738262670216121, 0.04486679211258194, 0.004078799282961994, 0.0774971863762779, 0.008157598565923989, 0.12644277777182183, 0.7752536991047391, 0.03908842180360029, 0.01302947393453343, 0.10423579147626744, 0.019544210901800144, 0.04560315877086701, 0.12252414640822291, 0.10181583997303031, 0.4538570493713046, 0.03278815185572163, 0.05522215049384695, 0.18637475791673344, 0.04314230507331793, 0.001725692202932717, 0.013315026536879144, 0.033287566342197865, 0.5359298181093856, 0.016643783171098932, 0.013315026536879144, 0.3328756634219786, 0.05326010614751658, 0.06372452414880297, 0.10355235174180484, 0.5894518483764276, 0.04779339311160224, 0.1433801793348067, 0.04779339311160224, 0.7952067808138105, 0.13576701135845543, 0.019395287336922206, 0.04848821834230551, 0.23379312595692206, 0.43596668979671943, 0.01916337098007558, 0.039763994783656824, 0.06707179843026452, 0.030661393568120927, 0.04647117462668328, 0.1140220573314497, 0.013414359686052904, 0.15421746205667028, 0.17735008136517083, 0.015421746205667029, 0.034698928962750814, 0.10024135033683568, 0.5166284978898454, 0.26009592854435115, 0.25187619265355904, 0.23308822490317702, 0.09002567880391388, 0.06106089518874158, 0.02191929570877903, 0.0352274395319663, 0.04070726345916106, 0.00039141599479962553, 0.005871239921994383, 0.04128097136975148, 0.04128097136975148, 0.10733052556135385, 0.09081813701345325, 0.4293221022454154, 0.2064048568487574, 0.07430574846555266, 0.1886404853895972, 0.11482464328062439, 0.07381584210897282, 0.4921056140598188, 0.11482464328062439, 0.008201760234330313, 0.3975630972668537, 0.17575197897467618, 0.03151414795407986, 0.2084782095423745, 0.03999872624940906, 0.01696915659065839, 0.05817996545368591, 0.061816213294541275, 0.00969666090894765, 0.16799913765895413, 0.1175993963612679, 0.6719965506358165, 0.008399956882947706, 0.033599827531790825, 0.0974289209989302, 0.690474527079375, 0.09954694102064608, 0.020121190206300803, 0.067247135689479, 0.01800317018458493, 0.0015885150162869056, 0.0037065350380027797, 0.0026475250271448423, 0.07199410703315345, 0.7451390077931382, 0.07199410703315345, 0.05759528562652276, 0.025197937461603707, 0.021598232109946033, 0.016922030567254196, 0.5358643012963829, 0.21998639737430453, 0.005640676855751398, 0.14101692139378497, 0.07332879912476818, 0.005640676855751398, 0.7917156525233163, 0.05278104350155442, 0.05937867393924873, 0.09236682612772024, 0.33179346978205565, 0.16994299671763827, 0.14138114852979988, 0.17137108912703017, 0.05426751155689289, 0.05283941914750097, 0.05379148075376225, 0.010472677668874067, 0.014280924093919182, 0.0689098667306587, 0.9223320623949703, 0.22895598910148754, 0.4379359523082144, 0.13445402044550442, 0.048403447360381595, 0.04148866916604137, 0.05915976899602195, 0.003073234753040101, 0.04225697785430139, 0.003073234753040101, 0.0007683086882600252, 0.31686978364447477, 0.01267479134577899, 0.1267479134577899, 0.02534958269155798, 0.006337395672889495, 0.03168697836444748, 0.48164207113960167, 0.030251785242828576, 0.10083928414276193, 0.06050357048565715, 0.3932732081567715, 0.4033571365710477, 0.09057104991241173, 0.2294466597781097, 0.4649313895503802, 0.04226648995912547, 0.04830455995328625, 0.0966091199065725, 0.018114209982482345, 0.0060380699941607816, 0.7801724470197948, 0.0439946868620185, 0.0439946868620185, 0.05279362423442221, 0.05865958248269134, 0.02053085386894197, 0.08200859640459474, 0.0037276634729361243, 0.9095498873964143, 0.046824725459596594, 0.07662227802479443, 0.8300746786019396, 0.046824725459596594, 0.045876487098028884, 0.9367682688081381, 0.008879320083489461, 0.001479886680581577, 0.0073994334029078845, 0.7516484183844147, 0.19730770982590884, 0.046978026149025916, 0.13703570975192347, 0.32150685749489744, 0.38651097622337394, 0.019325548811168696, 0.05797664643350609, 0.03513736147485218, 0.012298076516198261, 0.02810988917988174, 0.7075736390271372, 0.024611257009639554, 0.024611257009639554, 0.1722787990674769, 0.06768095677650877, 0.4237208289291826, 0.042700548651778095, 0.0008211643971495787, 0.2808382238251559, 0.023813767517337783, 0.1847619893586552, 0.028740753900235255, 0.013959794751542838, 0.07905929153121985, 0.7864318999684501, 0.004161015343748413, 0.012483046031245238, 0.11234741428120715, 0.004161015343748413, 0.0332319962433366, 0.37662929075781476, 0.1329279849733464, 0.060925326446117097, 0.2713946359872489, 0.0775413245677854, 0.0387706622838927, 0.031236953551085155, 0.6218993479716044, 0.2669339667092731, 0.07667252235266356, 0.9944626929647656, 0.8117448707527082, 0.10704327965969777, 0.07136218643979851, 0.06162491763088409, 0.1750147660717108, 0.02957996046282436, 0.43383942012142396, 0.07887989456753162, 0.04436994069423654, 0.009859986820941453, 0.16761977595600472, 0.36822124310225557, 0.12885450723752656, 0.06328086120561802, 0.1751687607285948, 0.04035301294271294, 0.07887179802439348, 0.10134108932204046, 0.04264579776900345, 0.00045855696525810163, 0.010544235162987595, 0.05272117581493797, 0.8119061075500448, 0.010544235162987595, 0.11598658679286354, 0.18696426827088017, 0.07899898659332966, 0.221197162461323, 0.23699695977998894, 0.07022132141629302, 0.08865441828806994, 0.058810356686145406, 0.058810356686145406, 0.5578144678730147, 0.015566915382502737, 0.11934635126585431, 0.04670074614750821, 0.007783457691251368, 0.0025944858970837893, 0.24647616022295998, 0.10956925111916838, 0.3561000661372972, 0.05478462555958419, 0.10956925111916838, 0.047936547364636165, 0.3150115969676091, 0.28342521122339775, 0.11610189375416294, 0.1331757016591869, 0.12293141691617253, 0.11610189375416294, 0.0034147615810047926, 0.07170999320110064, 0.07853951636311023, 0.07170999320110064, 0.9930575932735579, 0.28207680547796005, 0.20954276978362746, 0.338492166573552, 0.04835602379622172, 0.07253403569433257, 0.04835602379622172, 0.01602938819510829, 0.9697779858040515, 0.008014694097554145, 0.05027425860175702, 0.04309222165864887, 0.8331162854005449, 0.021546110829324436, 0.04309222165864887, 0.21327304703764025, 0.018280546888940593, 0.2010860157783465, 0.09140273444470295, 0.07312218755576237, 0.3960785159270462, 0.02935317956861227, 0.0036691474460765336, 0.33389241759296456, 0.5797252964800923, 0.044029769352918406, 0.007338294892153067, 0.16412756852187826, 0.6951285255044255, 0.09654562854228133, 0.019309125708456266, 0.009654562854228133, 0.05246230257884641, 0.42844213772724565, 0.005829144730982934, 0.5100501639610068, 0.005542274171566164, 0.9920670767103434, 0.004604099763481839, 0.9898814491485954, 0.5452534069576357, 0.12649002377886007, 0.1134966178708831, 0.09627644136633531, 0.03146595888558276, 0.04633792950314675, 0.027395735348144195, 0.008140447074877133, 0.004226770596570819, 0.0009392823547935153, 0.35673287982160146, 0.29074760725344395, 0.21135907619487948, 0.04536487489060828, 0.020620397677549217, 0.016496318142039373, 0.044333855006730816, 0.009279178954897148, 0.006186119303264765, 0.06591134929880577, 0.023262829164284387, 0.5079051034202091, 0.05040279652261617, 0.027139967358331785, 0.29853964094164964, 0.031017105552379184, 0.1563563538941816, 0.28144143700952684, 0.07505104986920716, 0.01876276246730179, 0.3627467410345013, 0.05628828740190537, 0.04377977909037084, 0.5159004694223526, 0.08301846634382684, 0.19568638495330615, 0.04150923317191342, 0.04743912362504391, 0.0533690140781744, 0.05929890453130489, 0.01764329094456016, 0.01323246820842012, 0.01764329094456016, 0.39035781214839355, 0.0110270568403501, 0.00441082273614004, 0.5050392032880346, 0.03749199325719034, 0.011673924196658168, 0.420261271079694, 0.22764152183483427, 0.33854380170308684, 0.5252971776122025, 0.013298662724359558, 0.45880386399040474, 0.15975920650469005, 0.27493444840342013, 0.10774458113107005, 0.10031392036341004, 0.03715330383830002, 0.02600731268681001, 0.007430660767660003, 0.28608043955491014, 0.11079648862610746, 0.3877877101913761, 0.14157329102224842, 0.02462144191691277, 0.10464112814687926, 0.006155360479228192, 0.02462144191691277, 0.03693216287536915, 0.1538840119807048, 0.34390557850836834, 0.11180469424757655, 0.34956657568546085, 0.05377947318237859, 0.029720235179735537, 0.029720235179735537, 0.05660997177092483, 0.021228739414096812, 0.0028304985885462416, 0.9447488176592184, 0.037153043391092856, 0.005307577627298979, 0.010615155254597958, 0.7804094777018431, 0.05435687904390947, 0.03106107373937684, 0.13200956339235156, 0.6266736544515306, 0.09126315356090252, 0.04867368189914801, 0.06084210237393501, 0.006084210237393501, 0.08517894332350902, 0.06692631261132852, 0.8757925914004067, 0.11548913293192176, 0.493281549444185, 0.04530136678569046, 0.13087061515866133, 0.0025167425992050256, 0.30955933970221816, 0.015100455595230154, 0.3503648962387405, 0.1940482502245332, 0.4527792505239108, 0.4348958025015284, 0.1275489456099889, 0.029197951404696252, 0.14445302273902355, 0.033808154258069344, 0.04917549710264632, 0.182871379850466, 0.7967227705008278, 0.1184317631825555, 0.07536566747980804, 0.9909716894283934, 0.00607958091673861, 0.5384587746764566, 0.03191629448369055, 0.03397541025683187, 0.22341406138583383, 0.02882762082397856, 0.0360345260299732, 0.07927595726594104, 0.001029557886570663, 0.016472926185130608, 0.009266020979135967, 0.10996056431578735, 0.008458504947368257, 0.6428463759999875, 0.050751029684209546, 0.050751029684209546, 0.08458504947368257, 0.059209534631577805, 0.018161109322256775, 0.13318146836321634, 0.6174777169567303, 0.05448332796677032, 0.04842962485935139, 0.12712776525579741, 0.028829361645668235, 0.6726851050655922, 0.14414680822834117, 0.09609787215222745, 0.009609787215222746, 0.04804893607611373, 0.020738107294726436, 0.7050956480206989, 0.05530161945260383, 0.08295242917890575, 0.1313413461999341, 0.006912702431575479, 0.114908687139805, 0.5601798498065493, 0.019151447856634165, 0.09575723928317083, 0.2058780644588173, 0.056179483293124874, 0.02407692141133923, 0.48956406869723107, 0.2086666522316067, 0.056179483293124874, 0.1605128094089282, 0.4440636298136895, 0.06998828948150541, 0.01206694646232852, 0.15687030401027074, 0.01206694646232852, 0.30167366155821296, 0.0024133892924657037, 0.1510188230355929, 0.2702442096426399, 0.08743195017850114, 0.08743195017850114, 0.0715352319642282, 0.015896718214272933, 0.3099860051783222, 0.007847984780905298, 0.35054332021376994, 0.48657505641612847, 0.09940780722480044, 0.04970390361240022, 0.0026159949269684325, 0.050861742828397075, 0.9469972117096789, 0.18427970353608117, 0.14370051796740949, 0.38278303912716066, 0.11316154326108957, 0.05616242951128013, 0.07383738405021187, 0.024577599506798567, 0.013805289935733664, 0.0021962961261394465, 0.005543033080256698, 0.04608798598494362, 0.003072532398996241, 0.9494125112898385, 0.005153456566276493, 0.9894636607250866, 0.0850692557210685, 0.0850692557210685, 0.829425243280418, 0.13747814328599076, 0.12140926939542042, 0.22317880403569929, 0.023210595619712726, 0.051777482536282234, 0.3553006560248333, 0.042850330374854265, 0.03570860864571189, 0.010712582593713566, 0.09477916550143335, 0.1852501871164379, 0.31880264759573035, 0.3963492375514485, 0.30334763828781125, 0.18489760809923733, 0.07800367841686574, 0.0866707537965175, 0.07511465329031516, 0.020223175885854084, 0.06066952765756225, 0.15022930658063033, 0.03755732664515758, 0.18898314026997837, 0.3014281087306155, 0.22961451542802372, 0.087404702374865, 0.0926017387322894, 0.05055299002221921, 0.03023730244319654, 0.01606356692294816, 0.0023622892533747297, 0.09895426187460499, 0.06850679668241884, 0.5328306408632576, 0.11417799447069807, 0.12178986076874461, 0.053283064086325764, 0.007611866298046538, 0.1256979031493537, 0.7039082576363807, 0.1256979031493537, 0.03351944083982765, 0.003955065263986648, 0.9927213812606487, 0.11900191034729786, 0.11050177389391944, 0.06800109162702735, 0.04250068226689209, 0.008500136453378418, 0.6460103704567598, 0.13070216440723792, 0.02929531271196712, 0.10366033728849905, 0.20506718898376985, 0.02478834152551064, 0.0225348559322824, 0.4529506042388763, 0.031548798305195365, 0.518608330793352, 0.47058904090507864, 0.048896597412868004, 0.02270199165597443, 0.013970456403676572, 0.085569045472519, 0.7858381727068072, 0.01047784230275743, 0.03317983395873186, 0.4443594249129059, 0.142623711521211, 0.12778425020686535, 0.09480766950831945, 0.03544982425093684, 0.0816170372289011, 0.019785948419127536, 0.05358694363513708, 0.8392570849379751, 0.049368063819880896, 0.07898890211180942, 0.029620838291928537, 0.0494485408523514, 0.11302523623394606, 0.18366600888016232, 0.0988970817047028, 0.550998026640487, 0.013814666366889671, 0.22103466187023474, 0.12433199730200704, 0.11742466411856221, 0.5180499887583627, 0.26459925198682566, 0.21985652133016126, 0.20597084629878265, 0.12265679611051103, 0.03162848201591794, 0.06325696403183588, 0.013114248640746461, 0.04165702509413582, 0.03702846675034295, 0.23029643907862257, 0.14944768918931892, 0.44344314333224133, 0.05389916659286911, 0.012249810589288436, 0.017149734825003808, 0.02449962117857687, 0.06614897718215755, 0.08375431199445953, 0.231935017830811, 0.028991877228851375, 0.0016106598460472986, 0.02093857799861488, 0.6104400816519262, 0.02093857799861488, 0.18882564135909, 0.7988777134423038, 0.007262524667657308, 0.015257493302950686, 0.04577247990885206, 0.19156630480371417, 0.06950635838010868, 0.07798274354841463, 0.03560081770688493, 0.10680245312065481, 0.4560295220548594, 0.0016952770336611874, 0.005919795897684382, 0.011839591795368764, 0.21903244821432213, 0.1302355097490564, 0.011839591795368764, 0.19535326462358463, 0.4262253046332755, 0.16840194029802433, 0.08420097014901216, 0.20208232835762918, 0.5388862089536779, 0.06523504804856343, 0.09785257207284515, 0.18172620527814098, 0.6523504804856343, 0.10490838969444304, 0.6784075866907315, 0.013987785292592404, 0.006993892646296202, 0.19582899409629365, 0.021518136591620357, 0.02331131464092205, 0.021518136591620357, 0.0986247927115933, 0.7854119855941429, 0.017931780493016962, 0.030484026838128838, 0.8288278447761083, 0.08775824238805853, 0.07800732656716314, 0.4501844412355246, 0.11254611030888115, 0.048234047275234775, 0.3858723782018782, 0.26746255274486624, 0.7221488924111389, 0.17880087172413317, 0.051085963349752336, 0.025542981674876168, 0.006385745418719042, 0.11494341753694276, 0.619417305615747, 0.12928977115250662, 0.3088588977532103, 0.08619318076833775, 0.028731060256112582, 0.294493367625154, 0.03591382532014073, 0.028731060256112582, 0.08619318076833775, 0.07397182134578038, 0.09041000386706492, 0.279449102861837, 0.09041000386706492, 0.44383092807468233, 0.016438182521284532, 0.04985634594553416, 0.17805837837690772, 0.7692121945882413, 0.1154879017901093, 0.38977166854161893, 0.4836055887460827, 0.5502226808350971, 0.03561311850065353, 0.017806559250326766, 0.13176853845241807, 0.03383246257562086, 0.21724002285398653, 0.014245247400261412, 0.5381360669211005, 0.14226585677224496, 0.043298304235031074, 0.08247296044767823, 0.03917465621264716, 0.15463680083939668, 0.16445413177120902, 0.8294208384982716, 0.04268738816177426, 0.7950526045130456, 0.02134369408088713, 0.010671847040443565, 0.11739031744487921, 0.01600777056066535, 0.018391679467519795, 0.809233896570871, 0.06437087813631928, 0.10115423707135887, 0.04413306021787685, 0.8091061039944089, 0.014711020072625616, 0.06865142700558621, 0.04413306021787685, 0.019614693430167487, 0.03905260072972216, 0.13490898433904017, 0.713597522424923, 0.003550236429974741, 0.1029568564692675, 0.003550236429974741, 0.036258378729716316, 0.1299258571148168, 0.10273207306752956, 0.015107657804048465, 0.006043063121619386, 0.7070383852294682, 0.013995436919558348, 0.01866058255941113, 0.09796805843690844, 0.3732116511882226, 0.027990873839116696, 0.041986310758675045, 0.4245282532266032, 0.3983736360128902, 0.18659454790258936, 0.017171277414348717, 0.23352937283514252, 0.02518454020771145, 0.07326411696788786, 0.02976354751820444, 0.004579007310492991, 0.03090829934582769, 0.13373702820451408, 0.7122274292752029, 0.048207533422557396, 0.02488130757293285, 0.04354228825263249, 0.02488130757293285, 0.003110163446616606, 0.010885572063158122, 0.254686031354389, 0.680795353043463, 0.044080274657490405, 0.004897808295276712, 0.009795616590553424, 0.06256794117701535, 0.015641985294253837, 0.11731488970690378, 0.03910496323563459, 0.09385191176552302, 0.570932463240265, 0.09385191176552302, 0.005055694696312452, 0.9909161604772405, 0.34676260965515376, 0.12084151548588692, 0.07355570507836595, 0.03152387360501398, 0.26269894670844984, 0.1418574312225629, 0.026269894670844982, 0.03095156828924361, 0.9672365090388628, 0.2730334937657055, 0.09361148357681331, 0.007800956964734443, 0.13261626840048554, 0.15601913929468886, 0.03120382785893777, 0.29643636465990886, 0.2236279001225791, 0.06473439214074658, 0.17654834220203613, 0.005884944740067871, 0.24716767908285062, 0.07061933688081445, 0.17066339746196826, 0.04707955792054297, 0.1784195503262133, 0.30218489057226244, 0.3233413589903905, 0.05923811157075857, 0.0733424238495106, 0.031029487013254486, 0.015514743506627243, 0.0042312936836256115, 0.012341273243908034, 0.2882130971789985, 0.12463269067199936, 0.40194042741719793, 0.06387425396939968, 0.021810720867599886, 0.05141098490219974, 0.012463269067199936, 0.034273989934799826, 0.09822157505383522, 0.11693044649266097, 0.11693044649266097, 0.004677217859706439, 0.014031653579119317, 0.5144939645677084, 0.0841899214747159, 0.05144939645677083, 0.021654714396150774, 0.20030610816439465, 0.13534196497594234, 0.6334003960874102, 0.9877268709449214, 0.1119123976049802, 0.18939021133150497, 0.6800830315994951, 0.017217291939227723, 0.08706009052145798, 0.4500564001532997, 0.2626558663189749, 0.01180475803680786, 0.025085110828216704, 0.07968211674845306, 0.08263330625765503, 0.19494480197881406, 0.24104012461419866, 0.37836577329878196, 0.0417738861383173, 0.11667878542081728, 0.009123032604919869, 0.004321436497067306, 0.005281755718637819, 0.0028809576647115375, 0.0062420749402083316, 0.1352231856264038, 0.669797087682187, 0.030962318204176574, 0.029698550114210184, 0.11942608450182393, 0.010742028764714322, 0.0012637680899663909, 0.0012637680899663909, 0.0025275361799327817, 0.1551810286467816, 0.38573569977914285, 0.16552643055656704, 0.062072411458712645, 0.17882766158343405, 0.03842577852206021, 0.01034540190978544, 0.005911658234163109, 0.10154131705815043, 0.23692973980235102, 0.09590013277714209, 0.005641184281008358, 0.01692355284302507, 0.5415536909768023, 0.2534620721837363, 0.16538644864498622, 0.28282061336331965, 0.13211343530812508, 0.04403781176937503, 0.05773846431984726, 0.04403781176937503, 0.021529596865027794, 0.26601128712916805, 0.24132161676688, 0.2652148461497394, 0.11707682397601109, 0.02867187525943129, 0.03663628505371776, 0.034246962115431816, 0.01035373273257241, 0.0007964409794286468, 0.283342741871331, 0.1814239347205985, 0.284611440715531, 0.10403330522439914, 0.02791137457239977, 0.044827359161732964, 0.044827359161732964, 0.02621977611346645, 0.0021144980736666494, 0.1968026300588458, 0.24915867416001142, 0.20848924704571312, 0.08694843038229291, 0.07058716660067865, 0.07572927807490028, 0.021503375255835882, 0.09022068313861577, 0.0004674646794746931, 0.0004674646794746931, 0.1490740147163274, 0.15404314854020495, 0.5764195235697992, 0.044722204414898215, 0.03478393676714305, 0.024845669119387896, 0.00496913382387758, 0.00496913382387758, 0.17298595693103416, 0.24291645015847352, 0.28708307746001416, 0.025763865925898705, 0.10305546370359482, 0.04048607502641225, 0.04416662730154064, 0.05152773185179741, 0.029444418201027094, 0.06488827178693812, 0.11679888921648862, 0.7137709896563194, 0.07786592614432575, 0.019466481536081437, 0.09132046606758198, 0.013698069910137297, 0.8949405674623034, 0.2495760539081925, 0.2747011600063327, 0.15577565780846916, 0.06867529000158318, 0.061975261708745795, 0.053600226342699064, 0.03685015561060561, 0.05527523341590841, 0.04355018390344299, 0.8146152858001612, 0.1400930746280532, 0.0363204267554212, 0.10522514445955766, 0.16660647872763296, 0.7015009630637178, 0.017537524076592943, 0.2850786541275221, 0.15560069966322918, 0.4225070093045347, 0.059060119580203775, 0.02498697366854775, 0.039752003563598697, 0.0022715430607770683, 0.006814629182331205, 0.0022715430607770683, 0.09200725965834865, 0.2300181491458716, 0.4958168992699899, 0.06644968753102957, 0.01533454327639144, 0.06644968753102957, 0.010223028850927627, 0.010223028850927627, 0.01533454327639144, 0.005072653767792744, 0.11159838289144038, 0.015217961303378233, 0.045653883910134696, 0.8217699103824245, 0.08096626642916334, 0.1862224127870757, 0.024289879928749, 0.12144939964374502, 0.4938942252178964, 0.008096626642916334, 0.08906289307207968, 0.14622833083024894, 0.03781767176644369, 0.2739680221302365, 0.24707545554076546, 0.056306311296705054, 0.08067769976841321, 0.13614361835919728, 0.021850210353945243, 0.1312256515525583, 0.07096897481924072, 0.42179673713322313, 0.14327698689922183, 0.048205341386654076, 0.02678074521480782, 0.12854757703107753, 0.0294588197362886, 0.06283952822054942, 0.04712964616541207, 0.5027162257643953, 0.18851858466164828, 0.054984587192980744, 0.14924387952380488, 0.03842804261932314, 0.048035053274153916, 0.01921402130966157, 0.9030590015540937, 0.10708497694755277, 0.30088266693556287, 0.3144641762069598, 0.05484840282679532, 0.16924650015125411, 0.028207750025209023, 0.013581509271396936, 0.010969680565359064, 0.001044731482415149, 0.8013903680086777, 0.10787947261655276, 0.08219388389832591, 0.005137117743645369, 0.027025792895091685, 0.03783611005312836, 0.027025792895091685, 0.1621547573705501, 0.19999086742367847, 0.545921016480852, 0.8706626754964263, 0.06640647524972743, 0.059027977999757716, 0.10073590867938116, 0.510874965445433, 0.09354048663085393, 0.20866723940728954, 0.007195422048527226, 0.028781688194108902, 0.057563376388217805, 0.32919896339575355, 0.2534540691631023, 0.17071733853974477, 0.0885632609489461, 0.03903775318144334, 0.09264183217685808, 0.015148978846530253, 0.011070407618618262, 0.8942124384807668, 0.006166982334350116, 0.04316887634045081, 0.0370018940061007, 0.01541745583587529, 0.003083491167175058, 0.9450287546849159, 0.037501141058925234, 0.015000456423570093, 0.01835928481099471, 0.06294611935198186, 0.059199326533411506, 0.017235246965423605, 0.8100566073749094, 0.01760992624728064, 0.0074935856371406975, 0.006744227073426627, 0.00037467928185703483, 0.09340182536432437, 0.2950648574009338, 0.45427251427194126, 0.03184153137420149, 0.09552459412260447, 0.010613843791400497, 0.008491075033120398, 0.010613843791400497, 0.009740147717881275, 0.00389605908715251, 0.7616795515383157, 0.07012906356874518, 0.023376354522915057, 0.1207778317017278, 0.00779211817430502, 0.31854372869499153, 0.18614288440612237, 0.22229662048500176, 0.12116387226435262, 0.03322235207248378, 0.06400188413963787, 0.03126809606822003, 0.020519688044769394, 0.000488564001065938, 0.00244282000532969, 0.8139088703634874, 0.0699452935468622, 0.11445593489486541, 0.7595924728586801, 0.03881129423365519, 0.0055444706048078845, 0.06098917665288672, 0.01663341181442365, 0.05544470604807884, 0.01663341181442365, 0.03881129423365519, 0.12373324616662806, 0.011104265681620467, 0.033312797044861404, 0.009517942012817544, 0.003172647337605848, 0.8185430131023088, 0.031579362071856104, 0.8447479354221509, 0.03947420258982014, 0.07894840517964027, 0.1707263284247433, 0.7200795948882318, 0.030290155043099617, 0.013768252292318008, 0.013768252292318008, 0.008260951375390804, 0.04130475687695403, 0.08026325898030152, 0.90009511856481, 0.0019110299757214648, 0.0009555149878607324, 0.015288239805771719, 0.4189219622162594, 0.08075604090915844, 0.025236262784112014, 0.1993664759944849, 0.025236262784112014, 0.07066153579551364, 0.03785439417616802, 0.12113406136373767, 0.025236262784112014, 0.09763896595441057, 0.24409741488602643, 0.5150455454095157, 0.009763896595441057, 0.07811117276352846, 0.05126045712606555, 0.0024409741488602642, 0.1308582359349795, 0.2905822592085574, 0.4349111959015495, 0.04233648809661101, 0.057731574677196834, 0.032714558983744875, 0.013470700758012594, 0.268262217172248, 0.2561471492999529, 0.0582677073858001, 0.10442034689930513, 0.05480625942228722, 0.16730331823645575, 0.08249784313039024, 0.006922895927025755, 0.0005769079939188129, 0.14498758659963584, 0.0915711073260858, 0.5875812720090505, 0.1678803634311573, 0.4215966799356037, 0.11262715809948062, 0.050919558067964416, 0.15103258748972498, 0.0496249930323382, 0.09752389935050812, 0.004315216785420713, 0.08328368395861976, 0.028480430783776708, 0.06825265124398319, 0.5568795862861357, 0.1675292348715951, 0.041882308717898775, 0.11789094305778915, 0.009307179715088617, 0.021716752668540108, 0.017063162810995798, 0.40399743731268106, 0.16348534428217446, 0.1870649612459496, 0.06287897857006709, 0.018863693571020128, 0.020435668035271807, 0.007859872321258387, 0.08488662106959058, 0.050303182856053674, 0.0021392393262586458, 0.00550090112466509, 0.0024448449442955955, 0.03300540674799054, 0.943098937262026, 0.007640140450923736, 0.0030560561803694942, 0.0030560561803694942, 0.19206296231994516, 0.18443132143305993, 0.08458401982964472, 0.16916803965928945, 0.03561432413879778, 0.08013222931229501, 0.07695237894275948, 0.16598818928975392, 0.010811491256420754, 0.08367117267557532, 0.011713964174580545, 0.0786509023150408, 0.7697747886152929, 0.0535495505123682, 0.0016734234535115062, 0.015194161741785868, 0.01413410394584732, 0.03816208065378776, 0.03180173387815647, 0.874547681649303, 0.01908104032689388, 0.00353352598646183, 0.002826820789169464], \"Term\": [\"2019\", \"2019\", \"2019\", \"2019\", \"2019\", \"2019\", \"2019\", \"2020\", \"2020\", \"2020\", \"2020\", \"2020\", \"2020\", \"2020\", \"accent\", \"accent\", \"accent\", \"accent\", \"africa\", \"africa\", \"africa\", \"africa\", \"africa\", \"african\", \"african\", \"african\", \"african\", \"agenda\", \"agenda\", \"agenda\", \"agenda\", \"agenda\", \"ago\", \"ago\", \"ago\", \"ago\", \"ago\", \"ago\", \"ago\", \"ago\", \"air\", \"air\", \"air\", \"air\", \"air\", \"air\", \"air\", \"air\", \"amazing\", \"amazing\", \"amazing\", \"amazing\", \"amazing\", \"amazing\", \"amazing\", \"amazing\", \"america\", \"america\", \"america\", \"america\", \"america\", \"american\", \"american\", \"american\", \"american\", \"american\", \"american\", \"american\", \"americans\", \"americans\", \"americans\", \"amp\", \"amp\", \"amp\", \"amp\", \"amp\", \"amp\", \"amp\", \"amp\", \"amp\", \"animal\", \"animal\", \"animal\", \"animal\", \"animal\", \"animals\", \"animals\", \"animals\", \"animals\", \"animals\", \"animals\", \"animals\", \"answer\", \"answer\", \"answer\", \"answer\", \"answer\", \"answer\", \"answer\", \"answer\", \"answer\", \"anti\", \"anti\", \"anti\", \"anti\", \"anti\", \"anti\", \"anti\", \"app\", \"app\", \"app\", \"app\", \"art\", \"art\", \"art\", \"art\", \"art\", \"attention\", \"attention\", \"attention\", \"attention\", \"attention\", \"attention\", \"audience\", \"audience\", \"audience\", \"audience\", \"audience\", \"audience\", \"audience\", \"audience\", \"autism\", \"autism\", \"based\", \"based\", \"based\", \"based\", \"based\", \"based\", \"based\", \"based\", \"based\", \"beautiful\", \"beautiful\", \"beautiful\", \"beautiful\", \"beautiful\", \"beautiful\", \"beautiful\", \"beauty\", \"beauty\", \"beauty\", \"beauty\", \"beauty\", \"beauty\", \"believe\", \"believe\", \"believe\", \"believe\", \"believe\", \"believe\", \"believe\", \"believe\", \"believe\", \"best\", \"best\", \"best\", \"best\", \"best\", \"best\", \"best\", \"best\", \"better\", \"better\", \"better\", \"better\", \"better\", \"better\", \"better\", \"better\", \"bias\", \"bias\", \"bias\", \"bias\", \"bias\", \"bias\", \"biggest\", \"biggest\", \"biggest\", \"biggest\", \"biggest\", \"biggest\", \"biggest\", \"billion\", \"billion\", \"billion\", \"billion\", \"billion\", \"black\", \"black\", \"black\", \"black\", \"black\", \"black\", \"black\", \"black\", \"blame\", \"blame\", \"blame\", \"blame\", \"blame\", \"blame\", \"bless\", \"bless\", \"bless\", \"bless\", \"bless\", \"blood\", \"blood\", \"blood\", \"blood\", \"blood\", \"body\", \"body\", \"body\", \"body\", \"body\", \"body\", \"body\", \"body\", \"book\", \"book\", \"book\", \"book\", \"book\", \"book\", \"books\", \"books\", \"books\", \"boys\", \"boys\", \"brain\", \"brain\", \"brain\", \"brain\", \"brain\", \"brain\", \"brain\", \"brain\", \"bring\", \"bring\", \"bring\", \"bring\", \"bring\", \"bring\", \"bring\", \"bring\", \"cancer\", \"cancer\", \"cancer\", \"cancer\", \"cancer\", \"capitalism\", \"capitalism\", \"capitalism\", \"car\", \"car\", \"car\", \"car\", \"car\", \"car\", \"carbon\", \"carbon\", \"care\", \"care\", \"care\", \"care\", \"care\", \"care\", \"cars\", \"cars\", \"cars\", \"cell\", \"cell\", \"cell\", \"cell\", \"cell\", \"cells\", \"change\", \"change\", \"change\", \"change\", \"change\", \"change\", \"change\", \"change\", \"changed\", \"changed\", \"changed\", \"changed\", \"changed\", \"changed\", \"changed\", \"check\", \"check\", \"check\", \"check\", \"check\", \"check\", \"check\", \"check\", \"child\", \"child\", \"child\", \"child\", \"child\", \"children\", \"children\", \"children\", \"children\", \"children\", \"children\", \"children\", \"china\", \"china\", \"china\", \"china\", \"chinese\", \"chinese\", \"chinese\", \"chinese\", \"choose\", \"choose\", \"choose\", \"choose\", \"choose\", \"choose\", \"choose\", \"cities\", \"cities\", \"citizens\", \"citizens\", \"citizens\", \"city\", \"city\", \"city\", \"claim\", \"claim\", \"claim\", \"claim\", \"claim\", \"claim\", \"claim\", \"claim\", \"claim\", \"climate\", \"climate\", \"co2\", \"code\", \"code\", \"code\", \"code\", \"code\", \"code\", \"code\", \"college\", \"college\", \"college\", \"college\", \"college\", \"color\", \"color\", \"color\", \"color\", \"color\", \"color\", \"color\", \"com\", \"com\", \"com\", \"com\", \"com\", \"com\", \"com\", \"com\", \"come\", \"come\", \"come\", \"come\", \"come\", \"come\", \"come\", \"come\", \"come\", \"communication\", \"communication\", \"community\", \"community\", \"community\", \"community\", \"community\", \"companies\", \"companies\", \"companies\", \"companies\", \"companies\", \"computer\", \"computer\", \"computer\", \"computer\", \"computer\", \"consciousness\", \"consciousness\", \"consciousness\", \"content\", \"content\", \"content\", \"content\", \"content\", \"content\", \"content\", \"cool\", \"cool\", \"cool\", \"cool\", \"cool\", \"cool\", \"cool\", \"cool\", \"core\", \"core\", \"core\", \"core\", \"core\", \"core\", \"corruption\", \"corruption\", \"countries\", \"countries\", \"countries\", \"countries\", \"countries\", \"country\", \"country\", \"country\", \"country\", \"country\", \"country\", \"country\", \"courage\", \"courage\", \"courage\", \"covid\", \"covid\", \"covid\", \"covid\", \"covid\", \"covid\", \"create\", \"create\", \"create\", \"create\", \"create\", \"create\", \"create\", \"create\", \"crime\", \"crime\", \"crime\", \"culture\", \"culture\", \"culture\", \"culture\", \"culture\", \"culture\", \"culture\", \"cure\", \"cure\", \"cure\", \"dad\", \"dad\", \"dad\", \"dad\", \"dad\", \"damn\", \"damn\", \"damn\", \"damn\", \"damn\", \"damn\", \"damn\", \"dare\", \"dare\", \"dark\", \"dark\", \"dark\", \"dark\", \"data\", \"data\", \"data\", \"data\", \"data\", \"data\", \"data\", \"data\", \"deep\", \"deep\", \"deep\", \"deep\", \"deep\", \"deep\", \"deep\", \"deep\", \"democracy\", \"democracy\", \"democracy\", \"developed\", \"developed\", \"developed\", \"developed\", \"developed\", \"developed\", \"developed\", \"did\", \"did\", \"did\", \"did\", \"did\", \"did\", \"did\", \"did\", \"did\", \"diet\", \"diet\", \"difference\", \"difference\", \"difference\", \"difference\", \"difference\", \"difference\", \"difference\", \"difference\", \"disease\", \"disease\", \"disease\", \"disease\", \"disease\", \"diseases\", \"diseases\", \"diseases\", \"dna\", \"dna\", \"dna\", \"dna\", \"doctor\", \"doctor\", \"doctors\", \"doctors\", \"doctors\", \"does\", \"does\", \"does\", \"does\", \"does\", \"does\", \"does\", \"does\", \"don\", \"don\", \"don\", \"don\", \"don\", \"don\", \"don\", \"don\", \"don\", \"drug\", \"drug\", \"drug\", \"drug\", \"drug\", \"drug\", \"drugs\", \"drugs\", \"drugs\", \"drugs\", \"drugs\", \"earth\", \"earth\", \"earth\", \"earth\", \"earth\", \"earth\", \"earth\", \"earth\", \"easier\", \"easier\", \"easier\", \"easier\", \"easier\", \"easier\", \"easier\", \"eat\", \"eat\", \"eat\", \"eat\", \"eating\", \"eating\", \"eating\", \"eating\", \"eating\", \"education\", \"education\", \"education\", \"education\", \"education\", \"education\", \"education\", \"energy\", \"energy\", \"energy\", \"energy\", \"energy\", \"energy\", \"english\", \"english\", \"english\", \"english\", \"english\", \"english\", \"environment\", \"environment\", \"environment\", \"environment\", \"environment\", \"environment\", \"environment\", \"europe\", \"europe\", \"europe\", \"europe\", \"europe\", \"europe\", \"evidence\", \"evidence\", \"evidence\", \"evidence\", \"evidence\", \"evidence\", \"evidence\", \"evidence\", \"evolution\", \"evolution\", \"evolution\", \"evolution\", \"evolution\", \"evolution\", \"evolution\", \"exist\", \"exist\", \"exist\", \"exist\", \"exist\", \"exist\", \"exist\", \"facebook\", \"facebook\", \"facebook\", \"facebook\", \"facebook\", \"faith\", \"faith\", \"faith\", \"faith\", \"faith\", \"faith\", \"faith\", \"fake\", \"fake\", \"fake\", \"fake\", \"fake\", \"fake\", \"fantastic\", \"fantastic\", \"fantastic\", \"fantastic\", \"fascinating\", \"fascinating\", \"fascinating\", \"fascinating\", \"fascinating\", \"fascinating\", \"fascinating\", \"father\", \"father\", \"father\", \"feel\", \"feel\", \"feel\", \"feel\", \"feel\", \"feel\", \"feel\", \"feel\", \"female\", \"female\", \"fish\", \"fish\", \"food\", \"food\", \"food\", \"food\", \"food\", \"food\", \"food\", \"free\", \"free\", \"free\", \"free\", \"free\", \"free\", \"free\", \"free\", \"fun\", \"fun\", \"fun\", \"fun\", \"fun\", \"fun\", \"fun\", \"future\", \"future\", \"future\", \"future\", \"future\", \"future\", \"future\", \"future\", \"future\", \"game\", \"game\", \"game\", \"game\", \"game\", \"game\", \"game\", \"games\", \"gas\", \"gas\", \"gas\", \"gas\", \"gay\", \"gay\", \"gay\", \"gender\", \"gender\", \"genetic\", \"genetic\", \"genetic\", \"genetic\", \"genetic\", \"genius\", \"genius\", \"genius\", \"genius\", \"genius\", \"genius\", \"girl\", \"girl\", \"girl\", \"girl\", \"girls\", \"girls\", \"girls\", \"global\", \"global\", \"global\", \"global\", \"global\", \"global\", \"gmail\", \"gmail\", \"gmail\", \"gmail\", \"gmail\", \"gmail\", \"god\", \"god\", \"god\", \"god\", \"god\", \"god\", \"god\", \"god\", \"god\", \"good\", \"good\", \"good\", \"good\", \"good\", \"good\", \"good\", \"good\", \"good\", \"google\", \"google\", \"google\", \"google\", \"google\", \"google\", \"google\", \"got\", \"got\", \"got\", \"got\", \"got\", \"got\", \"got\", \"government\", \"government\", \"government\", \"government\", \"great\", \"great\", \"great\", \"great\", \"great\", \"great\", \"great\", \"great\", \"great\", \"group\", \"group\", \"group\", \"group\", \"group\", \"group\", \"group\", \"growing\", \"growing\", \"growing\", \"growing\", \"growing\", \"growing\", \"growing\", \"growing\", \"guy\", \"guy\", \"guy\", \"guy\", \"guy\", \"guy\", \"guy\", \"guy\", \"guy\", \"hack\", \"hack\", \"hack\", \"hate\", \"hate\", \"hate\", \"hate\", \"hate\", \"hate\", \"hate\", \"hate\", \"hate\", \"health\", \"health\", \"health\", \"health\", \"health\", \"health\", \"healthcare\", \"healthcare\", \"healthy\", \"healthy\", \"healthy\", \"healthy\", \"healthy\", \"heart\", \"heart\", \"heart\", \"heart\", \"heart\", \"heart\", \"heart\", \"help\", \"help\", \"help\", \"help\", \"help\", \"help\", \"help\", \"help\", \"home\", \"home\", \"home\", \"home\", \"home\", \"home\", \"home\", \"honest\", \"honest\", \"honest\", \"honest\", \"hospital\", \"hospital\", \"hospital\", \"href\", \"href\", \"href\", \"href\", \"href\", \"href\", \"href\", \"href\", \"html\", \"html\", \"html\", \"html\", \"http\", \"http\", \"http\", \"http\", \"http\", \"http\", \"http\", \"http\", \"https\", \"https\", \"https\", \"https\", \"https\", \"https\", \"https\", \"https\", \"human\", \"human\", \"human\", \"human\", \"human\", \"human\", \"human\", \"human\", \"human\", \"human\", \"humans\", \"humans\", \"humans\", \"humans\", \"humans\", \"humans\", \"humans\", \"humans\", \"ice\", \"idea\", \"idea\", \"idea\", \"idea\", \"idea\", \"idea\", \"idea\", \"idea\", \"idea\", \"illegal\", \"illegal\", \"illegal\", \"illegal\", \"illegal\", \"income\", \"income\", \"income\", \"income\", \"incredible\", \"incredible\", \"incredible\", \"incredible\", \"incredible\", \"incredible\", \"india\", \"india\", \"india\", \"india\", \"india\", \"india\", \"industry\", \"industry\", \"industry\", \"industry\", \"industry\", \"info\", \"info\", \"info\", \"info\", \"info\", \"inspiration\", \"inspiration\", \"inspiration\", \"inspiration\", \"inspiration\", \"inspiration\", \"inspirational\", \"inspirational\", \"inspirational\", \"inspired\", \"inspired\", \"inspired\", \"inspired\", \"inspired\", \"inspiring\", \"inspiring\", \"inspiring\", \"inspiring\", \"inspiring\", \"inspiring\", \"inspiring\", \"insurance\", \"insurance\", \"insurance\", \"intelligence\", \"intelligence\", \"intelligence\", \"intelligence\", \"intelligence\", \"intelligence\", \"intelligence\", \"interesting\", \"interesting\", \"interesting\", \"interesting\", \"interesting\", \"interesting\", \"interesting\", \"interesting\", \"islam\", \"jesus\", \"jesus\", \"jesus\", \"jesus\", \"jesus\", \"jobs\", \"jobs\", \"jobs\", \"jobs\", \"just\", \"just\", \"just\", \"just\", \"just\", \"just\", \"just\", \"just\", \"just\", \"just\", \"justice\", \"justice\", \"justice\", \"justice\", \"kids\", \"kids\", \"kids\", \"kids\", \"kids\", \"kids\", \"kids\", \"knew\", \"knew\", \"knew\", \"knew\", \"knew\", \"knew\", \"knew\", \"knew\", \"knew\", \"know\", \"know\", \"know\", \"know\", \"know\", \"know\", \"know\", \"know\", \"know\", \"land\", \"land\", \"land\", \"land\", \"land\", \"land\", \"language\", \"language\", \"language\", \"language\", \"language\", \"law\", \"law\", \"law\", \"law\", \"law\", \"law\", \"laws\", \"laws\", \"laws\", \"laws\", \"laws\", \"laws\", \"learn\", \"learn\", \"learn\", \"learn\", \"learn\", \"learn\", \"learn\", \"learn\", \"learning\", \"learning\", \"learning\", \"learning\", \"learning\", \"learning\", \"learning\", \"lecture\", \"lecture\", \"lecture\", \"lecture\", \"lecture\", \"lecture\", \"legal\", \"legal\", \"legal\", \"legal\", \"life\", \"life\", \"life\", \"life\", \"life\", \"life\", \"life\", \"life\", \"life\", \"light\", \"light\", \"light\", \"light\", \"light\", \"light\", \"like\", \"like\", \"like\", \"like\", \"like\", \"like\", \"like\", \"like\", \"like\", \"like\", \"link\", \"link\", \"link\", \"link\", \"link\", \"link\", \"link\", \"list\", \"list\", \"list\", \"list\", \"list\", \"list\", \"live\", \"live\", \"live\", \"live\", \"live\", \"live\", \"live\", \"live\", \"live\", \"los\", \"los\", \"los\", \"los\", \"los\", \"love\", \"love\", \"love\", \"love\", \"love\", \"love\", \"love\", \"love\", \"love\", \"loved\", \"loved\", \"loved\", \"loved\", \"loved\", \"loved\", \"machine\", \"machine\", \"machine\", \"machine\", \"machine\", \"machine\", \"machine\", \"majority\", \"majority\", \"majority\", \"majority\", \"make\", \"make\", \"make\", \"make\", \"make\", \"make\", \"make\", \"make\", \"make\", \"male\", \"male\", \"man\", \"man\", \"man\", \"man\", \"man\", \"man\", \"man\", \"man\", \"man\", \"man\", \"mass\", \"mass\", \"mass\", \"mass\", \"mass\", \"mass\", \"mass\", \"math\", \"math\", \"math\", \"math\", \"math\", \"meaning\", \"meaning\", \"meaning\", \"meaning\", \"meaning\", \"meaning\", \"meaning\", \"meaning\", \"media\", \"media\", \"media\", \"media\", \"media\", \"media\", \"medical\", \"medical\", \"medical\", \"medicine\", \"medicine\", \"medicine\", \"medicine\", \"men\", \"men\", \"men\", \"men\", \"men\", \"military\", \"military\", \"military\", \"mind\", \"mind\", \"mind\", \"mind\", \"mind\", \"mind\", \"mind\", \"mind\", \"mom\", \"mom\", \"mom\", \"mom\", \"mom\", \"money\", \"money\", \"money\", \"money\", \"money\", \"money\", \"money\", \"money\", \"mother\", \"mother\", \"mother\", \"mother\", \"mother\", \"mother\", \"movie\", \"movie\", \"movie\", \"movie\", \"movie\", \"movie\", \"movie\", \"music\", \"music\", \"music\", \"music\", \"muslim\", \"nations\", \"nations\", \"nations\", \"nature\", \"nature\", \"nature\", \"nature\", \"nature\", \"nature\", \"nature\", \"nature\", \"need\", \"need\", \"need\", \"need\", \"need\", \"need\", \"need\", \"need\", \"need\", \"net\", \"net\", \"net\", \"net\", \"net\", \"new\", \"new\", \"new\", \"new\", \"new\", \"new\", \"new\", \"new\", \"news\", \"news\", \"news\", \"news\", \"news\", \"news\", \"news\", \"night\", \"night\", \"night\", \"night\", \"night\", \"night\", \"non\", \"non\", \"non\", \"non\", \"non\", \"non\", \"non\", \"non\", \"non\", \"nuclear\", \"numbers\", \"numbers\", \"numbers\", \"numbers\", \"numbers\", \"numbers\", \"ocean\", \"ocean\", \"ocean\", \"oil\", \"oil\", \"oil\", \"oil\", \"oil\", \"online\", \"online\", \"online\", \"online\", \"online\", \"online\", \"org\", \"org\", \"org\", \"org\", \"org\", \"org\", \"para\", \"para\", \"para\", \"para\", \"para\", \"parents\", \"parents\", \"parents\", \"parents\", \"patient\", \"patient\", \"patients\", \"patients\", \"people\", \"people\", \"people\", \"people\", \"people\", \"people\", \"people\", \"people\", \"people\", \"people\", \"person\", \"person\", \"person\", \"person\", \"person\", \"person\", \"person\", \"person\", \"person\", \"phone\", \"phone\", \"phone\", \"phone\", \"phone\", \"phone\", \"phone\", \"physical\", \"physical\", \"physical\", \"physical\", \"physical\", \"physical\", \"physical\", \"places\", \"places\", \"places\", \"places\", \"places\", \"places\", \"places\", \"planet\", \"planet\", \"planet\", \"planet\", \"planet\", \"planet\", \"planet\", \"planet\", \"plant\", \"plant\", \"plant\", \"plant\", \"plants\", \"plants\", \"plants\", \"play\", \"play\", \"play\", \"play\", \"play\", \"play\", \"play\", \"play\", \"playing\", \"playing\", \"playing\", \"playing\", \"playing\", \"playing\", \"playing\", \"playing\", \"playing\", \"point\", \"point\", \"point\", \"point\", \"point\", \"point\", \"point\", \"point\", \"point\", \"police\", \"police\", \"police\", \"police\", \"political\", \"political\", \"political\", \"political\", \"politics\", \"politics\", \"politics\", \"politics\", \"politics\", \"politics\", \"politics\", \"pollution\", \"pollution\", \"poor\", \"poor\", \"poor\", \"poor\", \"poor\", \"poor\", \"poverty\", \"poverty\", \"poverty\", \"power\", \"power\", \"power\", \"power\", \"power\", \"power\", \"power\", \"ppl\", \"ppl\", \"ppl\", \"prison\", \"prison\", \"problem\", \"problem\", \"problem\", \"problem\", \"problem\", \"problem\", \"problem\", \"problem\", \"problem\", \"problem\", \"produce\", \"produce\", \"produce\", \"produce\", \"produce\", \"produce\", \"produce\", \"product\", \"product\", \"product\", \"product\", \"product\", \"product\", \"production\", \"production\", \"production\", \"production\", \"production\", \"production\", \"products\", \"products\", \"products\", \"products\", \"products\", \"products\", \"proud\", \"proud\", \"proud\", \"proud\", \"proud\", \"prove\", \"prove\", \"prove\", \"prove\", \"prove\", \"prove\", \"public\", \"public\", \"public\", \"public\", \"public\", \"public\", \"public\", \"pure\", \"pure\", \"pure\", \"pure\", \"pure\", \"pure\", \"pure\", \"que\", \"que\", \"que\", \"que\", \"que\", \"que\", \"query\", \"query\", \"quot\", \"quot\", \"quot\", \"quot\", \"quot\", \"quot\", \"quot\", \"quot\", \"quot\", \"quot\", \"race\", \"race\", \"race\", \"racism\", \"racism\", \"racist\", \"racist\", \"racist\", \"read\", \"read\", \"read\", \"read\", \"read\", \"read\", \"read\", \"read\", \"read\", \"reading\", \"reading\", \"reading\", \"reading\", \"reality\", \"reality\", \"reality\", \"reality\", \"reality\", \"reality\", \"reality\", \"reality\", \"reality\", \"really\", \"really\", \"really\", \"really\", \"really\", \"really\", \"really\", \"really\", \"really\", \"red\", \"red\", \"red\", \"red\", \"red\", \"red\", \"red\", \"relationship\", \"relationship\", \"relationship\", \"relationship\", \"religion\", \"religion\", \"religious\", \"religious\", \"religious\", \"religious\", \"religious\", \"religious\", \"research\", \"research\", \"research\", \"research\", \"research\", \"research\", \"research\", \"research\", \"responsibility\", \"responsibility\", \"results\", \"results\", \"results\", \"results\", \"results\", \"results\", \"results\", \"right\", \"right\", \"right\", \"right\", \"right\", \"right\", \"right\", \"right\", \"rights\", \"rights\", \"rights\", \"rights\", \"robot\", \"robot\", \"robot\", \"robot\", \"robot\", \"robots\", \"robots\", \"robots\", \"robots\", \"robots\", \"say\", \"say\", \"say\", \"say\", \"say\", \"say\", \"say\", \"say\", \"say\", \"says\", \"says\", \"says\", \"says\", \"says\", \"says\", \"says\", \"says\", \"school\", \"school\", \"school\", \"school\", \"school\", \"school\", \"school\", \"schools\", \"schools\", \"schools\", \"science\", \"science\", \"science\", \"science\", \"science\", \"science\", \"science\", \"science\", \"science\", \"scientific\", \"scientific\", \"scientific\", \"scientific\", \"scientific\", \"scientific\", \"scientific\", \"scientist\", \"scientist\", \"scientist\", \"scientist\", \"scientists\", \"scientists\", \"scientists\", \"scientists\", \"sea\", \"sea\", \"sea\", \"sea\", \"sea\", \"search\", \"search\", \"search\", \"search\", \"search\", \"search\", \"search\", \"service\", \"service\", \"service\", \"services\", \"services\", \"services\", \"services\", \"sexual\", \"sexual\", \"sick\", \"sick\", \"sick\", \"sick\", \"sick\", \"sick\", \"sir\", \"sir\", \"sir\", \"sir\", \"sir\", \"sir\", \"sir\", \"sir\", \"skills\", \"skills\", \"skills\", \"skills\", \"skills\", \"skills\", \"skin\", \"skin\", \"skin\", \"sleep\", \"sleep\", \"sleep\", \"social\", \"social\", \"social\", \"social\", \"social\", \"social\", \"social\", \"society\", \"society\", \"society\", \"society\", \"society\", \"society\", \"solar\", \"solar\", \"son\", \"son\", \"son\", \"son\", \"son\", \"son\", \"song\", \"song\", \"song\", \"song\", \"soul\", \"soul\", \"soul\", \"soul\", \"soul\", \"soul\", \"sound\", \"sound\", \"sound\", \"sound\", \"sound\", \"sound\", \"space\", \"space\", \"space\", \"space\", \"space\", \"space\", \"species\", \"species\", \"species\", \"species\", \"species\", \"species\", \"species\", \"stop\", \"stop\", \"stop\", \"stop\", \"stop\", \"stop\", \"stop\", \"stop\", \"stop\", \"story\", \"story\", \"story\", \"story\", \"story\", \"story\", \"story\", \"story\", \"strong\", \"strong\", \"strong\", \"strong\", \"strong\", \"student\", \"student\", \"student\", \"student\", \"student\", \"student\", \"student\", \"students\", \"students\", \"success\", \"success\", \"success\", \"success\", \"success\", \"success\", \"success\", \"sun\", \"sun\", \"survive\", \"survive\", \"survive\", \"survive\", \"survive\", \"survive\", \"survive\", \"systems\", \"systems\", \"systems\", \"systems\", \"systems\", \"systems\", \"systems\", \"systems\", \"talk\", \"talk\", \"talk\", \"talk\", \"talk\", \"talk\", \"talk\", \"talk\", \"talk\", \"talking\", \"talking\", \"talking\", \"talking\", \"talking\", \"talking\", \"talking\", \"talking\", \"teach\", \"teach\", \"teach\", \"teach\", \"teach\", \"teach\", \"teach\", \"teach\", \"teacher\", \"teacher\", \"teacher\", \"teacher\", \"teachers\", \"teaching\", \"teaching\", \"teaching\", \"teaching\", \"technology\", \"technology\", \"technology\", \"technology\", \"technology\", \"technology\", \"technology\", \"ted\", \"ted\", \"ted\", \"ted\", \"ted\", \"ted\", \"ted\", \"ted\", \"ted\", \"ted\", \"thank\", \"thank\", \"thank\", \"thank\", \"thank\", \"thank\", \"thank\", \"thank\", \"thank\", \"thanks\", \"thanks\", \"thanks\", \"thanks\", \"thanks\", \"thanks\", \"thanks\", \"thanks\", \"theory\", \"theory\", \"theory\", \"theory\", \"theory\", \"theory\", \"thing\", \"thing\", \"thing\", \"thing\", \"thing\", \"thing\", \"thing\", \"thing\", \"things\", \"things\", \"things\", \"things\", \"things\", \"things\", \"things\", \"things\", \"things\", \"think\", \"think\", \"think\", \"think\", \"think\", \"think\", \"think\", \"think\", \"think\", \"time\", \"time\", \"time\", \"time\", \"time\", \"time\", \"time\", \"time\", \"time\", \"time\", \"title\", \"title\", \"title\", \"title\", \"title\", \"title\", \"title\", \"title\", \"topic\", \"topic\", \"topic\", \"topic\", \"topic\", \"topic\", \"topic\", \"topic\", \"topic\", \"touch\", \"touch\", \"touch\", \"touch\", \"touch\", \"treatment\", \"treatment\", \"treatment\", \"true\", \"true\", \"true\", \"true\", \"true\", \"true\", \"true\", \"true\", \"true\", \"trump\", \"trump\", \"trump\", \"twitter\", \"twitter\", \"twitter\", \"twitter\", \"understand\", \"understand\", \"understand\", \"understand\", \"understand\", \"understand\", \"understand\", \"understand\", \"understand\", \"understanding\", \"understanding\", \"understanding\", \"understanding\", \"understanding\", \"understanding\", \"understanding\", \"understanding\", \"understanding\", \"universe\", \"universe\", \"universe\", \"universe\", \"universe\", \"university\", \"university\", \"university\", \"university\", \"university\", \"university\", \"university\", \"use\", \"use\", \"use\", \"use\", \"use\", \"use\", \"use\", \"use\", \"used\", \"used\", \"used\", \"used\", \"used\", \"used\", \"used\", \"used\", \"useful\", \"useful\", \"useful\", \"useful\", \"useful\", \"useful\", \"vaccines\", \"vaccines\", \"vaccines\", \"vaccines\", \"video\", \"video\", \"video\", \"video\", \"video\", \"video\", \"video\", \"video\", \"video\", \"violence\", \"violence\", \"violence\", \"violence\", \"virus\", \"virus\", \"virus\", \"virus\", \"virus\", \"virus\", \"vote\", \"vote\", \"vote\", \"walk\", \"walk\", \"walk\", \"walk\", \"walk\", \"walk\", \"walk\", \"want\", \"want\", \"want\", \"want\", \"want\", \"want\", \"want\", \"want\", \"war\", \"war\", \"war\", \"war\", \"war\", \"war\", \"warming\", \"warming\", \"warming\", \"watch\", \"watch\", \"watch\", \"watch\", \"watch\", \"watch\", \"watch\", \"watch\", \"watch\", \"watching\", \"watching\", \"watching\", \"watching\", \"watching\", \"watching\", \"watching\", \"watching\", \"water\", \"water\", \"water\", \"water\", \"water\", \"water\", \"water\", \"way\", \"way\", \"way\", \"way\", \"way\", \"way\", \"way\", \"way\", \"way\", \"way\", \"west\", \"west\", \"west\", \"western\", \"western\", \"western\", \"western\", \"western\", \"western\", \"western\", \"western\", \"white\", \"white\", \"white\", \"white\", \"white\", \"white\", \"wife\", \"wife\", \"wife\", \"wife\", \"woman\", \"woman\", \"woman\", \"woman\", \"woman\", \"woman\", \"woman\", \"women\", \"women\", \"women\", \"women\", \"women\", \"won\", \"won\", \"won\", \"won\", \"won\", \"won\", \"won\", \"won\", \"won\", \"word\", \"word\", \"word\", \"word\", \"word\", \"word\", \"word\", \"words\", \"words\", \"words\", \"words\", \"words\", \"words\", \"words\", \"work\", \"work\", \"work\", \"work\", \"work\", \"work\", \"work\", \"work\", \"work\", \"workers\", \"workers\", \"workers\", \"workers\", \"world\", \"world\", \"world\", \"world\", \"world\", \"world\", \"world\", \"world\", \"world\", \"wow\", \"wow\", \"wow\", \"wow\", \"wow\", \"wow\", \"wow\", \"wow\", \"wrong\", \"wrong\", \"wrong\", \"wrong\", \"wrong\", \"wrong\", \"wrong\", \"wrong\", \"wrong\", \"www\", \"www\", \"www\", \"www\", \"www\", \"www\", \"www\", \"www\", \"years\", \"years\", \"years\", \"years\", \"years\", \"years\", \"years\", \"years\", \"years\", \"youtu\", \"youtu\", \"youtu\", \"youtu\", \"youtu\", \"youtu\", \"youtube\", \"youtube\", \"youtube\", \"youtube\", \"youtube\", \"youtube\", \"youtube\", \"youtube\"]}, \"R\": 30, \"lambda.step\": 0.01, \"plot.opts\": {\"xlab\": \"PC1\", \"ylab\": \"PC2\"}, \"topic.order\": [10, 9, 8, 5, 6, 7, 2, 4, 1, 3]};\n",
       "\n",
       "function LDAvis_load_lib(url, callback){\n",
       "  var s = document.createElement('script');\n",
       "  s.src = url;\n",
       "  s.async = true;\n",
       "  s.onreadystatechange = s.onload = callback;\n",
       "  s.onerror = function(){console.warn(\"failed to load library \" + url);};\n",
       "  document.getElementsByTagName(\"head\")[0].appendChild(s);\n",
       "}\n",
       "\n",
       "if(typeof(LDAvis) !== \"undefined\"){\n",
       "   // already loaded: just create the visualization\n",
       "   !function(LDAvis){\n",
       "       new LDAvis(\"#\" + \"ldavis_el123891134829677603036452304\", ldavis_el123891134829677603036452304_data);\n",
       "   }(LDAvis);\n",
       "}else if(typeof define === \"function\" && define.amd){\n",
       "   // require.js is available: use it to load d3/LDAvis\n",
       "   require.config({paths: {d3: \"https://cdnjs.cloudflare.com/ajax/libs/d3/3.5.5/d3.min\"}});\n",
       "   require([\"d3\"], function(d3){\n",
       "      window.d3 = d3;\n",
       "      LDAvis_load_lib(\"https://cdn.rawgit.com/bmabey/pyLDAvis/files/ldavis.v1.0.0.js\", function(){\n",
       "        new LDAvis(\"#\" + \"ldavis_el123891134829677603036452304\", ldavis_el123891134829677603036452304_data);\n",
       "      });\n",
       "    });\n",
       "}else{\n",
       "    // require.js not available: dynamically load d3 & LDAvis\n",
       "    LDAvis_load_lib(\"https://cdnjs.cloudflare.com/ajax/libs/d3/3.5.5/d3.min.js\", function(){\n",
       "         LDAvis_load_lib(\"https://cdn.rawgit.com/bmabey/pyLDAvis/files/ldavis.v1.0.0.js\", function(){\n",
       "                 new LDAvis(\"#\" + \"ldavis_el123891134829677603036452304\", ldavis_el123891134829677603036452304_data);\n",
       "            })\n",
       "         });\n",
       "}\n",
       "</script>"
      ],
      "text/plain": [
       "PreparedData(topic_coordinates=              x         y  topics  cluster       Freq\n",
       "topic                                                \n",
       "9     -0.053859  0.015955       1        1  24.777800\n",
       "8     -0.071851 -0.008928       2        1  19.559825\n",
       "7     -0.071295  0.024468       3        1  14.202735\n",
       "4     -0.079318  0.041838       4        1  11.950374\n",
       "5     -0.063053  0.058107       5        1  11.334740\n",
       "6     -0.070162  0.058874       6        1   6.997485\n",
       "1     -0.070246  0.098449       7        1   5.394002\n",
       "3     -0.064671 -0.019688       8        1   4.081690\n",
       "0      0.472794  0.094732       9        1   0.890047\n",
       "2      0.071662 -0.363807      10        1   0.811303, topic_info=    Category         Freq     Term        Total  loglift  logprob\n",
       "152  Default  3761.000000      com  3761.000000  30.0000  30.0000\n",
       "992  Default  3272.000000      www  3272.000000  29.0000  29.0000\n",
       "429  Default  3488.000000    https  3488.000000  28.0000  28.0000\n",
       "426  Default  3429.000000     href  3429.000000  27.0000  27.0000\n",
       "999  Default  2830.000000  youtube  2830.000000  26.0000  26.0000\n",
       "..       ...          ...      ...          ...      ...      ...\n",
       "840  Topic10    26.836698     stop   873.551783   1.3315  -4.6694\n",
       "552  Topic10    30.062238     make  2100.704394   0.5675  -4.5559\n",
       "519  Topic10    30.020979     like  5109.653225  -0.3227  -4.5572\n",
       "517  Topic10    27.654593     life  2087.315433   0.4904  -4.6393\n",
       "476  Topic10    26.933911     just  4455.323969  -0.2942  -4.6657\n",
       "\n",
       "[552 rows x 6 columns], token_table=      Topic      Freq     Term\n",
       "term                          \n",
       "2         1  0.103075     2019\n",
       "2         2  0.206149     2019\n",
       "2         4  0.198787     2019\n",
       "2         5  0.287137     2019\n",
       "2         6  0.080987     2019\n",
       "...     ...       ...      ...\n",
       "999       4  0.031802  youtube\n",
       "999       5  0.874548  youtube\n",
       "999       6  0.019081  youtube\n",
       "999       7  0.003534  youtube\n",
       "999       8  0.002827  youtube\n",
       "\n",
       "[2317 rows x 3 columns], R=30, lambda_step=0.01, plot_opts={'xlab': 'PC1', 'ylab': 'PC2'}, topic_order=[10, 9, 8, 5, 6, 7, 2, 4, 1, 3])"
      ]
     },
     "execution_count": 129,
     "metadata": {},
     "output_type": "execute_result"
    }
   ],
   "source": [
    "pyLDAvis.enable_notebook()\n",
    "\n",
    "panel = pyLDAvis.sklearn.prepare(lda_model, data_vectorized, vectorizer)\n",
    "panel"
   ]
  },
  {
   "cell_type": "markdown",
   "metadata": {},
   "source": [
    "# Sentiment Analysis "
   ]
  },
  {
   "cell_type": "markdown",
   "metadata": {},
   "source": [
    "### Vader"
   ]
  },
  {
   "cell_type": "code",
   "execution_count": 52,
   "metadata": {},
   "outputs": [],
   "source": [
    "analyser = SentimentIntensityAnalyzer()\n",
    "def extract_polarity(text, polarity_type = 'neg'):\n",
    "    all_val = analyser.polarity_scores(text)\n",
    "    return all_val[polarity_type]"
   ]
  },
  {
   "cell_type": "code",
   "execution_count": 53,
   "metadata": {},
   "outputs": [],
   "source": [
    "df['polarity_neg_comments'] = df['comments'].map(extract_polarity)\n",
    "df['polarity_pos_comments'] = df['comments'].apply(extract_polarity, polarity_type = 'pos')\n",
    "df['polarity_neu_comments'] = df['comments'].apply(extract_polarity, polarity_type = 'neu')\n",
    "df['polarity_compound_comments'] = df['comments'].apply(extract_polarity, polarity_type = 'compound')"
   ]
  },
  {
   "cell_type": "markdown",
   "metadata": {},
   "source": [
    "### SpaCy: Vocab on Polarity"
   ]
  },
  {
   "cell_type": "code",
   "execution_count": 32,
   "metadata": {},
   "outputs": [],
   "source": [
    "df1['spacy_doc'] = list(nlp.pipe(df1.comments))"
   ]
  },
  {
   "cell_type": "code",
   "execution_count": 49,
   "metadata": {},
   "outputs": [],
   "source": [
    "#df1.head()"
   ]
  },
  {
   "cell_type": "code",
   "execution_count": 38,
   "metadata": {},
   "outputs": [],
   "source": [
    "success = df1[df1.success=='yes']\n",
    "no_success = df1[df1.success=='no']"
   ]
  },
  {
   "cell_type": "code",
   "execution_count": 39,
   "metadata": {},
   "outputs": [],
   "source": [
    "pos_adj = [token.text.lower() for doc in success.spacy_doc for token in doc if token.pos_=='ADJ']\n",
    "neg_adj = [token.text.lower() for doc in no_success.spacy_doc for token in doc if token.pos_=='ADJ']\n",
    "\n",
    "pos_noun = [token.text.lower() for doc in success.spacy_doc for token in doc if token.pos_=='NOUN']\n",
    "neg_noun = [token.text.lower() for doc in no_success.spacy_doc for token in doc if token.pos_=='NOUN']"
   ]
  },
  {
   "cell_type": "code",
   "execution_count": 43,
   "metadata": {},
   "outputs": [
    {
     "data": {
      "text/plain": [
       "[('people', 2450),\n",
       " ('time', 1035),\n",
       " ('talk', 994),\n",
       " ('life', 975),\n",
       " ('video', 936),\n",
       " ('world', 832),\n",
       " ('way', 814),\n",
       " ('years', 762),\n",
       " ('things', 617),\n",
       " ('work', 513),\n",
       " ('man', 488),\n",
       " ('don&#39;t', 470)]"
      ]
     },
     "execution_count": 43,
     "metadata": {},
     "output_type": "execute_result"
    }
   ],
   "source": [
    "Counter(pos_noun).most_common(12)"
   ]
  },
  {
   "cell_type": "code",
   "execution_count": 44,
   "metadata": {},
   "outputs": [
    {
     "data": {
      "text/plain": [
       "[('people', 3745),\n",
       " ('world', 1240),\n",
       " ('talk', 1079),\n",
       " ('time', 1046),\n",
       " ('way', 1044),\n",
       " ('life', 997),\n",
       " ('video', 868),\n",
       " ('women', 817),\n",
       " ('years', 792),\n",
       " ('don&#39;t', 727),\n",
       " ('money', 691),\n",
       " ('things', 620)]"
      ]
     },
     "execution_count": 44,
     "metadata": {},
     "output_type": "execute_result"
    }
   ],
   "source": [
    "Counter(neg_noun).most_common(12)"
   ]
  },
  {
   "cell_type": "code",
   "execution_count": 47,
   "metadata": {},
   "outputs": [],
   "source": [
    "def get_amods(noun, ser):\n",
    "    amod_list = []\n",
    "    for doc in ser:\n",
    "        for token in doc:\n",
    "            if (token.text) == noun:\n",
    "                for child in token.children:\n",
    "                    if child.dep == amod:\n",
    "                        amod_list.append(child.text.lower())\n",
    "    return sorted(amod_list)\n",
    "\n",
    "def amods_by_sentiment(noun):\n",
    "    print(f\"Adjectives describing {str.upper(noun)}:\\n\")\n",
    "    \n",
    "    print(\"POSITIVE:\")\n",
    "    pprint(get_amods(noun, success.spacy_doc))\n",
    "    \n",
    "    print(\"\\nNEGATIVE:\")\n",
    "    pprint(get_amods(noun, no_success.spacy_doc))"
   ]
  },
  {
   "cell_type": "code",
   "execution_count": 50,
   "metadata": {},
   "outputs": [],
   "source": [
    "#amods_by_sentiment(\"talk\") ###may be i should tune the threshold"
   ]
  },
  {
   "cell_type": "markdown",
   "metadata": {},
   "source": [
    "### Sentiment_vocab"
   ]
  },
  {
   "cell_type": "code",
   "execution_count": 62,
   "metadata": {},
   "outputs": [
    {
     "data": {
      "text/html": [
       "<div>\n",
       "<style scoped>\n",
       "    .dataframe tbody tr th:only-of-type {\n",
       "        vertical-align: middle;\n",
       "    }\n",
       "\n",
       "    .dataframe tbody tr th {\n",
       "        vertical-align: top;\n",
       "    }\n",
       "\n",
       "    .dataframe thead th {\n",
       "        text-align: right;\n",
       "    }\n",
       "</style>\n",
       "<table border=\"1\" class=\"dataframe\">\n",
       "  <thead>\n",
       "    <tr style=\"text-align: right;\">\n",
       "      <th></th>\n",
       "      <th>video_id</th>\n",
       "      <th>comments</th>\n",
       "      <th>polarity_neg_comments</th>\n",
       "      <th>polarity_pos_comments</th>\n",
       "      <th>polarity_neu_comments</th>\n",
       "      <th>polarity_compound_comments</th>\n",
       "    </tr>\n",
       "  </thead>\n",
       "  <tbody>\n",
       "    <tr>\n",
       "      <td>0</td>\n",
       "      <td>-2Dj9M71JAc</td>\n",
       "      <td>She sounds like the person before was singing ...</td>\n",
       "      <td>0.167</td>\n",
       "      <td>0.127</td>\n",
       "      <td>0.707</td>\n",
       "      <td>-0.9916</td>\n",
       "    </tr>\n",
       "    <tr>\n",
       "      <td>1</td>\n",
       "      <td>-3y6_7_5PcQ</td>\n",
       "      <td>Stop funding large pharmaceuticals by buying t...</td>\n",
       "      <td>0.118</td>\n",
       "      <td>0.156</td>\n",
       "      <td>0.726</td>\n",
       "      <td>0.9915</td>\n",
       "    </tr>\n",
       "    <tr>\n",
       "      <td>2</td>\n",
       "      <td>-7ORAKULel4</td>\n",
       "      <td>False, the technology is still out of reach fo...</td>\n",
       "      <td>0.109</td>\n",
       "      <td>0.136</td>\n",
       "      <td>0.755</td>\n",
       "      <td>0.8998</td>\n",
       "    </tr>\n",
       "    <tr>\n",
       "      <td>3</td>\n",
       "      <td>-BvcToPZCLI</td>\n",
       "      <td>What is the carbon footprint of your food?, sh...</td>\n",
       "      <td>0.050</td>\n",
       "      <td>0.089</td>\n",
       "      <td>0.862</td>\n",
       "      <td>0.9986</td>\n",
       "    </tr>\n",
       "    <tr>\n",
       "      <td>4</td>\n",
       "      <td>-E5K2pGB08Y</td>\n",
       "      <td>Full of Karens., stumbled here through autopla...</td>\n",
       "      <td>0.018</td>\n",
       "      <td>0.212</td>\n",
       "      <td>0.769</td>\n",
       "      <td>0.9835</td>\n",
       "    </tr>\n",
       "  </tbody>\n",
       "</table>\n",
       "</div>"
      ],
      "text/plain": [
       "      video_id                                           comments  \\\n",
       "0  -2Dj9M71JAc  She sounds like the person before was singing ...   \n",
       "1  -3y6_7_5PcQ  Stop funding large pharmaceuticals by buying t...   \n",
       "2  -7ORAKULel4  False, the technology is still out of reach fo...   \n",
       "3  -BvcToPZCLI  What is the carbon footprint of your food?, sh...   \n",
       "4  -E5K2pGB08Y  Full of Karens., stumbled here through autopla...   \n",
       "\n",
       "   polarity_neg_comments  polarity_pos_comments  polarity_neu_comments  \\\n",
       "0                  0.167                  0.127                  0.707   \n",
       "1                  0.118                  0.156                  0.726   \n",
       "2                  0.109                  0.136                  0.755   \n",
       "3                  0.050                  0.089                  0.862   \n",
       "4                  0.018                  0.212                  0.769   \n",
       "\n",
       "   polarity_compound_comments  \n",
       "0                     -0.9916  \n",
       "1                      0.9915  \n",
       "2                      0.8998  \n",
       "3                      0.9986  \n",
       "4                      0.9835  "
      ]
     },
     "execution_count": 62,
     "metadata": {},
     "output_type": "execute_result"
    }
   ],
   "source": [
    "df.head()"
   ]
  },
  {
   "cell_type": "code",
   "execution_count": 108,
   "metadata": {},
   "outputs": [
    {
     "data": {
      "text/html": [
       "<div>\n",
       "<style scoped>\n",
       "    .dataframe tbody tr th:only-of-type {\n",
       "        vertical-align: middle;\n",
       "    }\n",
       "\n",
       "    .dataframe tbody tr th {\n",
       "        vertical-align: top;\n",
       "    }\n",
       "\n",
       "    .dataframe thead th {\n",
       "        text-align: right;\n",
       "    }\n",
       "</style>\n",
       "<table border=\"1\" class=\"dataframe\">\n",
       "  <thead>\n",
       "    <tr style=\"text-align: right;\">\n",
       "      <th></th>\n",
       "      <th>Unnamed: 0</th>\n",
       "      <th>word</th>\n",
       "      <th>sentiment</th>\n",
       "    </tr>\n",
       "  </thead>\n",
       "  <tbody>\n",
       "    <tr>\n",
       "      <td>0</td>\n",
       "      <td>1</td>\n",
       "      <td>abacus</td>\n",
       "      <td>trust</td>\n",
       "    </tr>\n",
       "    <tr>\n",
       "      <td>14</td>\n",
       "      <td>15</td>\n",
       "      <td>abbot</td>\n",
       "      <td>trust</td>\n",
       "    </tr>\n",
       "    <tr>\n",
       "      <td>69</td>\n",
       "      <td>70</td>\n",
       "      <td>absolution</td>\n",
       "      <td>trust</td>\n",
       "    </tr>\n",
       "    <tr>\n",
       "      <td>78</td>\n",
       "      <td>79</td>\n",
       "      <td>abundance</td>\n",
       "      <td>trust</td>\n",
       "    </tr>\n",
       "    <tr>\n",
       "      <td>92</td>\n",
       "      <td>93</td>\n",
       "      <td>academic</td>\n",
       "      <td>trust</td>\n",
       "    </tr>\n",
       "    <tr>\n",
       "      <td>...</td>\n",
       "      <td>...</td>\n",
       "      <td>...</td>\n",
       "      <td>...</td>\n",
       "    </tr>\n",
       "    <tr>\n",
       "      <td>13806</td>\n",
       "      <td>13807</td>\n",
       "      <td>wot</td>\n",
       "      <td>trust</td>\n",
       "    </tr>\n",
       "    <tr>\n",
       "      <td>13866</td>\n",
       "      <td>13867</td>\n",
       "      <td>yearning</td>\n",
       "      <td>trust</td>\n",
       "    </tr>\n",
       "    <tr>\n",
       "      <td>13892</td>\n",
       "      <td>13893</td>\n",
       "      <td>zeal</td>\n",
       "      <td>trust</td>\n",
       "    </tr>\n",
       "    <tr>\n",
       "      <td>13895</td>\n",
       "      <td>13896</td>\n",
       "      <td>zealous</td>\n",
       "      <td>trust</td>\n",
       "    </tr>\n",
       "    <tr>\n",
       "      <td>13899</td>\n",
       "      <td>13900</td>\n",
       "      <td>zest</td>\n",
       "      <td>trust</td>\n",
       "    </tr>\n",
       "  </tbody>\n",
       "</table>\n",
       "<p>1231 rows × 3 columns</p>\n",
       "</div>"
      ],
      "text/plain": [
       "       Unnamed: 0        word sentiment\n",
       "0               1      abacus     trust\n",
       "14             15       abbot     trust\n",
       "69             70  absolution     trust\n",
       "78             79   abundance     trust\n",
       "92             93    academic     trust\n",
       "...           ...         ...       ...\n",
       "13806       13807         wot     trust\n",
       "13866       13867    yearning     trust\n",
       "13892       13893        zeal     trust\n",
       "13895       13896     zealous     trust\n",
       "13899       13900        zest     trust\n",
       "\n",
       "[1231 rows x 3 columns]"
      ]
     },
     "execution_count": 108,
     "metadata": {},
     "output_type": "execute_result"
    }
   ],
   "source": [
    "nrc_trust"
   ]
  },
  {
   "cell_type": "code",
   "execution_count": 106,
   "metadata": {},
   "outputs": [],
   "source": [
    "#df.comments[1]"
   ]
  },
  {
   "cell_type": "code",
   "execution_count": 109,
   "metadata": {},
   "outputs": [],
   "source": [
    "words = df.comments.values[0].split()"
   ]
  },
  {
   "cell_type": "code",
   "execution_count": 116,
   "metadata": {},
   "outputs": [],
   "source": [
    "def get_emotion_score(text, emotion = 'trust'):\n",
    "    \n",
    "    nrc_trust = nrc[nrc['sentiment'] == emotion]\n",
    "    \n",
    "    words = text.split()\n",
    "    \n",
    "    emotion_count = 0\n",
    "    for word in words:\n",
    "        if word in list(nrc_trust['word']):\n",
    "            #print(word)\n",
    "            emotion_count +=1\n",
    "            \n",
    "    return emotion_count"
   ]
  },
  {
   "cell_type": "code",
   "execution_count": 117,
   "metadata": {},
   "outputs": [
    {
     "data": {
      "text/plain": [
       "18"
      ]
     },
     "execution_count": 117,
     "metadata": {},
     "output_type": "execute_result"
    }
   ],
   "source": [
    "get_emotion_score(df.comments.values[0], emotion = 'trust')"
   ]
  },
  {
   "cell_type": "code",
   "execution_count": 119,
   "metadata": {},
   "outputs": [],
   "source": [
    "nrc_emotions = nrc['sentiment'].unique()"
   ]
  },
  {
   "cell_type": "code",
   "execution_count": 135,
   "metadata": {},
   "outputs": [],
   "source": [
    "nrc_emotions = nrc['sentiment'].unique()\n",
    "\n",
    "for nrc_emotion in nrc_emotions:\n",
    "    df[nrc_emotion] = df['comments'].apply(get_emotion_score, emotion = nrc_emotion)"
   ]
  },
  {
   "cell_type": "code",
   "execution_count": 138,
   "metadata": {},
   "outputs": [
    {
     "data": {
      "text/html": [
       "<div>\n",
       "<style scoped>\n",
       "    .dataframe tbody tr th:only-of-type {\n",
       "        vertical-align: middle;\n",
       "    }\n",
       "\n",
       "    .dataframe tbody tr th {\n",
       "        vertical-align: top;\n",
       "    }\n",
       "\n",
       "    .dataframe thead th {\n",
       "        text-align: right;\n",
       "    }\n",
       "</style>\n",
       "<table border=\"1\" class=\"dataframe\">\n",
       "  <thead>\n",
       "    <tr style=\"text-align: right;\">\n",
       "      <th></th>\n",
       "      <th>video_id</th>\n",
       "      <th>comments</th>\n",
       "      <th>polarity_neg_comments</th>\n",
       "      <th>polarity_pos_comments</th>\n",
       "      <th>polarity_neu_comments</th>\n",
       "      <th>polarity_compound_comments</th>\n",
       "      <th>trust</th>\n",
       "      <th>fear</th>\n",
       "      <th>negative</th>\n",
       "      <th>sadness</th>\n",
       "      <th>anger</th>\n",
       "      <th>surprise</th>\n",
       "      <th>positive</th>\n",
       "      <th>disgust</th>\n",
       "      <th>joy</th>\n",
       "      <th>anticipation</th>\n",
       "    </tr>\n",
       "  </thead>\n",
       "  <tbody>\n",
       "    <tr>\n",
       "      <td>0</td>\n",
       "      <td>-2Dj9M71JAc</td>\n",
       "      <td>She sounds like the person before was singing ...</td>\n",
       "      <td>0.167</td>\n",
       "      <td>0.127</td>\n",
       "      <td>0.707</td>\n",
       "      <td>-0.9916</td>\n",
       "      <td>0.008208</td>\n",
       "      <td>0.005928</td>\n",
       "      <td>0.012312</td>\n",
       "      <td>0.008208</td>\n",
       "      <td>0.007752</td>\n",
       "      <td>0.003648</td>\n",
       "      <td>0.012768</td>\n",
       "      <td>0.005016</td>\n",
       "      <td>0.005472</td>\n",
       "      <td>0.007296</td>\n",
       "    </tr>\n",
       "    <tr>\n",
       "      <td>1</td>\n",
       "      <td>-3y6_7_5PcQ</td>\n",
       "      <td>Stop funding large pharmaceuticals by buying t...</td>\n",
       "      <td>0.118</td>\n",
       "      <td>0.156</td>\n",
       "      <td>0.726</td>\n",
       "      <td>0.9915</td>\n",
       "      <td>0.009576</td>\n",
       "      <td>0.005472</td>\n",
       "      <td>0.010488</td>\n",
       "      <td>0.005928</td>\n",
       "      <td>0.005016</td>\n",
       "      <td>0.001824</td>\n",
       "      <td>0.018696</td>\n",
       "      <td>0.003192</td>\n",
       "      <td>0.005928</td>\n",
       "      <td>0.005928</td>\n",
       "    </tr>\n",
       "    <tr>\n",
       "      <td>2</td>\n",
       "      <td>-7ORAKULel4</td>\n",
       "      <td>False, the technology is still out of reach fo...</td>\n",
       "      <td>0.109</td>\n",
       "      <td>0.136</td>\n",
       "      <td>0.755</td>\n",
       "      <td>0.8998</td>\n",
       "      <td>0.004560</td>\n",
       "      <td>0.003192</td>\n",
       "      <td>0.005472</td>\n",
       "      <td>0.001368</td>\n",
       "      <td>0.001824</td>\n",
       "      <td>0.000456</td>\n",
       "      <td>0.006384</td>\n",
       "      <td>0.000912</td>\n",
       "      <td>0.001368</td>\n",
       "      <td>0.001368</td>\n",
       "    </tr>\n",
       "    <tr>\n",
       "      <td>3</td>\n",
       "      <td>-BvcToPZCLI</td>\n",
       "      <td>What is the carbon footprint of your food?, sh...</td>\n",
       "      <td>0.050</td>\n",
       "      <td>0.089</td>\n",
       "      <td>0.862</td>\n",
       "      <td>0.9986</td>\n",
       "      <td>0.012768</td>\n",
       "      <td>0.012768</td>\n",
       "      <td>0.023256</td>\n",
       "      <td>0.008664</td>\n",
       "      <td>0.006384</td>\n",
       "      <td>0.002736</td>\n",
       "      <td>0.038304</td>\n",
       "      <td>0.004560</td>\n",
       "      <td>0.004560</td>\n",
       "      <td>0.010032</td>\n",
       "    </tr>\n",
       "    <tr>\n",
       "      <td>4</td>\n",
       "      <td>-E5K2pGB08Y</td>\n",
       "      <td>Full of Karens., stumbled here through autopla...</td>\n",
       "      <td>0.018</td>\n",
       "      <td>0.212</td>\n",
       "      <td>0.769</td>\n",
       "      <td>0.9835</td>\n",
       "      <td>0.000456</td>\n",
       "      <td>0.000000</td>\n",
       "      <td>0.000456</td>\n",
       "      <td>0.000000</td>\n",
       "      <td>0.000000</td>\n",
       "      <td>0.000912</td>\n",
       "      <td>0.001368</td>\n",
       "      <td>0.000000</td>\n",
       "      <td>0.000912</td>\n",
       "      <td>0.000912</td>\n",
       "    </tr>\n",
       "  </tbody>\n",
       "</table>\n",
       "</div>"
      ],
      "text/plain": [
       "      video_id                                           comments  \\\n",
       "0  -2Dj9M71JAc  She sounds like the person before was singing ...   \n",
       "1  -3y6_7_5PcQ  Stop funding large pharmaceuticals by buying t...   \n",
       "2  -7ORAKULel4  False, the technology is still out of reach fo...   \n",
       "3  -BvcToPZCLI  What is the carbon footprint of your food?, sh...   \n",
       "4  -E5K2pGB08Y  Full of Karens., stumbled here through autopla...   \n",
       "\n",
       "   polarity_neg_comments  polarity_pos_comments  polarity_neu_comments  \\\n",
       "0                  0.167                  0.127                  0.707   \n",
       "1                  0.118                  0.156                  0.726   \n",
       "2                  0.109                  0.136                  0.755   \n",
       "3                  0.050                  0.089                  0.862   \n",
       "4                  0.018                  0.212                  0.769   \n",
       "\n",
       "   polarity_compound_comments     trust      fear  negative   sadness  \\\n",
       "0                     -0.9916  0.008208  0.005928  0.012312  0.008208   \n",
       "1                      0.9915  0.009576  0.005472  0.010488  0.005928   \n",
       "2                      0.8998  0.004560  0.003192  0.005472  0.001368   \n",
       "3                      0.9986  0.012768  0.012768  0.023256  0.008664   \n",
       "4                      0.9835  0.000456  0.000000  0.000456  0.000000   \n",
       "\n",
       "      anger  surprise  positive   disgust       joy  anticipation  \n",
       "0  0.007752  0.003648  0.012768  0.005016  0.005472      0.007296  \n",
       "1  0.005016  0.001824  0.018696  0.003192  0.005928      0.005928  \n",
       "2  0.001824  0.000456  0.006384  0.000912  0.001368      0.001368  \n",
       "3  0.006384  0.002736  0.038304  0.004560  0.004560      0.010032  \n",
       "4  0.000000  0.000912  0.001368  0.000000  0.000912      0.000912  "
      ]
     },
     "execution_count": 138,
     "metadata": {},
     "output_type": "execute_result"
    }
   ],
   "source": [
    "df.head()"
   ]
  },
  {
   "cell_type": "code",
   "execution_count": 137,
   "metadata": {},
   "outputs": [],
   "source": [
    "for nrc_emotion in nrc_emotions:\n",
    "    df[nrc_emotion] = df[nrc_emotion]/len(df['comments'])"
   ]
  },
  {
   "cell_type": "code",
   "execution_count": 141,
   "metadata": {},
   "outputs": [],
   "source": [
    "with open('ted_video_comments_emotions.pkl', 'wb') as picklefile:\n",
    "    pickle.dump(df, picklefile)"
   ]
  },
  {
   "cell_type": "code",
   "execution_count": 140,
   "metadata": {},
   "outputs": [
    {
     "name": "stdout",
     "output_type": "stream",
     "text": [
      "/Users/elena/Desktop/Metis/Project_4_Ted/Project-4-Ted\r\n"
     ]
    }
   ],
   "source": [
    "!pwd"
   ]
  }
 ],
 "metadata": {
  "kernelspec": {
   "display_name": "Python 3",
   "language": "python",
   "name": "python3"
  },
  "language_info": {
   "codemirror_mode": {
    "name": "ipython",
    "version": 3
   },
   "file_extension": ".py",
   "mimetype": "text/x-python",
   "name": "python",
   "nbconvert_exporter": "python",
   "pygments_lexer": "ipython3",
   "version": "3.7.4"
  }
 },
 "nbformat": 4,
 "nbformat_minor": 2
}
