{
 "cells": [
  {
   "cell_type": "code",
   "execution_count": 180,
   "metadata": {},
   "outputs": [],
   "source": [
    "import pandas as pd\n",
    "\n",
    "import pickle \n",
    "\n",
    "import re\n",
    "import string\n",
    "\n",
    "import nltk\n",
    "#nltk.download()\n",
    "\n",
    "from nltk.stem.snowball import SnowballStemmer\n",
    "from nltk.tokenize import word_tokenize\n",
    "from nltk.corpus import stopwords\n",
    "\n",
    "from sklearn.feature_extraction.text import CountVectorizer \n",
    "from sklearn.feature_extraction.text import TfidfVectorizer\n",
    "\n",
    "from sklearn.decomposition import TruncatedSVD\n",
    "from sklearn.decomposition import NMF\n",
    "from sklearn.decomposition import LatentDirichletAllocation\n",
    "\n",
    "from sklearn.metrics.pairwise import cosine_similarity\n",
    "\n",
    "import spacy\n",
    "from spacy import displacy\n",
    "from spacy.symbols import amod\n",
    "\n",
    "from collections import Counter\n",
    "from spacy.symbols import amod\n",
    "from pprint import pprint\n",
    "\n",
    "import scattertext as st\n",
    "\n",
    "from vaderSentiment.vaderSentiment import SentimentIntensityAnalyzer\n",
    "\n",
    "import pyLDAvis\n",
    "import pyLDAvis.sklearn"
   ]
  },
  {
   "cell_type": "markdown",
   "metadata": {},
   "source": [
    "# Get Data"
   ]
  },
  {
   "cell_type": "code",
   "execution_count": 8,
   "metadata": {},
   "outputs": [],
   "source": [
    "with open('ted_video_transcripts_2416.pkl', 'rb') as picklefile:\n",
    "    df = pickle.load(picklefile)"
   ]
  },
  {
   "cell_type": "code",
   "execution_count": 80,
   "metadata": {},
   "outputs": [
    {
     "data": {
      "text/html": [
       "<div>\n",
       "<style scoped>\n",
       "    .dataframe tbody tr th:only-of-type {\n",
       "        vertical-align: middle;\n",
       "    }\n",
       "\n",
       "    .dataframe tbody tr th {\n",
       "        vertical-align: top;\n",
       "    }\n",
       "\n",
       "    .dataframe thead th {\n",
       "        text-align: right;\n",
       "    }\n",
       "</style>\n",
       "<table border=\"1\" class=\"dataframe\">\n",
       "  <thead>\n",
       "    <tr style=\"text-align: right;\">\n",
       "      <th></th>\n",
       "      <th>video_id</th>\n",
       "      <th>transcript</th>\n",
       "    </tr>\n",
       "  </thead>\n",
       "  <tbody>\n",
       "    <tr>\n",
       "      <td>0</td>\n",
       "      <td>YgAuFqEs6yk</td>\n",
       "      <td>I remember watching my father raised the pist...</td>\n",
       "    </tr>\n",
       "    <tr>\n",
       "      <td>1</td>\n",
       "      <td>bNmRr-BYnxA</td>\n",
       "      <td>Transcriber: Joseph Geni\\nReviewer: Camille M...</td>\n",
       "    </tr>\n",
       "    <tr>\n",
       "      <td>2</td>\n",
       "      <td>FVUkKKc3Vvk</td>\n",
       "      <td>Hi, everyone, my name is Elizabeth, and I wor...</td>\n",
       "    </tr>\n",
       "    <tr>\n",
       "      <td>3</td>\n",
       "      <td>8bj0GR34XWc</td>\n",
       "      <td>Transcriber: Ivana Korom\\nReviewer: Krystian ...</td>\n",
       "    </tr>\n",
       "    <tr>\n",
       "      <td>4</td>\n",
       "      <td>eaCrsBtiYA4</td>\n",
       "      <td>I am a public policy wonk. I investigate data...</td>\n",
       "    </tr>\n",
       "  </tbody>\n",
       "</table>\n",
       "</div>"
      ],
      "text/plain": [
       "      video_id                                         transcript\n",
       "0  YgAuFqEs6yk   I remember watching my father raised the pist...\n",
       "1  bNmRr-BYnxA   Transcriber: Joseph Geni\\nReviewer: Camille M...\n",
       "2  FVUkKKc3Vvk   Hi, everyone, my name is Elizabeth, and I wor...\n",
       "3  8bj0GR34XWc   Transcriber: Ivana Korom\\nReviewer: Krystian ...\n",
       "4  eaCrsBtiYA4   I am a public policy wonk. I investigate data..."
      ]
     },
     "execution_count": 80,
     "metadata": {},
     "output_type": "execute_result"
    }
   ],
   "source": [
    "df.head()"
   ]
  },
  {
   "cell_type": "code",
   "execution_count": 10,
   "metadata": {},
   "outputs": [
    {
     "data": {
      "text/plain": [
       "2416"
      ]
     },
     "execution_count": 10,
     "metadata": {},
     "output_type": "execute_result"
    }
   ],
   "source": [
    "len(df)"
   ]
  },
  {
   "cell_type": "markdown",
   "metadata": {},
   "source": [
    "# Text Preprocessing"
   ]
  },
  {
   "cell_type": "code",
   "execution_count": 75,
   "metadata": {},
   "outputs": [],
   "source": [
    "def clean_transcript(dirty_line):\n",
    "    output = ''\n",
    "    for el in dirty_line: #df['transcript'].values[0]\n",
    "        for key, value in el.items():\n",
    "            line_output = str.join(\"\", value)\n",
    "            output += \" \" \n",
    "            output += line_output\n",
    "    return output"
   ]
  },
  {
   "cell_type": "code",
   "execution_count": 79,
   "metadata": {},
   "outputs": [],
   "source": [
    "df['transcript'] = df['transcript'].map(clean_transcript)"
   ]
  },
  {
   "cell_type": "markdown",
   "metadata": {},
   "source": [
    "# SpaCy"
   ]
  },
  {
   "cell_type": "code",
   "execution_count": 11,
   "metadata": {},
   "outputs": [],
   "source": [
    "nlp = spacy.load('en_core_web_sm')"
   ]
  },
  {
   "cell_type": "code",
   "execution_count": 81,
   "metadata": {},
   "outputs": [],
   "source": [
    "doc = nlp(df['transcript'].values[0])"
   ]
  },
  {
   "cell_type": "code",
   "execution_count": 103,
   "metadata": {},
   "outputs": [],
   "source": [
    "test = doc[:14]"
   ]
  },
  {
   "cell_type": "code",
   "execution_count": 104,
   "metadata": {},
   "outputs": [
    {
     "name": "stdout",
     "output_type": "stream",
     "text": [
      "  SPACE   False\n",
      "I PRON -PRON- True\n",
      "remember VERB remember False\n",
      "watching VERB watch False\n",
      "my DET -PRON- True\n",
      "father NOUN father False\n",
      "raised VERB raise False\n",
      "the DET the True\n",
      "pistol NOUN pistol False\n",
      "to ADP to True\n",
      "my DET -PRON- True\n",
      "mother NOUN mother False\n",
      "'s PART 's True\n",
      "head NOUN head False\n"
     ]
    }
   ],
   "source": [
    "for token in test:\n",
    "    print(token.text, token.pos_, token.lemma_, token.is_stop)"
   ]
  },
  {
   "cell_type": "code",
   "execution_count": 105,
   "metadata": {},
   "outputs": [
    {
     "data": {
      "text/plain": [
       "\" I remember watching my father raised the pistol to my mother's head\""
      ]
     },
     "execution_count": 105,
     "metadata": {},
     "output_type": "execute_result"
    }
   ],
   "source": [
    "test.text"
   ]
  },
  {
   "cell_type": "code",
   "execution_count": 106,
   "metadata": {},
   "outputs": [
    {
     "data": {
      "text/plain": [
       " I remember watching my father raised the pistol to my mother's head she pleaded with him to put the gun down"
      ]
     },
     "execution_count": 106,
     "metadata": {},
     "output_type": "execute_result"
    }
   ],
   "source": [
    "test.sent"
   ]
  },
  {
   "cell_type": "code",
   "execution_count": 107,
   "metadata": {},
   "outputs": [
    {
     "name": "stdout",
     "output_type": "stream",
     "text": [
      "  \n",
      "I nsubj\n",
      "remember ROOT\n",
      "watching xcomp\n",
      "my poss\n",
      "father nsubj\n",
      "raised ccomp\n",
      "the det\n",
      "pistol dobj\n",
      "to prep\n",
      "my poss\n",
      "mother poss\n",
      "'s case\n",
      "head pobj\n"
     ]
    }
   ],
   "source": [
    "for token in test:\n",
    "    print(token.text, token.dep_)"
   ]
  },
  {
   "cell_type": "code",
   "execution_count": 110,
   "metadata": {},
   "outputs": [
    {
     "data": {
      "text/html": [
       "<span class=\"tex2jax_ignore\"><svg xmlns=\"http://www.w3.org/2000/svg\" xmlns:xlink=\"http://www.w3.org/1999/xlink\" xml:lang=\"en\" id=\"548f6be7e96548c0bbcdeaa25a7bc2f3-0\" class=\"displacy\" width=\"1730\" height=\"377.0\" direction=\"ltr\" style=\"max-width: none; height: 377.0px; color: #000000; background: #ffffff; font-family: Arial; direction: ltr\">\n",
       "<text class=\"displacy-token\" fill=\"currentColor\" text-anchor=\"middle\" y=\"287.0\">\n",
       "    <tspan class=\"displacy-word\" fill=\"currentColor\" x=\"50\"> </tspan>\n",
       "    <tspan class=\"displacy-tag\" dy=\"2em\" fill=\"currentColor\" x=\"50\">SPACE</tspan>\n",
       "</text>\n",
       "\n",
       "<text class=\"displacy-token\" fill=\"currentColor\" text-anchor=\"middle\" y=\"287.0\">\n",
       "    <tspan class=\"displacy-word\" fill=\"currentColor\" x=\"170\">I</tspan>\n",
       "    <tspan class=\"displacy-tag\" dy=\"2em\" fill=\"currentColor\" x=\"170\">PRON</tspan>\n",
       "</text>\n",
       "\n",
       "<text class=\"displacy-token\" fill=\"currentColor\" text-anchor=\"middle\" y=\"287.0\">\n",
       "    <tspan class=\"displacy-word\" fill=\"currentColor\" x=\"290\">remember</tspan>\n",
       "    <tspan class=\"displacy-tag\" dy=\"2em\" fill=\"currentColor\" x=\"290\">VERB</tspan>\n",
       "</text>\n",
       "\n",
       "<text class=\"displacy-token\" fill=\"currentColor\" text-anchor=\"middle\" y=\"287.0\">\n",
       "    <tspan class=\"displacy-word\" fill=\"currentColor\" x=\"410\">watching</tspan>\n",
       "    <tspan class=\"displacy-tag\" dy=\"2em\" fill=\"currentColor\" x=\"410\">VERB</tspan>\n",
       "</text>\n",
       "\n",
       "<text class=\"displacy-token\" fill=\"currentColor\" text-anchor=\"middle\" y=\"287.0\">\n",
       "    <tspan class=\"displacy-word\" fill=\"currentColor\" x=\"530\">my</tspan>\n",
       "    <tspan class=\"displacy-tag\" dy=\"2em\" fill=\"currentColor\" x=\"530\">DET</tspan>\n",
       "</text>\n",
       "\n",
       "<text class=\"displacy-token\" fill=\"currentColor\" text-anchor=\"middle\" y=\"287.0\">\n",
       "    <tspan class=\"displacy-word\" fill=\"currentColor\" x=\"650\">father</tspan>\n",
       "    <tspan class=\"displacy-tag\" dy=\"2em\" fill=\"currentColor\" x=\"650\">NOUN</tspan>\n",
       "</text>\n",
       "\n",
       "<text class=\"displacy-token\" fill=\"currentColor\" text-anchor=\"middle\" y=\"287.0\">\n",
       "    <tspan class=\"displacy-word\" fill=\"currentColor\" x=\"770\">raised</tspan>\n",
       "    <tspan class=\"displacy-tag\" dy=\"2em\" fill=\"currentColor\" x=\"770\">VERB</tspan>\n",
       "</text>\n",
       "\n",
       "<text class=\"displacy-token\" fill=\"currentColor\" text-anchor=\"middle\" y=\"287.0\">\n",
       "    <tspan class=\"displacy-word\" fill=\"currentColor\" x=\"890\">the</tspan>\n",
       "    <tspan class=\"displacy-tag\" dy=\"2em\" fill=\"currentColor\" x=\"890\">DET</tspan>\n",
       "</text>\n",
       "\n",
       "<text class=\"displacy-token\" fill=\"currentColor\" text-anchor=\"middle\" y=\"287.0\">\n",
       "    <tspan class=\"displacy-word\" fill=\"currentColor\" x=\"1010\">pistol</tspan>\n",
       "    <tspan class=\"displacy-tag\" dy=\"2em\" fill=\"currentColor\" x=\"1010\">NOUN</tspan>\n",
       "</text>\n",
       "\n",
       "<text class=\"displacy-token\" fill=\"currentColor\" text-anchor=\"middle\" y=\"287.0\">\n",
       "    <tspan class=\"displacy-word\" fill=\"currentColor\" x=\"1130\">to</tspan>\n",
       "    <tspan class=\"displacy-tag\" dy=\"2em\" fill=\"currentColor\" x=\"1130\">ADP</tspan>\n",
       "</text>\n",
       "\n",
       "<text class=\"displacy-token\" fill=\"currentColor\" text-anchor=\"middle\" y=\"287.0\">\n",
       "    <tspan class=\"displacy-word\" fill=\"currentColor\" x=\"1250\">my</tspan>\n",
       "    <tspan class=\"displacy-tag\" dy=\"2em\" fill=\"currentColor\" x=\"1250\">DET</tspan>\n",
       "</text>\n",
       "\n",
       "<text class=\"displacy-token\" fill=\"currentColor\" text-anchor=\"middle\" y=\"287.0\">\n",
       "    <tspan class=\"displacy-word\" fill=\"currentColor\" x=\"1370\">mother</tspan>\n",
       "    <tspan class=\"displacy-tag\" dy=\"2em\" fill=\"currentColor\" x=\"1370\">NOUN</tspan>\n",
       "</text>\n",
       "\n",
       "<text class=\"displacy-token\" fill=\"currentColor\" text-anchor=\"middle\" y=\"287.0\">\n",
       "    <tspan class=\"displacy-word\" fill=\"currentColor\" x=\"1490\">'s</tspan>\n",
       "    <tspan class=\"displacy-tag\" dy=\"2em\" fill=\"currentColor\" x=\"1490\">PART</tspan>\n",
       "</text>\n",
       "\n",
       "<text class=\"displacy-token\" fill=\"currentColor\" text-anchor=\"middle\" y=\"287.0\">\n",
       "    <tspan class=\"displacy-word\" fill=\"currentColor\" x=\"1610\">head</tspan>\n",
       "    <tspan class=\"displacy-tag\" dy=\"2em\" fill=\"currentColor\" x=\"1610\">NOUN</tspan>\n",
       "</text>\n",
       "\n",
       "<g class=\"displacy-arrow\">\n",
       "    <path class=\"displacy-arc\" id=\"arrow-548f6be7e96548c0bbcdeaa25a7bc2f3-0-0\" stroke-width=\"2px\" d=\"M70,242.0 C70,182.0 155.0,182.0 155.0,242.0\" fill=\"none\" stroke=\"currentColor\"/>\n",
       "    <text dy=\"1.25em\" style=\"font-size: 0.8em; letter-spacing: 1px\">\n",
       "        <textPath xlink:href=\"#arrow-548f6be7e96548c0bbcdeaa25a7bc2f3-0-0\" class=\"displacy-label\" startOffset=\"50%\" side=\"left\" fill=\"currentColor\" text-anchor=\"middle\"></textPath>\n",
       "    </text>\n",
       "    <path class=\"displacy-arrowhead\" d=\"M70,244.0 L62,232.0 78,232.0\" fill=\"currentColor\"/>\n",
       "</g>\n",
       "\n",
       "<g class=\"displacy-arrow\">\n",
       "    <path class=\"displacy-arc\" id=\"arrow-548f6be7e96548c0bbcdeaa25a7bc2f3-0-1\" stroke-width=\"2px\" d=\"M190,242.0 C190,182.0 275.0,182.0 275.0,242.0\" fill=\"none\" stroke=\"currentColor\"/>\n",
       "    <text dy=\"1.25em\" style=\"font-size: 0.8em; letter-spacing: 1px\">\n",
       "        <textPath xlink:href=\"#arrow-548f6be7e96548c0bbcdeaa25a7bc2f3-0-1\" class=\"displacy-label\" startOffset=\"50%\" side=\"left\" fill=\"currentColor\" text-anchor=\"middle\">nsubj</textPath>\n",
       "    </text>\n",
       "    <path class=\"displacy-arrowhead\" d=\"M190,244.0 L182,232.0 198,232.0\" fill=\"currentColor\"/>\n",
       "</g>\n",
       "\n",
       "<g class=\"displacy-arrow\">\n",
       "    <path class=\"displacy-arc\" id=\"arrow-548f6be7e96548c0bbcdeaa25a7bc2f3-0-2\" stroke-width=\"2px\" d=\"M310,242.0 C310,182.0 395.0,182.0 395.0,242.0\" fill=\"none\" stroke=\"currentColor\"/>\n",
       "    <text dy=\"1.25em\" style=\"font-size: 0.8em; letter-spacing: 1px\">\n",
       "        <textPath xlink:href=\"#arrow-548f6be7e96548c0bbcdeaa25a7bc2f3-0-2\" class=\"displacy-label\" startOffset=\"50%\" side=\"left\" fill=\"currentColor\" text-anchor=\"middle\">xcomp</textPath>\n",
       "    </text>\n",
       "    <path class=\"displacy-arrowhead\" d=\"M395.0,244.0 L403.0,232.0 387.0,232.0\" fill=\"currentColor\"/>\n",
       "</g>\n",
       "\n",
       "<g class=\"displacy-arrow\">\n",
       "    <path class=\"displacy-arc\" id=\"arrow-548f6be7e96548c0bbcdeaa25a7bc2f3-0-3\" stroke-width=\"2px\" d=\"M550,242.0 C550,182.0 635.0,182.0 635.0,242.0\" fill=\"none\" stroke=\"currentColor\"/>\n",
       "    <text dy=\"1.25em\" style=\"font-size: 0.8em; letter-spacing: 1px\">\n",
       "        <textPath xlink:href=\"#arrow-548f6be7e96548c0bbcdeaa25a7bc2f3-0-3\" class=\"displacy-label\" startOffset=\"50%\" side=\"left\" fill=\"currentColor\" text-anchor=\"middle\">poss</textPath>\n",
       "    </text>\n",
       "    <path class=\"displacy-arrowhead\" d=\"M550,244.0 L542,232.0 558,232.0\" fill=\"currentColor\"/>\n",
       "</g>\n",
       "\n",
       "<g class=\"displacy-arrow\">\n",
       "    <path class=\"displacy-arc\" id=\"arrow-548f6be7e96548c0bbcdeaa25a7bc2f3-0-4\" stroke-width=\"2px\" d=\"M670,242.0 C670,182.0 755.0,182.0 755.0,242.0\" fill=\"none\" stroke=\"currentColor\"/>\n",
       "    <text dy=\"1.25em\" style=\"font-size: 0.8em; letter-spacing: 1px\">\n",
       "        <textPath xlink:href=\"#arrow-548f6be7e96548c0bbcdeaa25a7bc2f3-0-4\" class=\"displacy-label\" startOffset=\"50%\" side=\"left\" fill=\"currentColor\" text-anchor=\"middle\">nsubj</textPath>\n",
       "    </text>\n",
       "    <path class=\"displacy-arrowhead\" d=\"M670,244.0 L662,232.0 678,232.0\" fill=\"currentColor\"/>\n",
       "</g>\n",
       "\n",
       "<g class=\"displacy-arrow\">\n",
       "    <path class=\"displacy-arc\" id=\"arrow-548f6be7e96548c0bbcdeaa25a7bc2f3-0-5\" stroke-width=\"2px\" d=\"M430,242.0 C430,62.0 765.0,62.0 765.0,242.0\" fill=\"none\" stroke=\"currentColor\"/>\n",
       "    <text dy=\"1.25em\" style=\"font-size: 0.8em; letter-spacing: 1px\">\n",
       "        <textPath xlink:href=\"#arrow-548f6be7e96548c0bbcdeaa25a7bc2f3-0-5\" class=\"displacy-label\" startOffset=\"50%\" side=\"left\" fill=\"currentColor\" text-anchor=\"middle\">ccomp</textPath>\n",
       "    </text>\n",
       "    <path class=\"displacy-arrowhead\" d=\"M765.0,244.0 L773.0,232.0 757.0,232.0\" fill=\"currentColor\"/>\n",
       "</g>\n",
       "\n",
       "<g class=\"displacy-arrow\">\n",
       "    <path class=\"displacy-arc\" id=\"arrow-548f6be7e96548c0bbcdeaa25a7bc2f3-0-6\" stroke-width=\"2px\" d=\"M910,242.0 C910,182.0 995.0,182.0 995.0,242.0\" fill=\"none\" stroke=\"currentColor\"/>\n",
       "    <text dy=\"1.25em\" style=\"font-size: 0.8em; letter-spacing: 1px\">\n",
       "        <textPath xlink:href=\"#arrow-548f6be7e96548c0bbcdeaa25a7bc2f3-0-6\" class=\"displacy-label\" startOffset=\"50%\" side=\"left\" fill=\"currentColor\" text-anchor=\"middle\">det</textPath>\n",
       "    </text>\n",
       "    <path class=\"displacy-arrowhead\" d=\"M910,244.0 L902,232.0 918,232.0\" fill=\"currentColor\"/>\n",
       "</g>\n",
       "\n",
       "<g class=\"displacy-arrow\">\n",
       "    <path class=\"displacy-arc\" id=\"arrow-548f6be7e96548c0bbcdeaa25a7bc2f3-0-7\" stroke-width=\"2px\" d=\"M790,242.0 C790,122.0 1000.0,122.0 1000.0,242.0\" fill=\"none\" stroke=\"currentColor\"/>\n",
       "    <text dy=\"1.25em\" style=\"font-size: 0.8em; letter-spacing: 1px\">\n",
       "        <textPath xlink:href=\"#arrow-548f6be7e96548c0bbcdeaa25a7bc2f3-0-7\" class=\"displacy-label\" startOffset=\"50%\" side=\"left\" fill=\"currentColor\" text-anchor=\"middle\">dobj</textPath>\n",
       "    </text>\n",
       "    <path class=\"displacy-arrowhead\" d=\"M1000.0,244.0 L1008.0,232.0 992.0,232.0\" fill=\"currentColor\"/>\n",
       "</g>\n",
       "\n",
       "<g class=\"displacy-arrow\">\n",
       "    <path class=\"displacy-arc\" id=\"arrow-548f6be7e96548c0bbcdeaa25a7bc2f3-0-8\" stroke-width=\"2px\" d=\"M790,242.0 C790,62.0 1125.0,62.0 1125.0,242.0\" fill=\"none\" stroke=\"currentColor\"/>\n",
       "    <text dy=\"1.25em\" style=\"font-size: 0.8em; letter-spacing: 1px\">\n",
       "        <textPath xlink:href=\"#arrow-548f6be7e96548c0bbcdeaa25a7bc2f3-0-8\" class=\"displacy-label\" startOffset=\"50%\" side=\"left\" fill=\"currentColor\" text-anchor=\"middle\">prep</textPath>\n",
       "    </text>\n",
       "    <path class=\"displacy-arrowhead\" d=\"M1125.0,244.0 L1133.0,232.0 1117.0,232.0\" fill=\"currentColor\"/>\n",
       "</g>\n",
       "\n",
       "<g class=\"displacy-arrow\">\n",
       "    <path class=\"displacy-arc\" id=\"arrow-548f6be7e96548c0bbcdeaa25a7bc2f3-0-9\" stroke-width=\"2px\" d=\"M1270,242.0 C1270,182.0 1355.0,182.0 1355.0,242.0\" fill=\"none\" stroke=\"currentColor\"/>\n",
       "    <text dy=\"1.25em\" style=\"font-size: 0.8em; letter-spacing: 1px\">\n",
       "        <textPath xlink:href=\"#arrow-548f6be7e96548c0bbcdeaa25a7bc2f3-0-9\" class=\"displacy-label\" startOffset=\"50%\" side=\"left\" fill=\"currentColor\" text-anchor=\"middle\">poss</textPath>\n",
       "    </text>\n",
       "    <path class=\"displacy-arrowhead\" d=\"M1270,244.0 L1262,232.0 1278,232.0\" fill=\"currentColor\"/>\n",
       "</g>\n",
       "\n",
       "<g class=\"displacy-arrow\">\n",
       "    <path class=\"displacy-arc\" id=\"arrow-548f6be7e96548c0bbcdeaa25a7bc2f3-0-10\" stroke-width=\"2px\" d=\"M1390,242.0 C1390,122.0 1600.0,122.0 1600.0,242.0\" fill=\"none\" stroke=\"currentColor\"/>\n",
       "    <text dy=\"1.25em\" style=\"font-size: 0.8em; letter-spacing: 1px\">\n",
       "        <textPath xlink:href=\"#arrow-548f6be7e96548c0bbcdeaa25a7bc2f3-0-10\" class=\"displacy-label\" startOffset=\"50%\" side=\"left\" fill=\"currentColor\" text-anchor=\"middle\">poss</textPath>\n",
       "    </text>\n",
       "    <path class=\"displacy-arrowhead\" d=\"M1390,244.0 L1382,232.0 1398,232.0\" fill=\"currentColor\"/>\n",
       "</g>\n",
       "\n",
       "<g class=\"displacy-arrow\">\n",
       "    <path class=\"displacy-arc\" id=\"arrow-548f6be7e96548c0bbcdeaa25a7bc2f3-0-11\" stroke-width=\"2px\" d=\"M1390,242.0 C1390,182.0 1475.0,182.0 1475.0,242.0\" fill=\"none\" stroke=\"currentColor\"/>\n",
       "    <text dy=\"1.25em\" style=\"font-size: 0.8em; letter-spacing: 1px\">\n",
       "        <textPath xlink:href=\"#arrow-548f6be7e96548c0bbcdeaa25a7bc2f3-0-11\" class=\"displacy-label\" startOffset=\"50%\" side=\"left\" fill=\"currentColor\" text-anchor=\"middle\">case</textPath>\n",
       "    </text>\n",
       "    <path class=\"displacy-arrowhead\" d=\"M1475.0,244.0 L1483.0,232.0 1467.0,232.0\" fill=\"currentColor\"/>\n",
       "</g>\n",
       "\n",
       "<g class=\"displacy-arrow\">\n",
       "    <path class=\"displacy-arc\" id=\"arrow-548f6be7e96548c0bbcdeaa25a7bc2f3-0-12\" stroke-width=\"2px\" d=\"M1150,242.0 C1150,2.0 1610.0,2.0 1610.0,242.0\" fill=\"none\" stroke=\"currentColor\"/>\n",
       "    <text dy=\"1.25em\" style=\"font-size: 0.8em; letter-spacing: 1px\">\n",
       "        <textPath xlink:href=\"#arrow-548f6be7e96548c0bbcdeaa25a7bc2f3-0-12\" class=\"displacy-label\" startOffset=\"50%\" side=\"left\" fill=\"currentColor\" text-anchor=\"middle\">pobj</textPath>\n",
       "    </text>\n",
       "    <path class=\"displacy-arrowhead\" d=\"M1610.0,244.0 L1618.0,232.0 1602.0,232.0\" fill=\"currentColor\"/>\n",
       "</g>\n",
       "</svg></span>"
      ],
      "text/plain": [
       "<IPython.core.display.HTML object>"
      ]
     },
     "metadata": {},
     "output_type": "display_data"
    }
   ],
   "source": [
    "displacy.render(test, style='dep', options={'distance': 120})"
   ]
  },
  {
   "cell_type": "code",
   "execution_count": 113,
   "metadata": {},
   "outputs": [
    {
     "name": "stdout",
     "output_type": "stream",
     "text": [
      "posessive: my --> NOUN: father\n",
      "posessive: my --> NOUN: mother\n",
      "posessive: mother --> NOUN: head\n"
     ]
    }
   ],
   "source": [
    "for token in test:\n",
    "    if token.dep_ == 'poss':\n",
    "        print(f\"posessive: {token.text} --> NOUN: {token.head}\")"
   ]
  },
  {
   "cell_type": "code",
   "execution_count": 114,
   "metadata": {},
   "outputs": [
    {
     "data": {
      "text/plain": [
       "'possession modifier'"
      ]
     },
     "execution_count": 114,
     "metadata": {},
     "output_type": "execute_result"
    }
   ],
   "source": [
    "spacy.explain(\"poss\")"
   ]
  },
  {
   "cell_type": "markdown",
   "metadata": {},
   "source": [
    "named entity recognition"
   ]
  },
  {
   "cell_type": "code",
   "execution_count": 117,
   "metadata": {},
   "outputs": [
    {
     "name": "stdout",
     "output_type": "stream",
     "text": [
      "one CARDINAL\n",
      "12 CARDINAL\n",
      "years later DATE\n",
      "nearly nine years DATE\n",
      "only three CARDINAL\n",
      "two CARDINAL\n",
      "two CARDINAL\n",
      "1983 DATE\n",
      "11 years old DATE\n",
      "Detroit GPE\n",
      "30 years later DATE\n",
      "19 year DATE\n",
      "four years DATE\n",
      "PhD WORK_OF_ART\n",
      "GED ORG\n",
      "Guana GPE\n",
      "first ORDINAL\n",
      "morning TIME\n",
      "the morning TIME\n",
      "Parenthood PERSON\n",
      "the end of the day DATE\n",
      "a long day DATE\n",
      "Earth LOC\n",
      "every day DATE\n",
      "Mamas PERSON\n",
      "two CARDINAL\n",
      "one CARDINAL\n",
      "two CARDINAL\n",
      "my day DATE\n",
      "first ORDINAL\n",
      "Oprah Winfrey PERSON\n",
      "CNN ORG\n",
      "last night TIME\n",
      "second ORDINAL\n",
      "half an hour TIME\n",
      "nightly DATE\n",
      "night TIME\n",
      "two CARDINAL\n",
      "Sun PERSON\n",
      "KU ORG\n",
      "every night TIME\n"
     ]
    }
   ],
   "source": [
    "for ent in doc.ents:\n",
    "    print(ent.text, ent.label_)"
   ]
  },
  {
   "cell_type": "code",
   "execution_count": 118,
   "metadata": {},
   "outputs": [
    {
     "data": {
      "text/plain": [
       "'People, including fictional'"
      ]
     },
     "execution_count": 118,
     "metadata": {},
     "output_type": "execute_result"
    }
   ],
   "source": [
    "spacy.explain(\"PERSON\")"
   ]
  },
  {
   "cell_type": "code",
   "execution_count": 119,
   "metadata": {},
   "outputs": [
    {
     "data": {
      "text/html": [
       "<span class=\"tex2jax_ignore\"><div class=\"entities\" style=\"line-height: 2.5; direction: ltr\"> I remember watching my father raised the pistol to my mother's head she pleaded with him to put the gun down he ignored her when she bolted toward the door he followed close behind and once outside he fired \n",
       "<mark class=\"entity\" style=\"background: #e4e7d2; padding: 0.45em 0.6em; margin: 0 0.25em; line-height: 1; border-radius: 0.35em;\">\n",
       "    one\n",
       "    <span style=\"font-size: 0.8em; font-weight: bold; line-height: 1; border-radius: 0.35em; text-transform: uppercase; vertical-align: middle; margin-left: 0.5rem\">CARDINAL</span>\n",
       "</mark>\n",
       " single shot I was \n",
       "<mark class=\"entity\" style=\"background: #e4e7d2; padding: 0.45em 0.6em; margin: 0 0.25em; line-height: 1; border-radius: 0.35em;\">\n",
       "    12\n",
       "    <span style=\"font-size: 0.8em; font-weight: bold; line-height: 1; border-radius: 0.35em; text-transform: uppercase; vertical-align: middle; margin-left: 0.5rem\">CARDINAL</span>\n",
       "</mark>\n",
       " I remember this moment frame by frame I remember feeling numb I remember feeling alone thank God the bullet missed her but my family would never be the same I would never be the same I didn't know then all the ways that my parent's on-again off-again relationship would impact me but I knew I didn't want to love like theirs my story would be different \n",
       "<mark class=\"entity\" style=\"background: #bfe1d9; padding: 0.45em 0.6em; margin: 0 0.25em; line-height: 1; border-radius: 0.35em;\">\n",
       "    years later\n",
       "    <span style=\"font-size: 0.8em; font-weight: bold; line-height: 1; border-radius: 0.35em; text-transform: uppercase; vertical-align: middle; margin-left: 0.5rem\">DATE</span>\n",
       "</mark>\n",
       " when I met you I fell madly in love our connection was undeniable It was as if you had been hand-picked just for me I thought we'd be together forever but we struggled with some of the same issues my parents had and after \n",
       "<mark class=\"entity\" style=\"background: #bfe1d9; padding: 0.45em 0.6em; margin: 0 0.25em; line-height: 1; border-radius: 0.35em;\">\n",
       "    nearly nine years\n",
       "    <span style=\"font-size: 0.8em; font-weight: bold; line-height: 1; border-radius: 0.35em; text-transform: uppercase; vertical-align: middle; margin-left: 0.5rem\">DATE</span>\n",
       "</mark>\n",
       " together we called it quits we had sake ooh then he was \n",
       "<mark class=\"entity\" style=\"background: #e4e7d2; padding: 0.45em 0.6em; margin: 0 0.25em; line-height: 1; border-radius: 0.35em;\">\n",
       "    only three\n",
       "    <span style=\"font-size: 0.8em; font-weight: bold; line-height: 1; border-radius: 0.35em; text-transform: uppercase; vertical-align: middle; margin-left: 0.5rem\">CARDINAL</span>\n",
       "</mark>\n",
       " though he was too young to really understand what was going on he was old enough to know that mommy and daddy weren't gonna be living in the same house anymore our breakup hit me really hard but I decided I wouldn't let my broken heart get in the way of what was best for sake ooh we struggled initially trying to navigate this new space as co-parents I asked myself how do we raise this beautiful boy full of wonder and promise and so much power in spite of our failures as a couple the answer for me was simple I could either choose fear fear of being alone fear of the unknown or choose love and I chose love that means seeing the good in you as a father it means seeing the good in you as a father and not your missteps as a partner it means putting sake who first every time even if it means I don't get my way I know my parents went back and forth trying to work things out for my brothers my brother and I sake though I appreciate their effort I wish they hadn't I saw too much I heard too much I knew I didn't want that to be sake whose story I want to say ku to know what it was like to see \n",
       "<mark class=\"entity\" style=\"background: #e4e7d2; padding: 0.45em 0.6em; margin: 0 0.25em; line-height: 1; border-radius: 0.35em;\">\n",
       "    two\n",
       "    <span style=\"font-size: 0.8em; font-weight: bold; line-height: 1; border-radius: 0.35em; text-transform: uppercase; vertical-align: middle; margin-left: 0.5rem\">CARDINAL</span>\n",
       "</mark>\n",
       " parents who got along \n",
       "<mark class=\"entity\" style=\"background: #e4e7d2; padding: 0.45em 0.6em; margin: 0 0.25em; line-height: 1; border-radius: 0.35em;\">\n",
       "    two\n",
       "    <span style=\"font-size: 0.8em; font-weight: bold; line-height: 1; border-radius: 0.35em; text-transform: uppercase; vertical-align: middle; margin-left: 0.5rem\">CARDINAL</span>\n",
       "</mark>\n",
       " parents who worked together as a team I wanted him to know what love looks like in its truest form love is patient love is kind love does not anger easily keeps no wrongs love always protects always trusts always hopes always perseveres it's \n",
       "<mark class=\"entity\" style=\"background: #bfe1d9; padding: 0.45em 0.6em; margin: 0 0.25em; line-height: 1; border-radius: 0.35em;\">\n",
       "    1983\n",
       "    <span style=\"font-size: 0.8em; font-weight: bold; line-height: 1; border-radius: 0.35em; text-transform: uppercase; vertical-align: middle; margin-left: 0.5rem\">DATE</span>\n",
       "</mark>\n",
       " I was \n",
       "<mark class=\"entity\" style=\"background: #bfe1d9; padding: 0.45em 0.6em; margin: 0 0.25em; line-height: 1; border-radius: 0.35em;\">\n",
       "    11 years old\n",
       "    <span style=\"font-size: 0.8em; font-weight: bold; line-height: 1; border-radius: 0.35em; text-transform: uppercase; vertical-align: middle; margin-left: 0.5rem\">DATE</span>\n",
       "</mark>\n",
       " I remember being in the basement with my father and our home on the east side of \n",
       "<mark class=\"entity\" style=\"background: #feca74; padding: 0.45em 0.6em; margin: 0 0.25em; line-height: 1; border-radius: 0.35em;\">\n",
       "    Detroit\n",
       "    <span style=\"font-size: 0.8em; font-weight: bold; line-height: 1; border-radius: 0.35em; text-transform: uppercase; vertical-align: middle; margin-left: 0.5rem\">GPE</span>\n",
       "</mark>\n",
       " I watched some stuff albums into the blue and orange milk crates I see restrained from his eyes just before that his my mother and I him and my mother had just sat me and my siblings down and told us that they were calling it quits \n",
       "<mark class=\"entity\" style=\"background: #bfe1d9; padding: 0.45em 0.6em; margin: 0 0.25em; line-height: 1; border-radius: 0.35em;\">\n",
       "    30 years later\n",
       "    <span style=\"font-size: 0.8em; font-weight: bold; line-height: 1; border-radius: 0.35em; text-transform: uppercase; vertical-align: middle; margin-left: 0.5rem\">DATE</span>\n",
       "</mark>\n",
       " I found myself with tears in my eyes as I packed my belongings and our home Devon and I met while I was serving the \n",
       "<mark class=\"entity\" style=\"background: #bfe1d9; padding: 0.45em 0.6em; margin: 0 0.25em; line-height: 1; border-radius: 0.35em;\">\n",
       "    19 year\n",
       "    <span style=\"font-size: 0.8em; font-weight: bold; line-height: 1; border-radius: 0.35em; text-transform: uppercase; vertical-align: middle; margin-left: 0.5rem\">DATE</span>\n",
       "</mark>\n",
       " prison sentence for \n",
       "<mark class=\"entity\" style=\"background: #bfe1d9; padding: 0.45em 0.6em; margin: 0 0.25em; line-height: 1; border-radius: 0.35em;\">\n",
       "    four years\n",
       "    <span style=\"font-size: 0.8em; font-weight: bold; line-height: 1; border-radius: 0.35em; text-transform: uppercase; vertical-align: middle; margin-left: 0.5rem\">DATE</span>\n",
       "</mark>\n",
       " we use letters phone calls and visits to build when we imagine to be an unshakable bond we fought the system together and we thought that we would be able to write the laws of our parents she was a poet I was a writer she was gorgeous with a \n",
       "<mark class=\"entity\" style=\"background: #f0d0ff; padding: 0.45em 0.6em; margin: 0 0.25em; line-height: 1; border-radius: 0.35em;\">\n",
       "    PhD\n",
       "    <span style=\"font-size: 0.8em; font-weight: bold; line-height: 1; border-radius: 0.35em; text-transform: uppercase; vertical-align: middle; margin-left: 0.5rem\">WORK_OF_ART</span>\n",
       "</mark>\n",
       " I was handsome with a \n",
       "<mark class=\"entity\" style=\"background: #7aecec; padding: 0.45em 0.6em; margin: 0 0.25em; line-height: 1; border-radius: 0.35em;\">\n",
       "    GED\n",
       "    <span style=\"font-size: 0.8em; font-weight: bold; line-height: 1; border-radius: 0.35em; text-transform: uppercase; vertical-align: middle; margin-left: 0.5rem\">ORG</span>\n",
       "</mark>\n",
       " but we bought something built something magical we build something that we thought would endure but unfortunately our relationship became on hands when I was released from prison post-traumatic stress syndrome trauma from prior to \n",
       "<mark class=\"entity\" style=\"background: #feca74; padding: 0.45em 0.6em; margin: 0 0.25em; line-height: 1; border-radius: 0.35em;\">\n",
       "    Guana\n",
       "    <span style=\"font-size: 0.8em; font-weight: bold; line-height: 1; border-radius: 0.35em; text-transform: uppercase; vertical-align: middle; margin-left: 0.5rem\">GPE</span>\n",
       "</mark>\n",
       " prison baggage from her relationship my inexperience in a relationship undid the magic of what we built behind the laws centered and all of that was our beautiful boy I remember we \n",
       "<mark class=\"entity\" style=\"background: #e4e7d2; padding: 0.45em 0.6em; margin: 0 0.25em; line-height: 1; border-radius: 0.35em;\">\n",
       "    first\n",
       "    <span style=\"font-size: 0.8em; font-weight: bold; line-height: 1; border-radius: 0.35em; text-transform: uppercase; vertical-align: middle; margin-left: 0.5rem\">ORDINAL</span>\n",
       "</mark>\n",
       " brought us a cool home it was so exciting it was amazing we worked together we collaborated we supported each other you took the night shift I took the \n",
       "<mark class=\"entity\" style=\"background: #bfe1d9; padding: 0.45em 0.6em; margin: 0 0.25em; line-height: 1; border-radius: 0.35em;\">\n",
       "    morning\n",
       "    <span style=\"font-size: 0.8em; font-weight: bold; line-height: 1; border-radius: 0.35em; text-transform: uppercase; vertical-align: middle; margin-left: 0.5rem\">TIME</span>\n",
       "</mark>\n",
       " shift hymns going amazing and then it all changed it changed \n",
       "<mark class=\"entity\" style=\"background: #bfe1d9; padding: 0.45em 0.6em; margin: 0 0.25em; line-height: 1; border-radius: 0.35em;\">\n",
       "    the morning\n",
       "    <span style=\"font-size: 0.8em; font-weight: bold; line-height: 1; border-radius: 0.35em; text-transform: uppercase; vertical-align: middle; margin-left: 0.5rem\">TIME</span>\n",
       "</mark>\n",
       " that you came in and really excited he was like hey I'm going back to work aren't you excited and I was like yes I am ecstatic right now I could not be more delighted but inside I was really afraid but I can tell you that so instead I said hey go off and have a wonderful day and you go and I was left with say cool what I understand now about that moment is that we were fostering the trust that's necessary for parents to co-exist and that you were trusting me with our most precious gift and that you were building the foundation and the blocks for what's important for this portal we call \n",
       "<mark class=\"entity\" style=\"background: #aa9cfc; padding: 0.45em 0.6em; margin: 0 0.25em; line-height: 1; border-radius: 0.35em;\">\n",
       "    Parenthood\n",
       "    <span style=\"font-size: 0.8em; font-weight: bold; line-height: 1; border-radius: 0.35em; text-transform: uppercase; vertical-align: middle; margin-left: 0.5rem\">PERSON</span>\n",
       "</mark>\n",
       " knowing how our parents breakups impacted us you know we were really sensitive about how I break up what impacts a coo-wee struggles but we found our way and let's say coutelle it were the best parents in the world I love that he sees us that way we made a choice in the beginning to co-parent as allies and not adversaries to break the toxic pattern that we see play out over and over again when parents lose focus on what's most important the children they allow their relationship pain to get in the way at \n",
       "<mark class=\"entity\" style=\"background: #bfe1d9; padding: 0.45em 0.6em; margin: 0 0.25em; line-height: 1; border-radius: 0.35em;\">\n",
       "    the end of the day\n",
       "    <span style=\"font-size: 0.8em; font-weight: bold; line-height: 1; border-radius: 0.35em; text-transform: uppercase; vertical-align: middle; margin-left: 0.5rem\">DATE</span>\n",
       "</mark>\n",
       " we're on the same team and that's say coos team you know I have to admit we have an unconventional relationship a lot of people don't understand we're not perfect as parents or people but we honor each other's role and sake whose life we allow him to do things that our parents would never allow us to do we don't allow our fears to put limits on him we nurture his natural curiosity about the universe and his relationship to the world remember that time when we were coming in from \n",
       "<mark class=\"entity\" style=\"background: #bfe1d9; padding: 0.45em 0.6em; margin: 0 0.25em; line-height: 1; border-radius: 0.35em;\">\n",
       "    a long day\n",
       "    <span style=\"font-size: 0.8em; font-weight: bold; line-height: 1; border-radius: 0.35em; text-transform: uppercase; vertical-align: middle; margin-left: 0.5rem\">DATE</span>\n",
       "</mark>\n",
       " of work and sake who found a puddle outside a puddle of mud mind you had a brand-new fresh outfit on leave from head to toe and he found his puddle of mud and he reached for it and he wanted to touch the muddy earth and we allowed him to do that we resisted the urge to say no and in fact went and got him a shovel and allowed him to feel the \n",
       "<mark class=\"entity\" style=\"background: #ff9561; padding: 0.45em 0.6em; margin: 0 0.25em; line-height: 1; border-radius: 0.35em;\">\n",
       "    Earth\n",
       "    <span style=\"font-size: 0.8em; font-weight: bold; line-height: 1; border-radius: 0.35em; text-transform: uppercase; vertical-align: middle; margin-left: 0.5rem\">LOC</span>\n",
       "</mark>\n",
       "'s properties and explore as much as he wanted to and he played and was as happy as a pig in mud we realized that the outfit could be washed that a bath would clean up all the dirt but the thrill of being in the moment of being able to touch and and be amazed at this thing that he had never discovered before was more valuable than the clothes or the dirt that could be washed away we continue to rethink what is right and wrong when it comes to parenting sake who challenges us \n",
       "<mark class=\"entity\" style=\"background: #bfe1d9; padding: 0.45em 0.6em; margin: 0 0.25em; line-height: 1; border-radius: 0.35em;\">\n",
       "    every day\n",
       "    <span style=\"font-size: 0.8em; font-weight: bold; line-height: 1; border-radius: 0.35em; text-transform: uppercase; vertical-align: middle; margin-left: 0.5rem\">DATE</span>\n",
       "</mark>\n",
       " you know we allow him to climb on couches and draw on his clothes and his shoes let him run around the store well I do anyway and I get the death stares from other \n",
       "<mark class=\"entity\" style=\"background: #aa9cfc; padding: 0.45em 0.6em; margin: 0 0.25em; line-height: 1; border-radius: 0.35em;\">\n",
       "    Mamas\n",
       "    <span style=\"font-size: 0.8em; font-weight: bold; line-height: 1; border-radius: 0.35em; text-transform: uppercase; vertical-align: middle; margin-left: 0.5rem\">PERSON</span>\n",
       "</mark>\n",
       " who look at me and who think that children should be quiet and well-behaved in public I also get those questions that are really judgements but I don't pay them any mind because at the end of the day our job is to guys sake who on this journey of life not to control him we're here to help him figure out his place in the world to uncover his greatest gifts to discover why he was born we are raising a free black boy in a world that despises black joy and we refuse to put limits on him that the world already has our parenting can be seen as an allegory but it's \n",
       "<mark class=\"entity\" style=\"background: #e4e7d2; padding: 0.45em 0.6em; margin: 0 0.25em; line-height: 1; border-radius: 0.35em;\">\n",
       "    two\n",
       "    <span style=\"font-size: 0.8em; font-weight: bold; line-height: 1; border-radius: 0.35em; text-transform: uppercase; vertical-align: middle; margin-left: 0.5rem\">CARDINAL</span>\n",
       "</mark>\n",
       "-sided coin the possibilities on \n",
       "<mark class=\"entity\" style=\"background: #e4e7d2; padding: 0.45em 0.6em; margin: 0 0.25em; line-height: 1; border-radius: 0.35em;\">\n",
       "    one\n",
       "    <span style=\"font-size: 0.8em; font-weight: bold; line-height: 1; border-radius: 0.35em; text-transform: uppercase; vertical-align: middle; margin-left: 0.5rem\">CARDINAL</span>\n",
       "</mark>\n",
       " side the reality of raising a black boy in a society that says that black boys black bodies and black lives only seen as profitable for disposable and then there's the other side possibility of \n",
       "<mark class=\"entity\" style=\"background: #e4e7d2; padding: 0.45em 0.6em; margin: 0 0.25em; line-height: 1; border-radius: 0.35em;\">\n",
       "    two\n",
       "    <span style=\"font-size: 0.8em; font-weight: bold; line-height: 1; border-radius: 0.35em; text-transform: uppercase; vertical-align: middle; margin-left: 0.5rem\">CARDINAL</span>\n",
       "</mark>\n",
       " parents who no longer together coexisting supporting each other loving each other so affection publicly in a way that honors the release it with our son and even more importantly is the power to support each other know those vulnerable moments like there was this one time that it was \n",
       "<mark class=\"entity\" style=\"background: #bfe1d9; padding: 0.45em 0.6em; margin: 0 0.25em; line-height: 1; border-radius: 0.35em;\">\n",
       "    my day\n",
       "    <span style=\"font-size: 0.8em; font-weight: bold; line-height: 1; border-radius: 0.35em; text-transform: uppercase; vertical-align: middle; margin-left: 0.5rem\">DATE</span>\n",
       "</mark>\n",
       " to go pick up stay cool you remember that time I go pick Seiko up he's in \n",
       "<mark class=\"entity\" style=\"background: #e4e7d2; padding: 0.45em 0.6em; margin: 0 0.25em; line-height: 1; border-radius: 0.35em;\">\n",
       "    first\n",
       "    <span style=\"font-size: 0.8em; font-weight: bold; line-height: 1; border-radius: 0.35em; text-transform: uppercase; vertical-align: middle; margin-left: 0.5rem\">ORDINAL</span>\n",
       "</mark>\n",
       " grade and as I'm walking up another parent walks up and says hey soccer I seen \n",
       "<mark class=\"entity\" style=\"background: #aa9cfc; padding: 0.45em 0.6em; margin: 0 0.25em; line-height: 1; border-radius: 0.35em;\">\n",
       "    Oprah Winfrey\n",
       "    <span style=\"font-size: 0.8em; font-weight: bold; line-height: 1; border-radius: 0.35em; text-transform: uppercase; vertical-align: middle; margin-left: 0.5rem\">PERSON</span>\n",
       "</mark>\n",
       " give a shout-out to you on \n",
       "<mark class=\"entity\" style=\"background: #7aecec; padding: 0.45em 0.6em; margin: 0 0.25em; line-height: 1; border-radius: 0.35em;\">\n",
       "    CNN\n",
       "    <span style=\"font-size: 0.8em; font-weight: bold; line-height: 1; border-radius: 0.35em; text-transform: uppercase; vertical-align: middle; margin-left: 0.5rem\">ORG</span>\n",
       "</mark>\n",
       " \n",
       "<mark class=\"entity\" style=\"background: #bfe1d9; padding: 0.45em 0.6em; margin: 0 0.25em; line-height: 1; border-radius: 0.35em;\">\n",
       "    last night\n",
       "    <span style=\"font-size: 0.8em; font-weight: bold; line-height: 1; border-radius: 0.35em; text-transform: uppercase; vertical-align: middle; margin-left: 0.5rem\">TIME</span>\n",
       "</mark>\n",
       " she was super excited exuberant even I was mortified because I thought what's going to happen when she tells another parent and they said another parent and then they go and look me up and then he discovered that I was in prison for \n",
       "<mark class=\"entity\" style=\"background: #e4e7d2; padding: 0.45em 0.6em; margin: 0 0.25em; line-height: 1; border-radius: 0.35em;\">\n",
       "    second\n",
       "    <span style=\"font-size: 0.8em; font-weight: bold; line-height: 1; border-radius: 0.35em; text-transform: uppercase; vertical-align: middle; margin-left: 0.5rem\">ORDINAL</span>\n",
       "</mark>\n",
       "-degree murder and then a child hears about it and they come to school and they say to say cool your dad was convicted of murdering someone and I remember as watching sake who race out and I knew that I had to call evany when I called her explain to her what happened evany said you have to have the talk so I took say cold home got him ready for bed and we talked for \n",
       "<mark class=\"entity\" style=\"background: #bfe1d9; padding: 0.45em 0.6em; margin: 0 0.25em; line-height: 1; border-radius: 0.35em;\">\n",
       "    half an hour\n",
       "    <span style=\"font-size: 0.8em; font-weight: bold; line-height: 1; border-radius: 0.35em; text-transform: uppercase; vertical-align: middle; margin-left: 0.5rem\">TIME</span>\n",
       "</mark>\n",
       " and I've talked to him about why I went to prison and I listened to his feedback and then we called his mom so we can do our \n",
       "<mark class=\"entity\" style=\"background: #bfe1d9; padding: 0.45em 0.6em; margin: 0 0.25em; line-height: 1; border-radius: 0.35em;\">\n",
       "    nightly\n",
       "    <span style=\"font-size: 0.8em; font-weight: bold; line-height: 1; border-radius: 0.35em; text-transform: uppercase; vertical-align: middle; margin-left: 0.5rem\">DATE</span>\n",
       "</mark>\n",
       " ritual of her offering prayer and then me doing affirmations and I remember holding them tightly and I realized the importance of the affirmations that we do at \n",
       "<mark class=\"entity\" style=\"background: #bfe1d9; padding: 0.45em 0.6em; margin: 0 0.25em; line-height: 1; border-radius: 0.35em;\">\n",
       "    night\n",
       "    <span style=\"font-size: 0.8em; font-weight: bold; line-height: 1; border-radius: 0.35em; text-transform: uppercase; vertical-align: middle; margin-left: 0.5rem\">TIME</span>\n",
       "</mark>\n",
       " and I see them as a role map as a guy as a touchstone for other parents to perfect protect and empower their children especially in the world where it's very difficult for us co-parent and there's so much more than scheduling pick up and drop off playdates deciding what he's going to wear what he's going to eat for us it's about helping each other carry \n",
       "<mark class=\"entity\" style=\"background: #e4e7d2; padding: 0.45em 0.6em; margin: 0 0.25em; line-height: 1; border-radius: 0.35em;\">\n",
       "    two\n",
       "    <span style=\"font-size: 0.8em; font-weight: bold; line-height: 1; border-radius: 0.35em; text-transform: uppercase; vertical-align: middle; margin-left: 0.5rem\">CARDINAL</span>\n",
       "</mark>\n",
       " weight unpack the low and show up in the world the way that honors the beauty of our \n",
       "<mark class=\"entity\" style=\"background: #aa9cfc; padding: 0.45em 0.6em; margin: 0 0.25em; line-height: 1; border-radius: 0.35em;\">\n",
       "    Sun\n",
       "    <span style=\"font-size: 0.8em; font-weight: bold; line-height: 1; border-radius: 0.35em; text-transform: uppercase; vertical-align: middle; margin-left: 0.5rem\">PERSON</span>\n",
       "</mark>\n",
       " and it's for these reasons that we do affirmations we never thought we'd be here but here we are and we hope that the way that we show up for say ku and for each other is a model of what successful co-parenting can look like we'd like to bring you all in to this nightly ritual of affirmations that shaka does we'll say \n",
       "<mark class=\"entity\" style=\"background: #7aecec; padding: 0.45em 0.6em; margin: 0 0.25em; line-height: 1; border-radius: 0.35em;\">\n",
       "    KU\n",
       "    <span style=\"font-size: 0.8em; font-weight: bold; line-height: 1; border-radius: 0.35em; text-transform: uppercase; vertical-align: middle; margin-left: 0.5rem\">ORG</span>\n",
       "</mark>\n",
       " \n",
       "<mark class=\"entity\" style=\"background: #bfe1d9; padding: 0.45em 0.6em; margin: 0 0.25em; line-height: 1; border-radius: 0.35em;\">\n",
       "    every night\n",
       "    <span style=\"font-size: 0.8em; font-weight: bold; line-height: 1; border-radius: 0.35em; text-transform: uppercase; vertical-align: middle; margin-left: 0.5rem\">TIME</span>\n",
       "</mark>\n",
       " at bedtime I am great great I'm awesome I'm awesome I'm amazing amazing I'm thoughtful and thoughtful I'm time okay I'm loving I love I'm Carrie I don't carry no funny Oh funny I'm smart I'm smart I'm a big boy big boy I'm a soldier I'm a soldier I'm warrior I don't say cool I'll take it [Applause] [Music]</div></span>"
      ],
      "text/plain": [
       "<IPython.core.display.HTML object>"
      ]
     },
     "metadata": {},
     "output_type": "display_data"
    }
   ],
   "source": [
    "displacy.render(doc, style='ent', jupyter=True)"
   ]
  },
  {
   "cell_type": "code",
   "execution_count": 120,
   "metadata": {},
   "outputs": [],
   "source": [
    "df['spacy_doc'] = list(nlp.pipe(df.transcript))"
   ]
  },
  {
   "cell_type": "code",
   "execution_count": 121,
   "metadata": {},
   "outputs": [
    {
     "data": {
      "text/html": [
       "<div>\n",
       "<style scoped>\n",
       "    .dataframe tbody tr th:only-of-type {\n",
       "        vertical-align: middle;\n",
       "    }\n",
       "\n",
       "    .dataframe tbody tr th {\n",
       "        vertical-align: top;\n",
       "    }\n",
       "\n",
       "    .dataframe thead th {\n",
       "        text-align: right;\n",
       "    }\n",
       "</style>\n",
       "<table border=\"1\" class=\"dataframe\">\n",
       "  <thead>\n",
       "    <tr style=\"text-align: right;\">\n",
       "      <th></th>\n",
       "      <th>video_id</th>\n",
       "      <th>transcript</th>\n",
       "      <th>spacy_doc</th>\n",
       "    </tr>\n",
       "  </thead>\n",
       "  <tbody>\n",
       "    <tr>\n",
       "      <td>0</td>\n",
       "      <td>YgAuFqEs6yk</td>\n",
       "      <td>I remember watching my father raised the pist...</td>\n",
       "      <td>( , I, remember, watching, my, father, raised,...</td>\n",
       "    </tr>\n",
       "    <tr>\n",
       "      <td>1</td>\n",
       "      <td>bNmRr-BYnxA</td>\n",
       "      <td>Transcriber: Joseph Geni\\nReviewer: Camille M...</td>\n",
       "      <td>( , Transcriber, :, Joseph, Geni, \\n, Reviewer...</td>\n",
       "    </tr>\n",
       "    <tr>\n",
       "      <td>2</td>\n",
       "      <td>FVUkKKc3Vvk</td>\n",
       "      <td>Hi, everyone, my name is Elizabeth, and I wor...</td>\n",
       "      <td>( , Hi, ,, everyone, ,, my, name, is, Elizabet...</td>\n",
       "    </tr>\n",
       "    <tr>\n",
       "      <td>3</td>\n",
       "      <td>8bj0GR34XWc</td>\n",
       "      <td>Transcriber: Ivana Korom\\nReviewer: Krystian ...</td>\n",
       "      <td>( , Transcriber, :, Ivana, Korom, \\n, Reviewer...</td>\n",
       "    </tr>\n",
       "    <tr>\n",
       "      <td>4</td>\n",
       "      <td>eaCrsBtiYA4</td>\n",
       "      <td>I am a public policy wonk. I investigate data...</td>\n",
       "      <td>( , I, am, a, public, policy, wonk, ., I, inve...</td>\n",
       "    </tr>\n",
       "  </tbody>\n",
       "</table>\n",
       "</div>"
      ],
      "text/plain": [
       "      video_id                                         transcript  \\\n",
       "0  YgAuFqEs6yk   I remember watching my father raised the pist...   \n",
       "1  bNmRr-BYnxA   Transcriber: Joseph Geni\\nReviewer: Camille M...   \n",
       "2  FVUkKKc3Vvk   Hi, everyone, my name is Elizabeth, and I wor...   \n",
       "3  8bj0GR34XWc   Transcriber: Ivana Korom\\nReviewer: Krystian ...   \n",
       "4  eaCrsBtiYA4   I am a public policy wonk. I investigate data...   \n",
       "\n",
       "                                           spacy_doc  \n",
       "0  ( , I, remember, watching, my, father, raised,...  \n",
       "1  ( , Transcriber, :, Joseph, Geni, \\n, Reviewer...  \n",
       "2  ( , Hi, ,, everyone, ,, my, name, is, Elizabet...  \n",
       "3  ( , Transcriber, :, Ivana, Korom, \\n, Reviewer...  \n",
       "4  ( , I, am, a, public, policy, wonk, ., I, inve...  "
      ]
     },
     "execution_count": 121,
     "metadata": {},
     "output_type": "execute_result"
    }
   ],
   "source": [
    "df.head()"
   ]
  },
  {
   "cell_type": "code",
   "execution_count": 123,
   "metadata": {},
   "outputs": [],
   "source": [
    "adj = [token.text.lower() for doc in df.spacy_doc for token in doc if token.pos_=='ADJ']\n",
    "noun = [token.text.lower() for doc in df.spacy_doc for token in doc if token.pos_=='NOUN']"
   ]
  },
  {
   "cell_type": "code",
   "execution_count": 126,
   "metadata": {},
   "outputs": [
    {
     "data": {
      "text/plain": [
       "[('other', 7658),\n",
       " ('more', 6615),\n",
       " ('many', 5775),\n",
       " ('new', 4917),\n",
       " ('first', 4704),\n",
       " ('little', 4564),\n",
       " ('different', 4430),\n",
       " ('same', 4153),\n",
       " ('good', 4098),\n",
       " ('own', 3167),\n",
       " ('human', 3108),\n",
       " ('able', 2903)]"
      ]
     },
     "execution_count": 126,
     "metadata": {},
     "output_type": "execute_result"
    }
   ],
   "source": [
    "Counter(adj).most_common(12)"
   ]
  },
  {
   "cell_type": "code",
   "execution_count": 127,
   "metadata": {},
   "outputs": [
    {
     "data": {
      "text/plain": [
       "[('people', 18671),\n",
       " ('time', 9631),\n",
       " ('world', 8410),\n",
       " ('way', 7664),\n",
       " ('years', 7534),\n",
       " ('things', 6918),\n",
       " ('applause', 5415),\n",
       " ('life', 5360),\n",
       " ('thing', 4910),\n",
       " ('lot', 4500),\n",
       " ('day', 4264),\n",
       " ('laughter', 3876)]"
      ]
     },
     "execution_count": 127,
     "metadata": {},
     "output_type": "execute_result"
    }
   ],
   "source": [
    "Counter(noun).most_common(12)"
   ]
  },
  {
   "cell_type": "code",
   "execution_count": 130,
   "metadata": {},
   "outputs": [],
   "source": [
    "def get_amods(noun, ser):\n",
    "    amod_list = []\n",
    "    for doc in ser:\n",
    "        for token in doc:\n",
    "            if (token.text) == noun:\n",
    "                for child in token.children:\n",
    "                    if child.dep == amod:\n",
    "                        amod_list.append(child.text.lower())\n",
    "    return sorted(amod_list)\n",
    "\n",
    "def amods_by_sentiment(noun):\n",
    "    print(f\"Adjectives describing {str.upper(noun)}:\\n\")\n",
    "    \n",
    "    print(\"IS:\")\n",
    "    pprint(get_amods(noun, df.spacy_doc))"
   ]
  },
  {
   "cell_type": "code",
   "execution_count": 131,
   "metadata": {},
   "outputs": [
    {
     "name": "stdout",
     "output_type": "stream",
     "text": [
      "Adjectives describing TALK:\n",
      "\n",
      "IS:\n",
      "['18-minute',\n",
      " '20-minute',\n",
      " 'amazing',\n",
      " 'amazing',\n",
      " 'amazing',\n",
      " 'astonishing',\n",
      " 'average',\n",
      " 'being',\n",
      " 'big',\n",
      " 'big',\n",
      " 'boring',\n",
      " 'courageous',\n",
      " 'different',\n",
      " 'entire',\n",
      " 'extraordinary',\n",
      " 'fancy',\n",
      " 'fat',\n",
      " 'first',\n",
      " 'first',\n",
      " 'first',\n",
      " 'first',\n",
      " 'first',\n",
      " 'first',\n",
      " 'first',\n",
      " 'free',\n",
      " 'full',\n",
      " 'future',\n",
      " 'good',\n",
      " 'great',\n",
      " 'great',\n",
      " 'honest',\n",
      " 'important',\n",
      " 'improvised',\n",
      " 'incredible',\n",
      " 'inducing',\n",
      " 'last',\n",
      " 'little',\n",
      " 'little',\n",
      " 'major',\n",
      " 'much',\n",
      " 'much',\n",
      " 'new',\n",
      " 'next',\n",
      " 'next',\n",
      " 'nice',\n",
      " 'only',\n",
      " 'other',\n",
      " 'other',\n",
      " 'other',\n",
      " 'other',\n",
      " 'other',\n",
      " 'otherizing',\n",
      " 'perfect',\n",
      " 'political',\n",
      " 'popular',\n",
      " 'popular',\n",
      " 'powerful',\n",
      " 'previous',\n",
      " 'public',\n",
      " 'public',\n",
      " 'quick',\n",
      " 'recorded',\n",
      " 'remarkable',\n",
      " 'second',\n",
      " 'selling',\n",
      " 'separate',\n",
      " 'serious',\n",
      " 'short',\n",
      " 'small',\n",
      " 'small',\n",
      " 'small',\n",
      " 'small',\n",
      " 'small',\n",
      " 'small',\n",
      " 'special',\n",
      " 'straight',\n",
      " 'superficial',\n",
      " 'synthetic',\n",
      " 'technical',\n",
      " 'terrorist',\n",
      " 'varied',\n",
      " 'viewed',\n",
      " 'whole',\n",
      " 'whole',\n",
      " 'whole',\n",
      " 'wonderful']\n"
     ]
    }
   ],
   "source": [
    "amods_by_sentiment(\"talk\")"
   ]
  },
  {
   "cell_type": "markdown",
   "metadata": {},
   "source": [
    "# Scattertext"
   ]
  },
  {
   "cell_type": "code",
   "execution_count": 224,
   "metadata": {},
   "outputs": [],
   "source": [
    "with open('ted_video_stats_2722.pkl', 'rb') as picklefile:\n",
    "    stats = pickle.load(picklefile)"
   ]
  },
  {
   "cell_type": "code",
   "execution_count": 225,
   "metadata": {},
   "outputs": [],
   "source": [
    "df1 = pd.merge(df, stats,  how='left', left_on='video_id', right_on = 'video_id')"
   ]
  },
  {
   "cell_type": "code",
   "execution_count": 226,
   "metadata": {},
   "outputs": [
    {
     "data": {
      "text/html": [
       "<div>\n",
       "<style scoped>\n",
       "    .dataframe tbody tr th:only-of-type {\n",
       "        vertical-align: middle;\n",
       "    }\n",
       "\n",
       "    .dataframe tbody tr th {\n",
       "        vertical-align: top;\n",
       "    }\n",
       "\n",
       "    .dataframe thead th {\n",
       "        text-align: right;\n",
       "    }\n",
       "</style>\n",
       "<table border=\"1\" class=\"dataframe\">\n",
       "  <thead>\n",
       "    <tr style=\"text-align: right;\">\n",
       "      <th></th>\n",
       "      <th>video_id</th>\n",
       "      <th>transcript</th>\n",
       "      <th>spacy_doc</th>\n",
       "      <th>tags</th>\n",
       "      <th>title</th>\n",
       "      <th>publushed_date</th>\n",
       "      <th>comments_count</th>\n",
       "      <th>dislike_count</th>\n",
       "      <th>like_count</th>\n",
       "      <th>views_count</th>\n",
       "      <th>today</th>\n",
       "      <th>days_age</th>\n",
       "      <th>views_per_day</th>\n",
       "      <th>dislike_perc_of_likes</th>\n",
       "      <th>success</th>\n",
       "      <th>prime_tag</th>\n",
       "    </tr>\n",
       "  </thead>\n",
       "  <tbody>\n",
       "    <tr>\n",
       "      <td>0</td>\n",
       "      <td>YgAuFqEs6yk</td>\n",
       "      <td>I remember watching my father raised the pist...</td>\n",
       "      <td>( , I, remember, watching, my, father, raised,...</td>\n",
       "      <td>[Family, Parenting, Communication, Children, R...</td>\n",
       "      <td>How to co-parent as allies, not adversaries | ...</td>\n",
       "      <td>2020-05-14 14:40:00</td>\n",
       "      <td>109</td>\n",
       "      <td>86</td>\n",
       "      <td>722</td>\n",
       "      <td>23392</td>\n",
       "      <td>2020-05-16</td>\n",
       "      <td>1.0</td>\n",
       "      <td>23392.000000</td>\n",
       "      <td>11.911357</td>\n",
       "      <td>no</td>\n",
       "      <td>Family</td>\n",
       "    </tr>\n",
       "    <tr>\n",
       "      <td>1</td>\n",
       "      <td>bNmRr-BYnxA</td>\n",
       "      <td>Transcriber: Joseph Geni\\nReviewer: Camille M...</td>\n",
       "      <td>( , Transcriber, :, Joseph, Geni, \\n, Reviewer...</td>\n",
       "      <td>[climate change, environment, global issues, c...</td>\n",
       "      <td>How to shift your mindset and choose your futu...</td>\n",
       "      <td>2020-05-13 14:22:51</td>\n",
       "      <td>205</td>\n",
       "      <td>136</td>\n",
       "      <td>2504</td>\n",
       "      <td>57548</td>\n",
       "      <td>2020-05-16</td>\n",
       "      <td>2.0</td>\n",
       "      <td>28774.000000</td>\n",
       "      <td>5.431310</td>\n",
       "      <td>no</td>\n",
       "      <td>climate change</td>\n",
       "    </tr>\n",
       "    <tr>\n",
       "      <td>2</td>\n",
       "      <td>FVUkKKc3Vvk</td>\n",
       "      <td>Hi, everyone, my name is Elizabeth, and I wor...</td>\n",
       "      <td>( , Hi, ,, everyone, ,, my, name, is, Elizabet...</td>\n",
       "      <td>[Life, Society, Immigration, Humanity, Self, P...</td>\n",
       "      <td>What's missing from the American immigrant nar...</td>\n",
       "      <td>2020-05-12 18:06:31</td>\n",
       "      <td>234</td>\n",
       "      <td>257</td>\n",
       "      <td>1374</td>\n",
       "      <td>49720</td>\n",
       "      <td>2020-05-16</td>\n",
       "      <td>3.0</td>\n",
       "      <td>16573.333333</td>\n",
       "      <td>18.704512</td>\n",
       "      <td>no</td>\n",
       "      <td>Life</td>\n",
       "    </tr>\n",
       "    <tr>\n",
       "      <td>3</td>\n",
       "      <td>8bj0GR34XWc</td>\n",
       "      <td>Transcriber: Ivana Korom\\nReviewer: Krystian ...</td>\n",
       "      <td>( , Transcriber, :, Ivana, Korom, \\n, Reviewer...</td>\n",
       "      <td>[global issues, science, collaboration, virus,...</td>\n",
       "      <td>A global pandemic calls for global solutions |...</td>\n",
       "      <td>2020-05-11 15:52:37</td>\n",
       "      <td>236</td>\n",
       "      <td>151</td>\n",
       "      <td>1225</td>\n",
       "      <td>42688</td>\n",
       "      <td>2020-05-16</td>\n",
       "      <td>4.0</td>\n",
       "      <td>10672.000000</td>\n",
       "      <td>12.326531</td>\n",
       "      <td>no</td>\n",
       "      <td>global issues</td>\n",
       "    </tr>\n",
       "    <tr>\n",
       "      <td>4</td>\n",
       "      <td>eaCrsBtiYA4</td>\n",
       "      <td>I am a public policy wonk. I investigate data...</td>\n",
       "      <td>( , I, am, a, public, policy, wonk, ., I, inve...</td>\n",
       "      <td>[]</td>\n",
       "      <td>Racism has a cost for everyone | Heather C. Mc...</td>\n",
       "      <td>2020-05-08 18:44:35</td>\n",
       "      <td>542</td>\n",
       "      <td>341</td>\n",
       "      <td>2156</td>\n",
       "      <td>60869</td>\n",
       "      <td>2020-05-16</td>\n",
       "      <td>7.0</td>\n",
       "      <td>8695.571429</td>\n",
       "      <td>15.816327</td>\n",
       "      <td>no</td>\n",
       "      <td>no_tags</td>\n",
       "    </tr>\n",
       "    <tr>\n",
       "      <td>...</td>\n",
       "      <td>...</td>\n",
       "      <td>...</td>\n",
       "      <td>...</td>\n",
       "      <td>...</td>\n",
       "      <td>...</td>\n",
       "      <td>...</td>\n",
       "      <td>...</td>\n",
       "      <td>...</td>\n",
       "      <td>...</td>\n",
       "      <td>...</td>\n",
       "      <td>...</td>\n",
       "      <td>...</td>\n",
       "      <td>...</td>\n",
       "      <td>...</td>\n",
       "      <td>...</td>\n",
       "      <td>...</td>\n",
       "    </tr>\n",
       "    <tr>\n",
       "      <td>2413</td>\n",
       "      <td>HUM2rCIUdeI</td>\n",
       "      <td>You know for me, the interest in contemporary...</td>\n",
       "      <td>( , You, know, for, me, ,, the, interest, in, ...</td>\n",
       "      <td>[Kevin, Bales, talks, slavery, human, traffick...</td>\n",
       "      <td>Kevin Bales: How to combat modern slavery</td>\n",
       "      <td>2010-03-29 14:59:48</td>\n",
       "      <td>258</td>\n",
       "      <td>46</td>\n",
       "      <td>1575</td>\n",
       "      <td>138339</td>\n",
       "      <td>2020-05-16</td>\n",
       "      <td>3700.0</td>\n",
       "      <td>37.388919</td>\n",
       "      <td>2.920635</td>\n",
       "      <td>yes</td>\n",
       "      <td>Kevin</td>\n",
       "    </tr>\n",
       "    <tr>\n",
       "      <td>2414</td>\n",
       "      <td>C_SBGTJgBGo</td>\n",
       "      <td>One day, Los Angeles Times columnist Steve Lo...</td>\n",
       "      <td>( , One, day, ,, Los, Angeles, Times, columnis...</td>\n",
       "      <td>[Robert, Gupta, talks, Fellow, music, musician...</td>\n",
       "      <td>Robert Gupta: Music is medicine, music is sanity</td>\n",
       "      <td>2010-03-26 16:07:14</td>\n",
       "      <td>128</td>\n",
       "      <td>74</td>\n",
       "      <td>856</td>\n",
       "      <td>80565</td>\n",
       "      <td>2020-05-16</td>\n",
       "      <td>3703.0</td>\n",
       "      <td>21.756684</td>\n",
       "      <td>8.644860</td>\n",
       "      <td>no</td>\n",
       "      <td>Robert</td>\n",
       "    </tr>\n",
       "    <tr>\n",
       "      <td>2415</td>\n",
       "      <td>MLU7qcMYKO8</td>\n",
       "      <td>I want to talk about 4.6 billion years of his...</td>\n",
       "      <td>( , I, want, to, talk, about, 4.6, billion, ye...</td>\n",
       "      <td>[Joel, Levine, talks, TEDxNASA, NASA, Mars, sp...</td>\n",
       "      <td>Joel Levine: Why we need to go back to Mars</td>\n",
       "      <td>2010-03-25 14:29:50</td>\n",
       "      <td>285</td>\n",
       "      <td>42</td>\n",
       "      <td>907</td>\n",
       "      <td>70218</td>\n",
       "      <td>2020-05-16</td>\n",
       "      <td>3704.0</td>\n",
       "      <td>18.957343</td>\n",
       "      <td>4.630650</td>\n",
       "      <td>yes</td>\n",
       "      <td>Joel</td>\n",
       "    </tr>\n",
       "    <tr>\n",
       "      <td>2416</td>\n",
       "      <td>yyemG7V5ynQ</td>\n",
       "      <td>So, basically we have public leaders, public ...</td>\n",
       "      <td>( , So, ,, basically, we, have, public, leader...</td>\n",
       "      <td>[Alan, Siegel, talks, law, fine, print, legal,...</td>\n",
       "      <td>Alan Siegel: Let's simplify legal jargon!</td>\n",
       "      <td>2010-03-24 15:03:44</td>\n",
       "      <td>84</td>\n",
       "      <td>20</td>\n",
       "      <td>714</td>\n",
       "      <td>46789</td>\n",
       "      <td>2020-05-16</td>\n",
       "      <td>3705.0</td>\n",
       "      <td>12.628610</td>\n",
       "      <td>2.801120</td>\n",
       "      <td>yes</td>\n",
       "      <td>Alan</td>\n",
       "    </tr>\n",
       "    <tr>\n",
       "      <td>2417</td>\n",
       "      <td>zDcaoTVy4fA</td>\n",
       "      <td>Illegal wildlife trade in Brazil is one of th...</td>\n",
       "      <td>( , Illegal, wildlife, trade, in, Brazil, is, ...</td>\n",
       "      <td>[Juliana, Machado, Ferreira, talks, Fellow, Br...</td>\n",
       "      <td>Juliana Machado Ferreira: The fight to end rar...</td>\n",
       "      <td>2010-03-23 18:10:41</td>\n",
       "      <td>56</td>\n",
       "      <td>23</td>\n",
       "      <td>187</td>\n",
       "      <td>20841</td>\n",
       "      <td>2020-05-16</td>\n",
       "      <td>3706.0</td>\n",
       "      <td>5.623583</td>\n",
       "      <td>12.299465</td>\n",
       "      <td>no</td>\n",
       "      <td>Juliana</td>\n",
       "    </tr>\n",
       "  </tbody>\n",
       "</table>\n",
       "<p>2418 rows × 16 columns</p>\n",
       "</div>"
      ],
      "text/plain": [
       "         video_id                                         transcript  \\\n",
       "0     YgAuFqEs6yk   I remember watching my father raised the pist...   \n",
       "1     bNmRr-BYnxA   Transcriber: Joseph Geni\\nReviewer: Camille M...   \n",
       "2     FVUkKKc3Vvk   Hi, everyone, my name is Elizabeth, and I wor...   \n",
       "3     8bj0GR34XWc   Transcriber: Ivana Korom\\nReviewer: Krystian ...   \n",
       "4     eaCrsBtiYA4   I am a public policy wonk. I investigate data...   \n",
       "...           ...                                                ...   \n",
       "2413  HUM2rCIUdeI   You know for me, the interest in contemporary...   \n",
       "2414  C_SBGTJgBGo   One day, Los Angeles Times columnist Steve Lo...   \n",
       "2415  MLU7qcMYKO8   I want to talk about 4.6 billion years of his...   \n",
       "2416  yyemG7V5ynQ   So, basically we have public leaders, public ...   \n",
       "2417  zDcaoTVy4fA   Illegal wildlife trade in Brazil is one of th...   \n",
       "\n",
       "                                              spacy_doc  \\\n",
       "0     ( , I, remember, watching, my, father, raised,...   \n",
       "1     ( , Transcriber, :, Joseph, Geni, \\n, Reviewer...   \n",
       "2     ( , Hi, ,, everyone, ,, my, name, is, Elizabet...   \n",
       "3     ( , Transcriber, :, Ivana, Korom, \\n, Reviewer...   \n",
       "4     ( , I, am, a, public, policy, wonk, ., I, inve...   \n",
       "...                                                 ...   \n",
       "2413  ( , You, know, for, me, ,, the, interest, in, ...   \n",
       "2414  ( , One, day, ,, Los, Angeles, Times, columnis...   \n",
       "2415  ( , I, want, to, talk, about, 4.6, billion, ye...   \n",
       "2416  ( , So, ,, basically, we, have, public, leader...   \n",
       "2417  ( , Illegal, wildlife, trade, in, Brazil, is, ...   \n",
       "\n",
       "                                                   tags  \\\n",
       "0     [Family, Parenting, Communication, Children, R...   \n",
       "1     [climate change, environment, global issues, c...   \n",
       "2     [Life, Society, Immigration, Humanity, Self, P...   \n",
       "3     [global issues, science, collaboration, virus,...   \n",
       "4                                                    []   \n",
       "...                                                 ...   \n",
       "2413  [Kevin, Bales, talks, slavery, human, traffick...   \n",
       "2414  [Robert, Gupta, talks, Fellow, music, musician...   \n",
       "2415  [Joel, Levine, talks, TEDxNASA, NASA, Mars, sp...   \n",
       "2416  [Alan, Siegel, talks, law, fine, print, legal,...   \n",
       "2417  [Juliana, Machado, Ferreira, talks, Fellow, Br...   \n",
       "\n",
       "                                                  title      publushed_date  \\\n",
       "0     How to co-parent as allies, not adversaries | ... 2020-05-14 14:40:00   \n",
       "1     How to shift your mindset and choose your futu... 2020-05-13 14:22:51   \n",
       "2     What's missing from the American immigrant nar... 2020-05-12 18:06:31   \n",
       "3     A global pandemic calls for global solutions |... 2020-05-11 15:52:37   \n",
       "4     Racism has a cost for everyone | Heather C. Mc... 2020-05-08 18:44:35   \n",
       "...                                                 ...                 ...   \n",
       "2413          Kevin Bales: How to combat modern slavery 2010-03-29 14:59:48   \n",
       "2414   Robert Gupta: Music is medicine, music is sanity 2010-03-26 16:07:14   \n",
       "2415        Joel Levine: Why we need to go back to Mars 2010-03-25 14:29:50   \n",
       "2416          Alan Siegel: Let's simplify legal jargon! 2010-03-24 15:03:44   \n",
       "2417  Juliana Machado Ferreira: The fight to end rar... 2010-03-23 18:10:41   \n",
       "\n",
       "     comments_count dislike_count like_count views_count      today  days_age  \\\n",
       "0               109            86        722       23392 2020-05-16       1.0   \n",
       "1               205           136       2504       57548 2020-05-16       2.0   \n",
       "2               234           257       1374       49720 2020-05-16       3.0   \n",
       "3               236           151       1225       42688 2020-05-16       4.0   \n",
       "4               542           341       2156       60869 2020-05-16       7.0   \n",
       "...             ...           ...        ...         ...        ...       ...   \n",
       "2413            258            46       1575      138339 2020-05-16    3700.0   \n",
       "2414            128            74        856       80565 2020-05-16    3703.0   \n",
       "2415            285            42        907       70218 2020-05-16    3704.0   \n",
       "2416             84            20        714       46789 2020-05-16    3705.0   \n",
       "2417             56            23        187       20841 2020-05-16    3706.0   \n",
       "\n",
       "      views_per_day  dislike_perc_of_likes success       prime_tag  \n",
       "0      23392.000000              11.911357      no          Family  \n",
       "1      28774.000000               5.431310      no  climate change  \n",
       "2      16573.333333              18.704512      no            Life  \n",
       "3      10672.000000              12.326531      no   global issues  \n",
       "4       8695.571429              15.816327      no         no_tags  \n",
       "...             ...                    ...     ...             ...  \n",
       "2413      37.388919               2.920635     yes           Kevin  \n",
       "2414      21.756684               8.644860      no          Robert  \n",
       "2415      18.957343               4.630650     yes            Joel  \n",
       "2416      12.628610               2.801120     yes            Alan  \n",
       "2417       5.623583              12.299465      no         Juliana  \n",
       "\n",
       "[2418 rows x 16 columns]"
      ]
     },
     "execution_count": 226,
     "metadata": {},
     "output_type": "execute_result"
    }
   ],
   "source": [
    "df1"
   ]
  },
  {
   "cell_type": "code",
   "execution_count": 232,
   "metadata": {},
   "outputs": [],
   "source": [
    " corpus = st.CorpusFromPandas(df1,\n",
    "                              category_col='success',\n",
    "                              text_col='transcript',\n",
    "                              nlp=st.whitespace_nlp_with_sentences\n",
    "                             ).build()"
   ]
  },
  {
   "cell_type": "code",
   "execution_count": 234,
   "metadata": {},
   "outputs": [],
   "source": [
    " html1 = st.produce_scattertext_explorer(\n",
    "         corpus,\n",
    "         category='yes',\n",
    "         category_name='Likable',\n",
    "         not_category_name='Dislikable',\n",
    "         minimum_term_frequency=10,\n",
    "         pmi_threshold_coefficient=5,\n",
    "         width_in_pixels=1000,\n",
    "         #metadata=df1['prime_tag']\n",
    "         metadata=corpus.get_df()['prime_tag']\n",
    "         )"
   ]
  },
  {
   "cell_type": "code",
   "execution_count": 223,
   "metadata": {},
   "outputs": [],
   "source": [
    "open('demo.html', 'wb').write(html.encode('utf-8'));"
   ]
  },
  {
   "cell_type": "code",
   "execution_count": 236,
   "metadata": {},
   "outputs": [],
   "source": [
    "open('demo1.html', 'wb').write(html1.encode('utf-8'));"
   ]
  },
  {
   "cell_type": "markdown",
   "metadata": {},
   "source": [
    "# CorEx"
   ]
  },
  {
   "cell_type": "code",
   "execution_count": 142,
   "metadata": {},
   "outputs": [
    {
     "name": "stdout",
     "output_type": "stream",
     "text": [
      "Collecting corextopic\n",
      "  Downloading corextopic-1.0.5.tar.gz (24 kB)\n",
      "Building wheels for collected packages: corextopic\n",
      "  Building wheel for corextopic (setup.py) ... \u001b[?25ldone\n",
      "\u001b[?25h  Created wheel for corextopic: filename=corextopic-1.0.5-py3-none-any.whl size=22373 sha256=ef74190a4dd3510b9c3c125d4d5780779e56878d7a2593d0519eb4049ff6306e\n",
      "  Stored in directory: /Users/elena/Library/Caches/pip/wheels/0e/20/09/30c3de6ad22b7ae3d29d38200cc3217c8813ee17934dfb99b9\n",
      "Successfully built corextopic\n",
      "Installing collected packages: corextopic\n",
      "Successfully installed corextopic-1.0.5\n",
      "Requirement already satisfied: networkx in /Users/elena/opt/anaconda3/lib/python3.7/site-packages (2.3)\n",
      "Requirement already satisfied: decorator>=4.3.0 in /Users/elena/opt/anaconda3/lib/python3.7/site-packages (from networkx) (4.4.0)\n"
     ]
    }
   ],
   "source": [
    "!pip install corextopic\n",
    "!pip install networkx"
   ]
  },
  {
   "cell_type": "code",
   "execution_count": 147,
   "metadata": {},
   "outputs": [],
   "source": [
    "import scipy.sparse as ss\n",
    "import numpy as np\n",
    "\n",
    "#from sklearn.feature_extraction.text import CountVectorizer\n",
    "#from sklearn import datasets\n",
    "\n",
    "from corextopic import corextopic as ct\n",
    "from corextopic import vis_topic as vt\n",
    "\n",
    "import matplotlib.pyplot as plt\n",
    "import seaborn as sns\n",
    "%matplotlib inline"
   ]
  },
  {
   "cell_type": "code",
   "execution_count": 148,
   "metadata": {},
   "outputs": [],
   "source": [
    "vectorizer = TfidfVectorizer(stop_words='english', max_df=2.0, min_df=3,strip_accents='ascii') \n",
    "\n",
    "#CountVectorizer(max_features=20000,\n",
    "#                             stop_words='english',\n",
    "#                             binary=True)\n",
    "\n",
    "doc_word = vectorizer.fit_transform(df.transcript)\n",
    "words = list(np.asarray(vectorizer.get_feature_names()))"
   ]
  },
  {
   "cell_type": "code",
   "execution_count": 150,
   "metadata": {},
   "outputs": [
    {
     "data": {
      "text/html": [
       "<div>\n",
       "<style scoped>\n",
       "    .dataframe tbody tr th:only-of-type {\n",
       "        vertical-align: middle;\n",
       "    }\n",
       "\n",
       "    .dataframe tbody tr th {\n",
       "        vertical-align: top;\n",
       "    }\n",
       "\n",
       "    .dataframe thead th {\n",
       "        text-align: right;\n",
       "    }\n",
       "</style>\n",
       "<table border=\"1\" class=\"dataframe\">\n",
       "  <thead>\n",
       "    <tr style=\"text-align: right;\">\n",
       "      <th></th>\n",
       "      <th>video_id</th>\n",
       "      <th>transcript</th>\n",
       "      <th>spacy_doc</th>\n",
       "    </tr>\n",
       "  </thead>\n",
       "  <tbody>\n",
       "    <tr>\n",
       "      <td>0</td>\n",
       "      <td>YgAuFqEs6yk</td>\n",
       "      <td>I remember watching my father raised the pist...</td>\n",
       "      <td>( , I, remember, watching, my, father, raised,...</td>\n",
       "    </tr>\n",
       "    <tr>\n",
       "      <td>1</td>\n",
       "      <td>bNmRr-BYnxA</td>\n",
       "      <td>Transcriber: Joseph Geni\\nReviewer: Camille M...</td>\n",
       "      <td>( , Transcriber, :, Joseph, Geni, \\n, Reviewer...</td>\n",
       "    </tr>\n",
       "    <tr>\n",
       "      <td>2</td>\n",
       "      <td>FVUkKKc3Vvk</td>\n",
       "      <td>Hi, everyone, my name is Elizabeth, and I wor...</td>\n",
       "      <td>( , Hi, ,, everyone, ,, my, name, is, Elizabet...</td>\n",
       "    </tr>\n",
       "    <tr>\n",
       "      <td>3</td>\n",
       "      <td>8bj0GR34XWc</td>\n",
       "      <td>Transcriber: Ivana Korom\\nReviewer: Krystian ...</td>\n",
       "      <td>( , Transcriber, :, Ivana, Korom, \\n, Reviewer...</td>\n",
       "    </tr>\n",
       "    <tr>\n",
       "      <td>4</td>\n",
       "      <td>eaCrsBtiYA4</td>\n",
       "      <td>I am a public policy wonk. I investigate data...</td>\n",
       "      <td>( , I, am, a, public, policy, wonk, ., I, inve...</td>\n",
       "    </tr>\n",
       "  </tbody>\n",
       "</table>\n",
       "</div>"
      ],
      "text/plain": [
       "      video_id                                         transcript  \\\n",
       "0  YgAuFqEs6yk   I remember watching my father raised the pist...   \n",
       "1  bNmRr-BYnxA   Transcriber: Joseph Geni\\nReviewer: Camille M...   \n",
       "2  FVUkKKc3Vvk   Hi, everyone, my name is Elizabeth, and I wor...   \n",
       "3  8bj0GR34XWc   Transcriber: Ivana Korom\\nReviewer: Krystian ...   \n",
       "4  eaCrsBtiYA4   I am a public policy wonk. I investigate data...   \n",
       "\n",
       "                                           spacy_doc  \n",
       "0  ( , I, remember, watching, my, father, raised,...  \n",
       "1  ( , Transcriber, :, Joseph, Geni, \\n, Reviewer...  \n",
       "2  ( , Hi, ,, everyone, ,, my, name, is, Elizabet...  \n",
       "3  ( , Transcriber, :, Ivana, Korom, \\n, Reviewer...  \n",
       "4  ( , I, am, a, public, policy, wonk, ., I, inve...  "
      ]
     },
     "execution_count": 150,
     "metadata": {},
     "output_type": "execute_result"
    }
   ],
   "source": [
    "df.head()"
   ]
  },
  {
   "cell_type": "code",
   "execution_count": 151,
   "metadata": {},
   "outputs": [
    {
     "data": {
      "text/plain": [
       "<corextopic.corextopic.Corex at 0x1a2367d390>"
      ]
     },
     "execution_count": 151,
     "metadata": {},
     "output_type": "execute_result"
    }
   ],
   "source": [
    "topic_model = ct.Corex(n_hidden=6, words=words, seed=1)\n",
    "topic_model.fit(doc_word, words=words, docs=df.transcript)"
   ]
  },
  {
   "cell_type": "code",
   "execution_count": 152,
   "metadata": {},
   "outputs": [
    {
     "name": "stdout",
     "output_type": "stream",
     "text": [
      "0: said,didn,say,did,got,talk,feel,person,told,don\n",
      "1: country,political,rights,government,social,united,family,community,leaders,violence\n",
      "2: percent,problem,need,companies,better,health,economic,dollars,market,problems\n",
      "3: science,cells,scientists,lab,humans,biology,body,human,using,animal\n",
      "4: water,species,earth,plants,ocean,planet,surface,carbon,sea,atmosphere\n",
      "5: climate,billion,global,million,scale,000,large,data,resources,systems\n"
     ]
    }
   ],
   "source": [
    "# Print all topics from the CorEx topic model\n",
    "topics = topic_model.get_topics()\n",
    "for n,topic in enumerate(topics):\n",
    "    topic_words,_ = zip(*topic)\n",
    "    print('{}: '.format(n) + ','.join(topic_words))"
   ]
  },
  {
   "cell_type": "code",
   "execution_count": 156,
   "metadata": {},
   "outputs": [
    {
     "data": {
      "text/plain": [
       "[(' Translator: Joseph Geni\\nReviewer: Morton Bast When we use the word \"architect\" or \"designer,\" what we usually mean is a professional, someone who gets paid, and we tend to assume that it\\'s those professionals who are going to be the ones to help us solve the really big, systemic design challenges that we face like climate change, urbanization and social inequality. That\\'s our kind of working presumption. And I think it\\'s wrong, actually. In 2008, I was just about to graduate from architecture school after several years, and go out and get a job, and this happened. The economy ran out of jobs. And a couple of things struck me about this. One, don\\'t listen to career advisers. And two, actually this is a fascinating paradox for architecture, which is that, as a society, we\\'ve never needed design thinking more, and yet architecture was literally becoming unemployed. It strikes me that we talk very deeply about design, but actually there\\'s an economics behind architecture that we don\\'t talk about, and I think we need to. And a good place to start is your own paycheck. So, as a bottom-of-the-rung architecture graduate, I might expect to earn about 24,000 pounds. That\\'s about 36,000, 37,000 dollars. Now in terms of the whole world\\'s population, that already puts me in the top 1.95 richest people, which raises the question of, who is it I\\'m working for? The uncomfortable fact is that actually almost everything that we call architecture today is actually the business of designing for about the richest one percent of the world\\'s population, and it always has been. The reason why we forgot that is because the times in history when architecture did the most to transform society were those times when, actually, the one percent would build on behalf of the 99 percent, for various different reasons, whether that was through philanthropy in the 19th century, communism in the early 20th, the welfare state, and most recently, of course, through this inflated real estate bubble. And all of those booms, in their own various ways, have now kicked the bucket, and we\\'re back in this situation where the smartest designers and architects in the world are only really able to work for one percent of the population. Now it\\'s not just that that\\'s bad for democracy, though I think it probably is, it\\'s actually not a very clever business strategy, actually. I think the challenge facing the next generation of architects is, how are we going to turn our client from the one percent to the 100 percent? And I want to offer three slightly counterintuitive ideas for how it might be done. The first is, I think we need to question this idea that architecture is about making buildings. Actually, a building is about the most expensive solution you can think of to almost any given problem. And fundamentally, design should be much, much more interested in solving problems and creating new conditions. So here\\'s a story. The office was working with a school, and they had an old Victorian school building. And they said to the architects, \"Look, our corridors are an absolute nightmare. They\\'re far too small. They get congested between classes. There\\'s bullying. We can\\'t control them. So what we want you to do is re-plan our entire building, and we know it\\'s going to cost several million pounds, but we\\'re reconciled to the fact.\" And the team thought about this, and they went away, and they said, \"Actually, don\\'t do that. Instead, get rid of the school bell. And instead of having one school bell that goes off once, have several smaller school bells that go off in different places and different times, distribute the traffic through the corridors.\" It solves the same problem, but instead of spending several million pounds, you spend several hundred pounds. Now, it looks like you\\'re doing yourself out of a job, but you\\'re not. You\\'re actually making yourself more useful. Architects are actually really, really good at this kind of resourceful, strategic thinking. And the problem is that, like a lot of design professions, we got fixated on the idea of providing a particular kind of consumer product, and I don\\'t think that needs to be the case anymore. The second idea worth questioning is this 20th-century thing that mass architecture is about big -- big buildings and big finance. Actually, we\\'ve got ourselves locked into this Industrial Era mindset which says that the only people who can make cities are large organizations or corporations who build on our behalf, procuring whole neighborhoods in single, monolithic projects, and of course, form follows finance. So what you end up with are single, monolithic neighborhoods based on this kind of one-size-fits-all model. And a lot of people can\\'t even afford them. But what if, actually, it\\'s possible now for cities to be made not just by the few with a lot but also by the many with a bit? And when they do, they bring with them a completely different set of values about the place that they want to live. And it raises really interesting questions about, how will we plan cities? How will finance development? How will we sell design services? What would it mean for democratic societies to offer their citizens a right to build? And in a way it should be kind of obvious, right, that in the 21st century, maybe cities can be developed by citizens. And thirdly, we need to remember that, from a strictly economic point of view, design shares a category with sex and care of the elderly -- mostly it\\'s done by amateurs. And that\\'s a good thing. Most of the work takes place outside of the monetary economy in what\\'s called the social economy or the core economy, which is people doing it for themselves. And the problem is that, up until now, it was the monetary economy which had all the infrastructure and all the tools. So the challenge we face is, how are we going to build the tools, the infrastructure and the institutions for architecture\\'s social economy? And that began with open-source software. And over the last few years, it\\'s been moving into the physical world with open-source hardware, which are freely shared blueprints that anyone can download and make for themselves. And that\\'s where 3D printing gets really, really interesting. Right? When suddenly you had a 3D printer that was open-source, the parts for which could be made on another 3D printer. Or the same idea here, which is for a CNC machine, which is like a large printer that can cut sheets of plywood. What these technologies are doing is radically lowering the thresholds of time and cost and skill. They\\'re challenging the idea that if you want something to be affordable it\\'s got to be one-size-fits-all. And they\\'re distributing massively really complex manufacturing capabilities. We\\'re moving into this future where the factory is everywhere, and increasingly that means that the design team is everyone. That really is an industrial revolution. And when we think that the major ideological conflicts that we inherited were all based around this question of who should control the means of production, and these technologies are coming back with a solution: actually, maybe no one. All of us. And we were fascinated by what that might mean for architecture. So about a year and a half ago, we started working on a project called WikiHouse, and WikiHouse is an open-source construction system. And the idea is to make it possible for anyone to go online, access a freely shared library of 3D models which they can download and adapt in, at the moment, SketchUp, because it\\'s free, and it\\'s easy to use, and almost at the click of a switch they can generate a set of cutting files which allow them, in effect, to print out the parts from a house using a CNC machine and a standard sheet material like plywood. And the parts are all numbered, and basically what you end up with is a really big IKEA kit. (Laughter) And it goes together without any bolts. It uses wedge and peg connections. And even the mallets to make it can be provided on the cutting sheets as well. And a team of about two or three people, working together, can build this. They don\\'t need any traditional construction skills. They don\\'t need a huge array of power tools or anything like that, and they can build a small house of about this size in about a day. (Applause) And what you end up with is just the basic chassis of a house onto which you can then apply systems like windows and cladding and insulation and services based on what\\'s cheap and what\\'s available. Of course, the house is never finished. We\\'re shifting our heads here, so the house is not a finished product. With the CNC machine, you can make new parts for it over its life or even use it to make the house next door. So we can begin to see the seed of a completely open-source, citizen-led urban development model, potentially. And we and others have built a few prototypes around the world now, and some really interesting lessons here. One of them is that it\\'s always incredibly sociable. People get confused between construction work and having fun. But the principles of openness go right down into the really mundane, physical details. Like, never designing a piece that can\\'t be lifted up. Or, when you\\'re designing a piece, make sure you either can\\'t put it in the wrong way round, or, if you do, it doesn\\'t matter, because it\\'s symmetrical. Probably the principal which runs deepest with us is the principal set out by Linus Torvalds, the open-source pioneer, which was that idea of, \"Be lazy like a fox.\" Don\\'t reinvent the wheel every time. Take what already works, and adapt it for your own needs. Contrary to almost everything that you might get taught at an architecture school, copying is good. Which is appropriate, because actually, this approach is not innovative. It\\'s actually how we built buildings for hundreds of years before the Industrial Revolution in these sorts of community barn-raisings. The only difference between traditional vernacular architecture and open-source architecture might be a web connection, but it\\'s a really, really big difference. We shared the whole of WikiHouse under a Creative Commons license, and now what\\'s just beginning to happen is that groups around the world are beginning to take it and use it and hack it and tinker with it, and it\\'s amazing. There\\'s a cool group over in Christchurch in New Zealand looking at post-earthquake development housing, and thanks to the TED city Prize, we\\'re working with an awesome group in one of Rio\\'s favelas to set up a kind of community factory and micro-university. These are very, very small beginnings, and actually there\\'s more people in the last week who have got in touch and they\\'re not even on this map. I hope next time you see it, you won\\'t even be able to see the map. We\\'re aware that WikiHouse is a very, very small answer, but it\\'s a small answer to a really, really big question, which is that globally, right now, the fastest-growing cities are not skyscraper cities. They\\'re self-made cities in one form or another. If we\\'re talking about the 21st-century city, these are the guys who are going to be making it. You know, like it or not, welcome to the world\\'s biggest design team. So if we\\'re serious about problems like climate change, urbanization and health, actually, our existing development models aren\\'t going to do it. As I think Robert Neuwirth said, there isn\\'t a bank or a corporation or a government or an NGO who\\'s going to be able to do it if we treat citizens only as consumers. How extraordinary would it be, though, if collectively we were to develop solutions not just to the problem of structure that we\\'ve been working on, but to infrastructure problems like solar-powered air conditioning, off-grid energy, off-grid sanitation -- low-cost, open-source, high-performance solutions that anyone can very, very easily make, and to put them all into a commons where they\\'re owned by everyone and they\\'re accessible by everyone? A kind of Wikipedia for stuff? And once something\\'s in the commons, it will always be there. How much would that change the rules? And I think the technology\\'s on our side. If design\\'s great project in the 20th century was the democratization of consumption -- that was Henry Ford, Levittown, Coca-Cola, IKEA — I think design\\'s great project in the 21st century is the democratization of production. And when it comes to architecture in cities, that really matters. Thank you very much. (Applause)',\n",
       "  0.0)]"
      ]
     },
     "execution_count": 156,
     "metadata": {},
     "output_type": "execute_result"
    }
   ],
   "source": [
    "#key docs associated with a topic\n",
    "# Let's check out topic : 3\n",
    "topic_model.get_top_docs(topic=5, n_docs=1)"
   ]
  },
  {
   "cell_type": "code",
   "execution_count": 157,
   "metadata": {},
   "outputs": [
    {
     "data": {
      "text/plain": [
       "array([[ True,  True, False, False, False, False],\n",
       "       [ True,  True,  True, False, False,  True],\n",
       "       [ True,  True, False, False, False, False],\n",
       "       ...,\n",
       "       [False, False,  True,  True,  True,  True],\n",
       "       [False, False, False, False, False, False],\n",
       "       [False, False, False, False, False, False]])"
      ]
     },
     "execution_count": 157,
     "metadata": {},
     "output_type": "execute_result"
    }
   ],
   "source": [
    "topic_model.labels"
   ]
  },
  {
   "cell_type": "code",
   "execution_count": 158,
   "metadata": {},
   "outputs": [
    {
     "data": {
      "text/html": [
       "<div>\n",
       "<style scoped>\n",
       "    .dataframe tbody tr th:only-of-type {\n",
       "        vertical-align: middle;\n",
       "    }\n",
       "\n",
       "    .dataframe tbody tr th {\n",
       "        vertical-align: top;\n",
       "    }\n",
       "\n",
       "    .dataframe thead th {\n",
       "        text-align: right;\n",
       "    }\n",
       "</style>\n",
       "<table border=\"1\" class=\"dataframe\">\n",
       "  <thead>\n",
       "    <tr style=\"text-align: right;\">\n",
       "      <th></th>\n",
       "      <th>topic0</th>\n",
       "      <th>topic1</th>\n",
       "      <th>topic2</th>\n",
       "      <th>topic3</th>\n",
       "      <th>topic4</th>\n",
       "      <th>topic5</th>\n",
       "    </tr>\n",
       "  </thead>\n",
       "  <tbody>\n",
       "    <tr>\n",
       "      <td>0</td>\n",
       "      <td>True</td>\n",
       "      <td>True</td>\n",
       "      <td>False</td>\n",
       "      <td>False</td>\n",
       "      <td>False</td>\n",
       "      <td>False</td>\n",
       "    </tr>\n",
       "    <tr>\n",
       "      <td>1</td>\n",
       "      <td>True</td>\n",
       "      <td>True</td>\n",
       "      <td>True</td>\n",
       "      <td>False</td>\n",
       "      <td>False</td>\n",
       "      <td>True</td>\n",
       "    </tr>\n",
       "    <tr>\n",
       "      <td>2</td>\n",
       "      <td>True</td>\n",
       "      <td>True</td>\n",
       "      <td>False</td>\n",
       "      <td>False</td>\n",
       "      <td>False</td>\n",
       "      <td>False</td>\n",
       "    </tr>\n",
       "  </tbody>\n",
       "</table>\n",
       "</div>"
      ],
      "text/plain": [
       "   topic0  topic1  topic2  topic3  topic4  topic5\n",
       "0    True    True   False   False   False   False\n",
       "1    True    True    True   False   False    True\n",
       "2    True    True   False   False   False   False"
      ]
     },
     "execution_count": 158,
     "metadata": {},
     "output_type": "execute_result"
    }
   ],
   "source": [
    "# Note, instead of using .predict(doc_word), you can also call topic_model.labels\n",
    "predictions = pd.DataFrame(topic_model.predict(doc_word), columns=['topic'+str(i) for i in range(6)])\n",
    "predictions.head(3)"
   ]
  },
  {
   "cell_type": "code",
   "execution_count": 161,
   "metadata": {},
   "outputs": [
    {
     "data": {
      "text/plain": [
       "array([[9.99999000e-01, 9.99999000e-01, 1.00000000e-06, 1.00000000e-06,\n",
       "        1.00000000e-06, 1.00000000e-06],\n",
       "       [9.99999000e-01, 9.99999000e-01, 9.99999000e-01, 1.00000000e-06,\n",
       "        1.00000000e-06, 9.99999000e-01],\n",
       "       [9.99999000e-01, 9.99999000e-01, 1.00000000e-06, 1.00000000e-06,\n",
       "        1.00000000e-06, 1.00000000e-06],\n",
       "       ...,\n",
       "       [1.00000000e-06, 1.00000000e-06, 9.97269573e-01, 9.99999000e-01,\n",
       "        9.99999000e-01, 9.99999000e-01],\n",
       "       [1.00000000e-06, 1.00000000e-06, 3.31760486e-06, 1.00000000e-06,\n",
       "        1.00000000e-06, 1.00000000e-06],\n",
       "       [1.00000000e-06, 1.00000000e-06, 1.00000000e-06, 1.00000000e-06,\n",
       "        5.94913013e-05, 1.00000000e-06]])"
      ]
     },
     "execution_count": 161,
     "metadata": {},
     "output_type": "execute_result"
    }
   ],
   "source": [
    "topic_model.p_y_given_x"
   ]
  },
  {
   "cell_type": "code",
   "execution_count": 162,
   "metadata": {},
   "outputs": [
    {
     "data": {
      "image/png": "[encoded data removed]",
      "text/plain": [
       "<Figure size 720x360 with 1 Axes>"
      ]
     },
     "metadata": {
      "needs_background": "light"
     },
     "output_type": "display_data"
    }
   ],
   "source": [
    "plt.figure(figsize=(10,5))\n",
    "plt.bar(range(topic_model.tcs.shape[0]), topic_model.tcs, color='#4e79a7', width=0.5)\n",
    "plt.xlabel('Topic', fontsize=16)\n",
    "plt.ylabel('Total Correlation (nats)', fontsize=16);"
   ]
  },
  {
   "cell_type": "code",
   "execution_count": 163,
   "metadata": {},
   "outputs": [
    {
     "data": {
      "text/plain": [
       "array([13.15177315, 12.52577995,  9.56197997,  9.2848201 ,  7.14461909,\n",
       "        6.82588517])"
      ]
     },
     "execution_count": 163,
     "metadata": {},
     "output_type": "execute_result"
    }
   ],
   "source": [
    "topic_model.tcs"
   ]
  },
  {
   "cell_type": "code",
   "execution_count": 166,
   "metadata": {},
   "outputs": [
    {
     "name": "stdout",
     "output_type": "stream",
     "text": [
      "0: political,government,said,country,rights,told,men,violence,women,family\n",
      "1: health,economic,percent,dollars,economy,countries,care,risk,population,need\n",
      "2: science,human,actually,thing,does,probably,bit,interesting,right,things\n",
      "3: earth,planet,species,water,surface,ocean,size,animals,scientists,nature\n",
      "4: climate,global,carbon,million,scale,billion,emissions,land,energy,food\n"
     ]
    }
   ],
   "source": [
    "#anchoring\n",
    "topic_model = ct.Corex(n_hidden=5, words=words,\n",
    "                       max_iter=200, verbose=False, seed=1)\n",
    "\n",
    "topic_model.fit(doc_word, words=words, docs=df.transcript, \n",
    "                anchors=[['government', 'political'], \n",
    "                         ['health', 'economic'], \n",
    "                         ['science', 'human'], \n",
    "                         ['earth', 'planet'],\n",
    "                         ['climate']], anchor_strength=2)\n",
    "\n",
    "# Print all topics from the CorEx topic model\n",
    "topics = topic_model.get_topics()\n",
    "for n,topic in enumerate(topics):\n",
    "    topic_words,_ = zip(*topic)\n",
    "    print('{}: '.format(n) + ','.join(topic_words))"
   ]
  },
  {
   "cell_type": "code",
   "execution_count": null,
   "metadata": {},
   "outputs": [],
   "source": []
  },
  {
   "cell_type": "code",
   "execution_count": 168,
   "metadata": {},
   "outputs": [
    {
     "name": "stdout",
     "output_type": "stream",
     "text": [
      "0: health,virus,disease,care,percent,medical,patients,healthy,treatment,diseases\n",
      "1: virus,actually,problem,science,probably,data,use,example,does,better\n",
      "2: history,art,language,read,media,book,century,great,books,written\n",
      "3: said,family,woman,didn,told,country,men,children,friends,women\n",
      "4: global,climate,scale,million,billion,water,economy,earth,000,need\n"
     ]
    }
   ],
   "source": [
    "#force with anchors to get smaller topics\n",
    "topic_model = ct.Corex(n_hidden=5, words=words,\n",
    "                       max_iter=200, verbose=False, seed=1)\n",
    "\n",
    "topic_model.fit(doc_word, words=words, docs=df.transcript, \n",
    "                anchors=[['virus', 'health'], 'virus'], anchor_strength=10)\n",
    "\n",
    "# Print all topics from the CorEx topic model\n",
    "topics = topic_model.get_topics()\n",
    "for n,topic in enumerate(topics):\n",
    "    topic_words,_ = zip(*topic)\n",
    "    print('{}: '.format(n) + ','.join(topic_words))"
   ]
  },
  {
   "cell_type": "code",
   "execution_count": null,
   "metadata": {},
   "outputs": [],
   "source": []
  },
  {
   "cell_type": "code",
   "execution_count": 170,
   "metadata": {},
   "outputs": [
    {
     "name": "stdout",
     "output_type": "stream",
     "text": [
      "0: virus,species,technology,scientists,using,science,planet,carbon,surface,technologies\n",
      "1: percent,virus,year,million,population,50,000,climate,30,number\n",
      "2: economy,economic,business,government,political,companies,dollars,global,market,governments\n",
      "3: virus,disease,patients,medical,health,patient,diseases,cancer,doctors,treatment\n",
      "4: bit,thing,little,stuff,probably,kind,actually,great,sort,things\n",
      "5: country,city,south,community,war,local,africa,communities,north,america\n",
      "6: children,women,education,girls,families,support,schools,gender,equality,objects\n",
      "7: said,didn,felt,family,told,friends,man,men,wasn,feel\n"
     ]
    }
   ],
   "source": [
    "#use same words in the different topics\n",
    "#anchors\n",
    "\n",
    "#women\n",
    "topic_model = ct.Corex(n_hidden=8, words=words,\n",
    "                       max_iter=200, verbose=False, seed=1)\n",
    "\n",
    "topic_model.fit(doc_word, words=words, docs=df.transcript, \n",
    "                anchors=[['virus'], ['virus'], ['virus'], ['virus']], anchor_strength=5)\n",
    "\n",
    "# Print all topics from the CorEx topic model\n",
    "topics = topic_model.get_topics()\n",
    "for n,topic in enumerate(topics):\n",
    "    topic_words,_ = zip(*topic)\n",
    "    print('{}: '.format(n) + ','.join(topic_words))"
   ]
  },
  {
   "cell_type": "code",
   "execution_count": null,
   "metadata": {},
   "outputs": [],
   "source": []
  },
  {
   "cell_type": "markdown",
   "metadata": {},
   "source": [
    "# Sentiment Analysis Vader"
   ]
  },
  {
   "cell_type": "code",
   "execution_count": 173,
   "metadata": {},
   "outputs": [],
   "source": [
    "analyser = SentimentIntensityAnalyzer()"
   ]
  },
  {
   "cell_type": "code",
   "execution_count": 176,
   "metadata": {},
   "outputs": [
    {
     "data": {
      "text/plain": [
       "{'neg': 0.078, 'neu': 0.728, 'pos': 0.194, 'compound': 0.9998}"
      ]
     },
     "execution_count": 176,
     "metadata": {},
     "output_type": "execute_result"
    }
   ],
   "source": [
    "analyser.polarity_scores(df['transcript'].values[0])"
   ]
  },
  {
   "cell_type": "markdown",
   "metadata": {},
   "source": [
    "# LDA PyViz"
   ]
  },
  {
   "cell_type": "code",
   "execution_count": 177,
   "metadata": {},
   "outputs": [],
   "source": [
    "vectorizer = CountVectorizer(analyzer='word',       \n",
    "                             min_df=10,                        # minimum reqd occurences of a word \n",
    "                             stop_words='english',             # remove stop words\n",
    "                             lowercase=True,                   # convert all words to lowercase\n",
    "                             token_pattern='[a-zA-Z0-9]{3,}',  # num chars > 3\n",
    "                             max_features=1000,                # max number of uniq words\n",
    "                            )\n",
    "\n",
    "data_vectorized = vectorizer.fit_transform(df.transcript)"
   ]
  },
  {
   "cell_type": "code",
   "execution_count": 178,
   "metadata": {},
   "outputs": [
    {
     "name": "stdout",
     "output_type": "stream",
     "text": [
      "LatentDirichletAllocation(batch_size=128, doc_topic_prior=None,\n",
      "                          evaluate_every=-1, learning_decay=0.7,\n",
      "                          learning_method='online', learning_offset=10.0,\n",
      "                          max_doc_update_iter=100, max_iter=10,\n",
      "                          mean_change_tol=0.001, n_components=10, n_jobs=-1,\n",
      "                          perp_tol=0.1, random_state=100, topic_word_prior=None,\n",
      "                          total_samples=1000000.0, verbose=0)\n"
     ]
    }
   ],
   "source": [
    "n_components = 10\n",
    "\n",
    "lda_model = LatentDirichletAllocation(n_components=n_components,   # Number of topics\n",
    "                                      max_iter=10,                 # Max learning iterations\n",
    "                                      learning_method='online',   \n",
    "                                      random_state=100,            # Random state\n",
    "                                      #batch_size=128,             # n docs in each learning iter\n",
    "                                      n_jobs = -1,                 # Use all available CPUs\n",
    "                                     )\n",
    "lda_output = lda_model.fit_transform(data_vectorized)\n",
    "\n",
    "print(lda_model)  # Model attributes"
   ]
  },
  {
   "cell_type": "code",
   "execution_count": 181,
   "metadata": {},
   "outputs": [
    {
     "name": "stderr",
     "output_type": "stream",
     "text": [
      "/Users/elena/opt/anaconda3/lib/python3.7/site-packages/pyLDAvis/_prepare.py:257: FutureWarning: Sorting because non-concatenation axis is not aligned. A future version\n",
      "of pandas will change to not sort by default.\n",
      "\n",
      "To accept the future behavior, pass 'sort=False'.\n",
      "\n",
      "To retain the current behavior and silence the warning, pass 'sort=True'.\n",
      "\n",
      "  return pd.concat([default_term_info] + list(topic_dfs))\n"
     ]
    },
    {
     "data": {
      "text/html": [
       "\n",
       "<link rel=\"stylesheet\" type=\"text/css\" href=\"https://cdn.rawgit.com/bmabey/pyLDAvis/files/ldavis.v1.0.0.css\">\n",
       "\n",
       "\n",
       "<div id=\"ldavis_el492821152856331048870617964\"></div>\n",
       "<script type=\"text/javascript\">\n",
       "\n",
       "var ldavis_el492821152856331048870617964_data = {\"mdsDat\": {\"x\": [-0.05502205751117276, -0.014854965421655902, -0.09014941982148432, 0.07251685221199908, 0.05809087917438966, 0.13617310937415933, 0.01318996604222766, 0.0900234360267755, -0.10287674975823469, -0.10709105031700349], \"y\": [-0.08859712546915478, 0.0204147966234061, -0.0169530794226979, -0.0036363700515027585, 0.13275501381925064, -0.06136499194236589, -0.08529036566591312, 0.032184690953961835, 0.13867845460249537, -0.0681910234474794], \"topics\": [1, 2, 3, 4, 5, 6, 7, 8, 9, 10], \"cluster\": [1, 1, 1, 1, 1, 1, 1, 1, 1, 1], \"Freq\": [22.91245390499511, 17.91543351807072, 14.061542206945818, 10.126837233890168, 6.858478792708642, 6.73972887944076, 6.280844618892494, 5.367385801657969, 5.0850361846274446, 4.652258858770867]}, \"tinfo\": {\"Category\": [\"Default\", \"Default\", \"Default\", \"Default\", \"Default\", \"Default\", \"Default\", \"Default\", \"Default\", \"Default\", \"Default\", \"Default\", \"Default\", \"Default\", \"Default\", \"Default\", \"Default\", \"Default\", \"Default\", \"Default\", \"Default\", \"Default\", \"Default\", \"Default\", \"Default\", \"Default\", \"Default\", \"Default\", \"Default\", \"Default\", \"Topic1\", \"Topic1\", \"Topic1\", \"Topic1\", \"Topic1\", \"Topic1\", \"Topic1\", \"Topic1\", \"Topic1\", \"Topic1\", \"Topic1\", \"Topic1\", \"Topic1\", \"Topic1\", \"Topic1\", \"Topic1\", \"Topic1\", \"Topic1\", \"Topic1\", \"Topic1\", \"Topic1\", \"Topic1\", \"Topic1\", \"Topic1\", \"Topic1\", \"Topic1\", \"Topic1\", \"Topic1\", \"Topic1\", \"Topic1\", \"Topic1\", \"Topic1\", \"Topic1\", \"Topic1\", \"Topic1\", \"Topic1\", \"Topic1\", \"Topic1\", \"Topic1\", \"Topic1\", \"Topic1\", \"Topic1\", \"Topic1\", \"Topic1\", \"Topic1\", \"Topic1\", \"Topic1\", \"Topic1\", \"Topic1\", \"Topic1\", \"Topic1\", \"Topic1\", \"Topic1\", \"Topic1\", \"Topic1\", \"Topic1\", \"Topic1\", \"Topic1\", \"Topic1\", \"Topic2\", \"Topic2\", \"Topic2\", \"Topic2\", \"Topic2\", \"Topic2\", \"Topic2\", \"Topic2\", \"Topic2\", \"Topic2\", \"Topic2\", \"Topic2\", \"Topic2\", \"Topic2\", \"Topic2\", \"Topic2\", \"Topic2\", \"Topic2\", \"Topic2\", \"Topic2\", \"Topic2\", \"Topic2\", \"Topic2\", \"Topic2\", \"Topic2\", \"Topic2\", \"Topic2\", \"Topic2\", \"Topic2\", \"Topic2\", \"Topic2\", \"Topic2\", \"Topic2\", \"Topic2\", \"Topic2\", \"Topic2\", \"Topic2\", \"Topic2\", \"Topic2\", \"Topic2\", \"Topic2\", \"Topic2\", \"Topic2\", \"Topic2\", \"Topic2\", \"Topic2\", \"Topic2\", \"Topic2\", \"Topic2\", \"Topic2\", \"Topic2\", \"Topic2\", \"Topic2\", \"Topic2\", \"Topic2\", \"Topic2\", \"Topic2\", \"Topic2\", \"Topic2\", \"Topic2\", \"Topic2\", \"Topic2\", \"Topic2\", \"Topic3\", \"Topic3\", \"Topic3\", \"Topic3\", \"Topic3\", \"Topic3\", \"Topic3\", \"Topic3\", \"Topic3\", \"Topic3\", \"Topic3\", \"Topic3\", \"Topic3\", \"Topic3\", \"Topic3\", \"Topic3\", \"Topic3\", \"Topic3\", \"Topic3\", \"Topic3\", \"Topic3\", \"Topic3\", \"Topic3\", \"Topic3\", \"Topic3\", \"Topic3\", \"Topic3\", \"Topic3\", \"Topic3\", \"Topic3\", \"Topic3\", \"Topic3\", \"Topic3\", \"Topic3\", \"Topic3\", \"Topic3\", \"Topic3\", \"Topic3\", \"Topic3\", \"Topic3\", \"Topic3\", \"Topic3\", \"Topic3\", \"Topic3\", \"Topic3\", \"Topic3\", \"Topic3\", \"Topic3\", \"Topic3\", \"Topic3\", \"Topic3\", \"Topic3\", \"Topic4\", \"Topic4\", \"Topic4\", \"Topic4\", \"Topic4\", \"Topic4\", \"Topic4\", \"Topic4\", \"Topic4\", \"Topic4\", \"Topic4\", \"Topic4\", \"Topic4\", \"Topic4\", \"Topic4\", \"Topic4\", \"Topic4\", \"Topic4\", \"Topic4\", \"Topic4\", \"Topic4\", \"Topic4\", \"Topic4\", \"Topic4\", \"Topic4\", \"Topic4\", \"Topic4\", \"Topic4\", \"Topic4\", \"Topic4\", \"Topic4\", \"Topic4\", \"Topic4\", \"Topic4\", \"Topic4\", \"Topic4\", \"Topic4\", \"Topic4\", \"Topic4\", \"Topic4\", \"Topic4\", \"Topic4\", \"Topic4\", \"Topic4\", \"Topic4\", \"Topic4\", \"Topic4\", \"Topic4\", \"Topic4\", \"Topic4\", \"Topic4\", \"Topic4\", \"Topic4\", \"Topic4\", \"Topic4\", \"Topic4\", \"Topic4\", \"Topic4\", \"Topic4\", \"Topic4\", \"Topic4\", \"Topic4\", \"Topic4\", \"Topic4\", \"Topic4\", \"Topic4\", \"Topic5\", \"Topic5\", \"Topic5\", \"Topic5\", \"Topic5\", \"Topic5\", \"Topic5\", \"Topic5\", \"Topic5\", \"Topic5\", \"Topic5\", \"Topic5\", \"Topic5\", \"Topic5\", \"Topic5\", \"Topic5\", \"Topic5\", \"Topic5\", \"Topic5\", \"Topic5\", \"Topic5\", \"Topic5\", \"Topic5\", \"Topic5\", \"Topic5\", \"Topic5\", \"Topic5\", \"Topic5\", \"Topic5\", \"Topic5\", \"Topic5\", \"Topic5\", \"Topic5\", \"Topic5\", \"Topic5\", \"Topic5\", \"Topic5\", \"Topic5\", \"Topic5\", \"Topic5\", \"Topic5\", \"Topic5\", \"Topic5\", \"Topic5\", \"Topic5\", \"Topic5\", \"Topic5\", \"Topic5\", \"Topic5\", \"Topic5\", \"Topic6\", \"Topic6\", \"Topic6\", \"Topic6\", \"Topic6\", \"Topic6\", \"Topic6\", \"Topic6\", \"Topic6\", \"Topic6\", \"Topic6\", \"Topic6\", \"Topic6\", \"Topic6\", \"Topic6\", \"Topic6\", \"Topic6\", \"Topic6\", \"Topic6\", \"Topic6\", \"Topic6\", \"Topic6\", \"Topic6\", \"Topic6\", \"Topic6\", \"Topic6\", \"Topic6\", \"Topic6\", \"Topic6\", \"Topic6\", \"Topic6\", \"Topic6\", \"Topic6\", \"Topic6\", \"Topic6\", \"Topic6\", \"Topic6\", \"Topic6\", \"Topic6\", \"Topic6\", \"Topic6\", \"Topic6\", \"Topic6\", \"Topic6\", \"Topic6\", \"Topic6\", \"Topic6\", \"Topic6\", \"Topic6\", \"Topic6\", \"Topic6\", \"Topic6\", \"Topic7\", \"Topic7\", \"Topic7\", \"Topic7\", \"Topic7\", \"Topic7\", \"Topic7\", \"Topic7\", \"Topic7\", \"Topic7\", \"Topic7\", \"Topic7\", \"Topic7\", \"Topic7\", \"Topic7\", \"Topic7\", \"Topic7\", \"Topic7\", \"Topic7\", \"Topic7\", \"Topic7\", \"Topic7\", \"Topic7\", \"Topic7\", \"Topic7\", \"Topic7\", \"Topic7\", \"Topic7\", \"Topic7\", \"Topic7\", \"Topic7\", \"Topic7\", \"Topic7\", \"Topic7\", \"Topic7\", \"Topic7\", \"Topic7\", \"Topic7\", \"Topic7\", \"Topic7\", \"Topic7\", \"Topic7\", \"Topic7\", \"Topic7\", \"Topic7\", \"Topic7\", \"Topic7\", \"Topic7\", \"Topic7\", \"Topic7\", \"Topic7\", \"Topic7\", \"Topic8\", \"Topic8\", \"Topic8\", \"Topic8\", \"Topic8\", \"Topic8\", \"Topic8\", \"Topic8\", \"Topic8\", \"Topic8\", \"Topic8\", \"Topic8\", \"Topic8\", \"Topic8\", \"Topic8\", \"Topic8\", \"Topic8\", \"Topic8\", \"Topic8\", \"Topic8\", \"Topic8\", \"Topic8\", \"Topic8\", \"Topic8\", \"Topic8\", \"Topic8\", \"Topic8\", \"Topic8\", \"Topic8\", \"Topic8\", \"Topic8\", \"Topic8\", \"Topic8\", \"Topic8\", \"Topic8\", \"Topic8\", \"Topic8\", \"Topic8\", \"Topic8\", \"Topic8\", \"Topic8\", \"Topic8\", \"Topic8\", \"Topic8\", \"Topic8\", \"Topic8\", \"Topic8\", \"Topic8\", \"Topic8\", \"Topic8\", \"Topic9\", \"Topic9\", \"Topic9\", \"Topic9\", \"Topic9\", \"Topic9\", \"Topic9\", \"Topic9\", \"Topic9\", \"Topic9\", \"Topic9\", \"Topic9\", \"Topic9\", \"Topic9\", \"Topic9\", \"Topic9\", \"Topic9\", \"Topic9\", \"Topic9\", \"Topic9\", \"Topic9\", \"Topic9\", \"Topic9\", \"Topic9\", \"Topic9\", \"Topic9\", \"Topic9\", \"Topic9\", \"Topic9\", \"Topic9\", \"Topic9\", \"Topic9\", \"Topic9\", \"Topic9\", \"Topic9\", \"Topic9\", \"Topic9\", \"Topic9\", \"Topic9\", \"Topic9\", \"Topic9\", \"Topic9\", \"Topic9\", \"Topic9\", \"Topic10\", \"Topic10\", \"Topic10\", \"Topic10\", \"Topic10\", \"Topic10\", \"Topic10\", \"Topic10\", \"Topic10\", \"Topic10\", \"Topic10\", \"Topic10\", \"Topic10\", \"Topic10\", \"Topic10\", \"Topic10\", \"Topic10\", \"Topic10\", \"Topic10\", \"Topic10\", \"Topic10\", \"Topic10\", \"Topic10\", \"Topic10\", \"Topic10\", \"Topic10\", \"Topic10\", \"Topic10\", \"Topic10\", \"Topic10\", \"Topic10\", \"Topic10\", \"Topic10\", \"Topic10\", \"Topic10\", \"Topic10\", \"Topic10\", \"Topic10\", \"Topic10\", \"Topic10\", \"Topic10\", \"Topic10\", \"Topic10\", \"Topic10\", \"Topic10\", \"Topic10\", \"Topic10\", \"Topic10\", \"Topic10\", \"Topic10\", \"Topic10\", \"Topic10\"], \"Freq\": [3360.0, 2194.0, 2162.0, 1690.0, 1778.0, 2364.0, 8689.0, 1194.0, 17510.0, 2684.0, 8990.0, 1416.0, 1884.0, 1053.0, 1306.0, 2545.0, 1418.0, 3488.0, 1283.0, 7386.0, 6099.0, 7583.0, 1682.0, 2512.0, 861.0, 9426.0, 1023.0, 1573.0, 5397.0, 823.0, 760.1851603849296, 270.5455992011601, 766.0102640203626, 252.242498700867, 424.55482887991025, 628.6801934092085, 691.2217291646776, 478.7478257886618, 730.3511148011922, 267.20652005256517, 763.5377324103072, 1575.4449696187305, 290.2083848933399, 253.83635298034517, 386.1458217350776, 3501.0810245710677, 466.1247107468237, 513.8768483356703, 701.2880466503789, 468.62642042433635, 1428.2371824942816, 309.94817852971295, 450.1120740478319, 301.40758712727995, 399.5662860554392, 4797.859957861451, 2839.647916790395, 277.24850577412235, 421.3017458918642, 188.45730823381126, 5980.464205324717, 1229.6281434725972, 4151.942905002935, 2382.2108594042124, 2323.8566178561687, 1332.8371700549988, 1635.969638767533, 1429.6904334187138, 4233.071662490467, 3783.234691806838, 2892.4962566106083, 5203.929333255255, 5962.361209706533, 6002.454260607887, 3688.403942216201, 2758.890295439463, 1971.8816850056558, 2534.0839861196228, 1851.7365810640774, 1507.1640528037785, 1800.0760359139001, 1547.6999705476285, 2401.3051957925236, 2646.77268810553, 1667.6979408307184, 1718.9013463422064, 1605.882856783664, 1552.8222238076785, 1454.3454094819922, 301.5310977679231, 929.0678753538133, 361.81996414387925, 330.87914122810264, 1010.7836087240446, 829.6658158101728, 319.78433390596825, 889.9726719524479, 388.35943238444844, 474.1235856191663, 468.92916390081274, 505.7523191542643, 455.3024196111447, 886.121448462375, 423.2585229094335, 1214.7592775017133, 258.98343396100927, 334.174416925381, 327.23532628931383, 252.42242947531474, 344.4730451185664, 321.76574597408455, 252.4022785699413, 277.312991763215, 498.0631873918501, 263.28641338897665, 235.43181538416812, 219.002197092737, 221.89649219817164, 321.05837078673466, 302.97846018973723, 1126.278240306712, 444.3135750993968, 6152.4214980501565, 1176.5238139090093, 506.20741291419546, 1342.0473045878352, 847.2878519729957, 2901.7409645050334, 1810.3058234298694, 1003.3516292107138, 2210.9086734153825, 2389.1449227751386, 1655.5154921341723, 694.5445380341253, 1743.54484352727, 1605.8478951028928, 2392.734505165339, 1699.2496249672763, 1472.7988605119688, 1482.5047591126847, 1710.8139339593017, 1447.6276537472029, 2238.511072909716, 928.4788288387733, 1105.4101188308812, 1639.3783802432733, 1384.739382173636, 1448.9767489772078, 1081.6321325891975, 1144.4208913871823, 1045.4058733702564, 1051.0945860482311, 360.8278205406297, 376.6020940147681, 501.80208563349004, 664.0058251324881, 2072.1470995127006, 499.81131260039723, 449.59694885300985, 302.4985282917843, 1957.5166536315537, 284.02233922986966, 834.8263222087437, 275.94382851077154, 808.9157547308439, 424.88508549142983, 900.2114447618746, 1364.9846723560433, 342.29768140308084, 501.17762139613745, 726.483668066216, 336.224612545169, 1123.4298055103534, 1051.9291598792422, 250.18376819436872, 890.0596986501974, 1230.2918021419705, 484.8572898752613, 666.0106476887183, 214.5446157735438, 516.1665483082509, 296.0039618372421, 1060.6406123766606, 592.0543625444632, 1014.6198817037061, 1363.8996488866617, 1534.477492721095, 1810.958522719988, 828.7118030640854, 2884.1665884219397, 1371.3020714261681, 1304.0534719410093, 869.8100193483106, 834.3107947201574, 1022.6403994586435, 1520.0156455979936, 966.2966765706701, 1342.950590600218, 966.7481963268217, 1468.0315829556687, 852.340193908722, 1132.978960589926, 891.1769019598454, 874.3693688059367, 630.148808011648, 297.95645669726474, 623.5557834095562, 307.48650356237425, 351.08244478522727, 391.7032194464304, 691.3735328682524, 286.3170310332679, 335.4205276240444, 518.1982717602526, 180.7181086560312, 269.72499065584896, 208.44457905565025, 205.05794213229973, 165.78810887021714, 389.38058224630004, 230.1986673730902, 230.3082532805721, 246.2211535570363, 129.21033376631354, 336.7467259831574, 272.53078062526436, 323.18447988531307, 143.61186877967964, 139.67509118694778, 125.95010006931717, 139.14100716329574, 176.93203830119032, 135.72818080213824, 190.86825970175985, 2392.8858709189035, 359.1864515554472, 401.2053033418283, 391.19285978571867, 299.73723020515683, 1190.4424682325255, 1060.2602697510754, 794.0670082545352, 2194.2494217593858, 1167.908557444511, 1408.56095015735, 2630.3789281972367, 1320.1007849194978, 1877.2886400770622, 1458.8487446111205, 768.5860334616573, 514.09244238296, 1392.5332206282271, 838.8818190329672, 871.002281754592, 1079.0333783412889, 783.5601681391668, 882.8203453561023, 794.2899914629094, 739.2765371305443, 686.9264387737378, 493.94245029256774, 524.4625478810327, 704.7420199821505, 501.44468824706973, 565.2283000009787, 532.15230724237, 591.577521864717, 594.7084710797925, 608.3261305263317, 540.1956181655614, 310.9695484819425, 575.5510107709558, 935.7658422310636, 487.63208047694803, 337.5708067602553, 298.88333735156874, 258.0204321937992, 583.030291409194, 331.4506321760124, 268.6553369179783, 291.7364253964157, 648.0816011987152, 862.278615857537, 233.0950623680981, 984.1963196424912, 1447.0309169700395, 385.5696578018931, 205.04999625449165, 228.9364144503422, 400.6897782393059, 183.89881810950047, 338.46033914018295, 174.53619673640412, 227.37736185874132, 428.4008690841075, 408.6911227764583, 167.62056277583264, 679.7799894546814, 160.7272976792661, 297.1453906184689, 397.0009506485366, 345.49562545117044, 542.20768313771, 410.7030123157219, 1552.7043411713921, 828.120306658429, 814.8890808376212, 1015.2812618444857, 459.73959661224677, 774.4056933244278, 599.9409446174728, 571.1990767098791, 793.5941384326908, 427.92856058222384, 658.0756129662143, 624.1307532424738, 482.7802659651941, 404.5357191672488, 417.2195027914722, 401.9698158527918, 831.0644769850718, 371.66130991374246, 283.9984262540348, 487.26059224907215, 338.77027125910325, 274.3613558568965, 1037.6353257807757, 486.72076789852605, 635.8367872915328, 701.8229989058312, 219.78082005456835, 227.47762188118523, 250.65603396852518, 335.50248875587886, 196.60126410908615, 277.7713049309895, 186.34781751138155, 616.0784545034429, 458.75435635802955, 860.665691267455, 218.48268899356074, 681.3507388280685, 192.59824170542169, 177.28158090950947, 228.5525289743233, 160.22562137728116, 263.6776288325909, 480.07065078798917, 169.98258949541764, 545.9120994141749, 450.95723161227477, 902.1916631525905, 418.8185120255805, 742.0838941915118, 1482.4728393227142, 527.3777268992831, 506.3788514628352, 724.6241085849656, 495.681286755178, 487.01422117421697, 954.4484542526702, 790.9367313694804, 908.9292770863369, 617.6272216838025, 475.35382290832024, 628.8974807600042, 528.5247380722576, 747.1976664217574, 520.0989378474605, 506.2765149380447, 489.80830999338065, 482.7982769218508, 501.92693962564874, 1600.8331593835674, 1949.1335825208034, 352.42449121767373, 713.9334693194747, 342.6206564259805, 290.18217502548873, 232.93707607236593, 461.50653705146505, 693.0163406260947, 309.9210599293515, 180.73581459144478, 270.80050832748447, 394.2772880829954, 163.0142058283776, 331.888893020305, 141.12089062534508, 470.5240583223168, 176.3377480925301, 147.70675895267433, 568.8460791650242, 126.1938104965692, 242.83911683881854, 129.05294406488224, 240.7967517131819, 332.6712244211938, 298.43580232102727, 109.78330925863678, 196.9858602395888, 124.21258371784232, 342.53993901112483, 383.66472740269353, 897.1779151818721, 1090.5824654610901, 1568.7386664482237, 506.77508834813835, 1036.7178906921743, 548.8425451411371, 816.2265264128746, 794.1288368298412, 694.6090005658804, 633.305974879574, 447.79382113172863, 403.2968237557553, 487.9036013955066, 449.12113453074386, 435.0322184145198, 411.0151009674679, 375.68050163806885, 411.3071264819963, 384.0329647294427, 382.44302397251334, 788.9965620081878, 576.0090660842252, 394.1958003190897, 367.026638349614, 424.63406806143104, 254.6458100357646, 548.2949121189836, 1058.7130295927661, 336.3403954657841, 223.2342146124098, 842.8708220238021, 302.43829950291337, 295.60417524289795, 188.74419763224836, 389.7144807496749, 220.64108556530434, 698.5055307244206, 196.17195921352726, 260.4003302470551, 280.5070119090677, 132.04384916327916, 219.56508654632046, 537.1651829580346, 136.45691867936821, 136.2333874818779, 159.43425821009953, 499.42154828523445, 110.55354913459536, 252.00489235610542, 108.82127121357108, 181.5950830676479, 692.3025725355845, 494.2913467639628, 932.1974237673526, 683.9056195811054, 432.2250264023091, 831.4175575272733, 1044.4852467368162, 549.9196089816821, 789.8983570177121, 343.84820170475786, 584.5356288408323, 499.5063813179494, 341.0641157864308, 377.010232193502, 399.5820335744805, 395.53050701671225, 374.3900225777408, 370.8295864072683, 359.64600319795204, 860.3842764636605, 592.5471773739109, 1151.7589495634054, 455.49267474225456, 972.5338514413281, 440.02965148521554, 526.8129935755146, 500.7112936014055, 731.4337300208332, 413.86580263982427, 360.06523458522594, 437.22920822405354, 1689.8099477445774, 317.37699113794787, 290.09387896463494, 627.8160197520189, 561.0624576271773, 415.2729795205851, 239.16828777441032, 212.5833743519578, 287.24700695558977, 257.9060600404362, 193.8364698179997, 536.1052996942325, 882.6353473277791, 170.77822041419415, 192.54608456558012, 146.5539481042647, 159.60339078120637, 354.3143480813482, 452.88625872936035, 209.63610920782415, 310.02099075483096, 418.60123342150075, 350.3920650760316, 369.66873405393204, 478.1941679266654, 391.18405379321723, 562.5741531830532, 447.06240013567333, 435.4938481302353, 444.92610678702476, 407.76829308231765, 392.60343648654197, 474.7849648794785, 707.6522500020108, 3124.146234653293, 319.9528079332719, 440.5588734959329, 422.52404442758575, 1331.9636279387414, 493.2673402660617, 790.4487202552722, 197.79103068963175, 165.6441472469337, 142.03127036400264, 323.5202312885434, 150.71097470024114, 256.87211430965874, 105.98788112896194, 121.28351827255973, 365.7080329939184, 186.67100049831905, 244.46701434523166, 88.80628185535231, 153.87067039580836, 101.35997551124959, 175.6938409493853, 114.44287698081078, 86.10734582144612, 121.64959043322553, 154.16076440660592, 151.75677365036904, 104.7078027726213, 342.1026896766147, 185.8700726009531, 260.8770765375619, 493.73674932550375, 653.4526777866938, 306.72689941935596, 746.2066994085886, 447.2236749996703, 500.80935853652727, 230.58767591819546, 405.4047763833828, 451.62716445808286, 317.4296198362498, 478.1361896148263, 348.16200097627006, 276.5111650135807, 269.5974119799429, 299.5241823421214, 306.11830213164984, 280.5083836730842, 268.02278411246755, 262.55088168044426], \"Term\": [\"women\", \"brain\", \"health\", \"men\", \"music\", \"water\", \"laughter\", \"cancer\", \"like\", \"data\", \"world\", \"earth\", \"care\", \"disease\", \"woman\", \"children\", \"design\", \"percent\", \"planet\", \"actually\", \"new\", \"years\", \"city\", \"school\", \"patients\", \"really\", \"climate\", \"food\", \"applause\", \"ocean\", \"guy\", \"compassion\", \"yeah\", \"hey\", \"kid\", \"somebody\", \"okay\", \"god\", \"word\", \"dad\", \"says\", \"love\", \"writing\", \"anybody\", \"wrote\", \"said\", \"guys\", \"feeling\", \"saying\", \"happy\", \"feel\", \"wonderful\", \"friend\", \"nice\", \"write\", \"laughter\", \"say\", \"english\", \"ted\", \"afraid\", \"know\", \"mean\", \"don\", \"got\", \"thing\", \"thought\", \"didn\", \"talk\", \"think\", \"really\", \"things\", \"just\", \"like\", \"people\", \"going\", \"want\", \"did\", \"right\", \"good\", \"tell\", \"little\", \"kind\", \"way\", \"time\", \"lot\", \"life\", \"actually\", \"make\", \"look\", \"wealth\", \"companies\", \"financial\", \"organizations\", \"government\", \"company\", \"governments\", \"business\", \"security\", \"economy\", \"market\", \"value\", \"trust\", \"dollars\", \"jobs\", \"money\", \"values\", \"decisions\", \"democracy\", \"private\", \"leaders\", \"income\", \"policy\", \"chinese\", \"economic\", \"citizens\", \"services\", \"bank\", \"institutions\", \"innovation\", \"success\", \"social\", \"pay\", \"people\", \"data\", \"political\", \"percent\", \"information\", \"think\", \"need\", \"problem\", \"world\", \"going\", \"work\", \"countries\", \"actually\", \"make\", \"just\", \"don\", \"things\", \"want\", \"really\", \"right\", \"like\", \"better\", \"let\", \"know\", \"way\", \"time\", \"lot\", \"new\", \"good\", \"years\", \"prison\", \"teachers\", \"police\", \"father\", \"children\", \"families\", \"schools\", \"village\", \"school\", \"peace\", \"parents\", \"teacher\", \"mother\", \"college\", \"child\", \"family\", \"son\", \"violence\", \"education\", \"justice\", \"community\", \"young\", \"killed\", \"black\", \"kids\", \"born\", \"students\", \"town\", \"communities\", \"boy\", \"home\", \"war\", \"old\", \"day\", \"life\", \"years\", \"country\", \"people\", \"said\", \"applause\", \"went\", \"came\", \"year\", \"time\", \"come\", \"world\", \"did\", \"like\", \"didn\", \"just\", \"work\", \"know\", \"dna\", \"bacteria\", \"cell\", \"materials\", \"animal\", \"lab\", \"cells\", \"fly\", \"material\", \"animals\", \"genes\", \"structure\", \"device\", \"skin\", \"types\", \"basically\", \"tiny\", \"type\", \"complex\", \"devices\", \"environment\", \"parts\", \"nature\", \"complicated\", \"models\", \"genetic\", \"allows\", \"cool\", \"exciting\", \"surface\", \"actually\", \"stuff\", \"inside\", \"interesting\", \"turns\", \"different\", \"use\", \"able\", \"really\", \"little\", \"make\", \"like\", \"things\", \"just\", \"going\", \"kind\", \"using\", \"think\", \"lot\", \"look\", \"way\", \"thing\", \"want\", \"right\", \"new\", \"work\", \"bit\", \"problem\", \"time\", \"example\", \"let\", \"doing\", \"years\", \"don\", \"know\", \"got\", \"forest\", \"carbon\", \"climate\", \"oil\", \"nuclear\", \"waste\", \"electricity\", \"cities\", \"plant\", \"plastic\", \"plants\", \"africa\", \"energy\", \"gas\", \"food\", \"water\", \"growth\", \"trees\", \"clean\", \"land\", \"production\", \"india\", \"feed\", \"solutions\", \"local\", \"china\", \"river\", \"global\", \"reduce\", \"development\", \"air\", \"population\", \"countries\", \"billion\", \"world\", \"change\", \"percent\", \"need\", \"million\", \"years\", \"year\", \"today\", \"people\", \"power\", \"just\", \"like\", \"new\", \"use\", \"going\", \"applause\", \"art\", \"computers\", \"artist\", \"digital\", \"machines\", \"buildings\", \"design\", \"images\", \"machine\", \"computer\", \"site\", \"web\", \"software\", \"wall\", \"projects\", \"cars\", \"mobile\", \"project\", \"image\", \"city\", \"camera\", \"building\", \"content\", \"objects\", \"intelligence\", \"visual\", \"designed\", \"built\", \"cultural\", \"video\", \"internet\", \"technology\", \"created\", \"create\", \"new\", \"build\", \"space\", \"human\", \"using\", \"future\", \"world\", \"time\", \"like\", \"work\", \"used\", \"years\", \"use\", \"people\", \"today\", \"different\", \"make\", \"just\", \"robot\", \"music\", \"brain\", \"brains\", \"sound\", \"robots\", \"memory\", \"emotions\", \"voice\", \"play\", \"sounds\", \"performance\", \"playing\", \"game\", \"visual\", \"eyes\", \"activity\", \"video\", \"eye\", \"record\", \"body\", \"listening\", \"audience\", \"emotional\", \"attention\", \"hear\", \"head\", \"touch\", \"behavior\", \"experiences\", \"mind\", \"experience\", \"applause\", \"laughter\", \"like\", \"thank\", \"just\", \"let\", \"going\", \"time\", \"way\", \"right\", \"little\", \"human\", \"really\", \"make\", \"world\", \"think\", \"different\", \"people\", \"want\", \"know\", \"ocean\", \"universe\", \"mars\", \"ice\", \"sea\", \"moon\", \"fish\", \"earth\", \"sun\", \"star\", \"planet\", \"surface\", \"solar\", \"theory\", \"species\", \"dark\", \"light\", \"miles\", \"deep\", \"scientists\", \"river\", \"blue\", \"science\", \"scientific\", \"feet\", \"map\", \"space\", \"mass\", \"animals\", \"tree\", \"size\", \"data\", \"water\", \"years\", \"life\", \"big\", \"time\", \"like\", \"look\", \"just\", \"000\", \"know\", \"going\", \"ago\", \"little\", \"actually\", \"world\", \"right\", \"way\", \"really\", \"patients\", \"patient\", \"cancer\", \"treatment\", \"disease\", \"doctors\", \"drug\", \"drugs\", \"medical\", \"medicine\", \"diseases\", \"doctor\", \"health\", \"stress\", \"depression\", \"blood\", \"sleep\", \"hospital\", \"virus\", \"treat\", \"healthy\", \"mental\", \"genetic\", \"heart\", \"care\", \"pressure\", \"studies\", \"genes\", \"bed\", \"death\", \"cells\", \"pain\", \"risk\", \"research\", \"study\", \"body\", \"percent\", \"data\", \"people\", \"years\", \"know\", \"just\", \"time\", \"need\", \"gender\", \"sex\", \"women\", \"sexual\", \"female\", \"male\", \"men\", \"girls\", \"woman\", \"boys\", \"politics\", \"party\", \"political\", \"democracy\", \"culture\", \"hate\", \"identity\", \"stories\", \"rights\", \"media\", \"relationships\", \"color\", \"film\", \"girl\", \"bodies\", \"cultural\", \"role\", \"movement\", \"violence\", \"justice\", \"man\", \"white\", \"young\", \"applause\", \"laughter\", \"talk\", \"like\", \"don\", \"know\", \"social\", \"world\", \"just\", \"say\", \"people\", \"want\", \"change\", \"tell\", \"right\", \"think\", \"way\", \"need\", \"time\"], \"Total\": [3360.0, 2194.0, 2162.0, 1690.0, 1778.0, 2364.0, 8689.0, 1194.0, 17510.0, 2684.0, 8990.0, 1416.0, 1884.0, 1053.0, 1306.0, 2545.0, 1418.0, 3488.0, 1283.0, 7386.0, 6099.0, 7583.0, 1682.0, 2512.0, 861.0, 9426.0, 1023.0, 1573.0, 5397.0, 823.0, 956.3080613269292, 351.8265180000956, 1061.753842156588, 350.1545924160276, 623.5408806572644, 927.110307491966, 1019.5460144168217, 708.4760786780647, 1096.4569718782018, 405.3675427027763, 1203.352736317644, 2486.7387189551437, 475.15970707597927, 417.3738069123008, 646.2614505040286, 5869.12766953154, 794.8083804049335, 879.0264764347173, 1203.836807832745, 804.9406988604632, 2481.6845933056893, 542.8467143856969, 795.493357802116, 543.4831914907054, 722.936560882509, 8689.464582538862, 5157.58625990031, 510.96831679217587, 778.8848494124259, 351.4694600636303, 11457.939828197634, 2369.652845293407, 8459.723899175082, 4802.921389881506, 4962.03537294981, 2709.9612567682584, 3418.0353534725273, 2994.94441776445, 10468.192690303775, 9426.672739737627, 6957.498216689128, 14470.974847930642, 17510.924633150942, 18638.150890799527, 10217.1080595512, 7098.93593792081, 4740.346967769196, 6826.632467309006, 4475.186427172203, 3538.114102068033, 4800.078130585024, 3817.7301044493365, 7853.946053227273, 9656.443970715829, 4517.091428120242, 5398.422590599749, 7386.823162975308, 7075.380975797015, 5213.0157271387125, 333.13045263656335, 1039.7906020203422, 414.7423954233546, 418.1518622702009, 1315.7668047844315, 1096.7220547463307, 423.88507914482, 1205.0057693871697, 540.8673955403717, 677.1396692587391, 672.6283249882911, 727.4362768792148, 663.6087102055651, 1313.86657234041, 628.9151270660271, 1809.7128438101117, 386.2332359227331, 503.2048649826239, 495.2597433989891, 382.9762082446913, 526.9487587269651, 496.2063747321908, 390.2845160708386, 430.64444953925084, 804.5971410371311, 429.67842878305277, 387.8655195554048, 368.40905380324966, 379.58212851945393, 551.8219255914456, 522.9156373392378, 2050.6468465447706, 792.5699765713814, 18638.150890799527, 2684.100315022764, 960.6559429284043, 3488.111826620387, 1958.358061350933, 10468.192690303775, 5908.103067561058, 2679.4563439540625, 8990.711970623011, 10217.1080595512, 5923.944197953764, 1569.9776856483106, 7386.823162975308, 7075.380975797015, 14470.974847930642, 8459.723899175082, 6957.498216689128, 7098.93593792081, 9426.672739737627, 6826.632467309006, 17510.924633150942, 3050.3301331078037, 4540.688558039366, 11457.939828197634, 7853.946053227273, 9656.443970715829, 4517.091428120242, 6099.275564657514, 4475.186427172203, 7583.604168068187, 407.61071903081336, 435.6058702114926, 589.8750484933913, 792.2730003417696, 2545.2404702395775, 617.783204854971, 558.8874237426278, 384.49684512884784, 2512.0224613478636, 365.95531194268096, 1084.3361143515936, 372.30686302501135, 1111.0095750076175, 594.9480889209641, 1267.571649798086, 1935.5893136675818, 490.4361147919389, 725.795637901135, 1058.7953815953394, 510.25583273712084, 1719.9453989235808, 1616.8235015680411, 388.4171568032019, 1391.5758659360588, 1924.0847211203597, 762.6615594576856, 1058.9553076379207, 343.2392101073617, 849.6959786720291, 508.2473183572308, 2205.179679001139, 1159.0106892853025, 2436.3471242076484, 4361.993434218389, 5398.422590599749, 7583.604168068187, 2150.6790715806874, 18638.150890799527, 5869.12766953154, 5397.863477013863, 2523.750903827459, 2386.6238244653887, 3848.422535700865, 9656.443970715829, 3846.36278251236, 8990.711970623011, 4740.346967769196, 17510.924633150942, 3418.0353534725273, 14470.974847930642, 5923.944197953764, 11457.939828197634, 713.6953685391048, 337.9075341124298, 808.9724392472883, 427.6374419493712, 511.67797348718904, 607.2735071143559, 1170.599658984145, 486.77121363848124, 575.6678029669984, 892.5604889893834, 349.5208820342395, 527.1380552549044, 413.56319898818714, 428.7796593738598, 384.85678143223777, 963.175079227617, 575.358530955835, 585.8698796367299, 651.3720817250088, 342.2760251913553, 899.8687781856808, 734.9500342916467, 894.1706087592681, 397.88204845720395, 399.3684106703297, 360.254618556864, 406.9942048078069, 519.3294895381916, 402.22953085634043, 582.0108384347325, 7386.823162975308, 1123.9180985886828, 1268.5869994476686, 1243.1068985525312, 938.759142642165, 4436.703902715102, 3891.873036559576, 2880.2993030097855, 9426.672739737627, 4800.078130585024, 7075.380975797015, 17510.924633150942, 6957.498216689128, 14470.974847930642, 10217.1080595512, 3817.7301044493365, 1968.9953100610483, 10468.192690303775, 4517.091428120242, 5213.0157271387125, 7853.946053227273, 4962.03537294981, 7098.93593792081, 6826.632467309006, 6099.275564657514, 5923.944197953764, 2116.0075360303154, 2679.4563439540625, 9656.443970715829, 2325.1543160552533, 4540.688558039366, 3438.7254511682995, 7583.604168068187, 8459.723899175082, 11457.939828197634, 4802.921389881506, 338.0466212892975, 627.7696923616342, 1023.1434486915624, 574.9992550668173, 401.31657666345455, 393.92665658224627, 344.6909204969581, 843.041686408767, 483.9822065172596, 401.27539762698206, 442.9523533800161, 1003.6542239461124, 1375.5281523407446, 372.3286858160159, 1573.3024833565635, 2364.271650748782, 651.8664062965979, 352.9570481928963, 396.3826912744229, 712.5731045451671, 341.2581359854592, 636.9355287103893, 333.03613699724207, 464.4732937194939, 926.5731710775218, 891.9312833740062, 367.0516034046491, 1494.4696794259355, 358.2253728452336, 664.985345711326, 924.404763422844, 814.3079721313953, 1569.9776856483106, 1133.029899752552, 8990.711970623011, 3465.8638261452406, 3488.111826620387, 5908.103067561058, 1810.6483809842491, 7583.604168068187, 3848.422535700865, 3763.865669090009, 18638.150890799527, 2004.8096674069145, 14470.974847930642, 17510.924633150942, 6099.275564657514, 3891.873036559576, 10217.1080595512, 5397.863477013863, 999.1467645264213, 450.8453497055092, 354.9081561829712, 647.080049256743, 453.96449190426625, 370.89459862375656, 1418.9832200538356, 694.6777238189079, 908.8818965012828, 1086.1432597480223, 351.0348146579467, 363.98925997877, 406.3451146224209, 559.1347071726498, 346.93942117418925, 513.5773966045479, 344.8623770396152, 1145.7946416902903, 856.4056932928963, 1682.074251182277, 432.14767512563606, 1388.8888533595532, 396.19941192161, 367.00219913130326, 493.1288263330525, 352.3711062154221, 580.9666433758641, 1067.328509779919, 382.49608394222906, 1238.9022020760726, 1042.407021435919, 2231.878360766373, 983.6601157064375, 1920.947912400885, 6099.275564657514, 1585.3263871986203, 1678.9494784016647, 3467.4878380764053, 1968.9953100610483, 1993.8518888242445, 8990.711970623011, 9656.443970715829, 17510.924633150942, 5923.944197953764, 2514.6162957854285, 7583.604168068187, 3891.873036559576, 18638.150890799527, 3763.865669090009, 4436.703902715102, 7075.380975797015, 14470.974847930642, 538.662551265343, 1778.850977814448, 2194.6403899225766, 408.43862025820584, 936.6880385116724, 451.67955683676007, 453.60220902265326, 370.6137558410949, 798.1748905446674, 1282.3558601979837, 593.3459002381699, 364.94869280524694, 547.0423902371358, 811.0285015403844, 352.3711062154221, 800.9380925604473, 353.43711802151597, 1238.9022020760726, 489.4971987679518, 420.95966942327976, 1632.4858477094785, 383.45755005491696, 753.8354680991581, 404.0346832370194, 763.76707088477, 1100.0638120637007, 999.2156004009961, 373.79307874857585, 676.8012282242107, 443.8762974096898, 1336.5100956003782, 1570.9948340546896, 5397.863477013863, 8689.464582538862, 17510.924633150942, 3722.895402836186, 14470.974847930642, 4540.688558039366, 10217.1080595512, 9656.443970715829, 7853.946053227273, 6826.632467309006, 4800.078130585024, 3467.4878380764053, 9426.672739737627, 7075.380975797015, 8990.711970623011, 10468.192690303775, 4436.703902715102, 18638.150890799527, 7098.93593792081, 11457.939828197634, 823.9441520829217, 621.581991719128, 425.5465818724047, 435.8976610068459, 525.5793656423045, 320.6980376556988, 698.4251035933828, 1416.8001351287846, 473.0487285112118, 333.5947654261653, 1283.5267878721004, 582.0108384347325, 572.9523512917742, 377.05691616800436, 877.419339581311, 509.3037641302693, 1625.6022637340561, 464.3200999079322, 718.8008798996658, 774.7476111830017, 367.0516034046491, 619.3820463976239, 1580.9894816820467, 430.47048736871216, 436.77101164290474, 513.7676892006589, 1678.9494784016647, 386.7260503196808, 892.5604889893834, 386.94943262388114, 650.0790594297777, 2684.100315022764, 2364.271650748782, 7583.604168068187, 5398.422590599749, 2751.4116984946204, 9656.443970715829, 17510.924633150942, 5213.0157271387125, 14470.974847930642, 2280.6362488930254, 11457.939828197634, 10217.1080595512, 2329.765985654595, 4800.078130585024, 7386.823162975308, 8990.711970623011, 6826.632467309006, 7853.946053227273, 9426.672739737627, 861.5212012565938, 607.4718565336049, 1194.077045924542, 492.7600457605236, 1053.6873886186497, 492.1761315043122, 596.8785978769787, 579.043170976204, 848.0989878038017, 484.29555127794634, 426.9296030000803, 539.842723366483, 2162.0527714932205, 408.79761359651144, 379.6272678297847, 829.0112540216517, 745.1212949062353, 554.6695153484029, 386.11665251901564, 378.01586659152207, 513.4422755631188, 466.0900633346971, 360.254618556864, 1117.0921413719889, 1884.1817973655031, 379.27186573601364, 451.9828659295211, 349.5208820342395, 380.7775138778983, 868.8261037737434, 1170.599658984145, 524.8180394734549, 858.8517768756745, 1353.657706824938, 1206.5680186278425, 1632.4858477094785, 3488.111826620387, 2684.100315022764, 18638.150890799527, 7583.604168068187, 11457.939828197634, 14470.974847930642, 9656.443970715829, 5908.103067561058, 494.4151267328124, 748.2501022582504, 3360.97441301442, 345.9085964533453, 496.5881969745288, 491.60791962311373, 1690.368076166988, 800.3148021983254, 1306.0956729575782, 338.91303491818303, 433.05809599062894, 404.86914880406283, 960.6559429284043, 495.2597433989891, 855.3546767297489, 358.2549496239696, 420.6151325487812, 1328.6467323296051, 693.6382053797028, 946.9735541171295, 365.2909360223837, 635.4786545862121, 421.0017252176393, 730.0076145709274, 498.5683512102959, 382.49608394222906, 571.2163176717281, 734.9105878982476, 725.795637901135, 510.25583273712084, 1749.3252001675214, 978.1524987435687, 1616.8235015680411, 5397.863477013863, 8689.464582538862, 2994.94441776445, 17510.924633150942, 8459.723899175082, 11457.939828197634, 2050.6468465447706, 8990.711970623011, 14470.974847930642, 5157.58625990031, 18638.150890799527, 7098.93593792081, 3465.8638261452406, 3538.114102068033, 6826.632467309006, 10468.192690303775, 7853.946053227273, 5908.103067561058, 9656.443970715829], \"loglift\": [30.0, 29.0, 28.0, 27.0, 26.0, 25.0, 24.0, 23.0, 22.0, 21.0, 20.0, 19.0, 18.0, 17.0, 16.0, 15.0, 14.0, 13.0, 12.0, 11.0, 10.0, 9.0, 8.0, 7.0, 6.0, 5.0, 4.0, 3.0, 2.0, 1.0, 1.244, 1.2108, 1.147, 1.1455, 1.0891, 1.085, 1.0848, 1.0815, 1.0672, 1.0567, 1.0186, 1.0171, 0.9804, 0.9762, 0.9585, 0.9569, 0.9398, 0.9367, 0.9331, 0.9325, 0.921, 0.9131, 0.904, 0.884, 0.8805, 0.8795, 0.8767, 0.8621, 0.859, 0.8502, 0.8233, 0.8175, 0.7617, 0.7723, 0.7149, 0.7639, 0.7367, 0.734, 0.5681, 0.5605, 0.5958, 0.4508, 0.3961, 0.3404, 0.4546, 0.5284, 0.5964, 0.4825, 0.5911, 0.6201, 0.4927, 0.5706, 0.2885, 0.1792, 0.4771, 0.3291, -0.0525, -0.0431, 0.1969, 1.6198, 1.6069, 1.583, 1.4854, 1.4558, 1.4404, 1.4377, 1.4165, 1.3883, 1.3631, 1.3588, 1.356, 1.3428, 1.3256, 1.3235, 1.3209, 1.3198, 1.3102, 1.3051, 1.3026, 1.2944, 1.2863, 1.2837, 1.2794, 1.2399, 1.2297, 1.2203, 1.1994, 1.1826, 1.1779, 1.1737, 1.1203, 1.1408, 0.6111, 0.8947, 1.0788, 0.7643, 0.8817, 0.4365, 0.5367, 0.7372, 0.3167, 0.2664, 0.4446, 0.9039, 0.2757, 0.2365, -0.0802, 0.1144, 0.1669, 0.1533, 0.0129, 0.1686, -0.3375, 0.5301, 0.3066, -0.2249, -0.016, -0.1773, 0.2901, 0.0462, 0.2654, -0.2566, 1.8398, 1.8162, 1.8, 1.7851, 1.7561, 1.7498, 1.7441, 1.7219, 1.7123, 1.7083, 1.7002, 1.6622, 1.6444, 1.6251, 1.6195, 1.6125, 1.6021, 1.5914, 1.5851, 1.5446, 1.5358, 1.5319, 1.5218, 1.5148, 1.5145, 1.5088, 1.498, 1.4918, 1.4633, 1.4211, 1.2298, 1.29, 1.0857, 0.7991, 0.7038, 0.5296, 1.0081, 0.0958, 0.5078, 0.5412, 0.8965, 0.9107, 0.6365, 0.1128, 0.5803, 0.0604, 0.3718, -0.5172, 0.5729, -0.5856, 0.0675, -0.6112, 2.1655, 2.1642, 2.0297, 1.9601, 1.9133, 1.8515, 1.7634, 1.7593, 1.7498, 1.7462, 1.6304, 1.6199, 1.6048, 1.5523, 1.4478, 1.3843, 1.3739, 1.3563, 1.3171, 1.3158, 1.3071, 1.2979, 1.2723, 1.2709, 1.2394, 1.2391, 1.2167, 1.2132, 1.2036, 1.1751, 1.1628, 1.1492, 1.1388, 1.1338, 1.1483, 0.9744, 0.9896, 1.0015, 0.8323, 0.8766, 0.6759, 0.3943, 0.6279, 0.2477, 0.3436, 0.6871, 0.9471, 0.2728, 0.6064, 0.5007, 0.305, 0.4443, 0.2054, 0.1388, 0.1797, 0.1355, 0.8351, 0.659, -0.3276, 0.7559, 0.2064, 0.4241, -0.261, -0.365, -0.6457, 0.1049, 2.5962, 2.5928, 2.5904, 2.5149, 2.5067, 2.4036, 2.3901, 2.3109, 2.3011, 2.2785, 2.2621, 2.2423, 2.2127, 2.2114, 2.2106, 2.1887, 2.1546, 2.1366, 2.1307, 2.104, 2.0614, 2.0474, 2.0336, 1.9654, 1.9083, 1.8993, 1.8959, 1.8919, 1.8782, 1.8741, 1.8345, 1.8223, 1.6165, 1.6649, 0.9235, 1.2481, 1.2256, 0.9185, 1.3089, 0.398, 0.8211, 0.7942, -0.4767, 1.1353, -0.4109, -0.6545, 0.1433, 0.4158, -0.5185, 0.0823, 2.513, 2.504, 2.4743, 2.4135, 2.4045, 2.3957, 2.3842, 2.3414, 2.3399, 2.2604, 2.2289, 2.2271, 2.214, 2.1864, 2.1292, 2.0825, 2.0816, 2.0767, 2.0729, 2.0271, 2.0151, 1.985, 1.9758, 1.9695, 1.9281, 1.909, 1.9072, 1.8982, 1.8861, 1.8776, 1.8592, 1.7914, 1.8433, 1.746, 1.2827, 1.5965, 1.4985, 1.1316, 1.3178, 1.2876, 0.4543, 0.195, -0.2612, 0.4363, 1.0313, 0.2074, 0.7006, -0.5195, 0.718, 0.5266, 0.0268, -0.7032, 2.697, 2.6622, 2.649, 2.6202, 2.4961, 2.4913, 2.321, 2.3033, 2.2198, 2.1523, 2.1182, 2.0649, 2.0645, 2.0464, 1.9968, 1.8867, 1.8496, 1.7995, 1.7467, 1.7204, 1.7134, 1.6563, 1.6349, 1.6264, 1.6134, 1.5717, 1.5592, 1.5425, 1.5334, 1.4941, 1.4062, 1.358, 0.9732, 0.6923, 0.3551, 0.7735, 0.1316, 0.6546, 0.2405, 0.2695, 0.3422, 0.39, 0.3956, 0.6162, -0.1935, 0.0106, -0.2609, -0.4698, 0.2987, -1.046, -0.1493, -0.6322, 2.8815, 2.8487, 2.8483, 2.7529, 2.7116, 2.6942, 2.6828, 2.6335, 2.5838, 2.5231, 2.5043, 2.2702, 2.263, 2.2328, 2.1133, 2.0883, 2.0801, 2.0632, 1.9095, 1.9089, 1.9025, 1.8878, 1.8453, 1.776, 1.7598, 1.7547, 1.7124, 1.6726, 1.6602, 1.6562, 1.6495, 1.5698, 1.3597, 0.8286, 0.8588, 1.0739, 0.4726, 0.1055, 0.6757, 0.0168, 1.0328, -0.0508, -0.0934, 1.0034, 0.3807, 0.0078, -0.1989, 0.0215, -0.1282, -0.3413, 2.9775, 2.954, 2.9428, 2.9002, 2.8987, 2.8669, 2.854, 2.8335, 2.8309, 2.8217, 2.8085, 2.768, 2.7324, 2.7257, 2.7099, 2.7009, 2.6952, 2.6894, 2.4999, 2.4033, 2.3981, 2.3871, 2.3591, 2.2447, 2.2205, 2.181, 2.1256, 2.1097, 2.1093, 2.0819, 2.0292, 2.0612, 1.9599, 1.8052, 1.7424, 1.4936, 0.9918, 1.0529, -0.5216, 0.1478, -0.2911, -0.5031, -0.1858, 0.2676, 3.0273, 3.012, 2.9947, 2.9898, 2.9481, 2.9164, 2.8295, 2.5839, 2.5656, 2.5293, 2.1068, 2.0203, 1.9795, 1.8781, 1.8649, 1.8499, 1.8242, 1.7777, 1.7552, 1.7136, 1.6536, 1.6496, 1.6439, 1.6435, 1.5962, 1.5767, 1.5212, 1.5061, 1.5028, 1.4841, 1.4359, 1.4072, 1.2436, 0.6761, 0.4802, 0.7891, -0.0878, 0.1278, -0.0624, 0.8825, -0.0312, -0.3992, 0.2798, -0.5953, 0.0528, 0.5394, 0.4934, -0.0586, -0.4643, -0.2644, -0.0252, -0.5371], \"logprob\": [30.0, 29.0, 28.0, 27.0, 26.0, 25.0, 24.0, 23.0, 22.0, 21.0, 20.0, 19.0, 18.0, 17.0, 16.0, 15.0, 14.0, 13.0, 12.0, 11.0, 10.0, 9.0, 8.0, 7.0, 6.0, 5.0, 4.0, 3.0, 2.0, 1.0, -5.8032, -6.8364, -5.7956, -6.9064, -6.3858, -5.9932, -5.8983, -6.2656, -5.8433, -6.8488, -5.7988, -5.0745, -6.7662, -6.9001, -6.4806, -4.276, -6.2924, -6.1948, -5.8839, -6.287, -5.1726, -6.7004, -6.3273, -6.7283, -6.4464, -3.9609, -4.4854, -6.8119, -6.3935, -7.1979, -3.7406, -5.3223, -4.1055, -4.661, -4.6858, -5.2417, -5.0368, -5.1716, -4.0861, -4.1985, -4.4669, -3.8796, -3.7436, -3.7369, -4.2239, -4.5142, -4.8501, -4.5992, -4.9129, -5.1188, -4.9412, -5.0923, -4.653, -4.5557, -5.0176, -4.9874, -5.0554, -5.089, -5.1545, -6.4819, -5.3566, -6.2996, -6.389, -5.2723, -5.4698, -6.4231, -5.3996, -6.2289, -6.0293, -6.0403, -5.9647, -6.0698, -5.4039, -6.1428, -5.0885, -6.634, -6.3791, -6.4001, -6.6597, -6.3488, -6.417, -6.6598, -6.5656, -5.9801, -6.6175, -6.7294, -6.8017, -6.7886, -6.4192, -6.4771, -5.1641, -6.0943, -3.4662, -5.1205, -5.9638, -4.9888, -5.4487, -4.2177, -4.6895, -5.2797, -4.4896, -4.4121, -4.7789, -5.6475, -4.7271, -4.8094, -4.4106, -4.7528, -4.8959, -4.8893, -4.7461, -4.9131, -4.4772, -5.3572, -5.1828, -4.7887, -4.9575, -4.9122, -5.2046, -5.1481, -5.2386, -5.2332, -6.0602, -6.0174, -5.7304, -5.4503, -4.3122, -5.7343, -5.8402, -6.2365, -4.3691, -6.2995, -5.2213, -6.3284, -5.2529, -5.8968, -5.1459, -4.7297, -6.1129, -5.7316, -5.3604, -6.1308, -4.9244, -4.9902, -6.4264, -5.1573, -4.8336, -5.7647, -5.4473, -6.5801, -5.7021, -6.2582, -4.9819, -5.565, -5.0263, -4.7305, -4.6126, -4.447, -5.2287, -3.9816, -4.7251, -4.7753, -5.1803, -5.222, -5.0184, -4.6221, -5.0751, -4.7459, -5.0746, -4.6569, -5.2006, -4.916, -5.156, -5.1751, -5.1744, -5.9234, -5.1849, -5.8919, -5.7593, -5.6498, -5.0816, -5.9632, -5.8049, -5.37, -6.4234, -6.0229, -6.2806, -6.297, -6.5096, -5.6558, -6.1814, -6.1809, -6.1141, -6.7589, -5.801, -6.0126, -5.8421, -6.6532, -6.681, -6.7844, -6.6848, -6.4446, -6.7097, -6.3687, -3.8401, -5.7365, -5.6258, -5.6511, -5.9174, -4.5382, -4.654, -4.9431, -3.9267, -4.5573, -4.37, -3.7454, -4.4349, -4.0827, -4.3349, -4.9758, -5.3779, -4.3814, -4.8882, -4.8507, -4.6365, -4.9565, -4.8372, -4.9429, -5.0146, -5.0881, -5.4179, -5.3579, -5.0625, -5.4028, -5.2831, -5.3434, -5.2375, -5.2322, -5.2096, -5.3284, -5.4909, -4.8753, -4.3892, -5.0411, -5.4088, -5.5306, -5.6776, -4.8624, -5.4271, -5.6372, -5.5548, -4.7566, -4.471, -5.7792, -4.3388, -3.9533, -5.2759, -5.9074, -5.7972, -5.2374, -6.0162, -5.4062, -6.0685, -5.804, -5.1706, -5.2177, -6.1089, -4.7088, -6.1509, -5.5364, -5.2467, -5.3856, -4.935, -5.2127, -3.8829, -4.5115, -4.5276, -4.3077, -5.1, -4.5785, -4.8338, -4.8829, -4.554, -5.1717, -4.7413, -4.7943, -5.0511, -5.2279, -5.197, -5.2342, -4.4904, -5.2952, -5.5642, -5.0243, -5.3878, -5.5987, -4.2684, -5.0255, -4.7582, -4.6595, -5.8205, -5.7861, -5.6891, -5.3975, -5.932, -5.5863, -5.9855, -4.7898, -5.0846, -4.4554, -5.8264, -4.6891, -5.9525, -6.0354, -5.7814, -6.1366, -5.6384, -5.0392, -6.0775, -4.9107, -5.1018, -4.4083, -5.1757, -4.6037, -3.9117, -4.9452, -4.9859, -4.6275, -5.0072, -5.0249, -4.352, -4.5399, -4.4009, -4.7873, -5.0491, -4.7692, -4.9431, -4.5968, -4.9591, -4.9861, -5.0191, -5.0335, -4.9242, -3.7644, -3.5675, -5.2778, -4.5718, -5.306, -5.4721, -5.6919, -5.0081, -4.6016, -5.4063, -5.9456, -5.5412, -5.1656, -6.0488, -5.3378, -6.193, -4.9888, -5.9702, -6.1474, -4.799, -6.3048, -5.6502, -6.2824, -5.6587, -5.3355, -5.4441, -6.4441, -5.8595, -6.3206, -5.3062, -5.1929, -4.3434, -4.1482, -3.7846, -4.9146, -4.1988, -4.8348, -4.4379, -4.4654, -4.5993, -4.6917, -5.0383, -5.143, -4.9525, -5.0353, -5.0672, -5.124, -5.2139, -5.1233, -5.1919, -5.1961, -4.3147, -4.6293, -5.0086, -5.08, -4.9342, -5.4456, -4.6787, -4.0207, -5.1673, -5.5772, -4.2487, -5.2736, -5.2964, -5.7451, -5.0201, -5.5889, -4.4365, -5.7065, -5.4232, -5.3489, -6.1023, -5.5938, -4.6992, -6.0695, -6.0711, -5.9138, -4.772, -6.28, -5.456, -6.2958, -5.7837, -4.4454, -4.7823, -4.1479, -4.4576, -4.9165, -4.2623, -4.0342, -4.6757, -4.3136, -5.1453, -4.6147, -4.7718, -5.1534, -5.0532, -4.995, -5.0052, -5.0602, -5.0697, -5.1003, -4.174, -4.547, -3.8824, -4.81, -4.0515, -4.8446, -4.6646, -4.7154, -4.3364, -4.9059, -5.0451, -4.851, -3.4991, -5.1713, -5.2612, -4.4892, -4.6016, -4.9025, -5.4543, -5.5721, -5.2711, -5.3788, -5.6644, -4.6471, -4.1485, -5.7911, -5.6711, -5.944, -5.8587, -5.0612, -4.8158, -5.5861, -5.1948, -4.8945, -5.0724, -5.0188, -4.7614, -4.9623, -4.5989, -4.8287, -4.8549, -4.8335, -4.9207, -4.9586, -4.6796, -4.2805, -2.7956, -5.0743, -4.7544, -4.7962, -3.6481, -4.6414, -4.1699, -5.5553, -5.7326, -5.8864, -5.0632, -5.8271, -5.2939, -6.1792, -6.0443, -4.9406, -5.6131, -5.3434, -6.356, -5.8064, -6.2238, -5.6737, -6.1024, -6.3869, -6.0413, -5.8045, -5.8202, -6.1913, -5.0074, -5.6174, -5.2784, -4.6405, -4.3602, -5.1165, -4.2275, -4.7394, -4.6263, -5.4018, -4.8376, -4.7296, -5.0822, -4.6726, -4.9898, -5.2202, -5.2455, -5.1403, -5.1185, -5.2059, -5.2514, -5.272]}, \"token.table\": {\"Topic\": [1, 2, 3, 4, 5, 6, 7, 8, 9, 10, 1, 2, 3, 4, 5, 6, 7, 8, 9, 10, 1, 2, 3, 4, 5, 7, 8, 9, 1, 2, 3, 4, 5, 6, 7, 8, 9, 10, 1, 2, 3, 4, 7, 9, 10, 1, 2, 3, 4, 5, 6, 8, 10, 1, 2, 3, 4, 5, 6, 7, 8, 9, 10, 1, 3, 4, 5, 6, 7, 8, 10, 1, 2, 3, 4, 5, 6, 7, 8, 9, 10, 1, 2, 3, 4, 5, 7, 8, 9, 10, 1, 3, 4, 5, 7, 8, 9, 10, 1, 2, 3, 4, 5, 7, 8, 9, 10, 1, 2, 3, 4, 5, 6, 7, 8, 9, 10, 1, 2, 3, 4, 5, 6, 7, 10, 1, 2, 4, 6, 7, 10, 1, 2, 3, 4, 5, 6, 7, 8, 9, 10, 1, 2, 3, 4, 5, 6, 7, 8, 9, 10, 4, 5, 8, 9, 1, 2, 3, 5, 8, 9, 10, 1, 2, 3, 4, 5, 6, 7, 8, 10, 1, 2, 3, 4, 7, 8, 9, 10, 1, 2, 3, 4, 5, 7, 8, 9, 10, 1, 2, 3, 4, 5, 6, 7, 8, 9, 10, 1, 2, 3, 4, 5, 6, 7, 8, 9, 10, 1, 2, 3, 4, 5, 6, 7, 8, 9, 1, 2, 3, 4, 5, 6, 7, 8, 9, 10, 1, 2, 3, 4, 6, 7, 8, 9, 10, 1, 2, 3, 4, 5, 7, 8, 9, 1, 2, 3, 4, 5, 6, 7, 8, 9, 10, 1, 3, 4, 5, 6, 7, 8, 9, 10, 1, 2, 3, 4, 5, 6, 7, 8, 9, 10, 1, 2, 3, 4, 5, 7, 8, 9, 10, 1, 2, 3, 5, 7, 8, 9, 10, 1, 3, 4, 7, 10, 1, 4, 5, 7, 8, 9, 10, 1, 2, 3, 4, 5, 7, 8, 9, 10, 1, 2, 3, 4, 5, 6, 7, 8, 9, 10, 1, 2, 3, 4, 5, 6, 7, 8, 10, 3, 4, 5, 6, 1, 2, 3, 4, 5, 6, 7, 8, 9, 10, 1, 2, 3, 4, 5, 8, 9, 10, 1, 2, 3, 4, 5, 6, 7, 8, 9, 10, 1, 2, 3, 4, 6, 7, 8, 1, 4, 5, 7, 9, 10, 4, 5, 8, 1, 2, 3, 4, 5, 7, 8, 9, 10, 1, 2, 3, 4, 5, 6, 7, 1, 2, 3, 4, 5, 7, 8, 9, 10, 4, 5, 7, 9, 1, 2, 3, 4, 5, 6, 7, 8, 9, 10, 1, 2, 3, 4, 5, 6, 7, 8, 9, 10, 1, 2, 3, 4, 5, 7, 9, 10, 1, 2, 3, 5, 6, 8, 10, 1, 2, 3, 4, 5, 6, 8, 1, 2, 3, 4, 5, 6, 8, 2, 3, 5, 10, 1, 2, 3, 4, 5, 6, 8, 10, 1, 2, 3, 4, 5, 6, 7, 8, 10, 2, 4, 5, 8, 10, 1, 2, 3, 4, 7, 9, 10, 1, 2, 3, 4, 5, 6, 7, 8, 10, 1, 2, 3, 4, 5, 6, 7, 8, 9, 10, 1, 2, 3, 4, 5, 6, 9, 10, 1, 2, 3, 4, 5, 6, 8, 9, 10, 1, 2, 3, 4, 5, 8, 9, 10, 1, 2, 3, 4, 5, 6, 7, 8, 9, 10, 1, 2, 3, 10, 1, 2, 3, 4, 5, 6, 7, 8, 9, 10, 1, 2, 3, 4, 5, 6, 7, 8, 9, 10, 1, 2, 3, 4, 6, 7, 8, 10, 2, 3, 4, 6, 7, 8, 1, 2, 4, 5, 6, 7, 8, 10, 1, 2, 3, 4, 5, 6, 7, 8, 9, 10, 1, 2, 3, 4, 5, 8, 9, 10, 1, 2, 3, 4, 5, 6, 8, 9, 10, 1, 2, 3, 4, 5, 6, 7, 8, 9, 10, 1, 2, 3, 4, 5, 6, 7, 8, 9, 10, 1, 2, 3, 5, 6, 9, 10, 1, 2, 3, 4, 5, 6, 7, 9, 10, 1, 2, 3, 4, 6, 7, 9, 10, 1, 2, 3, 4, 5, 7, 8, 9, 10, 1, 2, 3, 4, 5, 6, 7, 8, 9, 10, 1, 2, 3, 4, 5, 6, 7, 8, 9, 10, 1, 2, 3, 4, 5, 7, 8, 9, 10, 1, 2, 3, 4, 5, 6, 7, 8, 9, 10, 1, 2, 3, 4, 5, 6, 7, 8, 9, 10, 1, 2, 3, 5, 10, 1, 2, 3, 7, 9, 10, 1, 2, 3, 4, 5, 6, 7, 9, 1, 2, 3, 4, 5, 6, 7, 8, 9, 10, 1, 2, 3, 4, 5, 6, 7, 8, 9, 10, 1, 2, 4, 6, 7, 9, 2, 4, 5, 6, 7, 8, 9, 1, 2, 3, 4, 5, 6, 7, 8, 9, 10, 1, 2, 3, 4, 5, 6, 7, 8, 9, 10, 1, 2, 3, 4, 5, 6, 7, 8, 9, 10, 2, 4, 5, 6, 8, 10, 1, 2, 3, 4, 5, 7, 9, 10, 2, 3, 4, 5, 7, 8, 9, 1, 3, 4, 5, 8, 9, 1, 2, 3, 9, 10, 1, 2, 3, 9, 10, 1, 2, 3, 4, 5, 6, 7, 8, 9, 10, 1, 2, 3, 4, 5, 6, 7, 8, 9, 10, 1, 2, 3, 4, 5, 6, 7, 8, 9, 10, 1, 2, 3, 4, 9, 2, 3, 4, 9, 1, 2, 3, 4, 5, 6, 7, 8, 10, 1, 2, 3, 5, 6, 8, 10, 1, 2, 3, 5, 8, 10, 1, 2, 3, 4, 5, 9, 10, 2, 3, 4, 5, 7, 1, 2, 3, 6, 7, 9, 10, 1, 3, 7, 9, 10, 1, 2, 3, 4, 5, 6, 7, 8, 9, 10, 1, 2, 3, 4, 6, 7, 10, 1, 2, 3, 4, 5, 6, 7, 8, 9, 10, 1, 2, 3, 4, 5, 6, 7, 8, 9, 10, 1, 2, 3, 4, 5, 6, 7, 8, 9, 10, 1, 2, 3, 4, 5, 6, 7, 8, 9, 10, 1, 2, 3, 4, 5, 6, 7, 9, 10, 1, 2, 3, 4, 5, 6, 7, 8, 9, 10, 1, 2, 3, 4, 5, 6, 7, 8, 9, 10, 1, 2, 3, 4, 5, 6, 9, 10, 1, 2, 3, 4, 5, 6, 7, 8, 9, 10, 1, 2, 3, 4, 5, 7, 9, 10, 1, 2, 3, 4, 5, 6, 7, 8, 10, 1, 2, 3, 4, 5, 6, 7, 8, 9, 10, 1, 2, 3, 4, 5, 7, 8, 9, 10, 1, 3, 4, 5, 6, 7, 8, 10, 1, 3, 4, 7, 9, 10, 1, 2, 3, 4, 6, 7, 8, 10, 2, 3, 4, 5, 9, 10, 1, 4, 5, 7, 8, 1, 2, 3, 4, 5, 6, 7, 8, 1, 2, 3, 4, 5, 6, 7, 8, 9, 10, 4, 5, 7, 8, 1, 2, 3, 4, 5, 6, 7, 8, 9, 10, 1, 2, 3, 4, 5, 6, 7, 8, 9, 10, 1, 2, 3, 4, 5, 6, 7, 8, 10, 1, 2, 3, 4, 5, 8, 9, 10, 2, 3, 10, 4, 5, 7, 8, 9, 1, 4, 5, 8, 9, 1, 3, 4, 7, 10, 1, 3, 10, 1, 2, 3, 4, 5, 6, 8, 9, 10, 1, 2, 3, 4, 6, 7, 8, 10, 1, 2, 3, 4, 5, 6, 7, 8, 9, 10, 1, 2, 3, 4, 5, 6, 7, 8, 9, 10, 1, 2, 3, 4, 5, 6, 7, 8, 9, 10, 1, 2, 3, 4, 5, 6, 8, 9, 10, 2, 3, 5, 10, 1, 2, 3, 4, 5, 8, 9, 10, 1, 2, 3, 4, 7, 8, 10, 1, 2, 3, 4, 7, 8, 10, 1, 2, 3, 4, 5, 6, 7, 8, 9, 10, 1, 2, 3, 4, 7, 10, 1, 2, 3, 4, 5, 6, 7, 8, 9, 10, 1, 2, 3, 4, 5, 7, 8, 9, 10, 1, 2, 3, 4, 5, 7, 8, 9, 10, 1, 2, 3, 4, 5, 6, 7, 8, 9, 10, 1, 2, 3, 4, 5, 6, 7, 8, 9, 10, 1, 2, 3, 4, 6, 7, 8, 9, 10, 1, 2, 3, 4, 5, 6, 7, 8, 9, 10, 1, 3, 9, 10, 1, 2, 3, 4, 5, 6, 7, 8, 9, 10, 1, 3, 4, 5, 7, 8, 10, 1, 2, 3, 5, 6, 7, 10, 1, 2, 3, 4, 5, 6, 7, 8, 9, 10, 1, 3, 4, 5, 6, 7, 8, 10, 2, 3, 5, 9, 1, 2, 3, 5, 6, 8, 9, 10, 1, 2, 3, 4, 5, 6, 7, 8, 9, 10, 1, 2, 3, 4, 5, 6, 7, 8, 9, 1, 2, 3, 4, 5, 6, 7, 8, 9, 10, 2, 3, 5, 6, 9, 10, 1, 2, 3, 4, 6, 7, 8, 10, 1, 2, 3, 4, 5, 6, 7, 8, 9, 10, 1, 2, 3, 4, 6, 7, 8, 10, 1, 2, 3, 5, 6, 10, 1, 2, 3, 4, 5, 6, 7, 8, 9, 10, 1, 2, 3, 4, 5, 10, 1, 2, 3, 4, 6, 7, 8, 9, 10, 1, 2, 3, 4, 5, 7, 9, 10, 1, 2, 3, 4, 5, 8, 9, 10, 1, 2, 3, 4, 5, 6, 7, 8, 9, 10, 1, 2, 3, 4, 5, 6, 7, 8, 9, 10, 1, 2, 4, 5, 6, 7, 8, 9, 1, 2, 3, 4, 5, 6, 7, 8, 10, 1, 2, 3, 4, 5, 6, 7, 8, 9, 10, 1, 2, 3, 5, 8, 10, 1, 2, 3, 4, 5, 6, 7, 8, 9, 10, 1, 2, 3, 4, 5, 6, 7, 8, 9, 10, 1, 2, 3, 4, 5, 6, 7, 8, 9, 10, 1, 2, 3, 4, 5, 6, 7, 8, 9, 10, 1, 2, 3, 4, 5, 7, 8, 9, 10, 1, 2, 3, 4, 5, 6, 7, 8, 9, 10, 1, 2, 3, 4, 5, 6, 7, 8, 9, 10, 1, 2, 3, 4, 5, 6, 7, 8, 9, 10, 1, 2, 3, 4, 5, 6, 7, 8, 9, 10, 1, 2, 3, 4, 5, 6, 7, 8, 9, 10, 1, 2, 4, 6, 7, 8, 9, 2, 4, 5, 6, 7, 8, 1, 2, 3, 4, 5, 6, 7, 8, 9, 10, 1, 3, 4, 7, 10, 1, 2, 3, 4, 5, 6, 7, 8, 9, 10, 1, 2, 3, 4, 5, 6, 7, 8, 10, 1, 2, 3, 4, 5, 6, 9, 10, 4, 5, 8, 1, 2, 3, 4, 5, 6, 8, 9, 10, 1, 2, 3, 4, 5, 6, 8, 10, 2, 3, 4, 5, 6, 1, 2, 3, 4, 5, 6, 7, 8, 9, 10, 1, 2, 3, 5, 6, 7, 8, 10, 1, 2, 3, 4, 5, 6, 8, 9, 10, 2, 3, 4, 5, 8, 9, 1, 2, 3, 4, 6, 7, 9, 1, 2, 3, 4, 5, 7, 9, 10, 1, 2, 3, 4, 7, 9, 10, 1, 2, 3, 4, 5, 6, 7, 8, 9, 10, 1, 2, 3, 4, 5, 6, 7, 8, 9, 10, 1, 2, 3, 4, 5, 6, 7, 8, 9, 10, 2, 3, 4, 5, 6, 7, 8, 1, 2, 3, 4, 5, 6, 7, 8, 10, 1, 2, 3, 4, 5, 6, 8, 9, 10, 1, 2, 3, 4, 6, 8, 1, 2, 3, 4, 5, 6, 7, 9, 10, 1, 2, 3, 4, 5, 6, 7, 9, 10, 1, 2, 3, 6, 7, 8, 10, 1, 2, 3, 4, 5, 6, 7, 8, 10, 1, 2, 3, 4, 5, 6, 7, 8, 9, 10, 1, 2, 3, 4, 5, 6, 7, 8, 9, 10, 1, 2, 3, 4, 5, 6, 7, 8, 10, 1, 2, 4, 5, 8, 4, 6, 7, 8, 4, 5, 8, 1, 2, 3, 4, 5, 8, 1, 2, 3, 4, 7, 8, 9, 10, 1, 2, 3, 4, 5, 6, 7, 8, 9, 10, 2, 3, 5, 6, 9, 10, 1, 2, 3, 7, 9, 10, 1, 2, 3, 6, 7, 9, 10, 1, 2, 3, 4, 5, 6, 7, 8, 10, 1, 2, 3, 4, 5, 7, 8, 10, 1, 3, 4, 7, 9, 10, 9, 1, 2, 3, 4, 5, 7, 8, 9, 10, 1, 2, 3, 5, 7, 10, 1, 2, 3, 4, 5, 6, 7, 8, 9, 10, 1, 2, 3, 4, 5, 6, 7, 8, 9, 10, 2, 3, 4, 5, 6, 7, 9, 10, 1, 2, 3, 4, 5, 6, 7, 8, 10, 1, 2, 3, 4, 5, 6, 8, 10, 4, 5, 8, 1, 3, 4, 5, 8, 10, 1, 2, 3, 4, 5, 6, 7, 8, 10, 1, 2, 3, 4, 5, 6, 7, 8, 10, 1, 2, 3, 4, 10, 2, 3, 5, 9, 10, 1, 2, 3, 5, 6, 10, 1, 2, 3, 5, 6, 10, 1, 2, 3, 4, 5, 6, 8, 9, 10, 1, 2, 3, 4, 5, 6, 7, 8, 9, 10, 1, 2, 3, 4, 5, 7, 8, 9, 10, 1, 2, 3, 7, 9, 1, 2, 3, 4, 5, 6, 7, 8, 9, 10, 1, 2, 3, 4, 5, 6, 7, 8, 9, 10, 1, 2, 4, 5, 6, 7, 1, 2, 3, 4, 5, 6, 7, 8, 9, 10, 1, 2, 3, 4, 5, 6, 7, 10, 1, 2, 3, 4, 5, 6, 7, 8, 9, 10, 1, 2, 3, 4, 5, 6, 7, 8, 9, 10, 1, 2, 3, 4, 5, 7, 9, 10, 1, 2, 3, 4, 6, 7, 10, 1, 2, 3, 4, 5, 6, 7, 8, 9, 10, 1, 2, 3, 4, 5, 6, 7, 8, 9, 10, 2, 3, 5, 10, 1, 2, 3, 4, 5, 7, 8, 9, 10, 1, 3, 4, 5, 6, 7, 8, 2, 4, 7, 8, 2, 4, 6, 7, 8, 1, 2, 3, 4, 5, 6, 7, 8, 9, 10, 1, 2, 3, 4, 5, 6, 7, 8, 9, 10, 1, 2, 3, 4, 5, 6, 7, 8, 9, 10, 1, 2, 3, 4, 5, 7, 8, 9, 10, 1, 2, 3, 4, 5, 6, 7, 8, 9, 10, 1, 2, 3, 4, 5, 6, 7, 8, 9, 10, 1, 2, 3, 4, 5, 8, 10, 1, 2, 3, 4, 5, 6, 7, 8, 9, 10, 1, 2, 4, 5, 6, 7, 8, 9, 1, 2, 3, 4, 5, 6, 7, 8, 9, 10, 1, 3, 4, 5, 6, 7, 8, 1, 2, 3, 5, 6, 8, 10, 1, 2, 3, 5, 9, 10, 1, 3, 4, 9, 10, 1, 3, 9, 10, 1, 2, 3, 4, 5, 6, 8, 9, 10, 1, 2, 3, 4, 5, 6, 7, 8, 9, 10, 1, 3, 4, 5, 7, 8, 9, 10, 1, 2, 3, 4, 5, 7, 8, 9, 1, 2, 3, 4, 5, 6, 7, 8, 9, 10, 2, 4, 6, 7, 8, 9, 4, 5, 8, 2, 3, 4, 5, 6, 7, 9, 10, 1, 2, 3, 4, 7, 8, 9, 10, 1, 2, 3, 4, 7, 9, 10, 1, 2, 3, 4, 5, 6, 7, 8, 9, 10, 1, 2, 3, 4, 5, 6, 7, 8, 9, 10, 1, 2, 3, 4, 5, 6, 7, 8, 10, 1, 2, 4, 5, 6, 7, 8, 1, 2, 3, 4, 7, 8, 10, 1, 2, 3, 4, 5, 6, 7, 8, 9, 10, 1, 2, 3, 4, 5, 7, 8, 9, 1, 2, 3, 4, 5, 6, 7, 8, 9, 10, 1, 2, 3, 4, 5, 6, 8, 9, 10, 1, 2, 3, 4, 5, 7, 8, 9, 10, 1, 2, 3, 4, 5, 6, 7, 8, 9, 10, 1, 2, 3, 4, 5, 6, 7, 8, 10, 1, 2, 3, 4, 5, 7, 8, 9, 10, 1, 3, 4, 5, 7, 8, 10, 1, 2, 3, 4, 5, 6, 7, 8, 9, 10, 1, 2, 3, 4, 5, 6, 7, 8, 9, 10, 1, 2, 3, 4, 6, 7, 1, 2, 3, 4, 1, 2, 3, 4, 5, 6, 7, 8, 9, 10, 1, 2, 3, 4, 5, 6, 7, 8, 10, 1, 2, 3, 4, 5, 6, 7, 8, 9, 10, 1, 2, 3, 4, 5, 6, 7, 8, 9, 10, 1, 2, 4, 5, 7, 8, 9, 10, 1, 2, 3, 4, 5, 6, 7, 8, 9, 10, 1, 2, 3, 4, 5, 6, 7, 8, 9, 10, 1, 2, 3, 4, 5, 6, 7, 8, 9, 10, 1, 2, 3, 4, 5, 6, 7, 8, 9, 10, 1, 2, 3, 4, 5, 6, 7, 8, 9, 10, 1, 2, 3, 4, 5, 6, 7, 8, 10, 1, 2, 3, 4, 5, 6, 7, 8, 9, 10, 1, 2, 3, 4, 6, 7, 8, 9, 10, 1, 2, 3, 4, 5, 6, 10, 1, 2, 3, 4, 5, 7, 8, 9, 10, 1, 3, 5, 9, 10, 1, 3, 4, 5, 6, 8, 1, 3, 4, 5, 6, 8, 1, 2, 3, 5, 7, 8, 9, 10, 1, 2, 3, 4, 5, 7, 8, 9, 10, 1, 2, 3, 4, 5, 6, 7, 8, 9, 10, 1, 2, 3, 4, 5, 6, 7, 8, 9, 10, 1, 4, 6, 7, 8, 1, 2, 3, 4, 5, 6, 7, 8, 9, 10, 1, 2, 3, 4, 5, 6, 7, 8, 9, 10, 1, 2, 3, 4, 5, 6, 7, 8, 9, 10, 1, 2, 3, 4, 5, 6, 7, 8, 9, 10, 1, 2, 3, 5, 6, 7, 10, 1, 2, 3, 4, 5, 6, 7, 8, 10, 1, 2, 3, 4, 5, 6, 10, 1, 2, 3, 4, 9, 10, 1, 2, 4, 5, 9, 1, 3, 4, 6, 7, 8, 1, 2, 3, 5, 6, 7, 10, 1, 2, 3, 4, 5, 6, 7, 9, 10, 1, 2, 3, 4, 5, 6, 7, 8, 9, 10, 1, 2, 3, 4, 5, 6, 7, 8, 9, 10, 1, 2, 3, 4, 5, 1, 2, 3, 4, 5, 6, 7, 8, 10, 1, 2, 3, 4, 5, 6, 7, 8, 9, 10, 1, 2, 3, 6, 8, 1, 2, 3, 6, 8, 1, 2, 3, 4, 5, 6, 7, 8, 9, 10, 1, 2, 3, 4, 5, 6, 7, 8, 9, 10, 1, 2, 3, 6, 7, 9, 10, 1, 2, 3, 5, 9, 10, 1, 2, 3, 4, 5, 6, 7, 8, 9, 10, 1, 2, 3, 4, 5, 6, 7, 9, 10, 1, 2, 3, 4, 5, 6, 7, 8, 9, 10, 1, 2, 3, 4, 5, 6, 7, 8, 9, 10, 1, 2, 3, 4, 5, 6, 7, 10, 1, 2, 3, 4, 6, 7, 8, 10, 1, 2, 3, 4, 6, 7, 8, 9, 10, 1, 2, 3, 4, 7, 8, 10, 1, 2, 3, 4, 5, 6, 7, 8, 9, 10, 1, 2, 3, 4, 5, 6, 7, 8, 9, 10, 1, 2, 3, 4, 5, 6, 7, 8, 9, 10], \"Freq\": [0.01446964636119308, 0.21485232475710936, 0.1692510150127433, 0.11181090370012835, 0.13899629989388504, 0.1354885068366261, 0.0052616895858883924, 0.1508351014621339, 0.05086299933025446, 0.007454060246675223, 0.09721211948612854, 0.1631774862802872, 0.1263757553319671, 0.27566579597137875, 0.03957922007649519, 0.03957922007649519, 0.10311428388350062, 0.06388224994802733, 0.07603376488379339, 0.015623376345984943, 0.00565871522265595, 0.21220182084959813, 0.0113174304453119, 0.17259081429100648, 0.059416509837887474, 0.39893942319724446, 0.05375779461523152, 0.08488072833983924, 0.2174141663563428, 0.23609608102457152, 0.017463528928996403, 0.32395523044254565, 0.025179971944134346, 0.03276103876602426, 0.04467414377185126, 0.05415047729921365, 0.025992229103622554, 0.022472448079173667, 0.5348971144348198, 0.04267796125809733, 0.23615138562813853, 0.04267796125809733, 0.01707118450323893, 0.0028451974172064884, 0.122343488939879, 0.002989077242364173, 0.030887131504429788, 0.25407156560095473, 0.005978154484728346, 0.6456406843506614, 0.028894413342853673, 0.0019927181615761154, 0.029890772423641732, 0.16654033168528018, 0.18328021038560474, 0.11503301260735847, 0.0854163041375535, 0.07296870202705576, 0.11632069558430652, 0.030475163787770345, 0.1463666317130942, 0.04893195312402562, 0.03476744037759715, 0.05625241458888286, 0.03461687051623561, 0.1676754665630162, 0.429465549842048, 0.09519639391964792, 0.17849323859933985, 0.03461687051623561, 0.0010817772036323628, 0.024570374422707705, 0.24324670678480628, 0.04422667396087387, 0.3415282044756371, 0.029484449307249246, 0.13513705932489237, 0.12039483467126776, 0.04914074884541541, 0.0073711123268123116, 0.004914074884541541, 0.035178375721992394, 0.0019543542067773554, 0.005863062620332066, 0.6859783265788517, 0.09576335613209042, 0.019543542067773555, 0.12507866923375074, 0.02540660468810562, 0.0019543542067773554, 0.017925955940662652, 0.01568521144807982, 0.5803528235789533, 0.07282419600894202, 0.014564839201788405, 0.2823338060654368, 0.008962977970331326, 0.006722233477748495, 0.6085671783743988, 0.2084462382620972, 0.07666988074008173, 0.05031460923567863, 0.009583735092510216, 0.009583735092510216, 0.007187801319382662, 0.014375602638765325, 0.014375602638765325, 0.15024462983429343, 0.0841073513499004, 0.2415770620270267, 0.06687831241699128, 0.07447391022612326, 0.07391813477667458, 0.16617685938515564, 0.030752908202827018, 0.020378433146451637, 0.0915176906758828, 0.09408027262596844, 0.006005123784636283, 0.0030025618923181416, 0.005004269820530235, 0.001000853964106047, 0.8317096441721252, 0.055046968025832595, 0.0030025618923181416, 0.005635260743258066, 0.019723412601403232, 0.019723412601403232, 0.8002070255426453, 0.11834047560841938, 0.033811564459548395, 0.21210655208312987, 0.23698324646325003, 0.037969691422288676, 0.019639495563252764, 0.02618599408433702, 0.014402296746385362, 0.3155412287162611, 0.031423192901204426, 0.0667742849150594, 0.04058829083072238, 0.3183718598504984, 0.08489916262679957, 0.013265494160437432, 0.022551340072743634, 0.01591859299252492, 0.10081775561932449, 0.3223515080986296, 0.009285845912306202, 0.0026530988320874866, 0.11143015094767443, 0.8818980635715816, 0.06510656845159328, 0.014796947375362107, 0.03847206317594148, 0.029858115283655853, 0.5944479315564211, 0.2415792963859428, 0.10857496466783946, 0.010857496466783946, 0.005428748233391973, 0.00814312235008796, 0.22010536253700175, 0.24917588211736047, 0.002076465684311337, 0.40387257559855505, 0.025955821053891714, 0.010382328421556685, 0.033223450948981395, 0.0363381494754484, 0.018688191158802034, 0.23635849471106052, 0.007878616490368685, 0.22322746722711273, 0.03151446596147474, 0.06040272642615992, 0.010504821987158245, 0.42019287948632983, 0.010504821987158245, 0.06057908628147099, 0.32505851175423456, 0.03546092855500741, 0.14184371422002964, 0.007387693448959877, 0.29107512188901913, 0.026595696416255556, 0.045803699383551236, 0.06648924104063889, 0.20424018804982974, 0.3042293651849791, 0.08917067600249388, 0.08753150916421275, 0.06818934047249532, 0.02884933635374802, 0.05081417198671526, 0.02884933635374802, 0.09835001029686825, 0.03999567085405976, 0.21261812629497467, 0.23406166381874136, 0.05415401849222432, 0.12829777535406164, 0.11375978381252491, 0.034891179699688156, 0.03852567758507233, 0.1570103086485967, 0.010903493656152547, 0.015264891118613566, 0.0008825892416593728, 0.2788982003643618, 0.014121427866549964, 0.10502811975746536, 0.36274417832200223, 0.0061781246916156095, 0.0008825892416593728, 0.21888213193152445, 0.012356249383231219, 0.36483802011796795, 0.17154948355287872, 0.014650231377794051, 0.23345852582678261, 0.016067995704677346, 0.009924350288183066, 0.09877091477286956, 0.07466892121585354, 0.0056710573075331805, 0.011342114615066361, 0.04886546372680806, 0.015809414735143783, 0.639562687012635, 0.053177122290938184, 0.0560515613336916, 0.017246634256520493, 0.13006836668459204, 0.0007186097606883538, 0.038804927077171106, 0.024125124843573778, 0.002412512484357378, 0.03136266229664591, 0.0651378370776492, 0.002412512484357378, 0.10494429306954593, 0.012062562421786889, 0.7575289200882166, 0.08395464528304657, 0.016145124092893568, 0.030675735776497782, 0.12916099274314854, 0.07426757082731042, 0.04682085986939135, 0.2179591752540632, 0.35519273004365853, 0.040362810232233926, 0.004843537227868071, 0.0160459443135122, 0.07621823548918294, 0.2547293659770062, 0.026074659509457324, 0.026074659509457324, 0.15243647097836588, 0.09426992284188417, 0.12235032539053052, 0.22865470646754885, 0.07228240303924496, 0.00061256273762072, 0.01470150570289728, 0.24257484409780514, 0.00490050190096576, 0.00551306463858648, 0.34854819770618967, 0.00551306463858648, 0.22664821291966641, 0.07840803041545216, 0.07473826272368, 0.03933592774930526, 0.6359308319471018, 0.018356766283009123, 0.006555987958217544, 0.055070298849027366, 0.02884634701615719, 0.03146874219944421, 0.11014059769805473, 0.13182558486793203, 0.0019675460428049555, 0.5823936286702669, 0.0019675460428049555, 0.14166331508195681, 0.005902638128414867, 0.0019675460428049555, 0.133793130910737, 0.011802437758009631, 0.35997435161929375, 0.002950609439502408, 0.04130853215303371, 0.5842206690214767, 0.003189588614217999, 0.007290488261069712, 0.000911311032633714, 0.8880726013015543, 0.000455655516316857, 0.09978855807339168, 0.000455655516316857, 0.03917357273875118, 0.01958678636937559, 0.002448348296171949, 0.03917357273875118, 0.002448348296171949, 0.8618186002525261, 0.002448348296171949, 0.022035134665547542, 0.009793393184687796, 0.0479396549591893, 0.14318817994389438, 0.09651009485205216, 0.2365443501275788, 0.08452518111225482, 0.3324236600459574, 0.027754537081635913, 0.024600612413268195, 0.0006307849336735434, 0.0050462794693883475, 0.02952000075515473, 0.06840000174974877, 0.13032000333373187, 0.14472000370210003, 0.10584000270750599, 0.4903200125429359, 0.009360000239439305, 0.012960000331531345, 0.007920000202602489, 0.024265653998185595, 0.08088551332728532, 0.1536824753218421, 0.7387543550558726, 0.03091831586772149, 0.07963808632594929, 0.1349162874227847, 0.20518518712215172, 0.0627735503981012, 0.449720958075949, 0.012179942614556951, 0.01873837325316454, 0.000936918662658227, 0.004684593313291135, 0.04481306344903461, 0.7385856753637186, 0.08713651226201173, 0.0066389723628199416, 0.07800792526313431, 0.002489614636057478, 0.0008298715453524927, 0.03983383417691965, 0.3435815865048119, 0.07039232504001025, 0.34944761359147947, 0.043576201215244435, 0.015084069651430767, 0.05321324571476965, 0.020112092868574356, 0.045671210889054265, 0.03226314897667136, 0.026397121890003844, 0.03702438060172001, 0.0023140237876075006, 0.032396333026505006, 0.12958533210602002, 0.5044571856984351, 0.16660971270774003, 0.12264326074319754, 0.01172453657641511, 0.00837466898315365, 0.01004960277978438, 0.0008374668983153651, 0.9647618668593005, 0.004187334491576825, 0.025487053922289404, 0.9175339412024185, 0.05575293045500807, 0.12737624380809343, 0.167712054347323, 0.14064460253810315, 0.0037151404444027247, 0.031844060952023356, 0.008491749587206228, 0.012206890031608953, 0.4686384303439437, 0.03927434184082881, 0.08762067859199377, 0.09540918335572655, 0.05841378572799585, 0.029206892863997923, 0.17718848337492074, 0.5413010810794282, 0.009735630954665975, 0.0024722721108532547, 0.009889088443413019, 0.02966726533023906, 0.7713488985862156, 0.03337567349651894, 0.025958857163959178, 0.0024722721108532547, 0.126085877653516, 0.0012361360554266274, 0.5902957468821193, 0.010251156241078772, 0.01110541926116867, 0.38698114810072365, 0.13243451647969193, 0.2478458598171141, 0.11483428662073505, 0.06549593734398708, 0.23890148070846387, 0.016157588067239104, 0.051935104501839975, 0.01760022985895688, 0.03491193135957021, 0.07992235526116484, 0.07415754368991564, 0.012622560628070746, 0.7100190353289795, 0.00473346023552653, 0.017356020863597277, 0.007100190353289795, 0.06390171317960816, 0.00473346023552653, 0.08362446416096869, 0.021300571059869385, 0.052254394645658384, 0.030252544268539062, 0.8140684639534148, 0.003143121482445617, 0.02082317982120221, 0.01650138778283949, 0.052254394645658384, 0.010215144817948255, 0.007848138225985676, 0.4607978301257304, 0.05717929278932421, 0.45855550491830593, 0.0011211626037122395, 0.011211626037122394, 0.0011211626037122395, 0.10913875715868529, 0.6432220368714006, 0.08127354256497842, 0.004644202432284481, 0.08823984621340512, 0.06269673283584049, 0.004644202432284481, 0.0023723619273439546, 0.022537438309767566, 0.0415163337285192, 0.0011861809636719773, 0.6915435018207627, 0.2396085546617394, 0.0011861809636719773, 0.6120856491327152, 0.19084039250525722, 0.1652398520472349, 0.03025518417766273, 0.023780163076561726, 0.025563675307303857, 0.23304559815030493, 0.0011890081538280864, 0.20034787392003253, 0.5118680102229911, 0.0005945040769140432, 0.0029725203845702157, 0.1665057568174868, 0.04793347544745832, 0.07568443491703945, 0.0832528784087434, 0.5777245198667345, 0.012614072486173241, 0.005045628994469297, 0.0025228144972346484, 0.027750959469581133, 0.02247974126151454, 0.002932140164545375, 0.9148277313381569, 0.054733283071513664, 0.003909520219393833, 0.15127370215312358, 0.02857392151781223, 0.7143480379453058, 0.010084913476874905, 0.006723275651249937, 0.02353146477937478, 0.06555193759968687, 0.03619319049351281, 0.004720850933936453, 0.17939233548958522, 0.1070059545025596, 0.007868084889894088, 0.11802127334841132, 0.2407633976307591, 0.06137106214117389, 0.2423370146087379, 0.3153628683999732, 0.1289529948280187, 0.2511463568626332, 0.0665563844273645, 0.05537699173058062, 0.029898375816980145, 0.06603641267402571, 0.03639802273371496, 0.016899081983510516, 0.03327819221368225, 0.009415132236477124, 0.08826686471697304, 0.6072760292527745, 0.008238240706917484, 0.20713290920249672, 0.02824539670943137, 0.010592023766036764, 0.038837420475468135, 0.062211277210872745, 0.08546782943923639, 0.6529277038113093, 0.01627958655985455, 0.0656997600451273, 0.05174582870810911, 0.0069769656685090935, 0.028489276479745463, 0.030233517896872737, 0.003846928402918711, 0.8934491215778706, 0.0009617321007296777, 0.01634944571240452, 0.05866565814451034, 0.0009617321007296777, 0.0173111778131342, 0.006732124705107744, 0.06473837167104489, 0.7568006829150318, 0.028266049602850587, 0.04832582674035745, 0.021883393240916583, 0.04285497843012831, 0.01914796908580201, 0.0018236161034097152, 0.002735424155114573, 0.013677120775572864, 0.7702659866017444, 0.0056846198273191465, 0.2160155534381276, 0.00852692974097872, 0.02916919612164353, 0.18729694351792162, 0.03223963781865864, 0.3776643287328584, 0.05833839224328706, 0.11514156363806657, 0.0706201590313475, 0.10132457600149858, 0.004605662545522663, 0.02149309187910576, 0.13320530595815674, 0.23625092000125913, 0.025133076595878632, 0.3619163029806523, 0.0025133076595878633, 0.05277946085134513, 0.025133076595878632, 0.08545246042598735, 0.027646384255466495, 0.05529276851093299, 0.013810332905329539, 0.07549648654913481, 0.001841377720710605, 0.09943439691837268, 0.6463235799694224, 0.09575164147695146, 0.06536890908522648, 0.0009206888603553025, 0.03992499869801817, 0.008872221932892926, 0.04657916514768786, 0.8251166397590421, 0.013308332899339389, 0.06654166449669695, 0.08076740913066109, 0.3407375072699765, 0.012619907676665796, 0.007571944605999477, 0.4871284363192997, 0.017667870747332115, 0.002523981535333159, 0.04795564917133002, 0.3100151315173101, 0.04236231610795542, 0.003851119646177765, 0.3408240886867322, 0.023106717877066592, 0.05969235451575536, 0.10205467062371078, 0.09627799115444413, 0.0019255598230888825, 0.019255598230888828, 0.0012739034562609817, 0.4426814510506912, 0.16879220795458008, 0.0006369517281304909, 0.34522783664672607, 0.0031847586406524545, 0.017197696659523254, 0.020382455300175708, 0.018598776790347035, 0.3566315449549044, 0.38545964897994234, 0.0009299388395173518, 0.1622743274957779, 0.0013949082592760278, 0.0027898165185520555, 0.0051146636173454345, 0.06742056586500801, 0.04633129270473758, 0.18948978139915146, 0.0754835667661455, 0.11556794360058138, 0.07079837986341922, 0.3862676313136549, 0.07912760102382148, 0.010932102773027969, 0.0010411526450502828, 0.024467087158681643, 0.03456478458068023, 0.2094219301064743, 0.10064451980845125, 0.04981395424862738, 0.062013289982985116, 0.425960139391324, 0.02948172802469784, 0.05083056555982386, 0.017282392290340114, 0.020332226223929547, 0.0810465813937121, 0.04444489947397114, 0.1464067276789638, 0.04967371117679128, 0.44444899473971144, 0.005228811702820135, 0.2248389032212658, 0.13327804605669857, 0.0876829250373017, 0.1589983707343071, 0.025720324677608496, 0.012860162338804248, 0.25018861277310084, 0.021043902008952408, 0.00935284533731218, 0.3004601564611538, 0.6586615154725641, 0.0024668970616949968, 0.29356075034170465, 0.009867588246779987, 0.0049337941233899936, 0.009867588246779987, 0.007400691185084991, 0.009867588246779987, 0.20812726601582196, 0.013744253416139185, 0.12566174551898684, 0.02748850683227837, 0.039269295474683386, 0.11780788642405016, 0.43392571499525145, 0.0019634647737341695, 0.033378901153480876, 0.004470771801201561, 0.4385082008345198, 0.0007451286335335935, 0.0115494938197707, 0.008196414968869529, 0.1259267390671773, 0.004098207484434764, 0.2578145072026234, 0.14567264785581754, 0.003353078850901171, 0.3271440045749861, 0.0777167607224389, 0.3127010667416125, 0.04630910225938836, 0.039202259833442624, 0.06258606394461892, 0.024530069018586908, 0.034617200203800214, 0.047684620148281086, 0.027510357777854474, 0.2244407703141263, 0.010358804783728906, 0.2854426207071965, 0.006905869855819271, 0.013811739711638541, 0.005754891546516059, 0.0195666312581546, 0.407446321493337, 0.02532152280467066, 0.09538858492883903, 0.6637455701298383, 0.0198726218601748, 0.015898097488139838, 0.041732505906367075, 0.007949048744069919, 0.041732505906367075, 0.003974524372034959, 0.037757981534332116, 0.0695541765106118, 0.11964370440392944, 0.08068994017939426, 0.09877561642649989, 0.04173617595485911, 0.015303264516781672, 0.0013912058651619702, 0.17529193901040824, 0.36171352494211223, 0.0653866756626126, 0.03895376422453516, 0.0020191425071962375, 0.6602595998531696, 0.028267995100747324, 0.006057427521588712, 0.30489051858663185, 0.14487895011972798, 0.0632199055067904, 0.0105366509177984, 0.0105366509177984, 0.763907191540384, 0.0026341627294496, 0.009866219559290382, 0.02325608896118447, 0.004933109779645191, 0.20507642083953578, 0.020437169087101505, 0.7315097073245297, 0.001409459937041483, 0.0035236498426037075, 0.025819038271867788, 0.12221011448684085, 0.029261576708116827, 0.27023926724554953, 0.0447529996712375, 0.45441507358487304, 0.029261576708116827, 0.012048884526871634, 0.012048884526871634, 0.0017212692181245192, 0.0015037925368570541, 0.12481478055913549, 0.13985270592770602, 0.07067824923228154, 0.44662638344654504, 0.06466307908485333, 0.04661756864256868, 0.0030075850737141083, 0.10075409996942263, 0.0015037925368570541, 0.002418010119001337, 0.036270151785020056, 0.5029461047522781, 0.1765147386870976, 0.14508060714008023, 0.13540856666407486, 0.11102150662978935, 0.3768887988221796, 0.005843237191041545, 0.19282682730437098, 0.23080786904614103, 0.005843237191041545, 0.07596208348354008, 0.4160033038526759, 0.13374548409867978, 0.2039935065038223, 0.0607550464044476, 0.013501121423210577, 0.02236123235719252, 0.04303482453648372, 0.031010388268936796, 0.03311993849131345, 0.04261291449200839, 0.47863753028122374, 0.10064261027918152, 0.24926599987750772, 0.0315970985760221, 0.007314143188894006, 0.018139075108457133, 0.02486808684223962, 0.021064732384014736, 0.02457552111468386, 0.04359229340580827, 0.14560358639319415, 0.16972058909299564, 0.051389501079950876, 0.26821713282956816, 0.02434239524839778, 0.11404862958971554, 0.08474759827219969, 0.05477038930889501, 0.041021443844522186, 0.04620547246223653, 0.19781169292273024, 0.026271865466300108, 0.00309080770191766, 0.7526116754169502, 0.01236323080767064, 0.00618161540383532, 0.014235721298386723, 0.006643336605913804, 0.006643336605913804, 0.01613381747150495, 0.0322676349430099, 0.0009490480865591149, 0.9234237882220188, 0.0009490480865591149, 0.0023423065371267118, 0.009369226148506847, 0.06558458303954794, 0.07026919611380136, 0.0023423065371267118, 0.007026919611380136, 0.8432303533656164, 0.004203474104281824, 0.001401158034760608, 0.8827295618991831, 0.03923242497329702, 0.016813896417127296, 0.05324400532090311, 0.08150522012339827, 0.018523913664408698, 0.06668608919187131, 0.8094950271346602, 0.020376305030849567, 0.0020317929618885603, 0.006095378885665681, 0.0873670973612081, 0.8939889032309665, 0.008127171847554241, 0.367578051213876, 0.23060869826946492, 0.07880826889158259, 0.15470848358052375, 0.04652886724226278, 0.013958660172678834, 0.05176336480701735, 0.011341411390301554, 0.011632216810565695, 0.033151817910112236, 0.0022833368799816986, 0.6743454918879283, 0.09894459813254027, 0.03653339007970718, 0.12406130381233894, 0.006850010639945095, 0.0007611122933272328, 0.0022833368799816986, 0.050994523652924596, 0.0022833368799816986, 0.4907961594828014, 0.20083397759183033, 0.053784261214998706, 0.07033326466576754, 0.03333442123654865, 0.004610079532714175, 0.03274338539902119, 0.03510752874913103, 0.025414541013680708, 0.05283860387495477, 0.0016753825711909808, 0.03685841656620158, 0.06533992027644825, 0.011727677998336865, 0.8829266150176468, 0.027631791206561913, 0.056990569363533944, 0.05008262156189346, 0.8652204621554699, 0.03317334522679713, 0.004940710991225105, 0.02046865982078972, 0.06987576973304077, 0.11857706378940251, 0.002117447567667902, 0.0014116317117786013, 0.7474589913867694, 0.0028232634235572027, 0.0012428580080597767, 0.6189432880137689, 0.043500030282092185, 0.2995287799424062, 0.0012428580080597767, 0.006214290040298884, 0.02982859219343464, 0.004430400604478073, 0.7000032955075355, 0.007384001007463455, 0.28354563868659666, 0.001476800201492691, 0.001476800201492691, 0.006611286865884089, 0.2380063271718272, 0.6856848949474069, 0.01511151283630649, 0.0170004519408448, 0.021722799702190577, 0.016055982388575644, 0.03481379777192565, 0.008703449442981412, 0.15085979034501115, 0.7484966520964015, 0.05802299628654275, 0.32422959076300706, 0.019800280351939363, 0.09900140175969682, 0.012375175219962103, 0.31927952067502224, 0.12870182228760588, 0.0965263667157044, 0.28871027670618227, 0.013491134425522537, 0.6286868642293503, 0.043171630161672116, 0.024284041965940566, 0.030533726211657935, 0.015266863105828967, 0.0036349674061497543, 0.12795085269647136, 0.6266683808202176, 0.0029079739249198034, 0.029079739249198034, 0.15921157238935923, 0.0029079739249198034, 0.0021809804436898526, 0.5421079759680346, 0.03522723309539576, 0.31313096084796227, 0.003914137010599528, 0.08219687722259009, 0.015656548042398112, 0.007828274021199056, 0.027781828424367723, 0.1377978689848639, 0.06556511508150784, 0.37449904716047694, 0.22558844680586593, 0.02111418960251947, 0.04111710606806423, 0.08112293899915375, 0.014446550780671216, 0.012224004506721798, 0.0933271389780924, 0.3143877354515463, 0.019353554165963863, 0.21546956971439765, 0.05418995166469881, 0.0980580077742169, 0.09418729694102412, 0.03827702935046186, 0.05289971472030122, 0.019353554165963863, 0.13673784687789048, 0.13673784687789048, 0.004972285341014199, 0.33811540318896555, 0.05469513875115619, 0.09944570682028399, 0.10193184949079108, 0.09447342147926978, 0.024861426705070997, 0.007458428011521298, 0.2870792380876154, 0.05155968577626795, 0.140038652725666, 0.020369258578278693, 0.0076384719668545105, 0.11648669749453128, 0.24443110293934434, 0.011457707950281766, 0.052196225106839154, 0.070019326362833, 0.21177071303097694, 0.024781679184476026, 0.2500696717706217, 0.009011519703445828, 0.002252879925861457, 0.09011519703445828, 0.2793571108068207, 0.03829895873964477, 0.09011519703445828, 0.16547592142278714, 0.006128737830473597, 0.10623145572820902, 0.14096097010089273, 0.008171650440631463, 0.12053184399931408, 0.3595526193877844, 0.059244465694578106, 0.02451495132189439, 0.008171650440631463, 0.17729210449468435, 0.01373389541860231, 0.24221597374625892, 0.034959006520078606, 0.0012485359471456645, 0.01123682352431098, 0.4145139344523606, 0.07616069277588554, 0.0012485359471456645, 0.026219254890058954, 0.014568217344323587, 0.09226537651404938, 0.809345408017977, 0.001618690816035954, 0.0210429806084674, 0.003237381632071908, 0.05503548774522244, 0.003237381632071908, 0.14724197844426926, 0.022732094917711745, 0.7052115809699212, 0.004133108166856681, 0.016015794146569638, 0.009299493375427532, 0.0036164696459995956, 0.0015499155625712552, 0.04546418983542349, 0.044430912793709317, 0.0921399567680703, 0.0012621911886037027, 0.8380949492328587, 0.006310955943018514, 0.0012621911886037027, 0.011359720697433325, 0.025243823772074056, 0.023981632583470355, 0.12010708615783412, 0.0570508659249712, 0.08107228315653803, 0.0630562202328629, 0.5254685019405243, 0.07206425169470047, 0.03903480300129609, 0.04203748015524194, 0.003002677153945853, 0.5754155882064992, 0.06648709527596104, 0.10436459197862975, 0.016521035795844866, 0.0036265688332342387, 0.027803694388129165, 0.12531810079287203, 0.0012088562777447462, 0.01168561068486588, 0.06809890364628737, 0.5847377909306617, 0.05346824158315389, 0.10921172748899519, 0.0034128664840310996, 0.0011376221613437, 0.1729185685242424, 0.0011376221613437, 0.0352662870016547, 0.0375415313243421, 0.16942516336340774, 0.19918904341373614, 0.07097540627386, 0.025184821581047095, 0.15568798795556388, 0.06181728933529742, 0.31137597591112776, 0.0045790584692812905, 0.01006870487551371, 0.014096186825719193, 0.06443971120328773, 0.016109927800821933, 0.006041222925308226, 0.8880597700203091, 0.23990400501990214, 0.0071258615352446176, 0.049881030746712324, 0.06888332817403131, 0.33966606651332676, 0.047505743568297454, 0.004750574356829745, 0.23990400501990214, 0.8728309524047644, 0.06027838069093677, 0.002411135227637471, 0.016877946593462295, 0.03134475795928712, 0.014466811365824825, 0.021476891255519465, 0.03865840425993504, 0.1489064460382683, 0.005727171001471858, 0.7846224272016444, 0.06779365557246916, 0.002054353199165732, 0.024652238389988784, 0.5875450149613994, 0.014380472394160125, 0.002054353199165732, 0.13558731114493833, 0.16229390273409283, 0.08262873883136025, 0.03495831258249857, 0.10296812069754124, 0.08834918998122365, 0.6254359923850653, 0.008898479566454181, 0.003178028416590779, 0.006356056833181558, 0.041314369415680126, 0.006356056833181558, 0.04437257779057382, 0.9199914461912305, 0.020707202968934448, 0.011832687410819685, 0.5656866843531085, 0.06536823908080365, 0.13450772272396136, 0.015084978249416228, 0.005028326083138743, 0.021370385853339655, 0.07291072820551177, 0.0012570815207846857, 0.0527974238729568, 0.06536823908080365, 0.08676672573809706, 0.24374929889430733, 0.09077905987627495, 0.07172047271992993, 0.17253036794164964, 0.24425084066157957, 0.021566295992706205, 0.03711409077814556, 0.017553961854528306, 0.01304008594907817, 0.06411611910214812, 0.18864935043516656, 0.04438808245533331, 0.029592054970222208, 0.008631016032981477, 0.1553582885936666, 0.4858029024278146, 0.007398013742555552, 0.01602902977553703, 0.09668876283625699, 0.010743195870695221, 0.010743195870695221, 0.08325976799788797, 0.6257911594679966, 0.16920533496344972, 0.0026857989676738053, 0.0026857989676738053, 0.01618073470539928, 0.02224851021992401, 0.9607311231330822, 0.5178517487898449, 0.022888475084634027, 0.00858317815673776, 0.031471653241371786, 0.4205757296801503, 0.01665488710189273, 0.34975262913974736, 0.04441303227171395, 0.04718884678869607, 0.5385080162945317, 0.17808033423926597, 0.5493093386918896, 0.005479394899669722, 0.024657277048513747, 0.24109337558546776, 0.0037485249451334928, 0.3786010194584828, 0.6160075993169374, 0.0060222031426272445, 0.4135246157937375, 0.03479495149073519, 0.009367871555197936, 0.45501090410961403, 0.012044406285254489, 0.031449283078164504, 0.014720941015311044, 0.022750545205480702, 0.6760990447182905, 0.012703322343349926, 0.24983200608588188, 0.008468881562233285, 0.011291842082977713, 0.014114802603722141, 0.0056459210414888565, 0.02117220390558321, 0.3609631980501927, 0.23382350329227508, 0.06293365952990074, 0.1427997033501169, 0.0408138973934193, 0.002349001288829888, 0.07986604382021618, 0.04893752685062266, 0.011745006444149438, 0.015757883645900497, 0.41383750825554955, 0.2335098251225968, 0.05921541019855325, 0.09921374387984017, 0.046701965024519364, 0.005362905074585955, 0.05161796134288982, 0.02033434840780508, 0.03508233736291646, 0.03485888298480871, 0.49594815459987507, 0.12887989407948056, 0.14012305123665655, 0.11243157157176009, 0.01624011589369868, 0.003747719052392003, 0.03560333099772403, 0.029773545805114248, 0.0122841902272849, 0.024984793682613353, 0.0007600130937820968, 0.7683732378136998, 0.12236210809891758, 0.0007600130937820968, 0.070681217721735, 0.0015200261875641936, 0.00456007856269258, 0.0030400523751283872, 0.027360471376155483, 0.7549215948945263, 0.028309559808544736, 0.2123216985640855, 0.004718259968090789, 0.021476793196841055, 0.31754972798186415, 0.010738396598420527, 0.0168746232260894, 0.5921458695700462, 0.0061362266276688724, 0.029147076481427142, 0.0061362266276688724, 0.7947229880562325, 0.09934037350702907, 0.011502569563971787, 0.05437578339332117, 0.012548257706151039, 0.0010456881421792533, 0.02614220355448133, 0.586304839617551, 0.18243390932305772, 0.00377449467564947, 0.11449300516136726, 0.05032659567532627, 0.023905132945779978, 0.0377449467564947, 0.5826516172731147, 0.08075129024041035, 0.11802111650521512, 0.04845077414424621, 0.01615025804808207, 0.004969310168640636, 0.06211637710800796, 0.021119568216722704, 0.0273312059275235, 0.04099680889128525, 0.4354440885289658, 0.08373924779403188, 0.1367741047302521, 0.03349569911761276, 0.011165233039204251, 0.29587867553891267, 0.26320645904092693, 0.048037680737507575, 0.2311813385492552, 0.04103218562995439, 0.013010205199741635, 0.012009420184376894, 0.2982339345786929, 0.04403454067604862, 0.02702119541484801, 0.021016485322659567, 0.004625234005316857, 0.08649187589942522, 0.038389442244129914, 0.0027751404031901143, 0.07724140788879151, 0.00046252340053168573, 0.00046252340053168573, 0.7816645468985489, 0.007862897809038658, 0.0662197127470862, 0.04090041081437677, 0.03505749498375152, 0.023371663322501013, 0.21229260851271753, 0.044795688034793606, 0.0019476386102084177, 0.5589722811298159, 0.013633470271458923, 0.3381622010655313, 0.10181227558962233, 0.11090265733869575, 0.017271725323239503, 0.006363267224351396, 0.0009090381749073422, 0.30270971224414495, 0.007272305399258738, 0.02454403072249824, 0.09090381749073423, 0.17008444779375678, 0.011637356954309674, 0.12711574519322874, 0.024169895212797016, 0.03222652695039602, 0.00984699434595434, 0.08146149868016772, 0.020589169996086346, 0.4798171790392296, 0.04386388390470569, 0.7196821217200898, 0.13137054602827036, 0.019991170047780272, 0.01427940717698591, 0.005711762870794363, 0.062829391578738, 0.0028558814353971816, 0.022847051483177453, 0.019991170047780272, 0.20361152620605483, 0.06303341234441341, 0.48113993163613406, 0.05169646767815201, 0.05305690103810338, 0.019953022612620074, 0.0217669337592219, 0.03582474514538604, 0.05759167890460794, 0.012697378026212774, 0.11177827207802492, 0.13341277635119103, 0.7481932727803281, 0.005408626068291528, 0.07469384525474808, 0.15602073468269773, 0.06604204850709387, 0.14102428698676375, 0.07354027235506086, 0.20908508806831028, 0.11622246964348833, 0.06056257723357953, 0.07469384525474808, 0.027974142817415306, 0.0619411444824797, 0.020647048160826565, 0.002294116462314063, 0.03670586339702501, 0.03441174693471095, 0.8419407416692611, 0.002294116462314063, 0.22348221147059721, 0.09509881339174349, 0.24250197414894592, 0.0023774703347935874, 0.0760790507133948, 0.07370158037860121, 0.28767391051002406, 0.024521088736874922, 0.005838354461160696, 0.0011676708922321393, 0.11793476011544606, 0.01634739249124995, 0.5359609395345519, 0.06655724085723193, 0.19733638078723154, 0.0023353417844642786, 0.0326947849824999, 0.01295564790896644, 0.02879032868659209, 0.021592746514944066, 0.005758065737318418, 0.7010445035185173, 0.08349195319111706, 0.10652421614039073, 0.03886694372689932, 0.6489235455183092, 0.15517736958046524, 0.15920795060852927, 0.03627522925257629, 0.029830334694108708, 0.10205114500616137, 0.29673332932560764, 0.5306659540320391, 0.01413015853931465, 0.0015700176154794057, 0.0031400352309588113, 0.02198024661671168, 0.03012727915512042, 0.4325051770235084, 0.008170109601388588, 0.11284963886917988, 0.0025531592504339337, 0.1659553512782057, 0.08936057376518769, 0.07557351381284444, 0.07914793676345196, 0.004085054800694294, 0.001812178809184131, 0.581709397748106, 0.005436536427552392, 0.03624357618368262, 0.0996698345051272, 0.2645781061408831, 0.001812178809184131, 0.005436536427552392, 0.003624357618368262, 0.10562933410033556, 0.03468425895831914, 0.16475023005201592, 0.3160997236883176, 0.01576557225378143, 0.08907548323386506, 0.19155170288344434, 0.05123810982478964, 0.008671064739579785, 0.02286007976798307, 0.5848536675472652, 0.23973731417477986, 0.05795847155873799, 0.06059294753868063, 0.007903427939827908, 0.05005504361891008, 0.002027867661755011, 0.3143194875720267, 0.010139338308775055, 0.0365016179115902, 0.46438169454189754, 0.1460064716463608, 0.02027867661755011, 0.006083602985265033, 0.32418772711281035, 0.15686502924813403, 0.0016088720948526569, 0.3145344945436944, 0.004826616284557971, 0.09009683731174878, 0.028155261659921493, 0.048266162845579705, 0.004022180237131642, 0.026546389565068836, 0.06043704493971779, 0.46239135969752343, 0.0028779545209389424, 0.0019186363472926283, 0.43265249631448766, 0.008633863562816826, 0.012471136257402083, 0.01822704529927997, 0.08109202308095496, 0.6725867796714501, 0.16377408583016395, 0.03180079336508038, 0.019080476019048227, 0.03021075369682636, 0.35961640834060155, 0.1653655006070445, 0.07829465615870514, 0.1297079166901055, 0.045470329878577215, 0.03337715703853008, 0.07166068705787929, 0.054592037392212765, 0.030751210936119846, 0.03123493784972173, 0.03331662062304782, 0.09211065701666163, 0.6584932076084746, 0.0019598012131204602, 0.00587940363936138, 0.2057791273776483, 0.681591236731767, 0.02245241720998762, 0.24056161296415307, 0.017641184950704557, 0.003207488172855374, 0.02245241720998762, 0.001603744086427687, 0.008018720432138434, 0.003207488172855374, 0.27909373953518773, 0.045216304170505275, 0.6392649899967987, 0.02078910536574955, 0.0005197276341437388, 0.011434007951162253, 0.002598638170718694, 0.0005197276341437388, 0.09783295957560736, 0.11070571741450307, 0.6436378919447853, 0.010298206271116564, 0.0566401344911411, 0.02574551567779141, 0.018021860974453987, 0.033469170381128836, 0.405476541727216, 0.1899034190905889, 0.020430988536642665, 0.2014285921112591, 0.01624001652912622, 0.033003904559192, 0.06993684537543066, 0.03038454705449422, 0.005238715009395555, 0.027765189549796444, 0.5219088326230694, 0.1430449124864901, 0.07627898322952553, 0.05306364050749603, 0.03351387821526065, 0.00593474926728574, 0.03333932676622283, 0.051056298843561145, 0.03796494016572495, 0.04372513798397287, 0.009880226833063768, 0.0016467044721772946, 0.6455081530934995, 0.011526931305241062, 0.0312873849713686, 0.19760453666127537, 0.014820340249595653, 0.08562863255321933, 0.02105047174012335, 0.0421009434802467, 0.11367254739666607, 0.03087402521884758, 0.5627492778526308, 0.058941320872345375, 0.005613459130699559, 0.16279031479028722, 0.0014033647826748898, 0.552162904218678, 0.04833439344973838, 0.06709274138380351, 0.05846159969635023, 0.007710486574124932, 0.03429440297148104, 0.12555434108015376, 0.02692916206485424, 0.004258029899143619, 0.07514847362542658, 0.0018977177257535644, 0.6528148976592262, 0.17459003076932791, 0.06262468494986763, 0.0018977177257535644, 0.10437447491644604, 0.22441530331249943, 0.2433551620807771, 0.06276581103440856, 0.12443046748926612, 0.07906289881176377, 0.026207478993314454, 0.12090677283470283, 0.04624849234114316, 0.031272790059249184, 0.04118318127520843, 0.318426349762482, 0.030194005242166706, 0.2841570800091026, 0.061684685556082905, 0.028712090874453002, 0.011855314941709627, 0.05075556709419434, 0.12670367843952166, 0.05816513893276286, 0.029453048058309856, 0.04429127690472938, 0.0018454698710303908, 0.04367612028105258, 0.18823792684509988, 0.014763758968243126, 0.1457921198114009, 0.12426163798271299, 0.42999447995008105, 0.005536409613091172, 0.0018454698710303908, 0.34047316888755225, 0.12786303675599286, 0.08383338006154424, 0.15019195474241237, 0.03563489724686894, 0.05191045127789081, 0.08960120798130988, 0.059619924239953805, 0.01821719907331922, 0.04260197651628883, 0.3677069338700116, 0.04954916130163276, 0.12517682855149329, 0.002607850594822777, 0.002607850594822777, 0.3285891749476699, 0.00782355178446833, 0.010431402379291108, 0.1017061731980883, 0.37499389614739864, 0.08354030686394825, 0.0662489216527071, 0.2433293726112009, 0.015416415730504167, 0.017916375038153493, 0.09333181415224144, 0.0785403882486496, 0.006041568326819201, 0.020624664288106925, 0.003237736741839037, 0.11116229480314027, 0.24930572912160584, 0.03237736741839037, 0.4619171085023693, 0.0971321022551711, 0.005396227903065062, 0.01403019254796916, 0.0021584911612260245, 0.02266415719287326, 0.2789172479243723, 0.17648133981459593, 0.04181840443432817, 0.16708179019403593, 0.05697278035319021, 0.05505450492042286, 0.06867426049307103, 0.10550514880220409, 0.016880823808352655, 0.03280250990032164, 0.3692641662323242, 0.23953466898283862, 0.030329251063446295, 0.1857389900892806, 0.03852036266452303, 0.008191111601076736, 0.030329251063446295, 0.04582594868710499, 0.016160841807529778, 0.03652793011290977, 0.633359664203793, 0.0209109222467284, 0.14557218948684003, 0.016085324805175695, 0.004021331201293924, 0.023323720967504756, 0.08565435458756057, 0.014074659204528732, 0.0008042662402587846, 0.05589650369798554, 0.014303288524112057, 0.04621062446251588, 0.09572200781521145, 0.6997608847180975, 0.09462175485181822, 0.04511037149912264, 0.0033007588901797055, 0.06828727918776828, 0.13216892746019665, 0.013216892746019665, 0.7467544401501112, 0.03524504732271911, 0.004405630915339889, 0.21949348103125435, 0.2269842437451349, 0.08381174130813511, 0.19914122007278648, 0.05483803647142736, 0.06925422131700879, 0.06345948034966722, 0.01823223377529415, 0.029397710273342502, 0.0356164566773188, 0.004068282711013443, 0.02440969626608066, 0.09763878506432264, 0.01627313084405377, 0.8604417933793432, 0.30183067159235855, 0.020007714972978312, 0.34756259153059466, 0.01600617197838265, 0.008574734988419276, 0.04801851593514795, 0.05259170792897156, 0.005716489992279517, 0.0045731919938236144, 0.1955039577359595, 0.005839215005263419, 0.03114248002807157, 0.009732025008772365, 0.054499340049125246, 0.17712285515965703, 0.36592414032984094, 0.04476731504035288, 0.3094783952789612, 0.003892810003508946, 0.004460115473210593, 0.6972647189785893, 0.007433525788684321, 0.07433525788684321, 0.17543120861294997, 0.023787282523789827, 0.013380346419631777, 0.0029734103154737284, 0.07049757013204058, 0.0023499190044013528, 0.925868087734133, 0.015514858631944236, 0.11894724951157247, 0.16290601563541446, 0.13963372768749813, 0.06981686384374906, 0.1784208742673587, 0.2870248846909684, 0.025858097719907058, 0.002585809771990706, 0.00347422591587019, 0.026056694369026426, 0.012159790705545665, 0.5819328409082568, 0.07817008310707928, 0.19108242537286046, 0.09554121268643023, 0.01042267774761057, 0.0023384294776470763, 0.016369006343529533, 0.7178978496376525, 0.12393676231529505, 0.1379673391811775, 0.5190633735414113, 0.23252351123684362, 0.011816076796064648, 0.09115259242678443, 0.03460422490276076, 0.013504087766931027, 0.015192098737797404, 0.03038419747559481, 0.006330041140748918, 0.04515429347067562, 0.06019175483009293, 0.37487847306461386, 0.031679870963206805, 0.005279978493867801, 0.25766295050074867, 0.005279978493867801, 0.006335974192641361, 0.25766295050074867, 0.016507507026100526, 0.025940368183872253, 0.04952252107830157, 0.01768661467082199, 0.004716430578885864, 0.012970184091936126, 0.001179107644721466, 0.8619276882913917, 0.008253753513050263, 0.018583693317543466, 0.006194564439181155, 0.05988078957875116, 0.051621370326509625, 0.00825941925224154, 0.8548498926069994, 0.08597841726571553, 0.002204574801685014, 0.0639326692488654, 0.015432023611795097, 0.10581959048088066, 0.639326692488654, 0.08597841726571553, 0.010648568352530705, 0.005915871306961503, 0.17925090060093354, 0.0005915871306961503, 0.0011831742613923005, 0.0017747613920884508, 0.013014916875315306, 0.7879940580872722, 0.1094209124200469, 0.012873048520005516, 0.1094209124200469, 0.0021455080866675863, 0.20382326823342067, 0.5535410863602372, 0.008582032346670345, 0.04738110627638621, 0.015075806542486522, 0.20890760494588467, 0.04522741962745957, 0.16152649866949845, 0.0796864060102859, 0.015075806542486522, 0.4221225831896226, 0.004307373297853292, 0.002153686648926646, 0.02706212896695278, 0.28829451674998674, 0.12536945460200574, 0.08284325193965136, 0.25405263928159755, 0.0508105278563195, 0.0066274601551721095, 0.1170851294080406, 0.043630779354883055, 0.003866018423850397, 0.47736264926109806, 0.059857385487285024, 0.056864516212920775, 0.016460781009003382, 0.016460781009003382, 0.057612733531511834, 0.25663854027673455, 0.014964346371821256, 0.02169830223914082, 0.02169830223914082, 0.30156957361589276, 0.014498537193071767, 0.055094441333672715, 0.055094441333672715, 0.5393455835822698, 0.0028997074386143537, 0.026097366947529184, 0.00250395367605947, 0.23787559922564963, 0.032551397788773105, 0.35055351464832574, 0.07762256395784356, 0.0826304713099625, 0.015023722056356818, 0.1327095448311519, 0.07011070292966515, 0.09172725969635541, 0.6713772321148905, 0.1978214395861159, 0.01768236331496008, 0.009946329364665045, 0.0005525738535925025, 0.0027628692679625123, 0.0038680169751475176, 0.00442059082874002, 0.08107314965211475, 0.01870918838125725, 0.0124727922541715, 0.062363961270857506, 0.028063782571885878, 0.7951405062034331, 0.10260937670066288, 0.003600329007040803, 0.7281665416740024, 0.0054004935105612046, 0.02340213854576522, 0.004500411258801003, 0.017101562783443814, 0.07380674464433645, 0.03960361907744883, 0.005442838987310687, 0.07619974582234962, 0.24492775442898093, 0.04490342164531317, 0.10205323101207539, 0.11838174797400745, 0.19186007430270172, 0.008164258480966032, 0.20954930101146146, 0.01068105211564377, 0.0016864819129963847, 0.03597828081058954, 0.04553501165090239, 0.9000191809024041, 0.0005621606376654616, 0.005621606376654616, 0.12078231932702248, 0.05591774042917707, 0.004473419234334166, 0.3612286031724839, 0.22031589729095766, 0.03578735387467333, 0.04361583753475812, 0.13643928664719204, 0.020130386554503745, 0.19414014733387117, 0.30635890730105214, 0.05247031009023545, 0.08767619557013537, 0.17179795077931928, 0.01658738835110669, 0.02538885972108167, 0.0335132948318278, 0.06651881246923397, 0.04536142936833258, 0.11099678852401791, 0.18756325859893128, 0.11476772816368173, 0.12116193016137257, 0.07918973243294039, 0.2429796759122519, 0.03311868727009101, 0.049186169213006455, 0.03967684316515854, 0.021477960556346154, 0.5538349754191941, 0.08831919873794458, 0.027599749605607682, 0.16743848094068658, 0.012879883149283584, 0.001839983307040512, 0.1067190318083497, 0.027599749605607682, 0.012879883149283584, 0.007475395172913104, 0.12708171793952278, 0.01993438712776828, 0.8422278561482097, 0.002491798390971035, 0.16893631740287776, 0.48228593839208656, 0.16893631740287776, 0.1771106553417267, 0.0012136744917383188, 0.040051258227364515, 0.9575891739815334, 0.048695715260963744, 0.043478317197289056, 0.013913061503132498, 0.029565255694156557, 0.8486967516910824, 0.013913061503132498, 0.6777526371825902, 0.08140878275854556, 0.008827458371408555, 0.11377613012037693, 0.10298701433309981, 0.007846629663474271, 0.002942486123802852, 0.004904143539671419, 0.19947896388453162, 0.06649298796151054, 0.4166073011168716, 0.06854524067637198, 0.023806131492392663, 0.047612262984785325, 0.040224153211284155, 0.046791361898840755, 0.03447784560967213, 0.05582127384423107, 0.791578442824475, 0.15066296645903907, 0.026306232238879835, 0.002391475658079985, 0.01913180526463988, 0.00956590263231994, 0.34488143772953317, 0.009527111539489866, 0.1638663184792257, 0.02286506769477568, 0.4001386846585744, 0.0571626692369392, 0.14202238398385195, 0.02121113527031555, 0.7700564326397167, 0.0009222232726224152, 0.02121113527031555, 0.014755572361958643, 0.02858892145129487, 0.12517857773647245, 0.1347030347381606, 0.058507378724655605, 0.37145382306583674, 0.10340839030404247, 0.08844138644424684, 0.05714674201012873, 0.013606367145268746, 0.046261648293913736, 0.279102520737352, 0.3087417264793717, 0.022229404306514763, 0.009879735247339894, 0.00740980143550492, 0.017289536682844813, 0.0024699338118349735, 0.3507306012805662, 0.0032923335928886142, 0.013169334371554457, 0.0016461667964443071, 0.0032923335928886142, 0.976176910291474, 0.0032923335928886142, 0.998234284595231, 0.1703319630955532, 0.5602029008475972, 0.16023821713433523, 0.002523436490304492, 0.03280467437395839, 0.02144921016758818, 0.003785154735456738, 0.016402337186979195, 0.03154295612880615, 0.0628492038492461, 0.0655817779296481, 0.7760510388341691, 0.0054651481608040085, 0.0027325740804020043, 0.08197722241206012, 0.3220276536640127, 0.3300756623360557, 0.15473638006781285, 0.027255922702652192, 0.042600792570680786, 0.040079083186773994, 0.02205154376139774, 0.00531168572354836, 0.030206859215734613, 0.025646320968243597, 0.02207498034104167, 0.38473537165815486, 0.10722133308505954, 0.034689254821636914, 0.23365076594738912, 0.00028668805637716455, 0.002006816394640152, 0.032969126483373926, 0.13703689094828467, 0.045296712907592004, 0.2603105638487552, 0.0109604447936318, 0.0986440031426862, 0.016440667190447702, 0.06302255756338285, 0.49596012691183894, 0.0493220015713431, 0.0054802223968159, 0.014023860016074434, 0.021814893358338007, 0.010128343344942647, 0.03973427004554423, 0.25165037695511344, 0.0015582066684527148, 0.0007791033342263574, 0.6567841107528193, 0.0023373100026790722, 0.012397149976186222, 0.0020661916626977038, 0.020661916626977035, 0.25414157451181757, 0.6839094403529399, 0.014463341638883926, 0.006198574988093111, 0.0020661916626977038, 0.3205762401225485, 0.6592131134914377, 0.020318212402133357, 0.039872865604567403, 0.0024920541002854627, 0.22926897722626255, 0.6703625529767894, 0.05731724430656564, 0.0024920541002854627, 0.14036665296028647, 0.0873392507308449, 0.05146777275210503, 0.03509166324007162, 0.019495368466706454, 0.08499980651484014, 0.5404116138971029, 0.006238517909346065, 0.034311848501403355, 0.18280119015393176, 0.05118433324310089, 0.11150872599389837, 0.032904214227707715, 0.009140059507696587, 0.07860451176619065, 0.49539122531715507, 0.010968071409235905, 0.027420178523089762, 0.003390548566358638, 0.11866919982255233, 0.8510276901560181, 0.010171645699075913, 0.013562194265434552, 0.6456828022207797, 0.210103134055968, 0.1101760337122759, 0.015373400052875708, 0.015373400052875708, 0.010409554090215293, 0.5267234369648938, 0.06974401240444246, 0.054129681269119524, 0.0010409554090215292, 0.33726955252297547, 0.030019067003613554, 0.5449615240655998, 0.013854954001667794, 0.006927477000833897, 0.02078243100250169, 0.38332039404614227, 0.004912146432178815, 0.24806339482503018, 0.11297936794011276, 0.03806913484938582, 0.42367262977542286, 0.0024560732160894077, 0.018420549120670558, 0.132627953668828, 0.018420549120670558, 0.03641243415112845, 0.3800859564816422, 0.10025889403255915, 0.05536685192842819, 0.2134866002285339, 0.05786085426754658, 0.03292083087636271, 0.020450819180770772, 0.0004988004678236773, 0.10225409590385386, 0.04745935996351658, 0.04482272885443232, 0.029002942199926798, 0.10546524436337017, 0.1318315554542127, 0.06855240883619061, 0.07909893327252762, 0.4508639196534075, 0.03954946663626381, 0.041706459634872566, 0.058879707719820096, 0.8856489369522939, 0.004906642309985007, 0.009813284619970015, 0.015666769555999358, 0.6580043213519731, 0.16450108033799327, 0.0026111282593332262, 0.03655579563066517, 0.049611436927331304, 0.0052222565186664524, 0.007833384777999679, 0.013055641296666132, 0.04700030866799808, 0.13622166333240981, 0.3743296666367317, 0.03844063376229647, 0.1955620591402267, 0.0981542396066405, 0.011196301095814506, 0.014928401461086009, 0.033962113323970665, 0.06381891624614268, 0.03321569325091637, 0.01758199839741156, 0.19340198237152717, 0.1025616573182341, 0.5391812841872878, 0.09084032505329306, 0.05567632825846994, 0.03752853996294299, 0.018327891609809365, 0.08727567433242556, 0.18589718632806643, 0.08989394456239831, 0.5376181538877414, 0.014836864636512345, 0.01920064835313362, 0.0008727567433242555, 0.008727567433242555, 0.03458817092444249, 0.08070573215703247, 0.06917634184888498, 0.16141146431406495, 0.0778233845799956, 0.5678224726762642, 0.0028823475770368744, 0.005764695154073749, 0.40130808658000494, 0.18150624798794301, 0.01782177069665367, 0.23274383874082233, 0.03076377084541407, 0.01973124612843799, 0.05176800059504161, 0.03818950863568643, 0.007637901727137287, 0.018670426444113368, 0.0665146854527902, 0.08789440577690134, 0.12827832194466682, 0.026130769285024724, 0.014253146882740758, 0.13065384642512362, 0.3515776231076054, 0.18291538499517307, 0.007126573441370379, 0.009502097921827173, 0.022332309787158184, 0.1451600136165282, 0.06141385191468501, 0.06141385191468501, 0.44943773446655844, 0.03349846468073728, 0.2177400204247923, 0.00837461617018432, 0.28196702913452126, 0.2792294851623414, 0.09581403902629364, 0.0054750879443596365, 0.06570105533231563, 0.02737543972179818, 0.2436414135240038, 0.09899105167014689, 0.12410818418346775, 0.04875678664350519, 0.13445053286542338, 0.06722526643271169, 0.04063065553625432, 0.06131535290016561, 0.05466670017605127, 0.3095317212671011, 0.062054092091733876, 0.3711932658063367, 0.21211043760362097, 0.04599632417647582, 0.11630917642077007, 0.030322417530351895, 0.01743172795223128, 0.09272507389716304, 0.054785430707012604, 0.015234451319597086, 0.0439455326526839, 0.3085181847543343, 0.3993436316679934, 0.023066780168548358, 0.2695929932199089, 0.016300833714205158, 0.3632757227737149, 0.06287464432621989, 0.03958773902021252, 0.08849024016282798, 0.012807797918304052, 0.005821726326501841, 0.3609470322431142, 0.04890250114261547, 0.008173237692392551, 0.1416694533348042, 0.0027244125641308504, 0.45770131077398285, 0.027244125641308504, 0.0027244125641308504, 0.35962245846527224, 0.001856449826799643, 0.05940639445758858, 0.9319378130534208, 0.005569349480398929, 0.04649313807131089, 0.13726545525815595, 0.04649313807131089, 0.7593879218314111, 0.008855835823106836, 0.08578186316477004, 0.30636379701703587, 0.10854031665746414, 0.06127275940340718, 0.08052991235876372, 0.003501300537337553, 0.09803641504545148, 0.015755852418018988, 0.028010404298700425, 0.21357933277759072, 0.5965111337030161, 0.07513893457955731, 0.23359519117590263, 0.013119496513890957, 0.00442995986183331, 0.005963407506314072, 0.006815322864358939, 0.006815322864358939, 0.018742137876987083, 0.03867695725523698, 0.550645177198625, 0.1706224492728134, 0.07522898899755863, 0.05545229601366435, 0.016868355780380415, 0.003877782938018486, 0.031216152651048813, 0.023072808481209992, 0.011439459667154534, 0.061462859567593, 0.5823048401900944, 0.1835796999743379, 0.07060757691320688, 0.02492032126348478, 0.019936257010787824, 0.02492032126348478, 0.013290838007191884, 0.004153386877247463, 0.07559164116590383, 0.6348928098488406, 0.11800363743263792, 0.08559418771522327, 0.039057541967140716, 0.00249303459364728, 0.010803149905804879, 0.01828225368674672, 0.00664809224972608, 0.023268322874041278, 0.061494853309966235, 0.10270608801068053, 0.05692624257956324, 0.7794516291663274, 0.025079393584003386, 0.006767455411556469, 0.006767455411556469, 0.007165541024000967, 0.0035827705120004836, 0.007563626636445465, 0.003980856124444982, 0.01252488372904157, 0.14314152833190366, 0.8051710968669581, 0.019681960145636754, 0.01252488372904157, 0.0017892691041487957, 0.005367807312446387, 0.12460550957645064, 0.06198649714970641, 0.004427606939264743, 0.25110856498401474, 0.04617361522376089, 0.010120244432605128, 0.051866252717101276, 0.3396607037693096, 0.09930489849493782, 0.010120244432605128, 0.07666030765945266, 0.046460792520880395, 0.22998092297835795, 0.06736814915527657, 0.03716863401670432, 0.025553435886484215, 0.3159333891419867, 0.1997814078397857, 0.015488915134151349, 0.0593741746809135, 0.0012907429278459458, 0.2529856138578054, 0.11745760643398107, 0.003872228783537837, 0.030977830268302697, 0.36269876272471074, 0.1523076654858216, 0.005162971711383783, 0.0019026622150165873, 0.032345257655281984, 0.017123959935149285, 0.10845174625594547, 0.005707986645049762, 0.026637271010232222, 0.8086314413820496, 0.029582112236613306, 0.7173662217378727, 0.10168851081335824, 0.11832844894645322, 0.014791056118306653, 0.0036977640295766633, 0.012942174103518321, 0.010312852775841083, 0.6058801005806637, 0.10828495414633137, 0.15469279163761623, 0.09797210137049028, 0.020625705551682166, 0.024056127684680885, 0.006682257690189135, 0.01336451538037827, 0.00801870922822696, 0.9462076889307814, 0.014454685576669036, 0.04336405673000711, 0.014454685576669036, 0.9250998769068183, 0.005697440585626324, 0.07121800732032905, 0.025638482635318458, 0.10255393054127383, 0.08546160878439486, 0.6267184644188957, 0.05412568556345008, 0.022789762342505297, 0.002848720292813162, 0.03384203764277146, 0.0722988986004663, 0.02153584213630911, 0.298425241031712, 0.16459536489893392, 0.05845442865569616, 0.06460752640892733, 0.27996594777201844, 0.0046148233149233804, 0.003076548876615587, 0.06763380530305063, 0.08629140676596114, 0.47810103748708205, 0.002332200182863815, 0.13060321024037364, 0.002332200182863815, 0.15159301188614796, 0.08162700640023351, 0.16373173177845127, 0.001342063375233207, 0.04831428150839545, 0.004026190125699621, 0.001342063375233207, 0.02684126750466414, 0.002684126750466414, 0.7528975535058291, 0.060956375892132895, 0.5490950340363331, 0.12240040279140285, 0.004876510071370631, 0.05120335574939163, 0.022431946328304905, 0.02633315438540141, 0.0019506040285482526, 0.048277449706569255, 0.11264738264866159, 0.18703313332712218, 0.18211120876588213, 0.6177015324356272, 0.007382886841860087, 0.002460962280620029, 0.002460962280620029, 0.0680684875663236, 0.4153923087380773, 0.5166223671700457, 0.25189822877235, 0.09257798151462437, 0.07750714731456924, 0.4887256233446449, 0.00861190525717436, 0.00861190525717436, 0.05597738417163334, 0.01291785788576154, 0.6784521700568524, 0.18120821076240254, 0.030201368460400425, 0.028044127856086107, 0.023729646647457477, 0.006471721812942948, 0.020493785740986002, 0.030201368460400425, 0.2079781584667193, 0.004078003107190574, 0.6973385313295882, 0.010195007767976435, 0.010195007767976435, 0.008156006214381149, 0.0632090481614539, 0.059785112756409096, 0.03843328677197728, 0.04590642586652841, 0.02241941728365341, 0.024554599882096594, 0.013878686889880682, 0.762260187644216, 0.016013869488323864, 0.001067591299221591, 0.014946278189102274, 0.160108968414321, 0.11460431423340872, 0.021909648309328136, 0.08426787811280052, 0.02865107855835218, 0.003370715124512021, 0.5224608442993632, 0.033707151245120213, 0.02528036343384016, 0.005056072686768031, 0.08159864353418304, 0.013103431808408957, 0.032758579521022395, 0.17630071887677506, 0.0357366322047517, 0.301378931593406, 0.045266400792685485, 0.29720965783618497, 0.016677095028884127, 0.004558823608684907, 0.0011397059021712268, 0.3202573585101147, 0.21996323911904678, 0.0011397059021712268, 0.007977941315198588, 0.4444853018467784, 0.12590125611337233, 0.026978840595722642, 0.011990595820321174, 0.03597178746096352, 0.08693181969732851, 0.6684757169829054, 0.04196708537112411, 0.26794180223948727, 0.02634259291680352, 0.2039669337272501, 0.002257936535726016, 0.00752645511908672, 0.18214021388189863, 0.00376322755954336, 0.023332010869168834, 0.009031746142904064, 0.27546825735857394, 0.08806313638497036, 0.05137016289123271, 0.009784792931663374, 0.009784792931663374, 0.017123387630410904, 0.039139171726653495, 0.004892396465831687, 0.7754448398343223, 0.011382217504859562, 0.07588145003239707, 0.02466147126052905, 0.5121997877186802, 0.017073326257289342, 0.17832140757613313, 0.08916070378806656, 0.056911087524297806, 0.017073326257289342, 0.020867398758909195, 0.12937278751224052, 0.0576039418850122, 0.6289217261543956, 0.15959124882896822, 0.002832980748443223, 0.012276249909920633, 0.003777307664590964, 0.001888653832295482, 0.002832980748443223, 0.17257291344349932, 0.09071140322030093, 0.03097462548985885, 0.024337205742031954, 0.05973677773044207, 0.09071140322030093, 0.05088688473333954, 0.427007337110197, 0.05309935798261518, 0.13426512015811, 0.16244421945055285, 0.0936540652954718, 0.0737629363831592, 0.01906233187429957, 0.0008287970380130247, 0.0870236889913676, 0.1069148179036802, 0.2900789633045587, 0.030665490406481918, 0.48669026745531935, 0.12723347028539428, 0.006228211832152167, 0.31941829253466114, 0.024912847328608666, 0.001779489094900619, 0.0008897445474503095, 0.028471825518409904, 0.004448722737251548, 0.08414359192600566, 0.5794433716722663, 0.17976131002373938, 0.01338648053368272, 0.015298834895637395, 0.0745818201162323, 0.0038247087239093487, 0.021035897981501416, 0.02677296106736544, 0.06976025515142646, 0.03382315401281283, 0.042278942516016035, 0.1014694620384385, 0.03805104826441443, 0.7102862342690694, 0.0021139471258008018, 0.005154543183539742, 0.0017181810611799138, 0.0017181810611799138, 0.32817258268536353, 0.06700906138601664, 0.012027267428259396, 0.05498179395775724, 0.5188906804763339, 0.0034363621223598277, 0.006872724244719655, 0.47747129847151254, 0.16294125430356513, 0.06811478663509689, 0.07412491486760545, 0.033723497304631304, 0.0023372720904199914, 0.046411545795482685, 0.015359216594188515, 0.016694800645857082, 0.10250607596556248, 0.21756246807236124, 0.013429781979775384, 0.7413239652836012, 0.010743825583820308, 0.002685956395955077, 0.013429781979775384, 0.05280002307781846, 0.07805220802807947, 0.8654612478407634, 0.002295653177296455, 0.0044805309177182225, 0.21685769641756197, 0.004928584009490045, 0.17160433414860793, 0.06541575139868605, 0.4041438887781837, 0.0703443354081761, 0.03001955714871209, 0.030467610240483913, 0.0022402654588591113, 0.5405163552964131, 0.20028634543049986, 0.017974415615557682, 0.023109962934288446, 0.014122755126509606, 0.05135547318730766, 0.10784649369334608, 0.035948831231115363, 0.008987207807778841, 0.4259331261021673, 0.097226937876009, 0.1277516741859188, 0.09129157248241543, 0.026567826047514086, 0.02345882512706031, 0.05454883433159807, 0.04296073999172491, 0.03363373723036358, 0.0763118407747745, 0.24873113525954887, 0.11872479674375874, 0.17244642422962242, 0.06473456112046574, 0.06204847974617256, 0.07547888661763848, 0.13618432567666444, 0.04405173453840822, 0.03733653110267526, 0.040291220614397764, 0.03978179250083424, 0.19625684300411558, 0.10873689950228026, 0.002652119500055616, 0.03978179250083424, 0.5012505855105114, 0.042433912000889855, 0.07160722650150163, 0.46835619364366565, 0.1779511699601363, 0.0479641885056766, 0.1579996797834053, 0.017331597527261294, 0.015920886100623748, 0.05239785298939461, 0.03426013464691186, 0.006852026929382372, 0.021160671399563208, 0.41566665343339737, 0.21171403198734245, 0.039381972005792146, 0.18972336878702786, 0.009917357913867365, 0.027452396544183577, 0.03895078253127617, 0.043118947451597237, 0.008623789490319448, 0.015522821082575007, 0.40436779539994916, 0.2772207281480398, 0.017194945233165802, 0.1330697706099998, 0.024741615641055238, 0.03028220910507533, 0.03926179161572858, 0.030950901419698446, 0.013755956186532643, 0.029231406896381866, 0.4918889510581631, 0.05682738069239093, 0.17454124069805788, 0.07822990069342128, 0.007380179310700122, 0.0549823358647159, 0.04649512965741077, 0.025092609656380414, 0.03173477103601052, 0.032472788967080536, 0.2741174709890414, 0.1500552381802497, 0.15740784129329163, 0.07300824217879645, 0.025785889790808956, 0.08191421214670637, 0.08222488551767997, 0.08605652375968773, 0.04225157845240986, 0.027235698855352434, 0.13209154972247003, 0.04518921437873975, 0.052141401206238176, 0.39975074258115934, 0.006952186827498423, 0.017380467068746058, 0.07821210180935727, 0.26418309944494006, 0.0034760934137492115, 0.07518865572809377, 0.2404442877523847, 0.14798615279345664, 0.06084170375170839, 0.15170573293548248, 0.13815583384667407, 0.03241348409479661, 0.041978118745720196, 0.06402991530201625, 0.047026120367040986, 0.23007381594094767, 0.04280443087273445, 0.06420664630910168, 0.1765682773500296, 0.12306273875911154, 0.29428046225004934, 0.010701107718183613, 0.0026752769295459032, 0.05350553859091806, 0.14567100298465466, 0.05244156107447568, 0.6263853128340151, 0.029134200596930934, 0.07574892155202043, 0.05535498113416878, 0.01748052035815856, 0.14020575505967042, 0.044971657283290514, 0.13491497184987156, 0.06084400691268717, 0.018517741234296094, 0.021163132839195537, 0.002645391604899442, 0.5634684118435812, 0.010581566419597769, 0.002029385313609598, 0.02029385313609598, 0.04058770627219196, 0.923370317692367, 0.012176311881657588, 0.11370994835588363, 0.10854131433970711, 0.09303541229117752, 0.37989460018897486, 0.02325885307279438, 0.28169055388162084, 0.053830912563661897, 0.08216297180769448, 0.08216297180769448, 0.5808072145026678, 0.0028332059244032576, 0.19265800285942153, 0.11753914437897907, 0.6856450088773779, 0.09493546276763694, 0.0030138242148456174, 0.04219353900783864, 0.009041472644536851, 0.007534560537114043, 0.03917971479299302, 0.2556566312893774, 0.15445921473733218, 0.03621802276599513, 0.3195707891117217, 0.024500427165232, 0.06391415782234434, 0.05858797800381565, 0.054327034148992696, 0.03408755083858365, 0.10411868252695154, 0.14849713737450468, 0.01536177283184531, 0.39257863903604684, 0.04608531849553593, 0.09387750063905467, 0.027309818367724996, 0.06486081862334686, 0.10241181887896873, 0.005120590943948437, 0.07795107543215303, 0.21566464202895674, 0.01299184590535884, 0.4313292840579135, 0.05716412198357889, 0.02598369181071768, 0.015590215086430607, 0.04157390689714829, 0.11432824396715778, 0.005196738362143536, 0.038611157208114213, 0.009652789302028553, 0.0016087982170047588, 0.020914376821061866, 0.9266677729947411, 0.08170872919356914, 0.17292444889079253, 0.052416920614742464, 0.27236243064523047, 0.10406300416162106, 0.13592426963332727, 0.08427818608644867, 0.03545850512173755, 0.04625022407183159, 0.01490284997870129, 0.10697457121026853, 0.17617001875891808, 0.08748849690059136, 0.17378396884344738, 0.09981642146385651, 0.18889561830809498, 0.05607217301356083, 0.034200048788412984, 0.04056284856300145, 0.03539307374614833, 0.03758261872025772, 0.11579509551646973, 0.02945664710506686, 0.2610468381380063, 0.08938568776709943, 0.2519051200709166, 0.08887781454115001, 0.051295195820892286, 0.06399202646962801, 0.010665337744938, 0.03849134403926515, 0.6955935744238632, 0.11822341383488583, 0.016496290302542207, 0.056362325200352545, 0.002749381717090368, 0.00687345429272592, 0.021995053736722944, 0.008248145151271103, 0.03574196232217478, 0.08802971064562083, 0.6705792663886998, 0.09838614719216446, 0.018123763956451346, 0.012945545683179533, 0.00776732740990772, 0.10097525632880036, 0.04520130798553655, 0.04358697555748167, 0.00484299728416463, 0.054080136339838374, 0.0008071662140274385, 0.44071275285898137, 0.3801752868069235, 0.00968599456832926, 0.021793487778740836, 0.007802404721928673, 0.033810420461690915, 0.7854420753408198, 0.013004007869881122, 0.1170360708289301, 0.02340721416578602, 0.01820561101783357, 0.022044772887129773, 0.07440110849406299, 0.690276951028251, 0.0013777983054456108, 0.0027555966108912216, 0.20942534242773284, 0.0025898908878340893, 0.06474727219585223, 0.30042734298875434, 0.012949454439170447, 0.6189839221923473, 0.005675834268821405, 0.008513751403232107, 0.051082508419392644, 0.4540667415057124, 0.4625804929089445, 0.014189585672053513, 0.11025152637907412, 0.02881573984907619, 0.1553544235341499, 0.005011433017230642, 0.002505716508615321, 0.5788205134901392, 0.11902153415922775, 0.08763541123708095, 0.06438520009254928, 0.12698192240474995, 0.09300084457812673, 0.007153911121394364, 0.6009285341971266, 0.001788477780348591, 0.008942388901742954, 0.010730866682091545, 0.3886497954238585, 0.20890454752213924, 0.0914221519500124, 0.12438483847744367, 0.02591937744037331, 0.02591937744037331, 0.05409261378860517, 0.02211599053336201, 0.009578900358398833, 0.04902143124592344, 0.03278658286010502, 0.30543290348624147, 0.5107804487679518, 0.007765243308972241, 0.04745426466594147, 0.035374997296429095, 0.00258841443632408, 0.025021339551132775, 0.022432925114808697, 0.011216462557404348, 0.020308348943452913, 0.0355396106510426, 0.04823232874070067, 0.13454281175037555, 0.7590245417615527, 0.0406044711357919, 0.0004229632409978323, 0.03299113279783092, 0.09220598653752744, 0.6120278097238634, 0.0008459264819956646, 0.010151117783947975, 0.20894384105292918, 0.0021148162049891618, 0.3057061996260342, 0.17634447583592558, 0.07868656033689676, 0.13738316926134564, 0.048383321890001246, 0.060861125956369985, 0.08849054924618649, 0.04723740110839595, 0.021263196725342652, 0.035778193292343025, 0.0030018270382833295, 0.9065517655615656, 0.06604019484223325, 0.012007308153133318, 0.00900548111484999, 0.013736669044277925, 0.28022804850326966, 0.002747333808855585, 0.6236447746102178, 0.0741780128391008, 0.4188210486213119, 0.07766218120130287, 0.344724987985375, 0.027340257667805602, 0.01307577540634181, 0.02179295901056968, 0.022189194628943677, 0.026944022049431606, 0.025755315194309625, 0.022189194628943677, 0.07156348329111728, 0.04191575449908298, 0.46618497686784977, 0.09303252827845247, 0.0040893419023495595, 0.018402038560573018, 0.024536051414097357, 0.07463048971787946, 0.015335032133810846, 0.1901543984592545, 0.1270963555250915, 0.0007656406959342862, 0.21820759834127154, 0.0007656406959342862, 0.009187688351211434, 0.03904767549264859, 0.6048561497880861, 0.0005950655239312645, 0.00029753276196563223, 0.06545720763243909, 0.0008925982858968967, 0.0029753276196563226, 0.9294923483806352, 0.571063601906122, 0.05342207888799207, 0.04605351628275178, 0.11052843907860428, 0.04421137563144171, 0.005526421953930214, 0.06631706344716257, 0.06631706344716257, 0.0036842813026201427, 0.03500067237489136, 0.665780800088789, 0.05107359562324957, 0.11765167563212847, 0.02736085479816941, 0.005472170959633882, 0.050161567129977255, 0.025536797811624785, 0.0018240569865446274, 0.053809681103066505, 0.1983475807226317, 0.2795434839801516, 0.15040654844584242, 0.11597003230335999, 0.030891580657226896, 0.10432238713752033, 0.03831906453109566, 0.01012838710073013, 0.03156680646394224, 0.040682354854599354, 0.13647417512753166, 0.24592045738139565, 0.14937637913306845, 0.04560261760577667, 0.17273381741895408, 0.10610950535588035, 0.04838326502076305, 0.044045455053384294, 0.006339876106168952, 0.04504648812277939, 0.5532988945969323, 0.05394664222320089, 0.15215719601415637, 0.008299483418953984, 0.006916236182461653, 0.17843889350751063, 0.020748708547384958, 0.02628169749335428, 0.6103211103159222, 0.02735922218657582, 0.09891411098223565, 0.0021045555528135247, 0.19361911085884426, 0.025254666633762295, 0.0021045555528135247, 0.037881999950643445, 0.5972814867712642, 0.043326118211387044, 0.12688363190477633, 0.006189445458769577, 0.09438904324623605, 0.027852504564463098, 0.015473613646923944, 0.0030947227293847885, 0.08355751369338929, 0.7214478248970912, 0.06310313873120772, 0.002825513674531689, 0.06404497662271828, 0.08947459969350349, 0.02166227150474295, 0.0357898398774014, 0.17695562108436153, 0.16214435764558235, 0.2658232017170365, 0.044953483770329726, 0.15590803619767535, 0.03611869505246146, 0.007275708355891516, 0.044953483770329726, 0.08393049281974856, 0.022086971794670673, 0.12395161708966823, 0.13858845698004396, 0.23880465803126508, 0.07806314608200382, 0.10206228896532257, 0.08294209271212906, 0.026900138176906722, 0.1228967097101817, 0.05894294982881032, 0.026768274754470908, 0.07112712048561252, 0.03958378879199306, 0.6506585282683859, 0.021647384495621206, 0.008658953798248482, 0.0012369933997497832, 0.014225424097122507, 0.012988430697372723, 0.018554900996246747, 0.1614276386673467], \"Term\": [\"000\", \"000\", \"000\", \"000\", \"000\", \"000\", \"000\", \"000\", \"000\", \"000\", \"able\", \"able\", \"able\", \"able\", \"able\", \"able\", \"able\", \"able\", \"able\", \"able\", \"activity\", \"activity\", \"activity\", \"activity\", \"activity\", \"activity\", \"activity\", \"activity\", \"actually\", \"actually\", \"actually\", \"actually\", \"actually\", \"actually\", \"actually\", \"actually\", \"actually\", \"actually\", \"afraid\", \"afraid\", \"afraid\", \"afraid\", \"afraid\", \"afraid\", \"afraid\", \"africa\", \"africa\", \"africa\", \"africa\", \"africa\", \"africa\", \"africa\", \"africa\", \"ago\", \"ago\", \"ago\", \"ago\", \"ago\", \"ago\", \"ago\", \"ago\", \"ago\", \"ago\", \"air\", \"air\", \"air\", \"air\", \"air\", \"air\", \"air\", \"air\", \"allows\", \"allows\", \"allows\", \"allows\", \"allows\", \"allows\", \"allows\", \"allows\", \"allows\", \"allows\", \"animal\", \"animal\", \"animal\", \"animal\", \"animal\", \"animal\", \"animal\", \"animal\", \"animal\", \"animals\", \"animals\", \"animals\", \"animals\", \"animals\", \"animals\", \"animals\", \"animals\", \"anybody\", \"anybody\", \"anybody\", \"anybody\", \"anybody\", \"anybody\", \"anybody\", \"anybody\", \"anybody\", \"applause\", \"applause\", \"applause\", \"applause\", \"applause\", \"applause\", \"applause\", \"applause\", \"applause\", \"applause\", \"art\", \"art\", \"art\", \"art\", \"art\", \"art\", \"art\", \"art\", \"artist\", \"artist\", \"artist\", \"artist\", \"artist\", \"artist\", \"attention\", \"attention\", \"attention\", \"attention\", \"attention\", \"attention\", \"attention\", \"attention\", \"attention\", \"attention\", \"audience\", \"audience\", \"audience\", \"audience\", \"audience\", \"audience\", \"audience\", \"audience\", \"audience\", \"audience\", \"bacteria\", \"bacteria\", \"bacteria\", \"bacteria\", \"bank\", \"bank\", \"bank\", \"bank\", \"bank\", \"bank\", \"bank\", \"basically\", \"basically\", \"basically\", \"basically\", \"basically\", \"basically\", \"basically\", \"basically\", \"basically\", \"bed\", \"bed\", \"bed\", \"bed\", \"bed\", \"bed\", \"bed\", \"bed\", \"behavior\", \"behavior\", \"behavior\", \"behavior\", \"behavior\", \"behavior\", \"behavior\", \"behavior\", \"behavior\", \"better\", \"better\", \"better\", \"better\", \"better\", \"better\", \"better\", \"better\", \"better\", \"better\", \"big\", \"big\", \"big\", \"big\", \"big\", \"big\", \"big\", \"big\", \"big\", \"big\", \"billion\", \"billion\", \"billion\", \"billion\", \"billion\", \"billion\", \"billion\", \"billion\", \"billion\", \"bit\", \"bit\", \"bit\", \"bit\", \"bit\", \"bit\", \"bit\", \"bit\", \"bit\", \"bit\", \"black\", \"black\", \"black\", \"black\", \"black\", \"black\", \"black\", \"black\", \"black\", \"blood\", \"blood\", \"blood\", \"blood\", \"blood\", \"blood\", \"blood\", \"blood\", \"blue\", \"blue\", \"blue\", \"blue\", \"blue\", \"blue\", \"blue\", \"blue\", \"blue\", \"blue\", \"bodies\", \"bodies\", \"bodies\", \"bodies\", \"bodies\", \"bodies\", \"bodies\", \"bodies\", \"bodies\", \"body\", \"body\", \"body\", \"body\", \"body\", \"body\", \"body\", \"body\", \"body\", \"body\", \"born\", \"born\", \"born\", \"born\", \"born\", \"born\", \"born\", \"born\", \"born\", \"boy\", \"boy\", \"boy\", \"boy\", \"boy\", \"boy\", \"boy\", \"boy\", \"boys\", \"boys\", \"boys\", \"boys\", \"boys\", \"brain\", \"brain\", \"brain\", \"brain\", \"brain\", \"brain\", \"brain\", \"brains\", \"brains\", \"brains\", \"brains\", \"brains\", \"brains\", \"brains\", \"brains\", \"brains\", \"build\", \"build\", \"build\", \"build\", \"build\", \"build\", \"build\", \"build\", \"build\", \"build\", \"building\", \"building\", \"building\", \"building\", \"building\", \"building\", \"building\", \"building\", \"building\", \"buildings\", \"buildings\", \"buildings\", \"buildings\", \"built\", \"built\", \"built\", \"built\", \"built\", \"built\", \"built\", \"built\", \"built\", \"built\", \"business\", \"business\", \"business\", \"business\", \"business\", \"business\", \"business\", \"business\", \"came\", \"came\", \"came\", \"came\", \"came\", \"came\", \"came\", \"came\", \"came\", \"came\", \"camera\", \"camera\", \"camera\", \"camera\", \"camera\", \"camera\", \"camera\", \"cancer\", \"cancer\", \"cancer\", \"cancer\", \"cancer\", \"cancer\", \"carbon\", \"carbon\", \"carbon\", \"care\", \"care\", \"care\", \"care\", \"care\", \"care\", \"care\", \"care\", \"care\", \"cars\", \"cars\", \"cars\", \"cars\", \"cars\", \"cars\", \"cars\", \"cell\", \"cell\", \"cell\", \"cell\", \"cell\", \"cell\", \"cell\", \"cell\", \"cell\", \"cells\", \"cells\", \"cells\", \"cells\", \"change\", \"change\", \"change\", \"change\", \"change\", \"change\", \"change\", \"change\", \"change\", \"change\", \"child\", \"child\", \"child\", \"child\", \"child\", \"child\", \"child\", \"child\", \"child\", \"child\", \"children\", \"children\", \"children\", \"children\", \"children\", \"children\", \"children\", \"children\", \"china\", \"china\", \"china\", \"china\", \"china\", \"china\", \"china\", \"chinese\", \"chinese\", \"chinese\", \"chinese\", \"chinese\", \"chinese\", \"chinese\", \"cities\", \"cities\", \"cities\", \"cities\", \"cities\", \"cities\", \"cities\", \"citizens\", \"citizens\", \"citizens\", \"citizens\", \"city\", \"city\", \"city\", \"city\", \"city\", \"city\", \"city\", \"city\", \"clean\", \"clean\", \"clean\", \"clean\", \"clean\", \"clean\", \"clean\", \"clean\", \"clean\", \"climate\", \"climate\", \"climate\", \"climate\", \"climate\", \"college\", \"college\", \"college\", \"college\", \"college\", \"college\", \"college\", \"color\", \"color\", \"color\", \"color\", \"color\", \"color\", \"color\", \"color\", \"color\", \"come\", \"come\", \"come\", \"come\", \"come\", \"come\", \"come\", \"come\", \"come\", \"come\", \"communities\", \"communities\", \"communities\", \"communities\", \"communities\", \"communities\", \"communities\", \"communities\", \"community\", \"community\", \"community\", \"community\", \"community\", \"community\", \"community\", \"community\", \"community\", \"companies\", \"companies\", \"companies\", \"companies\", \"companies\", \"companies\", \"companies\", \"companies\", \"company\", \"company\", \"company\", \"company\", \"company\", \"company\", \"company\", \"company\", \"company\", \"company\", \"compassion\", \"compassion\", \"compassion\", \"compassion\", \"complex\", \"complex\", \"complex\", \"complex\", \"complex\", \"complex\", \"complex\", \"complex\", \"complex\", \"complex\", \"complicated\", \"complicated\", \"complicated\", \"complicated\", \"complicated\", \"complicated\", \"complicated\", \"complicated\", \"complicated\", \"complicated\", \"computer\", \"computer\", \"computer\", \"computer\", \"computer\", \"computer\", \"computer\", \"computer\", \"computers\", \"computers\", \"computers\", \"computers\", \"computers\", \"computers\", \"content\", \"content\", \"content\", \"content\", \"content\", \"content\", \"content\", \"content\", \"cool\", \"cool\", \"cool\", \"cool\", \"cool\", \"cool\", \"cool\", \"cool\", \"cool\", \"cool\", \"countries\", \"countries\", \"countries\", \"countries\", \"countries\", \"countries\", \"countries\", \"countries\", \"country\", \"country\", \"country\", \"country\", \"country\", \"country\", \"country\", \"country\", \"country\", \"create\", \"create\", \"create\", \"create\", \"create\", \"create\", \"create\", \"create\", \"create\", \"create\", \"created\", \"created\", \"created\", \"created\", \"created\", \"created\", \"created\", \"created\", \"created\", \"created\", \"cultural\", \"cultural\", \"cultural\", \"cultural\", \"cultural\", \"cultural\", \"cultural\", \"culture\", \"culture\", \"culture\", \"culture\", \"culture\", \"culture\", \"culture\", \"culture\", \"culture\", \"dad\", \"dad\", \"dad\", \"dad\", \"dad\", \"dad\", \"dad\", \"dad\", \"dark\", \"dark\", \"dark\", \"dark\", \"dark\", \"dark\", \"dark\", \"dark\", \"dark\", \"data\", \"data\", \"data\", \"data\", \"data\", \"data\", \"data\", \"data\", \"data\", \"data\", \"day\", \"day\", \"day\", \"day\", \"day\", \"day\", \"day\", \"day\", \"day\", \"day\", \"death\", \"death\", \"death\", \"death\", \"death\", \"death\", \"death\", \"death\", \"death\", \"decisions\", \"decisions\", \"decisions\", \"decisions\", \"decisions\", \"decisions\", \"decisions\", \"decisions\", \"decisions\", \"decisions\", \"deep\", \"deep\", \"deep\", \"deep\", \"deep\", \"deep\", \"deep\", \"deep\", \"deep\", \"deep\", \"democracy\", \"democracy\", \"democracy\", \"democracy\", \"democracy\", \"depression\", \"depression\", \"depression\", \"depression\", \"depression\", \"depression\", \"design\", \"design\", \"design\", \"design\", \"design\", \"design\", \"design\", \"design\", \"designed\", \"designed\", \"designed\", \"designed\", \"designed\", \"designed\", \"designed\", \"designed\", \"designed\", \"designed\", \"development\", \"development\", \"development\", \"development\", \"development\", \"development\", \"development\", \"development\", \"development\", \"development\", \"device\", \"device\", \"device\", \"device\", \"device\", \"device\", \"devices\", \"devices\", \"devices\", \"devices\", \"devices\", \"devices\", \"devices\", \"did\", \"did\", \"did\", \"did\", \"did\", \"did\", \"did\", \"did\", \"did\", \"did\", \"didn\", \"didn\", \"didn\", \"didn\", \"didn\", \"didn\", \"didn\", \"didn\", \"didn\", \"didn\", \"different\", \"different\", \"different\", \"different\", \"different\", \"different\", \"different\", \"different\", \"different\", \"different\", \"digital\", \"digital\", \"digital\", \"digital\", \"digital\", \"digital\", \"disease\", \"disease\", \"disease\", \"disease\", \"disease\", \"disease\", \"disease\", \"disease\", \"diseases\", \"diseases\", \"diseases\", \"diseases\", \"diseases\", \"diseases\", \"diseases\", \"dna\", \"dna\", \"dna\", \"dna\", \"dna\", \"dna\", \"doctor\", \"doctor\", \"doctor\", \"doctor\", \"doctor\", \"doctors\", \"doctors\", \"doctors\", \"doctors\", \"doctors\", \"doing\", \"doing\", \"doing\", \"doing\", \"doing\", \"doing\", \"doing\", \"doing\", \"doing\", \"doing\", \"dollars\", \"dollars\", \"dollars\", \"dollars\", \"dollars\", \"dollars\", \"dollars\", \"dollars\", \"dollars\", \"dollars\", \"don\", \"don\", \"don\", \"don\", \"don\", \"don\", \"don\", \"don\", \"don\", \"don\", \"drug\", \"drug\", \"drug\", \"drug\", \"drug\", \"drugs\", \"drugs\", \"drugs\", \"drugs\", \"earth\", \"earth\", \"earth\", \"earth\", \"earth\", \"earth\", \"earth\", \"earth\", \"earth\", \"economic\", \"economic\", \"economic\", \"economic\", \"economic\", \"economic\", \"economic\", \"economy\", \"economy\", \"economy\", \"economy\", \"economy\", \"economy\", \"education\", \"education\", \"education\", \"education\", \"education\", \"education\", \"education\", \"electricity\", \"electricity\", \"electricity\", \"electricity\", \"electricity\", \"emotional\", \"emotional\", \"emotional\", \"emotional\", \"emotional\", \"emotional\", \"emotional\", \"emotions\", \"emotions\", \"emotions\", \"emotions\", \"emotions\", \"energy\", \"energy\", \"energy\", \"energy\", \"energy\", \"energy\", \"energy\", \"energy\", \"energy\", \"energy\", \"english\", \"english\", \"english\", \"english\", \"english\", \"english\", \"english\", \"environment\", \"environment\", \"environment\", \"environment\", \"environment\", \"environment\", \"environment\", \"environment\", \"environment\", \"environment\", \"example\", \"example\", \"example\", \"example\", \"example\", \"example\", \"example\", \"example\", \"example\", \"example\", \"exciting\", \"exciting\", \"exciting\", \"exciting\", \"exciting\", \"exciting\", \"exciting\", \"exciting\", \"exciting\", \"exciting\", \"experience\", \"experience\", \"experience\", \"experience\", \"experience\", \"experience\", \"experience\", \"experience\", \"experience\", \"experience\", \"experiences\", \"experiences\", \"experiences\", \"experiences\", \"experiences\", \"experiences\", \"experiences\", \"experiences\", \"experiences\", \"eye\", \"eye\", \"eye\", \"eye\", \"eye\", \"eye\", \"eye\", \"eye\", \"eye\", \"eye\", \"eyes\", \"eyes\", \"eyes\", \"eyes\", \"eyes\", \"eyes\", \"eyes\", \"eyes\", \"eyes\", \"eyes\", \"families\", \"families\", \"families\", \"families\", \"families\", \"families\", \"families\", \"families\", \"family\", \"family\", \"family\", \"family\", \"family\", \"family\", \"family\", \"family\", \"family\", \"family\", \"father\", \"father\", \"father\", \"father\", \"father\", \"father\", \"father\", \"father\", \"feed\", \"feed\", \"feed\", \"feed\", \"feed\", \"feed\", \"feed\", \"feed\", \"feed\", \"feel\", \"feel\", \"feel\", \"feel\", \"feel\", \"feel\", \"feel\", \"feel\", \"feel\", \"feel\", \"feeling\", \"feeling\", \"feeling\", \"feeling\", \"feeling\", \"feeling\", \"feeling\", \"feeling\", \"feeling\", \"feet\", \"feet\", \"feet\", \"feet\", \"feet\", \"feet\", \"feet\", \"feet\", \"female\", \"female\", \"female\", \"female\", \"female\", \"female\", \"film\", \"film\", \"film\", \"film\", \"film\", \"film\", \"film\", \"film\", \"financial\", \"financial\", \"financial\", \"financial\", \"financial\", \"financial\", \"fish\", \"fish\", \"fish\", \"fish\", \"fish\", \"fly\", \"fly\", \"fly\", \"fly\", \"fly\", \"fly\", \"fly\", \"fly\", \"food\", \"food\", \"food\", \"food\", \"food\", \"food\", \"food\", \"food\", \"food\", \"food\", \"forest\", \"forest\", \"forest\", \"forest\", \"friend\", \"friend\", \"friend\", \"friend\", \"friend\", \"friend\", \"friend\", \"friend\", \"friend\", \"friend\", \"future\", \"future\", \"future\", \"future\", \"future\", \"future\", \"future\", \"future\", \"future\", \"future\", \"game\", \"game\", \"game\", \"game\", \"game\", \"game\", \"game\", \"game\", \"game\", \"gas\", \"gas\", \"gas\", \"gas\", \"gas\", \"gas\", \"gas\", \"gas\", \"gender\", \"gender\", \"gender\", \"genes\", \"genes\", \"genes\", \"genes\", \"genes\", \"genetic\", \"genetic\", \"genetic\", \"genetic\", \"genetic\", \"girl\", \"girl\", \"girl\", \"girl\", \"girl\", \"girls\", \"girls\", \"girls\", \"global\", \"global\", \"global\", \"global\", \"global\", \"global\", \"global\", \"global\", \"global\", \"god\", \"god\", \"god\", \"god\", \"god\", \"god\", \"god\", \"god\", \"going\", \"going\", \"going\", \"going\", \"going\", \"going\", \"going\", \"going\", \"going\", \"going\", \"good\", \"good\", \"good\", \"good\", \"good\", \"good\", \"good\", \"good\", \"good\", \"good\", \"got\", \"got\", \"got\", \"got\", \"got\", \"got\", \"got\", \"got\", \"got\", \"got\", \"government\", \"government\", \"government\", \"government\", \"government\", \"government\", \"government\", \"government\", \"government\", \"governments\", \"governments\", \"governments\", \"governments\", \"growth\", \"growth\", \"growth\", \"growth\", \"growth\", \"growth\", \"growth\", \"growth\", \"guy\", \"guy\", \"guy\", \"guy\", \"guy\", \"guy\", \"guy\", \"guys\", \"guys\", \"guys\", \"guys\", \"guys\", \"guys\", \"guys\", \"happy\", \"happy\", \"happy\", \"happy\", \"happy\", \"happy\", \"happy\", \"happy\", \"happy\", \"happy\", \"hate\", \"hate\", \"hate\", \"hate\", \"hate\", \"hate\", \"head\", \"head\", \"head\", \"head\", \"head\", \"head\", \"head\", \"head\", \"head\", \"head\", \"health\", \"health\", \"health\", \"health\", \"health\", \"health\", \"health\", \"health\", \"health\", \"healthy\", \"healthy\", \"healthy\", \"healthy\", \"healthy\", \"healthy\", \"healthy\", \"healthy\", \"healthy\", \"hear\", \"hear\", \"hear\", \"hear\", \"hear\", \"hear\", \"hear\", \"hear\", \"hear\", \"hear\", \"heart\", \"heart\", \"heart\", \"heart\", \"heart\", \"heart\", \"heart\", \"heart\", \"heart\", \"heart\", \"hey\", \"hey\", \"hey\", \"hey\", \"hey\", \"hey\", \"hey\", \"hey\", \"hey\", \"home\", \"home\", \"home\", \"home\", \"home\", \"home\", \"home\", \"home\", \"home\", \"home\", \"hospital\", \"hospital\", \"hospital\", \"hospital\", \"human\", \"human\", \"human\", \"human\", \"human\", \"human\", \"human\", \"human\", \"human\", \"human\", \"ice\", \"ice\", \"ice\", \"ice\", \"ice\", \"ice\", \"ice\", \"identity\", \"identity\", \"identity\", \"identity\", \"identity\", \"identity\", \"identity\", \"image\", \"image\", \"image\", \"image\", \"image\", \"image\", \"image\", \"image\", \"image\", \"image\", \"images\", \"images\", \"images\", \"images\", \"images\", \"images\", \"images\", \"images\", \"income\", \"income\", \"income\", \"income\", \"india\", \"india\", \"india\", \"india\", \"india\", \"india\", \"india\", \"india\", \"information\", \"information\", \"information\", \"information\", \"information\", \"information\", \"information\", \"information\", \"information\", \"information\", \"innovation\", \"innovation\", \"innovation\", \"innovation\", \"innovation\", \"innovation\", \"innovation\", \"innovation\", \"innovation\", \"inside\", \"inside\", \"inside\", \"inside\", \"inside\", \"inside\", \"inside\", \"inside\", \"inside\", \"inside\", \"institutions\", \"institutions\", \"institutions\", \"institutions\", \"institutions\", \"institutions\", \"intelligence\", \"intelligence\", \"intelligence\", \"intelligence\", \"intelligence\", \"intelligence\", \"intelligence\", \"intelligence\", \"interesting\", \"interesting\", \"interesting\", \"interesting\", \"interesting\", \"interesting\", \"interesting\", \"interesting\", \"interesting\", \"interesting\", \"internet\", \"internet\", \"internet\", \"internet\", \"internet\", \"internet\", \"internet\", \"internet\", \"jobs\", \"jobs\", \"jobs\", \"jobs\", \"jobs\", \"jobs\", \"just\", \"just\", \"just\", \"just\", \"just\", \"just\", \"just\", \"just\", \"just\", \"just\", \"justice\", \"justice\", \"justice\", \"justice\", \"justice\", \"justice\", \"kid\", \"kid\", \"kid\", \"kid\", \"kid\", \"kid\", \"kid\", \"kid\", \"kid\", \"kids\", \"kids\", \"kids\", \"kids\", \"kids\", \"kids\", \"kids\", \"kids\", \"killed\", \"killed\", \"killed\", \"killed\", \"killed\", \"killed\", \"killed\", \"killed\", \"kind\", \"kind\", \"kind\", \"kind\", \"kind\", \"kind\", \"kind\", \"kind\", \"kind\", \"kind\", \"know\", \"know\", \"know\", \"know\", \"know\", \"know\", \"know\", \"know\", \"know\", \"know\", \"lab\", \"lab\", \"lab\", \"lab\", \"lab\", \"lab\", \"lab\", \"lab\", \"land\", \"land\", \"land\", \"land\", \"land\", \"land\", \"land\", \"land\", \"land\", \"laughter\", \"laughter\", \"laughter\", \"laughter\", \"laughter\", \"laughter\", \"laughter\", \"laughter\", \"laughter\", \"laughter\", \"leaders\", \"leaders\", \"leaders\", \"leaders\", \"leaders\", \"leaders\", \"let\", \"let\", \"let\", \"let\", \"let\", \"let\", \"let\", \"let\", \"let\", \"let\", \"life\", \"life\", \"life\", \"life\", \"life\", \"life\", \"life\", \"life\", \"life\", \"life\", \"light\", \"light\", \"light\", \"light\", \"light\", \"light\", \"light\", \"light\", \"light\", \"light\", \"like\", \"like\", \"like\", \"like\", \"like\", \"like\", \"like\", \"like\", \"like\", \"like\", \"listening\", \"listening\", \"listening\", \"listening\", \"listening\", \"listening\", \"listening\", \"listening\", \"listening\", \"little\", \"little\", \"little\", \"little\", \"little\", \"little\", \"little\", \"little\", \"little\", \"little\", \"local\", \"local\", \"local\", \"local\", \"local\", \"local\", \"local\", \"local\", \"local\", \"local\", \"look\", \"look\", \"look\", \"look\", \"look\", \"look\", \"look\", \"look\", \"look\", \"look\", \"lot\", \"lot\", \"lot\", \"lot\", \"lot\", \"lot\", \"lot\", \"lot\", \"lot\", \"lot\", \"love\", \"love\", \"love\", \"love\", \"love\", \"love\", \"love\", \"love\", \"love\", \"love\", \"machine\", \"machine\", \"machine\", \"machine\", \"machine\", \"machine\", \"machine\", \"machines\", \"machines\", \"machines\", \"machines\", \"machines\", \"machines\", \"make\", \"make\", \"make\", \"make\", \"make\", \"make\", \"make\", \"make\", \"make\", \"make\", \"male\", \"male\", \"male\", \"male\", \"male\", \"man\", \"man\", \"man\", \"man\", \"man\", \"man\", \"man\", \"man\", \"man\", \"man\", \"map\", \"map\", \"map\", \"map\", \"map\", \"map\", \"map\", \"map\", \"map\", \"market\", \"market\", \"market\", \"market\", \"market\", \"market\", \"market\", \"market\", \"mars\", \"mars\", \"mars\", \"mass\", \"mass\", \"mass\", \"mass\", \"mass\", \"mass\", \"mass\", \"mass\", \"mass\", \"material\", \"material\", \"material\", \"material\", \"material\", \"material\", \"material\", \"material\", \"materials\", \"materials\", \"materials\", \"materials\", \"materials\", \"mean\", \"mean\", \"mean\", \"mean\", \"mean\", \"mean\", \"mean\", \"mean\", \"mean\", \"mean\", \"media\", \"media\", \"media\", \"media\", \"media\", \"media\", \"media\", \"media\", \"medical\", \"medical\", \"medical\", \"medical\", \"medical\", \"medical\", \"medical\", \"medical\", \"medical\", \"medicine\", \"medicine\", \"medicine\", \"medicine\", \"medicine\", \"medicine\", \"memory\", \"memory\", \"memory\", \"memory\", \"memory\", \"memory\", \"memory\", \"men\", \"men\", \"men\", \"men\", \"men\", \"men\", \"men\", \"men\", \"mental\", \"mental\", \"mental\", \"mental\", \"mental\", \"mental\", \"mental\", \"miles\", \"miles\", \"miles\", \"miles\", \"miles\", \"miles\", \"miles\", \"miles\", \"miles\", \"miles\", \"million\", \"million\", \"million\", \"million\", \"million\", \"million\", \"million\", \"million\", \"million\", \"million\", \"mind\", \"mind\", \"mind\", \"mind\", \"mind\", \"mind\", \"mind\", \"mind\", \"mind\", \"mind\", \"mobile\", \"mobile\", \"mobile\", \"mobile\", \"mobile\", \"mobile\", \"mobile\", \"models\", \"models\", \"models\", \"models\", \"models\", \"models\", \"models\", \"models\", \"models\", \"money\", \"money\", \"money\", \"money\", \"money\", \"money\", \"money\", \"money\", \"money\", \"moon\", \"moon\", \"moon\", \"moon\", \"moon\", \"moon\", \"mother\", \"mother\", \"mother\", \"mother\", \"mother\", \"mother\", \"mother\", \"mother\", \"mother\", \"movement\", \"movement\", \"movement\", \"movement\", \"movement\", \"movement\", \"movement\", \"movement\", \"movement\", \"music\", \"music\", \"music\", \"music\", \"music\", \"music\", \"music\", \"nature\", \"nature\", \"nature\", \"nature\", \"nature\", \"nature\", \"nature\", \"nature\", \"nature\", \"need\", \"need\", \"need\", \"need\", \"need\", \"need\", \"need\", \"need\", \"need\", \"need\", \"new\", \"new\", \"new\", \"new\", \"new\", \"new\", \"new\", \"new\", \"new\", \"new\", \"nice\", \"nice\", \"nice\", \"nice\", \"nice\", \"nice\", \"nice\", \"nice\", \"nice\", \"nuclear\", \"nuclear\", \"nuclear\", \"nuclear\", \"nuclear\", \"objects\", \"objects\", \"objects\", \"objects\", \"ocean\", \"ocean\", \"ocean\", \"oil\", \"oil\", \"oil\", \"oil\", \"oil\", \"oil\", \"okay\", \"okay\", \"okay\", \"okay\", \"okay\", \"okay\", \"okay\", \"okay\", \"old\", \"old\", \"old\", \"old\", \"old\", \"old\", \"old\", \"old\", \"old\", \"old\", \"organizations\", \"organizations\", \"organizations\", \"organizations\", \"organizations\", \"organizations\", \"pain\", \"pain\", \"pain\", \"pain\", \"pain\", \"pain\", \"parents\", \"parents\", \"parents\", \"parents\", \"parents\", \"parents\", \"parents\", \"parts\", \"parts\", \"parts\", \"parts\", \"parts\", \"parts\", \"parts\", \"parts\", \"parts\", \"party\", \"party\", \"party\", \"party\", \"party\", \"party\", \"party\", \"party\", \"patient\", \"patient\", \"patient\", \"patient\", \"patient\", \"patient\", \"patients\", \"pay\", \"pay\", \"pay\", \"pay\", \"pay\", \"pay\", \"pay\", \"pay\", \"pay\", \"peace\", \"peace\", \"peace\", \"peace\", \"peace\", \"peace\", \"people\", \"people\", \"people\", \"people\", \"people\", \"people\", \"people\", \"people\", \"people\", \"people\", \"percent\", \"percent\", \"percent\", \"percent\", \"percent\", \"percent\", \"percent\", \"percent\", \"percent\", \"percent\", \"performance\", \"performance\", \"performance\", \"performance\", \"performance\", \"performance\", \"performance\", \"performance\", \"planet\", \"planet\", \"planet\", \"planet\", \"planet\", \"planet\", \"planet\", \"planet\", \"planet\", \"plant\", \"plant\", \"plant\", \"plant\", \"plant\", \"plant\", \"plant\", \"plant\", \"plants\", \"plants\", \"plants\", \"plastic\", \"plastic\", \"plastic\", \"plastic\", \"plastic\", \"plastic\", \"play\", \"play\", \"play\", \"play\", \"play\", \"play\", \"play\", \"play\", \"play\", \"playing\", \"playing\", \"playing\", \"playing\", \"playing\", \"playing\", \"playing\", \"playing\", \"playing\", \"police\", \"police\", \"police\", \"police\", \"police\", \"policy\", \"policy\", \"policy\", \"policy\", \"policy\", \"political\", \"political\", \"political\", \"political\", \"political\", \"political\", \"politics\", \"politics\", \"politics\", \"politics\", \"politics\", \"politics\", \"population\", \"population\", \"population\", \"population\", \"population\", \"population\", \"population\", \"population\", \"population\", \"power\", \"power\", \"power\", \"power\", \"power\", \"power\", \"power\", \"power\", \"power\", \"power\", \"pressure\", \"pressure\", \"pressure\", \"pressure\", \"pressure\", \"pressure\", \"pressure\", \"pressure\", \"pressure\", \"prison\", \"prison\", \"prison\", \"prison\", \"prison\", \"private\", \"private\", \"private\", \"private\", \"private\", \"private\", \"private\", \"private\", \"private\", \"private\", \"problem\", \"problem\", \"problem\", \"problem\", \"problem\", \"problem\", \"problem\", \"problem\", \"problem\", \"problem\", \"production\", \"production\", \"production\", \"production\", \"production\", \"production\", \"project\", \"project\", \"project\", \"project\", \"project\", \"project\", \"project\", \"project\", \"project\", \"project\", \"projects\", \"projects\", \"projects\", \"projects\", \"projects\", \"projects\", \"projects\", \"projects\", \"really\", \"really\", \"really\", \"really\", \"really\", \"really\", \"really\", \"really\", \"really\", \"really\", \"record\", \"record\", \"record\", \"record\", \"record\", \"record\", \"record\", \"record\", \"record\", \"record\", \"reduce\", \"reduce\", \"reduce\", \"reduce\", \"reduce\", \"reduce\", \"reduce\", \"reduce\", \"relationships\", \"relationships\", \"relationships\", \"relationships\", \"relationships\", \"relationships\", \"relationships\", \"research\", \"research\", \"research\", \"research\", \"research\", \"research\", \"research\", \"research\", \"research\", \"research\", \"right\", \"right\", \"right\", \"right\", \"right\", \"right\", \"right\", \"right\", \"right\", \"right\", \"rights\", \"rights\", \"rights\", \"rights\", \"risk\", \"risk\", \"risk\", \"risk\", \"risk\", \"risk\", \"risk\", \"risk\", \"risk\", \"river\", \"river\", \"river\", \"river\", \"river\", \"river\", \"river\", \"robot\", \"robot\", \"robot\", \"robot\", \"robots\", \"robots\", \"robots\", \"robots\", \"robots\", \"role\", \"role\", \"role\", \"role\", \"role\", \"role\", \"role\", \"role\", \"role\", \"role\", \"said\", \"said\", \"said\", \"said\", \"said\", \"said\", \"said\", \"said\", \"said\", \"said\", \"say\", \"say\", \"say\", \"say\", \"say\", \"say\", \"say\", \"say\", \"say\", \"say\", \"saying\", \"saying\", \"saying\", \"saying\", \"saying\", \"saying\", \"saying\", \"saying\", \"saying\", \"says\", \"says\", \"says\", \"says\", \"says\", \"says\", \"says\", \"says\", \"says\", \"says\", \"school\", \"school\", \"school\", \"school\", \"school\", \"school\", \"school\", \"school\", \"school\", \"school\", \"schools\", \"schools\", \"schools\", \"schools\", \"schools\", \"schools\", \"schools\", \"science\", \"science\", \"science\", \"science\", \"science\", \"science\", \"science\", \"science\", \"science\", \"science\", \"scientific\", \"scientific\", \"scientific\", \"scientific\", \"scientific\", \"scientific\", \"scientific\", \"scientific\", \"scientists\", \"scientists\", \"scientists\", \"scientists\", \"scientists\", \"scientists\", \"scientists\", \"scientists\", \"scientists\", \"scientists\", \"sea\", \"sea\", \"sea\", \"sea\", \"sea\", \"sea\", \"sea\", \"security\", \"security\", \"security\", \"security\", \"security\", \"security\", \"security\", \"services\", \"services\", \"services\", \"services\", \"services\", \"services\", \"sex\", \"sex\", \"sex\", \"sex\", \"sex\", \"sexual\", \"sexual\", \"sexual\", \"sexual\", \"site\", \"site\", \"site\", \"site\", \"site\", \"site\", \"site\", \"site\", \"site\", \"size\", \"size\", \"size\", \"size\", \"size\", \"size\", \"size\", \"size\", \"size\", \"size\", \"skin\", \"skin\", \"skin\", \"skin\", \"skin\", \"skin\", \"skin\", \"skin\", \"sleep\", \"sleep\", \"sleep\", \"sleep\", \"sleep\", \"sleep\", \"sleep\", \"sleep\", \"social\", \"social\", \"social\", \"social\", \"social\", \"social\", \"social\", \"social\", \"social\", \"social\", \"software\", \"software\", \"software\", \"software\", \"software\", \"software\", \"solar\", \"solar\", \"solar\", \"solutions\", \"solutions\", \"solutions\", \"solutions\", \"solutions\", \"solutions\", \"solutions\", \"solutions\", \"somebody\", \"somebody\", \"somebody\", \"somebody\", \"somebody\", \"somebody\", \"somebody\", \"somebody\", \"son\", \"son\", \"son\", \"son\", \"son\", \"son\", \"son\", \"sound\", \"sound\", \"sound\", \"sound\", \"sound\", \"sound\", \"sound\", \"sound\", \"sound\", \"sound\", \"sounds\", \"sounds\", \"sounds\", \"sounds\", \"sounds\", \"sounds\", \"sounds\", \"sounds\", \"sounds\", \"sounds\", \"space\", \"space\", \"space\", \"space\", \"space\", \"space\", \"space\", \"space\", \"space\", \"species\", \"species\", \"species\", \"species\", \"species\", \"species\", \"species\", \"star\", \"star\", \"star\", \"star\", \"star\", \"star\", \"star\", \"stories\", \"stories\", \"stories\", \"stories\", \"stories\", \"stories\", \"stories\", \"stories\", \"stories\", \"stories\", \"stress\", \"stress\", \"stress\", \"stress\", \"stress\", \"stress\", \"stress\", \"stress\", \"structure\", \"structure\", \"structure\", \"structure\", \"structure\", \"structure\", \"structure\", \"structure\", \"structure\", \"structure\", \"students\", \"students\", \"students\", \"students\", \"students\", \"students\", \"students\", \"students\", \"students\", \"studies\", \"studies\", \"studies\", \"studies\", \"studies\", \"studies\", \"studies\", \"studies\", \"studies\", \"study\", \"study\", \"study\", \"study\", \"study\", \"study\", \"study\", \"study\", \"study\", \"study\", \"stuff\", \"stuff\", \"stuff\", \"stuff\", \"stuff\", \"stuff\", \"stuff\", \"stuff\", \"stuff\", \"success\", \"success\", \"success\", \"success\", \"success\", \"success\", \"success\", \"success\", \"success\", \"sun\", \"sun\", \"sun\", \"sun\", \"sun\", \"sun\", \"sun\", \"surface\", \"surface\", \"surface\", \"surface\", \"surface\", \"surface\", \"surface\", \"surface\", \"surface\", \"surface\", \"talk\", \"talk\", \"talk\", \"talk\", \"talk\", \"talk\", \"talk\", \"talk\", \"talk\", \"talk\", \"teacher\", \"teacher\", \"teacher\", \"teacher\", \"teacher\", \"teacher\", \"teachers\", \"teachers\", \"teachers\", \"teachers\", \"technology\", \"technology\", \"technology\", \"technology\", \"technology\", \"technology\", \"technology\", \"technology\", \"technology\", \"technology\", \"ted\", \"ted\", \"ted\", \"ted\", \"ted\", \"ted\", \"ted\", \"ted\", \"ted\", \"tell\", \"tell\", \"tell\", \"tell\", \"tell\", \"tell\", \"tell\", \"tell\", \"tell\", \"tell\", \"thank\", \"thank\", \"thank\", \"thank\", \"thank\", \"thank\", \"thank\", \"thank\", \"thank\", \"thank\", \"theory\", \"theory\", \"theory\", \"theory\", \"theory\", \"theory\", \"theory\", \"theory\", \"thing\", \"thing\", \"thing\", \"thing\", \"thing\", \"thing\", \"thing\", \"thing\", \"thing\", \"thing\", \"things\", \"things\", \"things\", \"things\", \"things\", \"things\", \"things\", \"things\", \"things\", \"things\", \"think\", \"think\", \"think\", \"think\", \"think\", \"think\", \"think\", \"think\", \"think\", \"think\", \"thought\", \"thought\", \"thought\", \"thought\", \"thought\", \"thought\", \"thought\", \"thought\", \"thought\", \"thought\", \"time\", \"time\", \"time\", \"time\", \"time\", \"time\", \"time\", \"time\", \"time\", \"time\", \"tiny\", \"tiny\", \"tiny\", \"tiny\", \"tiny\", \"tiny\", \"tiny\", \"tiny\", \"tiny\", \"today\", \"today\", \"today\", \"today\", \"today\", \"today\", \"today\", \"today\", \"today\", \"today\", \"touch\", \"touch\", \"touch\", \"touch\", \"touch\", \"touch\", \"touch\", \"touch\", \"touch\", \"town\", \"town\", \"town\", \"town\", \"town\", \"town\", \"town\", \"treat\", \"treat\", \"treat\", \"treat\", \"treat\", \"treat\", \"treat\", \"treat\", \"treat\", \"treatment\", \"treatment\", \"treatment\", \"treatment\", \"treatment\", \"tree\", \"tree\", \"tree\", \"tree\", \"tree\", \"tree\", \"trees\", \"trees\", \"trees\", \"trees\", \"trees\", \"trees\", \"trust\", \"trust\", \"trust\", \"trust\", \"trust\", \"trust\", \"trust\", \"trust\", \"turns\", \"turns\", \"turns\", \"turns\", \"turns\", \"turns\", \"turns\", \"turns\", \"turns\", \"type\", \"type\", \"type\", \"type\", \"type\", \"type\", \"type\", \"type\", \"type\", \"type\", \"types\", \"types\", \"types\", \"types\", \"types\", \"types\", \"types\", \"types\", \"types\", \"types\", \"universe\", \"universe\", \"universe\", \"universe\", \"universe\", \"use\", \"use\", \"use\", \"use\", \"use\", \"use\", \"use\", \"use\", \"use\", \"use\", \"used\", \"used\", \"used\", \"used\", \"used\", \"used\", \"used\", \"used\", \"used\", \"used\", \"using\", \"using\", \"using\", \"using\", \"using\", \"using\", \"using\", \"using\", \"using\", \"using\", \"value\", \"value\", \"value\", \"value\", \"value\", \"value\", \"value\", \"value\", \"value\", \"value\", \"values\", \"values\", \"values\", \"values\", \"values\", \"values\", \"values\", \"video\", \"video\", \"video\", \"video\", \"video\", \"video\", \"video\", \"video\", \"video\", \"village\", \"village\", \"village\", \"village\", \"village\", \"village\", \"village\", \"violence\", \"violence\", \"violence\", \"violence\", \"violence\", \"violence\", \"virus\", \"virus\", \"virus\", \"virus\", \"virus\", \"visual\", \"visual\", \"visual\", \"visual\", \"visual\", \"visual\", \"voice\", \"voice\", \"voice\", \"voice\", \"voice\", \"voice\", \"voice\", \"wall\", \"wall\", \"wall\", \"wall\", \"wall\", \"wall\", \"wall\", \"wall\", \"wall\", \"want\", \"want\", \"want\", \"want\", \"want\", \"want\", \"want\", \"want\", \"want\", \"want\", \"war\", \"war\", \"war\", \"war\", \"war\", \"war\", \"war\", \"war\", \"war\", \"war\", \"waste\", \"waste\", \"waste\", \"waste\", \"waste\", \"water\", \"water\", \"water\", \"water\", \"water\", \"water\", \"water\", \"water\", \"water\", \"way\", \"way\", \"way\", \"way\", \"way\", \"way\", \"way\", \"way\", \"way\", \"way\", \"wealth\", \"wealth\", \"wealth\", \"wealth\", \"wealth\", \"web\", \"web\", \"web\", \"web\", \"web\", \"went\", \"went\", \"went\", \"went\", \"went\", \"went\", \"went\", \"went\", \"went\", \"went\", \"white\", \"white\", \"white\", \"white\", \"white\", \"white\", \"white\", \"white\", \"white\", \"white\", \"woman\", \"woman\", \"woman\", \"woman\", \"woman\", \"woman\", \"woman\", \"women\", \"women\", \"women\", \"women\", \"women\", \"women\", \"wonderful\", \"wonderful\", \"wonderful\", \"wonderful\", \"wonderful\", \"wonderful\", \"wonderful\", \"wonderful\", \"wonderful\", \"wonderful\", \"word\", \"word\", \"word\", \"word\", \"word\", \"word\", \"word\", \"word\", \"word\", \"work\", \"work\", \"work\", \"work\", \"work\", \"work\", \"work\", \"work\", \"work\", \"work\", \"world\", \"world\", \"world\", \"world\", \"world\", \"world\", \"world\", \"world\", \"world\", \"world\", \"write\", \"write\", \"write\", \"write\", \"write\", \"write\", \"write\", \"write\", \"writing\", \"writing\", \"writing\", \"writing\", \"writing\", \"writing\", \"writing\", \"writing\", \"wrote\", \"wrote\", \"wrote\", \"wrote\", \"wrote\", \"wrote\", \"wrote\", \"wrote\", \"wrote\", \"yeah\", \"yeah\", \"yeah\", \"yeah\", \"yeah\", \"yeah\", \"yeah\", \"year\", \"year\", \"year\", \"year\", \"year\", \"year\", \"year\", \"year\", \"year\", \"year\", \"years\", \"years\", \"years\", \"years\", \"years\", \"years\", \"years\", \"years\", \"years\", \"years\", \"young\", \"young\", \"young\", \"young\", \"young\", \"young\", \"young\", \"young\", \"young\", \"young\"]}, \"R\": 30, \"lambda.step\": 0.01, \"plot.opts\": {\"xlab\": \"PC1\", \"ylab\": \"PC2\"}, \"topic.order\": [1, 9, 8, 7, 3, 10, 5, 4, 2, 6]};\n",
       "\n",
       "function LDAvis_load_lib(url, callback){\n",
       "  var s = document.createElement('script');\n",
       "  s.src = url;\n",
       "  s.async = true;\n",
       "  s.onreadystatechange = s.onload = callback;\n",
       "  s.onerror = function(){console.warn(\"failed to load library \" + url);};\n",
       "  document.getElementsByTagName(\"head\")[0].appendChild(s);\n",
       "}\n",
       "\n",
       "if(typeof(LDAvis) !== \"undefined\"){\n",
       "   // already loaded: just create the visualization\n",
       "   !function(LDAvis){\n",
       "       new LDAvis(\"#\" + \"ldavis_el492821152856331048870617964\", ldavis_el492821152856331048870617964_data);\n",
       "   }(LDAvis);\n",
       "}else if(typeof define === \"function\" && define.amd){\n",
       "   // require.js is available: use it to load d3/LDAvis\n",
       "   require.config({paths: {d3: \"https://cdnjs.cloudflare.com/ajax/libs/d3/3.5.5/d3.min\"}});\n",
       "   require([\"d3\"], function(d3){\n",
       "      window.d3 = d3;\n",
       "      LDAvis_load_lib(\"https://cdn.rawgit.com/bmabey/pyLDAvis/files/ldavis.v1.0.0.js\", function(){\n",
       "        new LDAvis(\"#\" + \"ldavis_el492821152856331048870617964\", ldavis_el492821152856331048870617964_data);\n",
       "      });\n",
       "    });\n",
       "}else{\n",
       "    // require.js not available: dynamically load d3 & LDAvis\n",
       "    LDAvis_load_lib(\"https://cdnjs.cloudflare.com/ajax/libs/d3/3.5.5/d3.min.js\", function(){\n",
       "         LDAvis_load_lib(\"https://cdn.rawgit.com/bmabey/pyLDAvis/files/ldavis.v1.0.0.js\", function(){\n",
       "                 new LDAvis(\"#\" + \"ldavis_el492821152856331048870617964\", ldavis_el492821152856331048870617964_data);\n",
       "            })\n",
       "         });\n",
       "}\n",
       "</script>"
      ],
      "text/plain": [
       "PreparedData(topic_coordinates=              x         y  topics  cluster       Freq\n",
       "topic                                                \n",
       "0     -0.055022 -0.088597       1        1  22.912454\n",
       "8     -0.014855  0.020415       2        1  17.915434\n",
       "7     -0.090149 -0.016953       3        1  14.061542\n",
       "6      0.072517 -0.003636       4        1  10.126837\n",
       "2      0.058091  0.132755       5        1   6.858479\n",
       "9      0.136173 -0.061365       6        1   6.739729\n",
       "4      0.013190 -0.085290       7        1   6.280845\n",
       "3      0.090023  0.032185       8        1   5.367386\n",
       "1     -0.102877  0.138678       9        1   5.085036\n",
       "5     -0.107091 -0.068191      10        1   4.652259, topic_info=    Category         Freq    Term         Total  loglift  logprob\n",
       "971  Default  3360.000000   women   3360.000000  30.0000  30.0000\n",
       "82   Default  2194.000000   brain   2194.000000  29.0000  29.0000\n",
       "384  Default  2162.000000  health   2162.000000  28.0000  28.0000\n",
       "549  Default  1690.000000     men   1690.000000  27.0000  27.0000\n",
       "578  Default  1778.000000   music   1778.000000  26.0000  26.0000\n",
       "..       ...          ...     ...           ...      ...      ...\n",
       "730  Topic10   299.524182   right   6826.632467  -0.0586  -5.1403\n",
       "885  Topic10   306.118302   think  10468.192690  -0.4643  -5.1185\n",
       "958  Topic10   280.508384     way   7853.946053  -0.2644  -5.2059\n",
       "586  Topic10   268.022784    need   5908.103068  -0.0252  -5.2514\n",
       "890  Topic10   262.550882    time   9656.443971  -0.5371  -5.2720\n",
       "\n",
       "[570 rows x 6 columns], token_table=      Topic      Freq   Term\n",
       "term                        \n",
       "0         1  0.014470    000\n",
       "0         2  0.214852    000\n",
       "0         3  0.169251    000\n",
       "0         4  0.111811    000\n",
       "0         5  0.138996    000\n",
       "...     ...       ...    ...\n",
       "998       6  0.001237  young\n",
       "998       7  0.014225  young\n",
       "998       8  0.012988  young\n",
       "998       9  0.018555  young\n",
       "998      10  0.161428  young\n",
       "\n",
       "[3104 rows x 3 columns], R=30, lambda_step=0.01, plot_opts={'xlab': 'PC1', 'ylab': 'PC2'}, topic_order=[1, 9, 8, 7, 3, 10, 5, 4, 2, 6])"
      ]
     },
     "execution_count": 181,
     "metadata": {},
     "output_type": "execute_result"
    }
   ],
   "source": [
    "pyLDAvis.enable_notebook()\n",
    "\n",
    "panel = pyLDAvis.sklearn.prepare(lda_model, data_vectorized, vectorizer)\n",
    "panel"
   ]
  },
  {
   "cell_type": "code",
   "execution_count": null,
   "metadata": {},
   "outputs": [],
   "source": []
  },
  {
   "cell_type": "code",
   "execution_count": null,
   "metadata": {},
   "outputs": [],
   "source": []
  },
  {
   "cell_type": "code",
   "execution_count": null,
   "metadata": {},
   "outputs": [],
   "source": []
  },
  {
   "cell_type": "code",
   "execution_count": null,
   "metadata": {},
   "outputs": [],
   "source": []
  },
  {
   "cell_type": "code",
   "execution_count": null,
   "metadata": {},
   "outputs": [],
   "source": []
  },
  {
   "cell_type": "code",
   "execution_count": null,
   "metadata": {},
   "outputs": [],
   "source": []
  },
  {
   "cell_type": "code",
   "execution_count": null,
   "metadata": {},
   "outputs": [],
   "source": []
  },
  {
   "cell_type": "code",
   "execution_count": null,
   "metadata": {},
   "outputs": [],
   "source": []
  },
  {
   "cell_type": "code",
   "execution_count": null,
   "metadata": {},
   "outputs": [],
   "source": []
  },
  {
   "cell_type": "code",
   "execution_count": 84,
   "metadata": {},
   "outputs": [],
   "source": [
    "#stemmer=LancasterStemmer()\n",
    "#porter=PorterStemmer()"
   ]
  },
  {
   "cell_type": "code",
   "execution_count": 85,
   "metadata": {},
   "outputs": [],
   "source": [
    "englishStemmer=SnowballStemmer(\"english\", ignore_stopwords=True)\n",
    "def stemComment(comment_line):\n",
    "    token_words=word_tokenize(comment_line)\n",
    "    stem_line=[]\n",
    "    for word in token_words:\n",
    "        stem_line.append(englishStemmer.stem(word))\n",
    "        stem_line.append(\" \")\n",
    "    return \"\".join(stem_line)"
   ]
  },
  {
   "cell_type": "code",
   "execution_count": 86,
   "metadata": {},
   "outputs": [],
   "source": [
    "stop_words = set(stopwords.words('english'))\n",
    "\n",
    "def remove_stop_words(comment_line):\n",
    "    token_words=word_tokenize(str(comment_line))\n",
    "    filtered_comment_line = [w for w in token_words if not w in stop_words] \n",
    "    \n",
    "    return \" \".join(filtered_comment_line)"
   ]
  },
  {
   "cell_type": "code",
   "execution_count": 87,
   "metadata": {},
   "outputs": [],
   "source": [
    "alphanumeric = lambda x: re.sub('\\w*\\d\\w*', ' ', x)\n",
    "punc_lower = lambda x: re.sub('[%s]' % re.escape(string.punctuation), ' ', x.lower())"
   ]
  },
  {
   "cell_type": "code",
   "execution_count": 88,
   "metadata": {},
   "outputs": [],
   "source": [
    "df['transcript'] = df['transcript'].map(remove_stop_words).map(alphanumeric).map(punc_lower)"
   ]
  },
  {
   "cell_type": "code",
   "execution_count": 89,
   "metadata": {},
   "outputs": [],
   "source": [
    "#https://stackoverflow.com/questions/29270917/removing-custom-stop-words-form-a-phrase-in-python\n",
    "my_stop_words_lst = ['ted', 'text', 'thank', 'you']\n",
    "\n",
    "for w in my_stop_words_lst:\n",
    "    pattern = r'\\b'+w+r'\\b'\n",
    "    custom_stop = lambda x: re.sub(pattern, ' ', x)\n",
    "    df['transcript'] = df['transcript'].map(custom_stop)"
   ]
  },
  {
   "cell_type": "code",
   "execution_count": 90,
   "metadata": {},
   "outputs": [],
   "source": [
    "df['transcript'] = df['transcript'].map(stemComment)"
   ]
  },
  {
   "cell_type": "code",
   "execution_count": 91,
   "metadata": {},
   "outputs": [
    {
     "data": {
      "text/html": [
       "<div>\n",
       "<style scoped>\n",
       "    .dataframe tbody tr th:only-of-type {\n",
       "        vertical-align: middle;\n",
       "    }\n",
       "\n",
       "    .dataframe tbody tr th {\n",
       "        vertical-align: top;\n",
       "    }\n",
       "\n",
       "    .dataframe thead th {\n",
       "        text-align: right;\n",
       "    }\n",
       "</style>\n",
       "<table border=\"1\" class=\"dataframe\">\n",
       "  <thead>\n",
       "    <tr style=\"text-align: right;\">\n",
       "      <th></th>\n",
       "      <th>video_id</th>\n",
       "      <th>transcript</th>\n",
       "    </tr>\n",
       "  </thead>\n",
       "  <tbody>\n",
       "    <tr>\n",
       "      <td>0</td>\n",
       "      <td>YgAuFqEs6yk</td>\n",
       "      <td>i rememb watch father rais pistol mother s hea...</td>\n",
       "    </tr>\n",
       "    <tr>\n",
       "      <td>1</td>\n",
       "      <td>bNmRr-BYnxA</td>\n",
       "      <td>transcrib joseph geni nreview camill martínez ...</td>\n",
       "    </tr>\n",
       "    <tr>\n",
       "      <td>2</td>\n",
       "      <td>FVUkKKc3Vvk</td>\n",
       "      <td>hi everyon name elizabeth and i work trade flo...</td>\n",
       "    </tr>\n",
       "    <tr>\n",
       "      <td>3</td>\n",
       "      <td>8bj0GR34XWc</td>\n",
       "      <td>transcrib ivana korom nreview krystian aparta ...</td>\n",
       "    </tr>\n",
       "    <tr>\n",
       "      <td>4</td>\n",
       "      <td>eaCrsBtiYA4</td>\n",
       "      <td>i public polici wonk i investig data point pro...</td>\n",
       "    </tr>\n",
       "  </tbody>\n",
       "</table>\n",
       "</div>"
      ],
      "text/plain": [
       "      video_id                                         transcript\n",
       "0  YgAuFqEs6yk  i rememb watch father rais pistol mother s hea...\n",
       "1  bNmRr-BYnxA  transcrib joseph geni nreview camill martínez ...\n",
       "2  FVUkKKc3Vvk  hi everyon name elizabeth and i work trade flo...\n",
       "3  8bj0GR34XWc  transcrib ivana korom nreview krystian aparta ...\n",
       "4  eaCrsBtiYA4  i public polici wonk i investig data point pro..."
      ]
     },
     "execution_count": 91,
     "metadata": {},
     "output_type": "execute_result"
    }
   ],
   "source": [
    "df.head()"
   ]
  },
  {
   "cell_type": "code",
   "execution_count": 92,
   "metadata": {},
   "outputs": [
    {
     "data": {
      "text/plain": [
       "'transcrib joseph geni nreview camill martínez i never thought i would give nmi talk somewher like but like half human i ve spent last nfour week lockdown due global pandem ncreat covid i extrem fortun nthat time i ve abl come wood nnear home southern england these wood alway inspir and human tri think about nhow find inspir to retak control action terribl thing ndo n t come road without us take action avert i thought good place nfor us talk and i d like begin nthat stori six year ago when i first join nthe unit nation now i firm believ nthat un unparallel import in world right to promot collabor cooper but n t tell join is essenti work deliv main form nof extrem bore meet extrem long bore meet now may feel attend nsome long bore meet life i m sure but un meet next level and everyon work there napproach level calm normal achiev zen master but i n t readi i join expect drama nand tension breakthrough what i n t readi was process seem move nat speed glacier at speed glacier nuse move now middl nof one long meet i hand note and hand me nbi friend colleagu coauthor christiana figuer christiana execut secretari of un framework convent non climat chang and overal respons for un reach would becom nthe pari agreement i run polit strategi so hand note i assum would contain ndetail polit instruct about go get of nthis nightmar quagmir that seem trap i took note look it said pain but let s approach love now i love note lot reason i love way littl tendril nare come word pain it realli good visual depict nof i felt moment but i particular love it nbecaus i look i realiz was na polit instruct and go nto success this go so let explain what i d feel meet nwas actual control i move life brooklyn nin new york bonn germani with extrem reluct nsupport wife my children school nwhere could n t speak languag and i thought deal nfor disrupt world was i would degre nof control go happen i felt year climat crisi nis defin challeng of generat and i readi play part nand someth human but i put hand lever nof control i d given and pull and noth happen i realiz thing i could control nwere menial day to day thing do i ride bike work nand where i lunch wherea thing nthat go determin whether go success were issu like will russia nwreck negoti will china take respons nfor emiss will us help poorer countri ndeal burden climat chang the differenti felt huge i could see way i could bridg two it felt futil i began feel i d made mistak i began get depress but even moment i realiz i feel nhad lot similar i d felt i first found out nabout climat crisi year i d spent mani most nformat year buddhist monk in earli but i left monast life nbecaus even year ago i felt climat crisi alreadi na quick unfold emerg and i want part but i d left nand i rejoin world i look i could control it ton emiss nand immedi famili which polit parti ni vote everi year whether i went march two and i look issu nthat would determin outcom and big ngeopolit negoti massiv infrastructur spend plan what everybodi els the differenti felt huge i could n t see way nthat i could bridg i kept tri take action n t realli stick it felt futil now know be na common experi mani peopl and mayb experi when face enorm challeng n t feel have nani agenc control our mind do na littl trick protect us we n t like feel nlike re control face big forc so mind tell us n mayb it s import mayb it s happen nin way peopl say anyway or play role there s noth nindividu tri but s someth odd go is realli true human only ntake sustain dedic action on issu paramount import when feel have na high degre control look pictur these peopl caregiv nurs who help human nface coronavirus covid as swept around world nas pandem last month are peopl abl prevent nthe spread diseas no are abl prevent ntheir patient die some abl prevent but other been nbeyond control does make contribut nfutil meaningless actual s offens neven suggest what care nfor fellow human be at moment greatest vulner and work huge mean to point i only nhave show pictur for becom evid that courag human nthose peopl demonstr make work nsome meaning thing that done human be even though can t ncontrol outcom now s interest because show us nthat human capabl of take dedic sustain action even ca n t control outcom but leav us anoth challeng with climat crisi the action take nis separ impact wherea happen nwith imag is nurs sustain not nbi lofti goal chang world but day to day satisfact nof care anoth human through moment weak with climat crisi nwe huge separ it use were nsepar time the impact climat crisi nwere suppos way futur but right futur nhas come meet us contin fire citi go underwat countri go underwat hundr thousand peopl are non move result climat chang but even impact longer nsepar us time re still separ us way nthat make difficult feel that direct connect they happen somewher els nto somebodi els us differ way nthan re use experienc so even though stori nurs ndemonstr someth us about human natur re go find differ way of deal climat crisi nin sustain manner there way power combin nof deep support attitud that combin nwith consist action can enabl whole societi take ndedic action sustain way toward share goal it s use great effect nthroughout histori so let give na histor stori explain right i stand wood nnear home southern england and particular wood nare far london eighti year ago nthat citi attack in late the peopl britain would anyth nto avoid face realiti that hitler would stop noth nto conquer europ fresh memori nfrom first world war they terrifi nazi aggress and would anyth avoid nface realiti in end realiti broke churchil rememb mani thing nand posit but did nin earli day war was chang stori nthe peopl britain told about doing nand come where previous been ntrepid nervous fear there came calm resolv an island alon greatest hour greatest generat countri would fight them non beach hill and street countri would never surrend that chang fear trepid to face realiti whatev nit howev dark had noth likelihood nof win war there news front nthat battl go better or even point that na power new alli join fight and chang odd favor it simpli choic a deep determin stubborn nform optim emerg not avoid deni dark nthat press but refus cow that stubborn optim power it depend assum nthat outcom go good or form wish think nabout futur howev is nit anim action and infus mean we know time despit risk nand despit challeng it meaning time full purpos and multipl account confirm that action rang nfrom pilot battl britain to simpl act pull npotato soil becam infus mean they anim toward na share purpos share outcom we seen throughout histori this coupl deep determin nstubborn optim action when optim lead nto determin action then becom self sustain without stubborn optim nthe action n t sustain without action stubborn optim nis attitud the two togeth transform nan entir issu chang world we saw multipl time we saw rosa park nrefus get bus we saw gandhi s nlong salt march beach we saw suffragett said that n courag call courag everywher and saw kennedi said nthat within year he would put man moon that electrifi generat nand focus share goal against dark frighten adversari even though n t know nhow would achiev in case realist gritti nbut determin stubborn optim was result success it caus that also how nthe transform happen on road pari agreement those challeng difficult npessimist meet transform as peopl decid nthat moment dig and determin would not ndrop ball watch and would deliv outcom nthat knew possibl more peopl transform nthemselv perspect and began work and end work way nup wave momentum that crash us and deliv mani nof challeng issu with better outcom nthan could possibl imagin and even year later with na climat denier white hous much put motion nin day still unfold and everyth play for nin come month year on deal climat crisi so right come through none challeng period in live us the global pandem frighten whether person tragedi nhas involv but also shaken belief nthat powerless in face great chang in space week we mobil point where nhalf human took drastic action to protect vulner if re capabl mayb yet test nthe limit human when rise meet share challeng we need move beyond nthis narrat powerless because make mistak the climat crisi order nof magnitud wors pandem if take action nthat still take to avert tragedi see ncome toward us we longer afford luxuri nof feel powerless the truth futur generat will look back this nprecis moment awe as stand crossroad nbetween regen futur and one thrown away and truth lot go npretti well us transit cost clean energi come citi transform nland regener peopl street ncall chang with verv tenac we seen generat genuin success possibl nin transit and genuin failur possibl which make most nexcit time aliv we take decis right now nthat approach challeng with stubborn form gritti nrealist determin optim and everyth within power nto ensur shape path as come pandem ntoward regen futur we decid be nhope beacon human even dark day ahead and decid nthat respons we reduc emiss nbi least percent in next year and take action engag nwith govern corpor to ensur necessari ncome pandem to rebuild world want right these nthing possibl so let s go back nto bore meet room i m look note nfrom christiana and look took back to transform nexperi life one mani thing i learn monk is bright mind joy heart nis path goal life this stubborn optim nis form appli love it world want creat and way which nwe creat world and choic us choos face moment nwith stubborn optim can fill live nwith mean purpos and put hand non arc histori and bend toward futur nthat choos yes live feel control it feel frighten scari new but let s falter nat crucial transit that come us right let s face stubborn nand determin optim yes see chang nin world right can pain but let s approach love '"
      ]
     },
     "execution_count": 92,
     "metadata": {},
     "output_type": "execute_result"
    }
   ],
   "source": [
    "df['transcript'][1]"
   ]
  },
  {
   "cell_type": "markdown",
   "metadata": {},
   "source": [
    "# Build Document-Term matrix"
   ]
  },
  {
   "cell_type": "code",
   "execution_count": 93,
   "metadata": {},
   "outputs": [
    {
     "data": {
      "text/plain": [
       "<2416x39840 sparse matrix of type '<class 'numpy.float64'>'\n",
       "\twith 1012696 stored elements in Compressed Sparse Row format>"
      ]
     },
     "execution_count": 93,
     "metadata": {},
     "output_type": "execute_result"
    }
   ],
   "source": [
    "vectorizer = TfidfVectorizer(stop_words='english') \n",
    "doc_word = vectorizer.fit_transform(list(df.transcript))\n",
    "doc_word"
   ]
  },
  {
   "cell_type": "code",
   "execution_count": 94,
   "metadata": {},
   "outputs": [
    {
     "data": {
      "text/plain": [
       "(2416, 39840)"
      ]
     },
     "execution_count": 94,
     "metadata": {},
     "output_type": "execute_result"
    }
   ],
   "source": [
    "pd.DataFrame(doc_word.toarray(), columns=vectorizer.get_feature_names()).shape"
   ]
  },
  {
   "cell_type": "code",
   "execution_count": 95,
   "metadata": {},
   "outputs": [],
   "source": [
    "dtm = pd.DataFrame(doc_word.toarray(), index=df['video_id'], columns=vectorizer.get_feature_names())"
   ]
  },
  {
   "cell_type": "markdown",
   "metadata": {},
   "source": [
    "# Topic Modeling"
   ]
  },
  {
   "cell_type": "code",
   "execution_count": 96,
   "metadata": {},
   "outputs": [],
   "source": [
    "def display_topics(model, feature_names, no_top_words, topic_names=None):\n",
    "    for ix, topic in enumerate(model.components_):\n",
    "        if not topic_names or not topic_names[ix]:\n",
    "            print(\"\\nTopic \", ix)\n",
    "        else:\n",
    "            print(\"\\nTopic: '\",topic_names[ix],\"'\")\n",
    "        print(\", \".join([feature_names[i]\n",
    "                        for i in topic.argsort()[:-no_top_words - 1:-1]]))\n"
   ]
  },
  {
   "cell_type": "markdown",
   "metadata": {},
   "source": [
    "### Latent Semantic Analysis (LSA)"
   ]
  },
  {
   "cell_type": "code",
   "execution_count": 100,
   "metadata": {},
   "outputs": [
    {
     "data": {
      "text/plain": [
       "array([0.00691832, 0.00867407, 0.00722984, 0.00638489, 0.00584166,\n",
       "       0.00547615, 0.00517708, 0.0046375 , 0.00452422, 0.00410085])"
      ]
     },
     "execution_count": 100,
     "metadata": {},
     "output_type": "execute_result"
    }
   ],
   "source": [
    "lsa = TruncatedSVD(10)\n",
    "doc_topic = lsa.fit_transform(dtm)\n",
    "lsa.explained_variance_ratio_"
   ]
  },
  {
   "cell_type": "code",
   "execution_count": 101,
   "metadata": {},
   "outputs": [
    {
     "data": {
      "text/html": [
       "<div>\n",
       "<style scoped>\n",
       "    .dataframe tbody tr th:only-of-type {\n",
       "        vertical-align: middle;\n",
       "    }\n",
       "\n",
       "    .dataframe tbody tr th {\n",
       "        vertical-align: top;\n",
       "    }\n",
       "\n",
       "    .dataframe thead th {\n",
       "        text-align: right;\n",
       "    }\n",
       "</style>\n",
       "<table border=\"1\" class=\"dataframe\">\n",
       "  <thead>\n",
       "    <tr style=\"text-align: right;\">\n",
       "      <th></th>\n",
       "      <th>aa</th>\n",
       "      <th>aaa</th>\n",
       "      <th>aaaa</th>\n",
       "      <th>aaaaa</th>\n",
       "      <th>aaaaaa</th>\n",
       "      <th>aaaaaaaargh</th>\n",
       "      <th>aaaaaah</th>\n",
       "      <th>aaaab</th>\n",
       "      <th>aaaah</th>\n",
       "      <th>aaaahhh</th>\n",
       "      <th>...</th>\n",
       "      <th>ān</th>\n",
       "      <th>čapek</th>\n",
       "      <th>ōfunato</th>\n",
       "      <th>ʾan</th>\n",
       "      <th>ʾilla</th>\n",
       "      <th>ʾilāha</th>\n",
       "      <th>อย</th>\n",
       "      <th>อยman</th>\n",
       "      <th>อร</th>\n",
       "      <th>送你葱</th>\n",
       "    </tr>\n",
       "  </thead>\n",
       "  <tbody>\n",
       "    <tr>\n",
       "      <td>component_1</td>\n",
       "      <td>0.000</td>\n",
       "      <td>0.000</td>\n",
       "      <td>0.000</td>\n",
       "      <td>0.0</td>\n",
       "      <td>0.000</td>\n",
       "      <td>0.0</td>\n",
       "      <td>0.0</td>\n",
       "      <td>0.0</td>\n",
       "      <td>0.0</td>\n",
       "      <td>0.0</td>\n",
       "      <td>...</td>\n",
       "      <td>0.0</td>\n",
       "      <td>0.0</td>\n",
       "      <td>0.0</td>\n",
       "      <td>0.0</td>\n",
       "      <td>0.0</td>\n",
       "      <td>0.0</td>\n",
       "      <td>0.000</td>\n",
       "      <td>0.000</td>\n",
       "      <td>0.000</td>\n",
       "      <td>0.0</td>\n",
       "    </tr>\n",
       "    <tr>\n",
       "      <td>component_2</td>\n",
       "      <td>-0.001</td>\n",
       "      <td>0.000</td>\n",
       "      <td>-0.000</td>\n",
       "      <td>-0.0</td>\n",
       "      <td>0.001</td>\n",
       "      <td>-0.0</td>\n",
       "      <td>-0.0</td>\n",
       "      <td>-0.0</td>\n",
       "      <td>-0.0</td>\n",
       "      <td>0.0</td>\n",
       "      <td>...</td>\n",
       "      <td>-0.0</td>\n",
       "      <td>-0.0</td>\n",
       "      <td>0.0</td>\n",
       "      <td>0.0</td>\n",
       "      <td>0.0</td>\n",
       "      <td>0.0</td>\n",
       "      <td>-0.000</td>\n",
       "      <td>-0.000</td>\n",
       "      <td>-0.000</td>\n",
       "      <td>0.0</td>\n",
       "    </tr>\n",
       "    <tr>\n",
       "      <td>component_3</td>\n",
       "      <td>0.001</td>\n",
       "      <td>-0.000</td>\n",
       "      <td>0.002</td>\n",
       "      <td>0.0</td>\n",
       "      <td>0.000</td>\n",
       "      <td>0.0</td>\n",
       "      <td>0.0</td>\n",
       "      <td>0.0</td>\n",
       "      <td>0.0</td>\n",
       "      <td>0.0</td>\n",
       "      <td>...</td>\n",
       "      <td>-0.0</td>\n",
       "      <td>0.0</td>\n",
       "      <td>0.0</td>\n",
       "      <td>-0.0</td>\n",
       "      <td>-0.0</td>\n",
       "      <td>-0.0</td>\n",
       "      <td>0.001</td>\n",
       "      <td>0.001</td>\n",
       "      <td>0.002</td>\n",
       "      <td>-0.0</td>\n",
       "    </tr>\n",
       "    <tr>\n",
       "      <td>component_4</td>\n",
       "      <td>0.001</td>\n",
       "      <td>-0.000</td>\n",
       "      <td>-0.001</td>\n",
       "      <td>-0.0</td>\n",
       "      <td>0.000</td>\n",
       "      <td>-0.0</td>\n",
       "      <td>-0.0</td>\n",
       "      <td>-0.0</td>\n",
       "      <td>-0.0</td>\n",
       "      <td>-0.0</td>\n",
       "      <td>...</td>\n",
       "      <td>-0.0</td>\n",
       "      <td>-0.0</td>\n",
       "      <td>-0.0</td>\n",
       "      <td>0.0</td>\n",
       "      <td>0.0</td>\n",
       "      <td>0.0</td>\n",
       "      <td>-0.000</td>\n",
       "      <td>-0.000</td>\n",
       "      <td>-0.001</td>\n",
       "      <td>-0.0</td>\n",
       "    </tr>\n",
       "    <tr>\n",
       "      <td>component_5</td>\n",
       "      <td>-0.001</td>\n",
       "      <td>0.002</td>\n",
       "      <td>-0.000</td>\n",
       "      <td>0.0</td>\n",
       "      <td>-0.000</td>\n",
       "      <td>0.0</td>\n",
       "      <td>0.0</td>\n",
       "      <td>0.0</td>\n",
       "      <td>0.0</td>\n",
       "      <td>0.0</td>\n",
       "      <td>...</td>\n",
       "      <td>0.0</td>\n",
       "      <td>0.0</td>\n",
       "      <td>0.0</td>\n",
       "      <td>-0.0</td>\n",
       "      <td>-0.0</td>\n",
       "      <td>-0.0</td>\n",
       "      <td>0.001</td>\n",
       "      <td>0.001</td>\n",
       "      <td>0.001</td>\n",
       "      <td>0.0</td>\n",
       "    </tr>\n",
       "    <tr>\n",
       "      <td>component_6</td>\n",
       "      <td>-0.000</td>\n",
       "      <td>0.000</td>\n",
       "      <td>0.001</td>\n",
       "      <td>0.0</td>\n",
       "      <td>-0.000</td>\n",
       "      <td>0.0</td>\n",
       "      <td>0.0</td>\n",
       "      <td>-0.0</td>\n",
       "      <td>-0.0</td>\n",
       "      <td>0.0</td>\n",
       "      <td>...</td>\n",
       "      <td>-0.0</td>\n",
       "      <td>-0.0</td>\n",
       "      <td>0.0</td>\n",
       "      <td>-0.0</td>\n",
       "      <td>-0.0</td>\n",
       "      <td>-0.0</td>\n",
       "      <td>0.000</td>\n",
       "      <td>0.000</td>\n",
       "      <td>0.001</td>\n",
       "      <td>0.0</td>\n",
       "    </tr>\n",
       "    <tr>\n",
       "      <td>component_7</td>\n",
       "      <td>-0.001</td>\n",
       "      <td>0.000</td>\n",
       "      <td>0.002</td>\n",
       "      <td>-0.0</td>\n",
       "      <td>-0.000</td>\n",
       "      <td>-0.0</td>\n",
       "      <td>0.0</td>\n",
       "      <td>-0.0</td>\n",
       "      <td>-0.0</td>\n",
       "      <td>-0.0</td>\n",
       "      <td>...</td>\n",
       "      <td>0.0</td>\n",
       "      <td>0.0</td>\n",
       "      <td>-0.0</td>\n",
       "      <td>-0.0</td>\n",
       "      <td>-0.0</td>\n",
       "      <td>-0.0</td>\n",
       "      <td>-0.000</td>\n",
       "      <td>-0.000</td>\n",
       "      <td>-0.000</td>\n",
       "      <td>0.0</td>\n",
       "    </tr>\n",
       "    <tr>\n",
       "      <td>component_8</td>\n",
       "      <td>0.000</td>\n",
       "      <td>-0.000</td>\n",
       "      <td>-0.000</td>\n",
       "      <td>0.0</td>\n",
       "      <td>-0.001</td>\n",
       "      <td>0.0</td>\n",
       "      <td>0.0</td>\n",
       "      <td>0.0</td>\n",
       "      <td>0.0</td>\n",
       "      <td>0.0</td>\n",
       "      <td>...</td>\n",
       "      <td>0.0</td>\n",
       "      <td>0.0</td>\n",
       "      <td>0.0</td>\n",
       "      <td>-0.0</td>\n",
       "      <td>-0.0</td>\n",
       "      <td>-0.0</td>\n",
       "      <td>0.000</td>\n",
       "      <td>0.000</td>\n",
       "      <td>0.001</td>\n",
       "      <td>0.0</td>\n",
       "    </tr>\n",
       "    <tr>\n",
       "      <td>component_9</td>\n",
       "      <td>-0.001</td>\n",
       "      <td>-0.001</td>\n",
       "      <td>-0.000</td>\n",
       "      <td>-0.0</td>\n",
       "      <td>0.001</td>\n",
       "      <td>-0.0</td>\n",
       "      <td>-0.0</td>\n",
       "      <td>-0.0</td>\n",
       "      <td>0.0</td>\n",
       "      <td>0.0</td>\n",
       "      <td>...</td>\n",
       "      <td>0.0</td>\n",
       "      <td>0.0</td>\n",
       "      <td>0.0</td>\n",
       "      <td>0.0</td>\n",
       "      <td>0.0</td>\n",
       "      <td>0.0</td>\n",
       "      <td>0.000</td>\n",
       "      <td>0.000</td>\n",
       "      <td>0.000</td>\n",
       "      <td>-0.0</td>\n",
       "    </tr>\n",
       "    <tr>\n",
       "      <td>component_10</td>\n",
       "      <td>0.000</td>\n",
       "      <td>-0.000</td>\n",
       "      <td>-0.001</td>\n",
       "      <td>0.0</td>\n",
       "      <td>-0.001</td>\n",
       "      <td>0.0</td>\n",
       "      <td>0.0</td>\n",
       "      <td>-0.0</td>\n",
       "      <td>0.0</td>\n",
       "      <td>0.0</td>\n",
       "      <td>...</td>\n",
       "      <td>-0.0</td>\n",
       "      <td>-0.0</td>\n",
       "      <td>0.0</td>\n",
       "      <td>-0.0</td>\n",
       "      <td>-0.0</td>\n",
       "      <td>-0.0</td>\n",
       "      <td>0.000</td>\n",
       "      <td>0.000</td>\n",
       "      <td>0.000</td>\n",
       "      <td>0.0</td>\n",
       "    </tr>\n",
       "  </tbody>\n",
       "</table>\n",
       "<p>10 rows × 39840 columns</p>\n",
       "</div>"
      ],
      "text/plain": [
       "                 aa    aaa   aaaa  aaaaa  aaaaaa  aaaaaaaargh  aaaaaah  aaaab  \\\n",
       "component_1   0.000  0.000  0.000    0.0   0.000          0.0      0.0    0.0   \n",
       "component_2  -0.001  0.000 -0.000   -0.0   0.001         -0.0     -0.0   -0.0   \n",
       "component_3   0.001 -0.000  0.002    0.0   0.000          0.0      0.0    0.0   \n",
       "component_4   0.001 -0.000 -0.001   -0.0   0.000         -0.0     -0.0   -0.0   \n",
       "component_5  -0.001  0.002 -0.000    0.0  -0.000          0.0      0.0    0.0   \n",
       "component_6  -0.000  0.000  0.001    0.0  -0.000          0.0      0.0   -0.0   \n",
       "component_7  -0.001  0.000  0.002   -0.0  -0.000         -0.0      0.0   -0.0   \n",
       "component_8   0.000 -0.000 -0.000    0.0  -0.001          0.0      0.0    0.0   \n",
       "component_9  -0.001 -0.001 -0.000   -0.0   0.001         -0.0     -0.0   -0.0   \n",
       "component_10  0.000 -0.000 -0.001    0.0  -0.001          0.0      0.0   -0.0   \n",
       "\n",
       "              aaaah  aaaahhh  ...   ān  čapek  ōfunato  ʾan  ʾilla  ʾilāha  \\\n",
       "component_1     0.0      0.0  ...  0.0    0.0      0.0  0.0    0.0     0.0   \n",
       "component_2    -0.0      0.0  ... -0.0   -0.0      0.0  0.0    0.0     0.0   \n",
       "component_3     0.0      0.0  ... -0.0    0.0      0.0 -0.0   -0.0    -0.0   \n",
       "component_4    -0.0     -0.0  ... -0.0   -0.0     -0.0  0.0    0.0     0.0   \n",
       "component_5     0.0      0.0  ...  0.0    0.0      0.0 -0.0   -0.0    -0.0   \n",
       "component_6    -0.0      0.0  ... -0.0   -0.0      0.0 -0.0   -0.0    -0.0   \n",
       "component_7    -0.0     -0.0  ...  0.0    0.0     -0.0 -0.0   -0.0    -0.0   \n",
       "component_8     0.0      0.0  ...  0.0    0.0      0.0 -0.0   -0.0    -0.0   \n",
       "component_9     0.0      0.0  ...  0.0    0.0      0.0  0.0    0.0     0.0   \n",
       "component_10    0.0      0.0  ... -0.0   -0.0      0.0 -0.0   -0.0    -0.0   \n",
       "\n",
       "                 อย  อยman     อร  送你葱  \n",
       "component_1   0.000  0.000  0.000  0.0  \n",
       "component_2  -0.000 -0.000 -0.000  0.0  \n",
       "component_3   0.001  0.001  0.002 -0.0  \n",
       "component_4  -0.000 -0.000 -0.001 -0.0  \n",
       "component_5   0.001  0.001  0.001  0.0  \n",
       "component_6   0.000  0.000  0.001  0.0  \n",
       "component_7  -0.000 -0.000 -0.000  0.0  \n",
       "component_8   0.000  0.000  0.001  0.0  \n",
       "component_9   0.000  0.000  0.000 -0.0  \n",
       "component_10  0.000  0.000  0.000  0.0  \n",
       "\n",
       "[10 rows x 39840 columns]"
      ]
     },
     "execution_count": 101,
     "metadata": {},
     "output_type": "execute_result"
    }
   ],
   "source": [
    "topic_word = pd.DataFrame(lsa.components_.round(3),\n",
    "             index = [\"component_1\",\"component_2\", \"component_3\",\"component_4\", \"component_5\",\n",
    "                     \"component_6\",\"component_7\", \"component_8\",\"component_9\", \"component_10\"],\n",
    "             columns = vectorizer.get_feature_names())\n",
    "topic_word"
   ]
  },
  {
   "cell_type": "code",
   "execution_count": 102,
   "metadata": {},
   "outputs": [
    {
     "name": "stdout",
     "output_type": "stream",
     "text": [
      "\n",
      "Topic  0\n",
      "peopl, nto, like, nand, nof, nthat, think, thing, know, time, laughter, year, work, want, make\n",
      "\n",
      "Topic  1\n",
      "women, girl, men, school, children, said, famili, woman, parent, kid, mother, educ, peopl, young, nand\n",
      "\n",
      "Topic  2\n",
      "music, laughter, like, brain, thing, play, love, know, song, video, feel, robot, said, sound, realli\n",
      "\n",
      "Topic  3\n",
      "cell, brain, cancer, patient, diseas, nto, women, drug, nthat, nand, health, bodi, doctor, nof, medic\n",
      "\n",
      "Topic  4\n",
      "peopl, data, patient, think, inform, health, actual, govern, drug, thing, cancer, compani, know, diseas, countri\n",
      "\n",
      "Topic  5\n",
      "women, music, cell, water, ocean, girl, men, cancer, fish, planet, diseas, year, children, patient, anim\n",
      "\n",
      "Topic  6\n",
      "music, patient, health, applaus, nof, nto, govern, countri, guitar, sound, technolog, play, drug, compani, song\n",
      "\n",
      "Topic  7\n",
      "women, robot, men, girl, comput, woman, ai, gender, machin, sex, femal, data, technolog, sexual, imag\n",
      "\n",
      "Topic  8\n",
      "school, robot, design, citi, kid, build, student, children, educ, teacher, girl, learn, communiti, materi, parent\n",
      "\n",
      "Topic  9\n",
      "citi, cell, design, build, peopl, space, art, architectur, imag, street, artist, cancer, paint, stori, wall\n"
     ]
    }
   ],
   "source": [
    "display_topics(lsa, vectorizer.get_feature_names(), 15)"
   ]
  },
  {
   "cell_type": "code",
   "execution_count": 62,
   "metadata": {},
   "outputs": [
    {
     "data": {
      "text/plain": [
       "array([[ 9.68620709e-05,  1.03763392e-04,  7.48935844e-05, ...,\n",
       "         2.98614931e-05,  5.97229861e-05,  1.11542964e-05],\n",
       "       [ 1.88035532e-05,  1.64924212e-04,  4.20325867e-03, ...,\n",
       "         6.46077822e-04,  1.29215564e-03,  2.59712183e-05],\n",
       "       [ 1.10812732e-03, -5.44983553e-04, -1.47105038e-04, ...,\n",
       "         1.22011256e-04,  2.44022511e-04, -8.35359701e-05],\n",
       "       [ 3.75091143e-04,  5.80494082e-05,  3.32403708e-04, ...,\n",
       "         1.41503516e-04,  2.83007031e-04, -1.28096529e-04],\n",
       "       [ 2.62605934e-04, -1.35827142e-03,  7.39542845e-04, ...,\n",
       "        -7.08270320e-04, -1.41654064e-03, -2.02189834e-04]])"
      ]
     },
     "execution_count": 62,
     "metadata": {},
     "output_type": "execute_result"
    }
   ],
   "source": [
    "lsa.components_"
   ]
  },
  {
   "cell_type": "code",
   "execution_count": 63,
   "metadata": {},
   "outputs": [
    {
     "data": {
      "text/html": [
       "<div>\n",
       "<style scoped>\n",
       "    .dataframe tbody tr th:only-of-type {\n",
       "        vertical-align: middle;\n",
       "    }\n",
       "\n",
       "    .dataframe tbody tr th {\n",
       "        vertical-align: top;\n",
       "    }\n",
       "\n",
       "    .dataframe thead th {\n",
       "        text-align: right;\n",
       "    }\n",
       "</style>\n",
       "<table border=\"1\" class=\"dataframe\">\n",
       "  <thead>\n",
       "    <tr style=\"text-align: right;\">\n",
       "      <th></th>\n",
       "      <th>component_1</th>\n",
       "      <th>component_2</th>\n",
       "      <th>component_3</th>\n",
       "      <th>component_4</th>\n",
       "      <th>component_5</th>\n",
       "    </tr>\n",
       "    <tr>\n",
       "      <th>video_id</th>\n",
       "      <th></th>\n",
       "      <th></th>\n",
       "      <th></th>\n",
       "      <th></th>\n",
       "      <th></th>\n",
       "    </tr>\n",
       "  </thead>\n",
       "  <tbody>\n",
       "    <tr>\n",
       "      <td>YgAuFqEs6yk</td>\n",
       "      <td>0.890676</td>\n",
       "      <td>0.042962</td>\n",
       "      <td>-0.056709</td>\n",
       "      <td>0.004102</td>\n",
       "      <td>-0.062049</td>\n",
       "    </tr>\n",
       "    <tr>\n",
       "      <td>bNmRr-BYnxA</td>\n",
       "      <td>0.883629</td>\n",
       "      <td>-0.040627</td>\n",
       "      <td>-0.010975</td>\n",
       "      <td>-0.019726</td>\n",
       "      <td>0.053228</td>\n",
       "    </tr>\n",
       "    <tr>\n",
       "      <td>FVUkKKc3Vvk</td>\n",
       "      <td>0.885644</td>\n",
       "      <td>-0.025310</td>\n",
       "      <td>-0.068833</td>\n",
       "      <td>0.007190</td>\n",
       "      <td>0.038097</td>\n",
       "    </tr>\n",
       "    <tr>\n",
       "      <td>8bj0GR34XWc</td>\n",
       "      <td>0.848307</td>\n",
       "      <td>-0.024130</td>\n",
       "      <td>0.027906</td>\n",
       "      <td>0.039088</td>\n",
       "      <td>0.000483</td>\n",
       "    </tr>\n",
       "    <tr>\n",
       "      <td>eaCrsBtiYA4</td>\n",
       "      <td>0.852875</td>\n",
       "      <td>-0.035804</td>\n",
       "      <td>-0.060799</td>\n",
       "      <td>-0.018492</td>\n",
       "      <td>0.026517</td>\n",
       "    </tr>\n",
       "    <tr>\n",
       "      <td>...</td>\n",
       "      <td>...</td>\n",
       "      <td>...</td>\n",
       "      <td>...</td>\n",
       "      <td>...</td>\n",
       "      <td>...</td>\n",
       "    </tr>\n",
       "    <tr>\n",
       "      <td>HUM2rCIUdeI</td>\n",
       "      <td>0.838504</td>\n",
       "      <td>0.006174</td>\n",
       "      <td>-0.023050</td>\n",
       "      <td>-0.043234</td>\n",
       "      <td>-0.045791</td>\n",
       "    </tr>\n",
       "    <tr>\n",
       "      <td>C_SBGTJgBGo</td>\n",
       "      <td>0.665815</td>\n",
       "      <td>0.252792</td>\n",
       "      <td>-0.011495</td>\n",
       "      <td>0.026302</td>\n",
       "      <td>0.079951</td>\n",
       "    </tr>\n",
       "    <tr>\n",
       "      <td>MLU7qcMYKO8</td>\n",
       "      <td>0.682086</td>\n",
       "      <td>0.002008</td>\n",
       "      <td>0.119328</td>\n",
       "      <td>-0.127289</td>\n",
       "      <td>0.008149</td>\n",
       "    </tr>\n",
       "    <tr>\n",
       "      <td>yyemG7V5ynQ</td>\n",
       "      <td>0.787745</td>\n",
       "      <td>0.005806</td>\n",
       "      <td>-0.005591</td>\n",
       "      <td>-0.023757</td>\n",
       "      <td>-0.052328</td>\n",
       "    </tr>\n",
       "    <tr>\n",
       "      <td>zDcaoTVy4fA</td>\n",
       "      <td>0.797191</td>\n",
       "      <td>0.006368</td>\n",
       "      <td>0.030329</td>\n",
       "      <td>-0.021538</td>\n",
       "      <td>-0.056182</td>\n",
       "    </tr>\n",
       "  </tbody>\n",
       "</table>\n",
       "<p>2416 rows × 5 columns</p>\n",
       "</div>"
      ],
      "text/plain": [
       "             component_1  component_2  component_3  component_4  component_5\n",
       "video_id                                                                    \n",
       "YgAuFqEs6yk     0.890676     0.042962    -0.056709     0.004102    -0.062049\n",
       "bNmRr-BYnxA     0.883629    -0.040627    -0.010975    -0.019726     0.053228\n",
       "FVUkKKc3Vvk     0.885644    -0.025310    -0.068833     0.007190     0.038097\n",
       "8bj0GR34XWc     0.848307    -0.024130     0.027906     0.039088     0.000483\n",
       "eaCrsBtiYA4     0.852875    -0.035804    -0.060799    -0.018492     0.026517\n",
       "...                  ...          ...          ...          ...          ...\n",
       "HUM2rCIUdeI     0.838504     0.006174    -0.023050    -0.043234    -0.045791\n",
       "C_SBGTJgBGo     0.665815     0.252792    -0.011495     0.026302     0.079951\n",
       "MLU7qcMYKO8     0.682086     0.002008     0.119328    -0.127289     0.008149\n",
       "yyemG7V5ynQ     0.787745     0.005806    -0.005591    -0.023757    -0.052328\n",
       "zDcaoTVy4fA     0.797191     0.006368     0.030329    -0.021538    -0.056182\n",
       "\n",
       "[2416 rows x 5 columns]"
      ]
     },
     "execution_count": 63,
     "metadata": {},
     "output_type": "execute_result"
    }
   ],
   "source": [
    "doc_topic_lsa = pd.DataFrame(doc_topic,\n",
    "                             index=df['video_id'],\n",
    "                             columns = [\"component_1\",\"component_2\", \"component_3\",\"component_4\", \"component_5\"])\n",
    "doc_topic_lsa"
   ]
  },
  {
   "cell_type": "code",
   "execution_count": 64,
   "metadata": {},
   "outputs": [
    {
     "data": {
      "text/plain": [
       "array([[1.        , 0.98557882, 0.98916038, 0.99057338, 0.98948304,\n",
       "        0.9254981 ],\n",
       "       [0.98557882, 1.        , 0.99472814, 0.99785056, 0.99538184,\n",
       "        0.94692381],\n",
       "       [0.98916038, 0.99472814, 1.        , 0.99177268, 0.99965085,\n",
       "        0.96728182],\n",
       "       [0.99057338, 0.99785056, 0.99177268, 1.        , 0.99180318,\n",
       "        0.93060307],\n",
       "       [0.98948304, 0.99538184, 0.99965085, 0.99180318, 1.        ,\n",
       "        0.96603434],\n",
       "       [0.9254981 , 0.94692381, 0.96728182, 0.93060307, 0.96603434,\n",
       "        1.        ]])"
      ]
     },
     "execution_count": 64,
     "metadata": {},
     "output_type": "execute_result"
    }
   ],
   "source": [
    "cosine_similarity((doc_topic_lsa.values[0], \n",
    "                   doc_topic_lsa.values[1], \n",
    "                   doc_topic_lsa.values[3],  \n",
    "                   doc_topic_lsa.values[4], \n",
    "                   doc_topic_lsa.values[5], \n",
    "                   doc_topic_lsa.values[6]))"
   ]
  },
  {
   "cell_type": "code",
   "execution_count": 109,
   "metadata": {},
   "outputs": [],
   "source": [
    "#cosine_similarity((doc_topic_lsa.values[0], doc_topic_lsa.values[6]))"
   ]
  },
  {
   "cell_type": "markdown",
   "metadata": {},
   "source": [
    "### NMF (Non-Negative Matrix Factorization)"
   ]
  },
  {
   "cell_type": "code",
   "execution_count": 65,
   "metadata": {},
   "outputs": [],
   "source": [
    "nmf_model = NMF(5)\n",
    "doc_topic = nmf_model.fit_transform(doc_word)"
   ]
  },
  {
   "cell_type": "code",
   "execution_count": 66,
   "metadata": {},
   "outputs": [
    {
     "data": {
      "text/html": [
       "<div>\n",
       "<style scoped>\n",
       "    .dataframe tbody tr th:only-of-type {\n",
       "        vertical-align: middle;\n",
       "    }\n",
       "\n",
       "    .dataframe tbody tr th {\n",
       "        vertical-align: top;\n",
       "    }\n",
       "\n",
       "    .dataframe thead th {\n",
       "        text-align: right;\n",
       "    }\n",
       "</style>\n",
       "<table border=\"1\" class=\"dataframe\">\n",
       "  <thead>\n",
       "    <tr style=\"text-align: right;\">\n",
       "      <th></th>\n",
       "      <th>aa</th>\n",
       "      <th>aaa</th>\n",
       "      <th>aaaa</th>\n",
       "      <th>aaaaa</th>\n",
       "      <th>aaaaaa</th>\n",
       "      <th>aaaaaaaargh</th>\n",
       "      <th>aaaaaah</th>\n",
       "      <th>aaaab</th>\n",
       "      <th>aaaah</th>\n",
       "      <th>aaaahhh</th>\n",
       "      <th>...</th>\n",
       "      <th>ān</th>\n",
       "      <th>čapek</th>\n",
       "      <th>ōfunato</th>\n",
       "      <th>ʾan</th>\n",
       "      <th>ʾilla</th>\n",
       "      <th>ʾilāha</th>\n",
       "      <th>อย</th>\n",
       "      <th>อยman</th>\n",
       "      <th>อร</th>\n",
       "      <th>送你葱</th>\n",
       "    </tr>\n",
       "  </thead>\n",
       "  <tbody>\n",
       "    <tr>\n",
       "      <td>component_1</td>\n",
       "      <td>0.000</td>\n",
       "      <td>0.001</td>\n",
       "      <td>0.000</td>\n",
       "      <td>0.0</td>\n",
       "      <td>0.000</td>\n",
       "      <td>0.0</td>\n",
       "      <td>0.0</td>\n",
       "      <td>0.0</td>\n",
       "      <td>0.0</td>\n",
       "      <td>0.0</td>\n",
       "      <td>...</td>\n",
       "      <td>0.0</td>\n",
       "      <td>0.0</td>\n",
       "      <td>0.0</td>\n",
       "      <td>0.000</td>\n",
       "      <td>0.000</td>\n",
       "      <td>0.000</td>\n",
       "      <td>0.0</td>\n",
       "      <td>0.0</td>\n",
       "      <td>0.000</td>\n",
       "      <td>0.0</td>\n",
       "    </tr>\n",
       "    <tr>\n",
       "      <td>component_2</td>\n",
       "      <td>0.000</td>\n",
       "      <td>0.000</td>\n",
       "      <td>0.007</td>\n",
       "      <td>0.0</td>\n",
       "      <td>0.000</td>\n",
       "      <td>0.0</td>\n",
       "      <td>0.0</td>\n",
       "      <td>0.0</td>\n",
       "      <td>0.0</td>\n",
       "      <td>0.0</td>\n",
       "      <td>...</td>\n",
       "      <td>0.0</td>\n",
       "      <td>0.0</td>\n",
       "      <td>0.0</td>\n",
       "      <td>0.000</td>\n",
       "      <td>0.000</td>\n",
       "      <td>0.000</td>\n",
       "      <td>0.0</td>\n",
       "      <td>0.0</td>\n",
       "      <td>0.001</td>\n",
       "      <td>0.0</td>\n",
       "    </tr>\n",
       "    <tr>\n",
       "      <td>component_3</td>\n",
       "      <td>0.001</td>\n",
       "      <td>0.000</td>\n",
       "      <td>0.000</td>\n",
       "      <td>0.0</td>\n",
       "      <td>0.000</td>\n",
       "      <td>0.0</td>\n",
       "      <td>0.0</td>\n",
       "      <td>0.0</td>\n",
       "      <td>0.0</td>\n",
       "      <td>0.0</td>\n",
       "      <td>...</td>\n",
       "      <td>0.0</td>\n",
       "      <td>0.0</td>\n",
       "      <td>0.0</td>\n",
       "      <td>0.000</td>\n",
       "      <td>0.000</td>\n",
       "      <td>0.000</td>\n",
       "      <td>0.0</td>\n",
       "      <td>0.0</td>\n",
       "      <td>0.000</td>\n",
       "      <td>0.0</td>\n",
       "    </tr>\n",
       "    <tr>\n",
       "      <td>component_4</td>\n",
       "      <td>0.001</td>\n",
       "      <td>0.000</td>\n",
       "      <td>0.000</td>\n",
       "      <td>0.0</td>\n",
       "      <td>0.000</td>\n",
       "      <td>0.0</td>\n",
       "      <td>0.0</td>\n",
       "      <td>0.0</td>\n",
       "      <td>0.0</td>\n",
       "      <td>0.0</td>\n",
       "      <td>...</td>\n",
       "      <td>0.0</td>\n",
       "      <td>0.0</td>\n",
       "      <td>0.0</td>\n",
       "      <td>0.000</td>\n",
       "      <td>0.000</td>\n",
       "      <td>0.000</td>\n",
       "      <td>0.0</td>\n",
       "      <td>0.0</td>\n",
       "      <td>0.000</td>\n",
       "      <td>0.0</td>\n",
       "    </tr>\n",
       "    <tr>\n",
       "      <td>component_5</td>\n",
       "      <td>0.000</td>\n",
       "      <td>0.000</td>\n",
       "      <td>0.000</td>\n",
       "      <td>0.0</td>\n",
       "      <td>0.001</td>\n",
       "      <td>0.0</td>\n",
       "      <td>0.0</td>\n",
       "      <td>0.0</td>\n",
       "      <td>0.0</td>\n",
       "      <td>0.0</td>\n",
       "      <td>...</td>\n",
       "      <td>0.0</td>\n",
       "      <td>0.0</td>\n",
       "      <td>0.0</td>\n",
       "      <td>0.001</td>\n",
       "      <td>0.001</td>\n",
       "      <td>0.001</td>\n",
       "      <td>0.0</td>\n",
       "      <td>0.0</td>\n",
       "      <td>0.000</td>\n",
       "      <td>0.0</td>\n",
       "    </tr>\n",
       "  </tbody>\n",
       "</table>\n",
       "<p>5 rows × 39840 columns</p>\n",
       "</div>"
      ],
      "text/plain": [
       "                aa    aaa   aaaa  aaaaa  aaaaaa  aaaaaaaargh  aaaaaah  aaaab  \\\n",
       "component_1  0.000  0.001  0.000    0.0   0.000          0.0      0.0    0.0   \n",
       "component_2  0.000  0.000  0.007    0.0   0.000          0.0      0.0    0.0   \n",
       "component_3  0.001  0.000  0.000    0.0   0.000          0.0      0.0    0.0   \n",
       "component_4  0.001  0.000  0.000    0.0   0.000          0.0      0.0    0.0   \n",
       "component_5  0.000  0.000  0.000    0.0   0.001          0.0      0.0    0.0   \n",
       "\n",
       "             aaaah  aaaahhh  ...   ān  čapek  ōfunato    ʾan  ʾilla  ʾilāha  \\\n",
       "component_1    0.0      0.0  ...  0.0    0.0      0.0  0.000  0.000   0.000   \n",
       "component_2    0.0      0.0  ...  0.0    0.0      0.0  0.000  0.000   0.000   \n",
       "component_3    0.0      0.0  ...  0.0    0.0      0.0  0.000  0.000   0.000   \n",
       "component_4    0.0      0.0  ...  0.0    0.0      0.0  0.000  0.000   0.000   \n",
       "component_5    0.0      0.0  ...  0.0    0.0      0.0  0.001  0.001   0.001   \n",
       "\n",
       "              อย  อยman     อร  送你葱  \n",
       "component_1  0.0    0.0  0.000  0.0  \n",
       "component_2  0.0    0.0  0.001  0.0  \n",
       "component_3  0.0    0.0  0.000  0.0  \n",
       "component_4  0.0    0.0  0.000  0.0  \n",
       "component_5  0.0    0.0  0.000  0.0  \n",
       "\n",
       "[5 rows x 39840 columns]"
      ]
     },
     "execution_count": 66,
     "metadata": {},
     "output_type": "execute_result"
    }
   ],
   "source": [
    "topic_word = pd.DataFrame(nmf_model.components_.round(3),\n",
    "             index = [\"component_1\",\"component_2\", \"component_3\",\"component_4\", \"component_5\"],\n",
    "             columns = vectorizer.get_feature_names())\n",
    "topic_word"
   ]
  },
  {
   "cell_type": "code",
   "execution_count": 67,
   "metadata": {},
   "outputs": [
    {
     "name": "stdout",
     "output_type": "stream",
     "text": [
      "\n",
      "Topic  0\n",
      "text, peopl, like, thing, think, know, laughter, want, time, realli, ve, say, make, year\n",
      "\n",
      "Topic  1\n",
      "music, text, applaus, guitar, play, song, sound, cheer, sing, cello, musician, end, compos, nois\n",
      "\n",
      "Topic  2\n",
      "text, water, planet, ocean, earth, nof, fish, climat, nto, energi, carbon, mar, solar, nand\n",
      "\n",
      "Topic  3\n",
      "text, cell, cancer, brain, patient, diseas, drug, dna, gene, protein, blood, bodi, health, tumor\n",
      "\n",
      "Topic  4\n",
      "text, nto, nand, nthat, nof, women, nin, nthe, nfor, na, peopl, nis, communiti, nwith\n"
     ]
    }
   ],
   "source": [
    "display_topics(nmf_model, vectorizer.get_feature_names(), 14)"
   ]
  },
  {
   "cell_type": "code",
   "execution_count": 68,
   "metadata": {},
   "outputs": [
    {
     "data": {
      "text/html": [
       "<div>\n",
       "<style scoped>\n",
       "    .dataframe tbody tr th:only-of-type {\n",
       "        vertical-align: middle;\n",
       "    }\n",
       "\n",
       "    .dataframe tbody tr th {\n",
       "        vertical-align: top;\n",
       "    }\n",
       "\n",
       "    .dataframe thead th {\n",
       "        text-align: right;\n",
       "    }\n",
       "</style>\n",
       "<table border=\"1\" class=\"dataframe\">\n",
       "  <thead>\n",
       "    <tr style=\"text-align: right;\">\n",
       "      <th></th>\n",
       "      <th>component_1</th>\n",
       "      <th>component_2</th>\n",
       "      <th>component_3</th>\n",
       "      <th>component_4</th>\n",
       "      <th>component_5</th>\n",
       "    </tr>\n",
       "    <tr>\n",
       "      <th>video_id</th>\n",
       "      <th></th>\n",
       "      <th></th>\n",
       "      <th></th>\n",
       "      <th></th>\n",
       "      <th></th>\n",
       "    </tr>\n",
       "  </thead>\n",
       "  <tbody>\n",
       "    <tr>\n",
       "      <td>YgAuFqEs6yk</td>\n",
       "      <td>0.14555</td>\n",
       "      <td>0.00648</td>\n",
       "      <td>0.00000</td>\n",
       "      <td>0.00000</td>\n",
       "      <td>0.01010</td>\n",
       "    </tr>\n",
       "    <tr>\n",
       "      <td>bNmRr-BYnxA</td>\n",
       "      <td>0.11341</td>\n",
       "      <td>0.00000</td>\n",
       "      <td>0.05289</td>\n",
       "      <td>0.00312</td>\n",
       "      <td>0.03076</td>\n",
       "    </tr>\n",
       "    <tr>\n",
       "      <td>FVUkKKc3Vvk</td>\n",
       "      <td>0.12999</td>\n",
       "      <td>0.00000</td>\n",
       "      <td>0.00000</td>\n",
       "      <td>0.00000</td>\n",
       "      <td>0.04142</td>\n",
       "    </tr>\n",
       "    <tr>\n",
       "      <td>8bj0GR34XWc</td>\n",
       "      <td>0.11079</td>\n",
       "      <td>0.00000</td>\n",
       "      <td>0.01119</td>\n",
       "      <td>0.07735</td>\n",
       "      <td>0.01531</td>\n",
       "    </tr>\n",
       "    <tr>\n",
       "      <td>eaCrsBtiYA4</td>\n",
       "      <td>0.12552</td>\n",
       "      <td>0.00000</td>\n",
       "      <td>0.00304</td>\n",
       "      <td>0.00000</td>\n",
       "      <td>0.03675</td>\n",
       "    </tr>\n",
       "    <tr>\n",
       "      <td>...</td>\n",
       "      <td>...</td>\n",
       "      <td>...</td>\n",
       "      <td>...</td>\n",
       "      <td>...</td>\n",
       "      <td>...</td>\n",
       "    </tr>\n",
       "    <tr>\n",
       "      <td>HUM2rCIUdeI</td>\n",
       "      <td>0.13222</td>\n",
       "      <td>0.00023</td>\n",
       "      <td>0.01592</td>\n",
       "      <td>0.00000</td>\n",
       "      <td>0.00846</td>\n",
       "    </tr>\n",
       "    <tr>\n",
       "      <td>C_SBGTJgBGo</td>\n",
       "      <td>0.08482</td>\n",
       "      <td>0.17426</td>\n",
       "      <td>0.00000</td>\n",
       "      <td>0.00077</td>\n",
       "      <td>0.00000</td>\n",
       "    </tr>\n",
       "    <tr>\n",
       "      <td>MLU7qcMYKO8</td>\n",
       "      <td>0.03039</td>\n",
       "      <td>0.00000</td>\n",
       "      <td>0.22262</td>\n",
       "      <td>0.00000</td>\n",
       "      <td>0.00000</td>\n",
       "    </tr>\n",
       "    <tr>\n",
       "      <td>yyemG7V5ynQ</td>\n",
       "      <td>0.13147</td>\n",
       "      <td>0.00000</td>\n",
       "      <td>0.00000</td>\n",
       "      <td>0.00328</td>\n",
       "      <td>0.00331</td>\n",
       "    </tr>\n",
       "    <tr>\n",
       "      <td>zDcaoTVy4fA</td>\n",
       "      <td>0.10988</td>\n",
       "      <td>0.00000</td>\n",
       "      <td>0.04777</td>\n",
       "      <td>0.02574</td>\n",
       "      <td>0.00000</td>\n",
       "    </tr>\n",
       "  </tbody>\n",
       "</table>\n",
       "<p>2416 rows × 5 columns</p>\n",
       "</div>"
      ],
      "text/plain": [
       "             component_1  component_2  component_3  component_4  component_5\n",
       "video_id                                                                    \n",
       "YgAuFqEs6yk      0.14555      0.00648      0.00000      0.00000      0.01010\n",
       "bNmRr-BYnxA      0.11341      0.00000      0.05289      0.00312      0.03076\n",
       "FVUkKKc3Vvk      0.12999      0.00000      0.00000      0.00000      0.04142\n",
       "8bj0GR34XWc      0.11079      0.00000      0.01119      0.07735      0.01531\n",
       "eaCrsBtiYA4      0.12552      0.00000      0.00304      0.00000      0.03675\n",
       "...                  ...          ...          ...          ...          ...\n",
       "HUM2rCIUdeI      0.13222      0.00023      0.01592      0.00000      0.00846\n",
       "C_SBGTJgBGo      0.08482      0.17426      0.00000      0.00077      0.00000\n",
       "MLU7qcMYKO8      0.03039      0.00000      0.22262      0.00000      0.00000\n",
       "yyemG7V5ynQ      0.13147      0.00000      0.00000      0.00328      0.00331\n",
       "zDcaoTVy4fA      0.10988      0.00000      0.04777      0.02574      0.00000\n",
       "\n",
       "[2416 rows x 5 columns]"
      ]
     },
     "execution_count": 68,
     "metadata": {},
     "output_type": "execute_result"
    }
   ],
   "source": [
    "doc_topic_nmf = pd.DataFrame(doc_topic.round(5),\n",
    "                             index=df['video_id'],\n",
    "                             columns = [\"component_1\",\"component_2\", \"component_3\",\"component_4\", \"component_5\"])\n",
    "doc_topic_nmf"
   ]
  },
  {
   "cell_type": "code",
   "execution_count": 69,
   "metadata": {},
   "outputs": [
    {
     "data": {
      "text/plain": [
       "array([[1.        , 0.89336073],\n",
       "       [0.89336073, 1.        ]])"
      ]
     },
     "execution_count": 69,
     "metadata": {},
     "output_type": "execute_result"
    }
   ],
   "source": [
    "cosine_similarity((doc_topic_nmf.values[0], doc_topic_nmf.values[1]))"
   ]
  },
  {
   "cell_type": "code",
   "execution_count": 70,
   "metadata": {},
   "outputs": [
    {
     "data": {
      "text/plain": [
       "array([[1.        , 0.31067444],\n",
       "       [0.31067444, 1.        ]])"
      ]
     },
     "execution_count": 70,
     "metadata": {},
     "output_type": "execute_result"
    }
   ],
   "source": [
    "cosine_similarity((doc_topic_nmf.values[0], doc_topic_nmf.values[26]))"
   ]
  },
  {
   "cell_type": "markdown",
   "metadata": {},
   "source": [
    "### LDA"
   ]
  },
  {
   "cell_type": "markdown",
   "metadata": {},
   "source": [
    "Changing vectorizer from TF-IDF"
   ]
  },
  {
   "cell_type": "code",
   "execution_count": 71,
   "metadata": {},
   "outputs": [
    {
     "data": {
      "text/plain": [
       "<2416x39840 sparse matrix of type '<class 'numpy.int64'>'\n",
       "\twith 1017301 stored elements in Compressed Sparse Row format>"
      ]
     },
     "execution_count": 71,
     "metadata": {},
     "output_type": "execute_result"
    }
   ],
   "source": [
    "vectorizer = CountVectorizer(stop_words='english') \n",
    "doc_word = vectorizer.fit_transform(list(df.transcript))\n",
    "doc_word"
   ]
  },
  {
   "cell_type": "code",
   "execution_count": 72,
   "metadata": {},
   "outputs": [
    {
     "data": {
      "text/plain": [
       "(2416, 39840)"
      ]
     },
     "execution_count": 72,
     "metadata": {},
     "output_type": "execute_result"
    }
   ],
   "source": [
    "pd.DataFrame(doc_word.toarray(), columns=vectorizer.get_feature_names()).shape"
   ]
  },
  {
   "cell_type": "code",
   "execution_count": 73,
   "metadata": {},
   "outputs": [],
   "source": [
    "dtm = pd.DataFrame(doc_word.toarray(), index=df['video_id'], columns=vectorizer.get_feature_names())"
   ]
  },
  {
   "cell_type": "code",
   "execution_count": 74,
   "metadata": {},
   "outputs": [],
   "source": [
    "lda = LatentDirichletAllocation(n_components=5)"
   ]
  },
  {
   "cell_type": "code",
   "execution_count": 75,
   "metadata": {},
   "outputs": [],
   "source": [
    "doc_topic = lda.fit_transform(dtm)\n"
   ]
  },
  {
   "cell_type": "code",
   "execution_count": 76,
   "metadata": {},
   "outputs": [
    {
     "data": {
      "text/plain": [
       "<bound method LatentDirichletAllocation.score of LatentDirichletAllocation(batch_size=128, doc_topic_prior=None,\n",
       "                          evaluate_every=-1, learning_decay=0.7,\n",
       "                          learning_method='batch', learning_offset=10.0,\n",
       "                          max_doc_update_iter=100, max_iter=10,\n",
       "                          mean_change_tol=0.001, n_components=5, n_jobs=None,\n",
       "                          perp_tol=0.1, random_state=None,\n",
       "                          topic_word_prior=None, total_samples=1000000.0,\n",
       "                          verbose=0)>"
      ]
     },
     "execution_count": 76,
     "metadata": {},
     "output_type": "execute_result"
    }
   ],
   "source": [
    "lda.score"
   ]
  },
  {
   "cell_type": "code",
   "execution_count": 77,
   "metadata": {},
   "outputs": [
    {
     "data": {
      "text/html": [
       "<div>\n",
       "<style scoped>\n",
       "    .dataframe tbody tr th:only-of-type {\n",
       "        vertical-align: middle;\n",
       "    }\n",
       "\n",
       "    .dataframe tbody tr th {\n",
       "        vertical-align: top;\n",
       "    }\n",
       "\n",
       "    .dataframe thead th {\n",
       "        text-align: right;\n",
       "    }\n",
       "</style>\n",
       "<table border=\"1\" class=\"dataframe\">\n",
       "  <thead>\n",
       "    <tr style=\"text-align: right;\">\n",
       "      <th></th>\n",
       "      <th>aa</th>\n",
       "      <th>aaa</th>\n",
       "      <th>aaaa</th>\n",
       "      <th>aaaaa</th>\n",
       "      <th>aaaaaa</th>\n",
       "      <th>aaaaaaaargh</th>\n",
       "      <th>aaaaaah</th>\n",
       "      <th>aaaab</th>\n",
       "      <th>aaaah</th>\n",
       "      <th>aaaahhh</th>\n",
       "      <th>...</th>\n",
       "      <th>ān</th>\n",
       "      <th>čapek</th>\n",
       "      <th>ōfunato</th>\n",
       "      <th>ʾan</th>\n",
       "      <th>ʾilla</th>\n",
       "      <th>ʾilāha</th>\n",
       "      <th>อย</th>\n",
       "      <th>อยman</th>\n",
       "      <th>อร</th>\n",
       "      <th>送你葱</th>\n",
       "    </tr>\n",
       "  </thead>\n",
       "  <tbody>\n",
       "    <tr>\n",
       "      <td>component_1</td>\n",
       "      <td>0.200</td>\n",
       "      <td>2.361</td>\n",
       "      <td>0.200</td>\n",
       "      <td>0.200</td>\n",
       "      <td>0.2</td>\n",
       "      <td>0.2</td>\n",
       "      <td>0.200</td>\n",
       "      <td>0.2</td>\n",
       "      <td>0.200</td>\n",
       "      <td>0.200</td>\n",
       "      <td>...</td>\n",
       "      <td>0.208</td>\n",
       "      <td>0.200</td>\n",
       "      <td>0.200</td>\n",
       "      <td>0.202</td>\n",
       "      <td>0.202</td>\n",
       "      <td>0.202</td>\n",
       "      <td>0.200</td>\n",
       "      <td>0.200</td>\n",
       "      <td>0.200</td>\n",
       "      <td>0.207</td>\n",
       "    </tr>\n",
       "    <tr>\n",
       "      <td>component_2</td>\n",
       "      <td>0.200</td>\n",
       "      <td>0.200</td>\n",
       "      <td>0.201</td>\n",
       "      <td>0.200</td>\n",
       "      <td>0.2</td>\n",
       "      <td>0.2</td>\n",
       "      <td>0.200</td>\n",
       "      <td>0.2</td>\n",
       "      <td>0.200</td>\n",
       "      <td>0.200</td>\n",
       "      <td>...</td>\n",
       "      <td>0.200</td>\n",
       "      <td>0.200</td>\n",
       "      <td>0.211</td>\n",
       "      <td>0.200</td>\n",
       "      <td>0.200</td>\n",
       "      <td>0.200</td>\n",
       "      <td>0.200</td>\n",
       "      <td>0.200</td>\n",
       "      <td>0.200</td>\n",
       "      <td>0.200</td>\n",
       "    </tr>\n",
       "    <tr>\n",
       "      <td>component_3</td>\n",
       "      <td>0.212</td>\n",
       "      <td>0.203</td>\n",
       "      <td>0.214</td>\n",
       "      <td>0.201</td>\n",
       "      <td>0.2</td>\n",
       "      <td>0.2</td>\n",
       "      <td>1.198</td>\n",
       "      <td>0.2</td>\n",
       "      <td>0.475</td>\n",
       "      <td>0.200</td>\n",
       "      <td>...</td>\n",
       "      <td>0.200</td>\n",
       "      <td>0.336</td>\n",
       "      <td>0.200</td>\n",
       "      <td>0.200</td>\n",
       "      <td>0.200</td>\n",
       "      <td>0.200</td>\n",
       "      <td>0.219</td>\n",
       "      <td>0.219</td>\n",
       "      <td>0.215</td>\n",
       "      <td>0.200</td>\n",
       "    </tr>\n",
       "    <tr>\n",
       "      <td>component_4</td>\n",
       "      <td>0.203</td>\n",
       "      <td>6.504</td>\n",
       "      <td>0.201</td>\n",
       "      <td>0.200</td>\n",
       "      <td>1.2</td>\n",
       "      <td>0.2</td>\n",
       "      <td>0.201</td>\n",
       "      <td>0.2</td>\n",
       "      <td>0.202</td>\n",
       "      <td>0.208</td>\n",
       "      <td>...</td>\n",
       "      <td>0.201</td>\n",
       "      <td>1.059</td>\n",
       "      <td>1.180</td>\n",
       "      <td>1.198</td>\n",
       "      <td>1.198</td>\n",
       "      <td>1.198</td>\n",
       "      <td>0.202</td>\n",
       "      <td>0.202</td>\n",
       "      <td>0.202</td>\n",
       "      <td>0.204</td>\n",
       "    </tr>\n",
       "    <tr>\n",
       "      <td>component_5</td>\n",
       "      <td>10.185</td>\n",
       "      <td>0.732</td>\n",
       "      <td>4.184</td>\n",
       "      <td>2.199</td>\n",
       "      <td>0.2</td>\n",
       "      <td>1.2</td>\n",
       "      <td>0.201</td>\n",
       "      <td>1.2</td>\n",
       "      <td>0.923</td>\n",
       "      <td>1.192</td>\n",
       "      <td>...</td>\n",
       "      <td>1.191</td>\n",
       "      <td>0.204</td>\n",
       "      <td>0.208</td>\n",
       "      <td>0.200</td>\n",
       "      <td>0.200</td>\n",
       "      <td>0.200</td>\n",
       "      <td>1.179</td>\n",
       "      <td>1.179</td>\n",
       "      <td>2.183</td>\n",
       "      <td>1.189</td>\n",
       "    </tr>\n",
       "  </tbody>\n",
       "</table>\n",
       "<p>5 rows × 39840 columns</p>\n",
       "</div>"
      ],
      "text/plain": [
       "                 aa    aaa   aaaa  aaaaa  aaaaaa  aaaaaaaargh  aaaaaah  aaaab  \\\n",
       "component_1   0.200  2.361  0.200  0.200     0.2          0.2    0.200    0.2   \n",
       "component_2   0.200  0.200  0.201  0.200     0.2          0.2    0.200    0.2   \n",
       "component_3   0.212  0.203  0.214  0.201     0.2          0.2    1.198    0.2   \n",
       "component_4   0.203  6.504  0.201  0.200     1.2          0.2    0.201    0.2   \n",
       "component_5  10.185  0.732  4.184  2.199     0.2          1.2    0.201    1.2   \n",
       "\n",
       "             aaaah  aaaahhh  ...     ān  čapek  ōfunato    ʾan  ʾilla  ʾilāha  \\\n",
       "component_1  0.200    0.200  ...  0.208  0.200    0.200  0.202  0.202   0.202   \n",
       "component_2  0.200    0.200  ...  0.200  0.200    0.211  0.200  0.200   0.200   \n",
       "component_3  0.475    0.200  ...  0.200  0.336    0.200  0.200  0.200   0.200   \n",
       "component_4  0.202    0.208  ...  0.201  1.059    1.180  1.198  1.198   1.198   \n",
       "component_5  0.923    1.192  ...  1.191  0.204    0.208  0.200  0.200   0.200   \n",
       "\n",
       "                อย  อยman     อร    送你葱  \n",
       "component_1  0.200  0.200  0.200  0.207  \n",
       "component_2  0.200  0.200  0.200  0.200  \n",
       "component_3  0.219  0.219  0.215  0.200  \n",
       "component_4  0.202  0.202  0.202  0.204  \n",
       "component_5  1.179  1.179  2.183  1.189  \n",
       "\n",
       "[5 rows x 39840 columns]"
      ]
     },
     "execution_count": 77,
     "metadata": {},
     "output_type": "execute_result"
    }
   ],
   "source": [
    "topic_word = pd.DataFrame(lda.components_.round(3),\n",
    "             index = [\"component_1\",\"component_2\", \"component_3\",\"component_4\", \"component_5\"],\n",
    "             columns = vectorizer.get_feature_names())\n",
    "topic_word"
   ]
  },
  {
   "cell_type": "code",
   "execution_count": 78,
   "metadata": {},
   "outputs": [
    {
     "name": "stdout",
     "output_type": "stream",
     "text": [
      "\n",
      "Topic  0\n",
      "text, peopl, nto, nand, nthat, countri, nof, work, think, nin, world, nthe, thing, right, like\n",
      "\n",
      "Topic  1\n",
      "text, citi, build, water, nof, design, space, nto, nand, use, materi, nthat, earth, energi, nin\n",
      "\n",
      "Topic  2\n",
      "text, like, use, brain, nto, make, thing, think, time, nof, realli, cell, nthat, way, work\n",
      "\n",
      "Topic  3\n",
      "text, peopl, like, nto, nand, know, nthat, laughter, time, nof, year, want, say, think, said\n",
      "\n",
      "Topic  4\n",
      "text, like, know, think, peopl, year, thing, look, realli, time, world, actual, ve, make, use\n"
     ]
    }
   ],
   "source": [
    "display_topics(lda, vectorizer.get_feature_names(), 15)"
   ]
  },
  {
   "cell_type": "code",
   "execution_count": 79,
   "metadata": {},
   "outputs": [
    {
     "data": {
      "text/plain": [
       "array([[0.20000031, 0.20000031, 0.20000031, ..., 0.20000702, 0.20000031,\n",
       "        0.20000031],\n",
       "       [0.20054092, 0.20054092, 0.20054092, ..., 0.21819025, 0.20054092,\n",
       "        0.20054092],\n",
       "       [0.20000031, 0.20000031, 0.20000031, ..., 0.20000713, 0.20000031,\n",
       "        0.20000031],\n",
       "       [0.20000031, 0.20000031, 0.20000031, ..., 0.20000714, 0.20000031,\n",
       "        0.20000031],\n",
       "       [0.20025767, 0.20025767, 0.20025767, ..., 0.20737333, 0.20025767,\n",
       "        0.20025767]])"
      ]
     },
     "execution_count": 79,
     "metadata": {},
     "output_type": "execute_result"
    }
   ],
   "source": [
    "lda.components_"
   ]
  },
  {
   "cell_type": "code",
   "execution_count": 80,
   "metadata": {},
   "outputs": [
    {
     "data": {
      "text/html": [
       "<div>\n",
       "<style scoped>\n",
       "    .dataframe tbody tr th:only-of-type {\n",
       "        vertical-align: middle;\n",
       "    }\n",
       "\n",
       "    .dataframe tbody tr th {\n",
       "        vertical-align: top;\n",
       "    }\n",
       "\n",
       "    .dataframe thead th {\n",
       "        text-align: right;\n",
       "    }\n",
       "</style>\n",
       "<table border=\"1\" class=\"dataframe\">\n",
       "  <thead>\n",
       "    <tr style=\"text-align: right;\">\n",
       "      <th></th>\n",
       "      <th>component_1</th>\n",
       "      <th>component_2</th>\n",
       "      <th>component_3</th>\n",
       "      <th>component_4</th>\n",
       "      <th>component_5</th>\n",
       "    </tr>\n",
       "    <tr>\n",
       "      <th>video_id</th>\n",
       "      <th></th>\n",
       "      <th></th>\n",
       "      <th></th>\n",
       "      <th></th>\n",
       "      <th></th>\n",
       "    </tr>\n",
       "  </thead>\n",
       "  <tbody>\n",
       "    <tr>\n",
       "      <td>_5DXs8xxaMU</td>\n",
       "      <td>0.01856</td>\n",
       "      <td>0.92575</td>\n",
       "      <td>0.01856</td>\n",
       "      <td>0.01856</td>\n",
       "      <td>0.01856</td>\n",
       "    </tr>\n",
       "    <tr>\n",
       "      <td>DNrMPF3I_bs</td>\n",
       "      <td>0.01291</td>\n",
       "      <td>0.94838</td>\n",
       "      <td>0.01290</td>\n",
       "      <td>0.01290</td>\n",
       "      <td>0.01290</td>\n",
       "    </tr>\n",
       "    <tr>\n",
       "      <td>TwN8soCzjPM</td>\n",
       "      <td>0.01373</td>\n",
       "      <td>0.94509</td>\n",
       "      <td>0.01373</td>\n",
       "      <td>0.01373</td>\n",
       "      <td>0.01373</td>\n",
       "    </tr>\n",
       "    <tr>\n",
       "      <td>8OMUdYoIJhI</td>\n",
       "      <td>0.01509</td>\n",
       "      <td>0.93965</td>\n",
       "      <td>0.01509</td>\n",
       "      <td>0.01509</td>\n",
       "      <td>0.01509</td>\n",
       "    </tr>\n",
       "    <tr>\n",
       "      <td>xk_MHfOAfRQ</td>\n",
       "      <td>0.01924</td>\n",
       "      <td>0.92306</td>\n",
       "      <td>0.01923</td>\n",
       "      <td>0.01923</td>\n",
       "      <td>0.01923</td>\n",
       "    </tr>\n",
       "    <tr>\n",
       "      <td>...</td>\n",
       "      <td>...</td>\n",
       "      <td>...</td>\n",
       "      <td>...</td>\n",
       "      <td>...</td>\n",
       "      <td>...</td>\n",
       "    </tr>\n",
       "    <tr>\n",
       "      <td>qlH5-G576fQ</td>\n",
       "      <td>0.01129</td>\n",
       "      <td>0.95486</td>\n",
       "      <td>0.01128</td>\n",
       "      <td>0.01128</td>\n",
       "      <td>0.01128</td>\n",
       "    </tr>\n",
       "    <tr>\n",
       "      <td>uLXyFJEbj_s</td>\n",
       "      <td>0.01758</td>\n",
       "      <td>0.92969</td>\n",
       "      <td>0.01758</td>\n",
       "      <td>0.01758</td>\n",
       "      <td>0.01758</td>\n",
       "    </tr>\n",
       "    <tr>\n",
       "      <td>A3riThai7MU</td>\n",
       "      <td>0.02080</td>\n",
       "      <td>0.91681</td>\n",
       "      <td>0.02080</td>\n",
       "      <td>0.02080</td>\n",
       "      <td>0.02080</td>\n",
       "    </tr>\n",
       "    <tr>\n",
       "      <td>CrfnkgwU978</td>\n",
       "      <td>0.02080</td>\n",
       "      <td>0.91683</td>\n",
       "      <td>0.02079</td>\n",
       "      <td>0.02079</td>\n",
       "      <td>0.02079</td>\n",
       "    </tr>\n",
       "    <tr>\n",
       "      <td>AS6cUYyA_qI</td>\n",
       "      <td>0.59164</td>\n",
       "      <td>0.29395</td>\n",
       "      <td>0.03800</td>\n",
       "      <td>0.03800</td>\n",
       "      <td>0.03841</td>\n",
       "    </tr>\n",
       "  </tbody>\n",
       "</table>\n",
       "<p>277 rows × 5 columns</p>\n",
       "</div>"
      ],
      "text/plain": [
       "             component_1  component_2  component_3  component_4  component_5\n",
       "video_id                                                                    \n",
       "_5DXs8xxaMU      0.01856      0.92575      0.01856      0.01856      0.01856\n",
       "DNrMPF3I_bs      0.01291      0.94838      0.01290      0.01290      0.01290\n",
       "TwN8soCzjPM      0.01373      0.94509      0.01373      0.01373      0.01373\n",
       "8OMUdYoIJhI      0.01509      0.93965      0.01509      0.01509      0.01509\n",
       "xk_MHfOAfRQ      0.01924      0.92306      0.01923      0.01923      0.01923\n",
       "...                  ...          ...          ...          ...          ...\n",
       "qlH5-G576fQ      0.01129      0.95486      0.01128      0.01128      0.01128\n",
       "uLXyFJEbj_s      0.01758      0.92969      0.01758      0.01758      0.01758\n",
       "A3riThai7MU      0.02080      0.91681      0.02080      0.02080      0.02080\n",
       "CrfnkgwU978      0.02080      0.91683      0.02079      0.02079      0.02079\n",
       "AS6cUYyA_qI      0.59164      0.29395      0.03800      0.03800      0.03841\n",
       "\n",
       "[277 rows x 5 columns]"
      ]
     },
     "execution_count": 80,
     "metadata": {},
     "output_type": "execute_result"
    }
   ],
   "source": [
    "doc_topic_lda = pd.DataFrame(doc_topic.round(5),\n",
    "                             index=df['video_id'],\n",
    "                             columns = [\"component_1\",\"component_2\", \"component_3\",\"component_4\", \"component_5\"])\n",
    "doc_topic_lda"
   ]
  },
  {
   "cell_type": "code",
   "execution_count": 81,
   "metadata": {},
   "outputs": [
    {
     "data": {
      "text/plain": [
       "array([[1.        , 0.96752052],\n",
       "       [0.96752052, 1.        ]])"
      ]
     },
     "execution_count": 81,
     "metadata": {},
     "output_type": "execute_result"
    }
   ],
   "source": [
    "cosine_similarity((doc_topic_nmf.values[0], doc_topic_nmf.values[1]))"
   ]
  },
  {
   "cell_type": "code",
   "execution_count": 55,
   "metadata": {},
   "outputs": [
    {
     "data": {
      "text/plain": [
       "array([[1.        , 0.84052477],\n",
       "       [0.84052477, 1.        ]])"
      ]
     },
     "execution_count": 55,
     "metadata": {},
     "output_type": "execute_result"
    }
   ],
   "source": [
    "cosine_similarity((doc_topic_nmf.values[0], doc_topic_nmf.values[136]))"
   ]
  },
  {
   "cell_type": "code",
   "execution_count": null,
   "metadata": {},
   "outputs": [],
   "source": []
  }
 ],
 "metadata": {
  "kernelspec": {
   "display_name": "Python 3",
   "language": "python",
   "name": "python3"
  },
  "language_info": {
   "codemirror_mode": {
    "name": "ipython",
    "version": 3
   },
   "file_extension": ".py",
   "mimetype": "text/x-python",
   "name": "python",
   "nbconvert_exporter": "python",
   "pygments_lexer": "ipython3",
   "version": "3.7.4"
  }
 },
 "nbformat": 4,
 "nbformat_minor": 2
}
